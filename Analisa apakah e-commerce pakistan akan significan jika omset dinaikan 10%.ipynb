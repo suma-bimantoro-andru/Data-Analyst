{
  "nbformat": 4,
  "nbformat_minor": 0,
  "metadata": {
    "colab": {
      "name": "h8dsft_Milestone1_suma_bimantoro_andru.ipynb",
      "provenance": [],
      "collapsed_sections": []
    },
    "kernelspec": {
      "name": "python3",
      "display_name": "Python 3"
    },
    "language_info": {
      "name": "python"
    }
  },
  "cells": [
    {
      "cell_type": "markdown",
      "source": [
        "<h1>Nama: Suma Bimantoro Andru</h1>\n",
        "<h1>Kelas: Batch 15 DS</h1>\n"
      ],
      "metadata": {
        "id": "VZm4k7wXtsux"
      }
    },
    {
      "cell_type": "markdown",
      "source": [
        "<h1>Identifikasi Masalah</h1>\n",
        "<p><b>Permasalahan:</p></b>\n",
        "<p><b>Problem statment:<br></b>\n",
        "<i>\"Mengetahui bagaimana jika menaikan omset e-commerce pakistan sebanyak 10% di tahun mendatang dan apa yang bisa jadi kendalannya\"</li>\n",
        "<br>\n",
        "<li>S:Memberikan insight ke owner dari e-commerce untuk dapat menyusun strategy dengan tujuan meingkatkan omset.</li>\n",
        "<li>M:Meningkatkan sales sebesar 10% secara keseluruhan.</li>\n",
        "<li>A:Peningkatan sebesar 10% sangat achieavble karena banyak costumer prospek dan populasi tinggi dari pakistan.</li>\n",
        "<li>R:Peningkatan 10% ini di harapakan menjadi target jangka pendek, dan  jika sukses maka dapat di implementasikan untuk lebih jauh.</li>\n",
        "<li>T:Penyusunan strategy di lakukan selama 3 bulan</li>\n",
        "\n",
        "\n",
        "</p></i><br>\n",
        "<p><b>Latar belakang:</p></b>\n",
        "<p>Ini adalah kumpulan data pesanan e-commerce ritel terbesar dari Pakistan, Dataset Ini berisi setengah juta catatan transaksi dari Maret 2016 hingga Agustus 2018, Pemerintah Pakistan ingin tau apakah untuk e-commerce di pakistan bisa dibesarkan omsetnya dikarenakan agar menjadi pemasukan lebih di pendapatan pajak negara, Data didapatkan dari [SUMBER](https://www.kaggle.com/datasets/zusmani/pakistans-largest-ecommerce-dataset).</p>\n",
        "<p><b>penjabaran masalah:</p><br></b>\n",
        "<li>apakah Significant untuk menaikan omset 10%?\n",
        "<li>apa kendala untuk menaikan omset?\n",
        "<li>dimana letak permasalahan yang bisa mnengakibatkan gagal naik omset?\n",
        "<li>waktu 2016 - 2018 seluruh data penjualan bagaimana?\n",
        "<li>kenapa omset bisa naik?"
      ],
      "metadata": {
        "id": "rZuvnUncuDGU"
      }
    },
    {
      "cell_type": "code",
      "execution_count": 1,
      "metadata": {
        "id": "6I2TaVqVsGZi"
      },
      "outputs": [],
      "source": [
        "import numpy as np\n",
        "import pandas as pd \n",
        "import matplotlib.pyplot as plt\n",
        "import seaborn as sns\n",
        "import plotly as py\n",
        "import plotly.express as px\n",
        "import plotly.graph_objs as go\n",
        "import scipy.stats as stats\n",
        "from datetime import datetime\n",
        "from google.colab import files\n"
      ]
    },
    {
      "cell_type": "markdown",
      "source": [
        "<h1>Data Loading"
      ],
      "metadata": {
        "id": "asDHOI3pw-Uf"
      }
    },
    {
      "cell_type": "code",
      "source": [
        "df= pd.read_csv('/content/drive/MyDrive/data milestone phase 0/Pakistan Largest Ecommerce Dataset.csv')\n",
        "df"
      ],
      "metadata": {
        "colab": {
          "base_uri": "https://localhost:8080/",
          "height": 679
        },
        "id": "NbnEovcosplT",
        "outputId": "1fa8182b-a92a-4c4a-9ae0-90d524d3531d"
      },
      "execution_count": 2,
      "outputs": [
        {
          "output_type": "stream",
          "name": "stderr",
          "text": [
            "/usr/local/lib/python3.7/dist-packages/IPython/core/interactiveshell.py:3326: DtypeWarning: Columns (1,2,3,7,8,9,11,12,13,14,17,18,19) have mixed types.Specify dtype option on import or set low_memory=False.\n",
            "  exec(code_obj, self.user_global_ns, self.user_ns)\n"
          ]
        },
        {
          "output_type": "execute_result",
          "data": {
            "text/plain": [
              "          item_id          status created_at  \\\n",
              "0        211131.0        complete   7/1/2016   \n",
              "1        211133.0        canceled   7/1/2016   \n",
              "2        211134.0        canceled   7/1/2016   \n",
              "3        211135.0        complete   7/1/2016   \n",
              "4        211136.0  order_refunded   7/1/2016   \n",
              "...           ...             ...        ...   \n",
              "1048570       NaN             NaN        NaN   \n",
              "1048571       NaN             NaN        NaN   \n",
              "1048572       NaN             NaN        NaN   \n",
              "1048573       NaN             NaN        NaN   \n",
              "1048574       NaN             NaN        NaN   \n",
              "\n",
              "                                                       sku   price  \\\n",
              "0                                        kreations_YI 06-L  1950.0   \n",
              "1        kcc_Buy 2 Frey Air Freshener & Get 1 Kasual Bo...   240.0   \n",
              "2                                       Ego_UP0017-999-MR0  2450.0   \n",
              "3                                           kcc_krone deal   360.0   \n",
              "4                                              BK7010400AG   555.0   \n",
              "...                                                    ...     ...   \n",
              "1048570                                                NaN     NaN   \n",
              "1048571                                                NaN     NaN   \n",
              "1048572                                                NaN     NaN   \n",
              "1048573                                                NaN     NaN   \n",
              "1048574                                                NaN     NaN   \n",
              "\n",
              "         qty_ordered  grand_total increment_id    category_name_1  \\\n",
              "0                1.0       1950.0    100147443    Women's Fashion   \n",
              "1                1.0        240.0    100147444  Beauty & Grooming   \n",
              "2                1.0       2450.0    100147445    Women's Fashion   \n",
              "3                1.0         60.0    100147446  Beauty & Grooming   \n",
              "4                2.0       1110.0    100147447            Soghaat   \n",
              "...              ...          ...          ...                ...   \n",
              "1048570          NaN          NaN          NaN                NaN   \n",
              "1048571          NaN          NaN          NaN                NaN   \n",
              "1048572          NaN          NaN          NaN                NaN   \n",
              "1048573          NaN          NaN          NaN                NaN   \n",
              "1048574          NaN          NaN          NaN                NaN   \n",
              "\n",
              "        sales_commission_code  ...  Month Customer Since     M-Y    FY  \\\n",
              "0                          \\N  ...    7.0         2016-7  7-2016  FY17   \n",
              "1                          \\N  ...    7.0         2016-7  7-2016  FY17   \n",
              "2                          \\N  ...    7.0         2016-7  7-2016  FY17   \n",
              "3                 R-FSD-52352  ...    7.0         2016-7  7-2016  FY17   \n",
              "4                          \\N  ...    7.0         2016-7  7-2016  FY17   \n",
              "...                       ...  ...    ...            ...     ...   ...   \n",
              "1048570                   NaN  ...    NaN            NaN     NaN   NaN   \n",
              "1048571                   NaN  ...    NaN            NaN     NaN   NaN   \n",
              "1048572                   NaN  ...    NaN            NaN     NaN   NaN   \n",
              "1048573                   NaN  ...    NaN            NaN     NaN   NaN   \n",
              "1048574                   NaN  ...    NaN            NaN     NaN   NaN   \n",
              "\n",
              "        Customer ID  Unnamed: 21  Unnamed: 22 Unnamed: 23 Unnamed: 24  \\\n",
              "0               1.0          NaN          NaN         NaN         NaN   \n",
              "1               2.0          NaN          NaN         NaN         NaN   \n",
              "2               3.0          NaN          NaN         NaN         NaN   \n",
              "3               4.0          NaN          NaN         NaN         NaN   \n",
              "4               5.0          NaN          NaN         NaN         NaN   \n",
              "...             ...          ...          ...         ...         ...   \n",
              "1048570         NaN          NaN          NaN         NaN         NaN   \n",
              "1048571         NaN          NaN          NaN         NaN         NaN   \n",
              "1048572         NaN          NaN          NaN         NaN         NaN   \n",
              "1048573         NaN          NaN          NaN         NaN         NaN   \n",
              "1048574         NaN          NaN          NaN         NaN         NaN   \n",
              "\n",
              "        Unnamed: 25  \n",
              "0               NaN  \n",
              "1               NaN  \n",
              "2               NaN  \n",
              "3               NaN  \n",
              "4               NaN  \n",
              "...             ...  \n",
              "1048570         NaN  \n",
              "1048571         NaN  \n",
              "1048572         NaN  \n",
              "1048573         NaN  \n",
              "1048574         NaN  \n",
              "\n",
              "[1048575 rows x 26 columns]"
            ],
            "text/html": [
              "\n",
              "  <div id=\"df-035b450b-8e45-4062-a43e-ea3471d19e8c\">\n",
              "    <div class=\"colab-df-container\">\n",
              "      <div>\n",
              "<style scoped>\n",
              "    .dataframe tbody tr th:only-of-type {\n",
              "        vertical-align: middle;\n",
              "    }\n",
              "\n",
              "    .dataframe tbody tr th {\n",
              "        vertical-align: top;\n",
              "    }\n",
              "\n",
              "    .dataframe thead th {\n",
              "        text-align: right;\n",
              "    }\n",
              "</style>\n",
              "<table border=\"1\" class=\"dataframe\">\n",
              "  <thead>\n",
              "    <tr style=\"text-align: right;\">\n",
              "      <th></th>\n",
              "      <th>item_id</th>\n",
              "      <th>status</th>\n",
              "      <th>created_at</th>\n",
              "      <th>sku</th>\n",
              "      <th>price</th>\n",
              "      <th>qty_ordered</th>\n",
              "      <th>grand_total</th>\n",
              "      <th>increment_id</th>\n",
              "      <th>category_name_1</th>\n",
              "      <th>sales_commission_code</th>\n",
              "      <th>...</th>\n",
              "      <th>Month</th>\n",
              "      <th>Customer Since</th>\n",
              "      <th>M-Y</th>\n",
              "      <th>FY</th>\n",
              "      <th>Customer ID</th>\n",
              "      <th>Unnamed: 21</th>\n",
              "      <th>Unnamed: 22</th>\n",
              "      <th>Unnamed: 23</th>\n",
              "      <th>Unnamed: 24</th>\n",
              "      <th>Unnamed: 25</th>\n",
              "    </tr>\n",
              "  </thead>\n",
              "  <tbody>\n",
              "    <tr>\n",
              "      <th>0</th>\n",
              "      <td>211131.0</td>\n",
              "      <td>complete</td>\n",
              "      <td>7/1/2016</td>\n",
              "      <td>kreations_YI 06-L</td>\n",
              "      <td>1950.0</td>\n",
              "      <td>1.0</td>\n",
              "      <td>1950.0</td>\n",
              "      <td>100147443</td>\n",
              "      <td>Women's Fashion</td>\n",
              "      <td>\\N</td>\n",
              "      <td>...</td>\n",
              "      <td>7.0</td>\n",
              "      <td>2016-7</td>\n",
              "      <td>7-2016</td>\n",
              "      <td>FY17</td>\n",
              "      <td>1.0</td>\n",
              "      <td>NaN</td>\n",
              "      <td>NaN</td>\n",
              "      <td>NaN</td>\n",
              "      <td>NaN</td>\n",
              "      <td>NaN</td>\n",
              "    </tr>\n",
              "    <tr>\n",
              "      <th>1</th>\n",
              "      <td>211133.0</td>\n",
              "      <td>canceled</td>\n",
              "      <td>7/1/2016</td>\n",
              "      <td>kcc_Buy 2 Frey Air Freshener &amp; Get 1 Kasual Bo...</td>\n",
              "      <td>240.0</td>\n",
              "      <td>1.0</td>\n",
              "      <td>240.0</td>\n",
              "      <td>100147444</td>\n",
              "      <td>Beauty &amp; Grooming</td>\n",
              "      <td>\\N</td>\n",
              "      <td>...</td>\n",
              "      <td>7.0</td>\n",
              "      <td>2016-7</td>\n",
              "      <td>7-2016</td>\n",
              "      <td>FY17</td>\n",
              "      <td>2.0</td>\n",
              "      <td>NaN</td>\n",
              "      <td>NaN</td>\n",
              "      <td>NaN</td>\n",
              "      <td>NaN</td>\n",
              "      <td>NaN</td>\n",
              "    </tr>\n",
              "    <tr>\n",
              "      <th>2</th>\n",
              "      <td>211134.0</td>\n",
              "      <td>canceled</td>\n",
              "      <td>7/1/2016</td>\n",
              "      <td>Ego_UP0017-999-MR0</td>\n",
              "      <td>2450.0</td>\n",
              "      <td>1.0</td>\n",
              "      <td>2450.0</td>\n",
              "      <td>100147445</td>\n",
              "      <td>Women's Fashion</td>\n",
              "      <td>\\N</td>\n",
              "      <td>...</td>\n",
              "      <td>7.0</td>\n",
              "      <td>2016-7</td>\n",
              "      <td>7-2016</td>\n",
              "      <td>FY17</td>\n",
              "      <td>3.0</td>\n",
              "      <td>NaN</td>\n",
              "      <td>NaN</td>\n",
              "      <td>NaN</td>\n",
              "      <td>NaN</td>\n",
              "      <td>NaN</td>\n",
              "    </tr>\n",
              "    <tr>\n",
              "      <th>3</th>\n",
              "      <td>211135.0</td>\n",
              "      <td>complete</td>\n",
              "      <td>7/1/2016</td>\n",
              "      <td>kcc_krone deal</td>\n",
              "      <td>360.0</td>\n",
              "      <td>1.0</td>\n",
              "      <td>60.0</td>\n",
              "      <td>100147446</td>\n",
              "      <td>Beauty &amp; Grooming</td>\n",
              "      <td>R-FSD-52352</td>\n",
              "      <td>...</td>\n",
              "      <td>7.0</td>\n",
              "      <td>2016-7</td>\n",
              "      <td>7-2016</td>\n",
              "      <td>FY17</td>\n",
              "      <td>4.0</td>\n",
              "      <td>NaN</td>\n",
              "      <td>NaN</td>\n",
              "      <td>NaN</td>\n",
              "      <td>NaN</td>\n",
              "      <td>NaN</td>\n",
              "    </tr>\n",
              "    <tr>\n",
              "      <th>4</th>\n",
              "      <td>211136.0</td>\n",
              "      <td>order_refunded</td>\n",
              "      <td>7/1/2016</td>\n",
              "      <td>BK7010400AG</td>\n",
              "      <td>555.0</td>\n",
              "      <td>2.0</td>\n",
              "      <td>1110.0</td>\n",
              "      <td>100147447</td>\n",
              "      <td>Soghaat</td>\n",
              "      <td>\\N</td>\n",
              "      <td>...</td>\n",
              "      <td>7.0</td>\n",
              "      <td>2016-7</td>\n",
              "      <td>7-2016</td>\n",
              "      <td>FY17</td>\n",
              "      <td>5.0</td>\n",
              "      <td>NaN</td>\n",
              "      <td>NaN</td>\n",
              "      <td>NaN</td>\n",
              "      <td>NaN</td>\n",
              "      <td>NaN</td>\n",
              "    </tr>\n",
              "    <tr>\n",
              "      <th>...</th>\n",
              "      <td>...</td>\n",
              "      <td>...</td>\n",
              "      <td>...</td>\n",
              "      <td>...</td>\n",
              "      <td>...</td>\n",
              "      <td>...</td>\n",
              "      <td>...</td>\n",
              "      <td>...</td>\n",
              "      <td>...</td>\n",
              "      <td>...</td>\n",
              "      <td>...</td>\n",
              "      <td>...</td>\n",
              "      <td>...</td>\n",
              "      <td>...</td>\n",
              "      <td>...</td>\n",
              "      <td>...</td>\n",
              "      <td>...</td>\n",
              "      <td>...</td>\n",
              "      <td>...</td>\n",
              "      <td>...</td>\n",
              "      <td>...</td>\n",
              "    </tr>\n",
              "    <tr>\n",
              "      <th>1048570</th>\n",
              "      <td>NaN</td>\n",
              "      <td>NaN</td>\n",
              "      <td>NaN</td>\n",
              "      <td>NaN</td>\n",
              "      <td>NaN</td>\n",
              "      <td>NaN</td>\n",
              "      <td>NaN</td>\n",
              "      <td>NaN</td>\n",
              "      <td>NaN</td>\n",
              "      <td>NaN</td>\n",
              "      <td>...</td>\n",
              "      <td>NaN</td>\n",
              "      <td>NaN</td>\n",
              "      <td>NaN</td>\n",
              "      <td>NaN</td>\n",
              "      <td>NaN</td>\n",
              "      <td>NaN</td>\n",
              "      <td>NaN</td>\n",
              "      <td>NaN</td>\n",
              "      <td>NaN</td>\n",
              "      <td>NaN</td>\n",
              "    </tr>\n",
              "    <tr>\n",
              "      <th>1048571</th>\n",
              "      <td>NaN</td>\n",
              "      <td>NaN</td>\n",
              "      <td>NaN</td>\n",
              "      <td>NaN</td>\n",
              "      <td>NaN</td>\n",
              "      <td>NaN</td>\n",
              "      <td>NaN</td>\n",
              "      <td>NaN</td>\n",
              "      <td>NaN</td>\n",
              "      <td>NaN</td>\n",
              "      <td>...</td>\n",
              "      <td>NaN</td>\n",
              "      <td>NaN</td>\n",
              "      <td>NaN</td>\n",
              "      <td>NaN</td>\n",
              "      <td>NaN</td>\n",
              "      <td>NaN</td>\n",
              "      <td>NaN</td>\n",
              "      <td>NaN</td>\n",
              "      <td>NaN</td>\n",
              "      <td>NaN</td>\n",
              "    </tr>\n",
              "    <tr>\n",
              "      <th>1048572</th>\n",
              "      <td>NaN</td>\n",
              "      <td>NaN</td>\n",
              "      <td>NaN</td>\n",
              "      <td>NaN</td>\n",
              "      <td>NaN</td>\n",
              "      <td>NaN</td>\n",
              "      <td>NaN</td>\n",
              "      <td>NaN</td>\n",
              "      <td>NaN</td>\n",
              "      <td>NaN</td>\n",
              "      <td>...</td>\n",
              "      <td>NaN</td>\n",
              "      <td>NaN</td>\n",
              "      <td>NaN</td>\n",
              "      <td>NaN</td>\n",
              "      <td>NaN</td>\n",
              "      <td>NaN</td>\n",
              "      <td>NaN</td>\n",
              "      <td>NaN</td>\n",
              "      <td>NaN</td>\n",
              "      <td>NaN</td>\n",
              "    </tr>\n",
              "    <tr>\n",
              "      <th>1048573</th>\n",
              "      <td>NaN</td>\n",
              "      <td>NaN</td>\n",
              "      <td>NaN</td>\n",
              "      <td>NaN</td>\n",
              "      <td>NaN</td>\n",
              "      <td>NaN</td>\n",
              "      <td>NaN</td>\n",
              "      <td>NaN</td>\n",
              "      <td>NaN</td>\n",
              "      <td>NaN</td>\n",
              "      <td>...</td>\n",
              "      <td>NaN</td>\n",
              "      <td>NaN</td>\n",
              "      <td>NaN</td>\n",
              "      <td>NaN</td>\n",
              "      <td>NaN</td>\n",
              "      <td>NaN</td>\n",
              "      <td>NaN</td>\n",
              "      <td>NaN</td>\n",
              "      <td>NaN</td>\n",
              "      <td>NaN</td>\n",
              "    </tr>\n",
              "    <tr>\n",
              "      <th>1048574</th>\n",
              "      <td>NaN</td>\n",
              "      <td>NaN</td>\n",
              "      <td>NaN</td>\n",
              "      <td>NaN</td>\n",
              "      <td>NaN</td>\n",
              "      <td>NaN</td>\n",
              "      <td>NaN</td>\n",
              "      <td>NaN</td>\n",
              "      <td>NaN</td>\n",
              "      <td>NaN</td>\n",
              "      <td>...</td>\n",
              "      <td>NaN</td>\n",
              "      <td>NaN</td>\n",
              "      <td>NaN</td>\n",
              "      <td>NaN</td>\n",
              "      <td>NaN</td>\n",
              "      <td>NaN</td>\n",
              "      <td>NaN</td>\n",
              "      <td>NaN</td>\n",
              "      <td>NaN</td>\n",
              "      <td>NaN</td>\n",
              "    </tr>\n",
              "  </tbody>\n",
              "</table>\n",
              "<p>1048575 rows × 26 columns</p>\n",
              "</div>\n",
              "      <button class=\"colab-df-convert\" onclick=\"convertToInteractive('df-035b450b-8e45-4062-a43e-ea3471d19e8c')\"\n",
              "              title=\"Convert this dataframe to an interactive table.\"\n",
              "              style=\"display:none;\">\n",
              "        \n",
              "  <svg xmlns=\"http://www.w3.org/2000/svg\" height=\"24px\"viewBox=\"0 0 24 24\"\n",
              "       width=\"24px\">\n",
              "    <path d=\"M0 0h24v24H0V0z\" fill=\"none\"/>\n",
              "    <path d=\"M18.56 5.44l.94 2.06.94-2.06 2.06-.94-2.06-.94-.94-2.06-.94 2.06-2.06.94zm-11 1L8.5 8.5l.94-2.06 2.06-.94-2.06-.94L8.5 2.5l-.94 2.06-2.06.94zm10 10l.94 2.06.94-2.06 2.06-.94-2.06-.94-.94-2.06-.94 2.06-2.06.94z\"/><path d=\"M17.41 7.96l-1.37-1.37c-.4-.4-.92-.59-1.43-.59-.52 0-1.04.2-1.43.59L10.3 9.45l-7.72 7.72c-.78.78-.78 2.05 0 2.83L4 21.41c.39.39.9.59 1.41.59.51 0 1.02-.2 1.41-.59l7.78-7.78 2.81-2.81c.8-.78.8-2.07 0-2.86zM5.41 20L4 18.59l7.72-7.72 1.47 1.35L5.41 20z\"/>\n",
              "  </svg>\n",
              "      </button>\n",
              "      \n",
              "  <style>\n",
              "    .colab-df-container {\n",
              "      display:flex;\n",
              "      flex-wrap:wrap;\n",
              "      gap: 12px;\n",
              "    }\n",
              "\n",
              "    .colab-df-convert {\n",
              "      background-color: #E8F0FE;\n",
              "      border: none;\n",
              "      border-radius: 50%;\n",
              "      cursor: pointer;\n",
              "      display: none;\n",
              "      fill: #1967D2;\n",
              "      height: 32px;\n",
              "      padding: 0 0 0 0;\n",
              "      width: 32px;\n",
              "    }\n",
              "\n",
              "    .colab-df-convert:hover {\n",
              "      background-color: #E2EBFA;\n",
              "      box-shadow: 0px 1px 2px rgba(60, 64, 67, 0.3), 0px 1px 3px 1px rgba(60, 64, 67, 0.15);\n",
              "      fill: #174EA6;\n",
              "    }\n",
              "\n",
              "    [theme=dark] .colab-df-convert {\n",
              "      background-color: #3B4455;\n",
              "      fill: #D2E3FC;\n",
              "    }\n",
              "\n",
              "    [theme=dark] .colab-df-convert:hover {\n",
              "      background-color: #434B5C;\n",
              "      box-shadow: 0px 1px 3px 1px rgba(0, 0, 0, 0.15);\n",
              "      filter: drop-shadow(0px 1px 2px rgba(0, 0, 0, 0.3));\n",
              "      fill: #FFFFFF;\n",
              "    }\n",
              "  </style>\n",
              "\n",
              "      <script>\n",
              "        const buttonEl =\n",
              "          document.querySelector('#df-035b450b-8e45-4062-a43e-ea3471d19e8c button.colab-df-convert');\n",
              "        buttonEl.style.display =\n",
              "          google.colab.kernel.accessAllowed ? 'block' : 'none';\n",
              "\n",
              "        async function convertToInteractive(key) {\n",
              "          const element = document.querySelector('#df-035b450b-8e45-4062-a43e-ea3471d19e8c');\n",
              "          const dataTable =\n",
              "            await google.colab.kernel.invokeFunction('convertToInteractive',\n",
              "                                                     [key], {});\n",
              "          if (!dataTable) return;\n",
              "\n",
              "          const docLinkHtml = 'Like what you see? Visit the ' +\n",
              "            '<a target=\"_blank\" href=https://colab.research.google.com/notebooks/data_table.ipynb>data table notebook</a>'\n",
              "            + ' to learn more about interactive tables.';\n",
              "          element.innerHTML = '';\n",
              "          dataTable['output_type'] = 'display_data';\n",
              "          await google.colab.output.renderOutput(dataTable, element);\n",
              "          const docLink = document.createElement('div');\n",
              "          docLink.innerHTML = docLinkHtml;\n",
              "          element.appendChild(docLink);\n",
              "        }\n",
              "      </script>\n",
              "    </div>\n",
              "  </div>\n",
              "  "
            ]
          },
          "metadata": {},
          "execution_count": 2
        }
      ]
    },
    {
      "cell_type": "markdown",
      "source": [
        "<i>Menampilkan data set head dan tail"
      ],
      "metadata": {
        "id": "hDKRrhlLZzkf"
      }
    },
    {
      "cell_type": "code",
      "source": [
        "df.info()"
      ],
      "metadata": {
        "colab": {
          "base_uri": "https://localhost:8080/"
        },
        "id": "rtwp2y6R6uRw",
        "outputId": "9b229a69-2f62-4e28-873f-d19f18b2cc94"
      },
      "execution_count": 3,
      "outputs": [
        {
          "output_type": "stream",
          "name": "stdout",
          "text": [
            "<class 'pandas.core.frame.DataFrame'>\n",
            "RangeIndex: 1048575 entries, 0 to 1048574\n",
            "Data columns (total 26 columns):\n",
            " #   Column                 Non-Null Count   Dtype  \n",
            "---  ------                 --------------   -----  \n",
            " 0   item_id                584524 non-null  float64\n",
            " 1   status                 584509 non-null  object \n",
            " 2   created_at             584524 non-null  object \n",
            " 3   sku                    584504 non-null  object \n",
            " 4   price                  584524 non-null  float64\n",
            " 5   qty_ordered            584524 non-null  float64\n",
            " 6   grand_total            584524 non-null  float64\n",
            " 7   increment_id           584524 non-null  object \n",
            " 8   category_name_1        584360 non-null  object \n",
            " 9   sales_commission_code  447349 non-null  object \n",
            " 10  discount_amount        584524 non-null  float64\n",
            " 11  payment_method         584524 non-null  object \n",
            " 12  Working Date           584524 non-null  object \n",
            " 13  BI Status              584524 non-null  object \n",
            " 14   MV                    584524 non-null  object \n",
            " 15  Year                   584524 non-null  float64\n",
            " 16  Month                  584524 non-null  float64\n",
            " 17  Customer Since         584513 non-null  object \n",
            " 18  M-Y                    584524 non-null  object \n",
            " 19  FY                     584524 non-null  object \n",
            " 20  Customer ID            584513 non-null  float64\n",
            " 21  Unnamed: 21            0 non-null       float64\n",
            " 22  Unnamed: 22            0 non-null       float64\n",
            " 23  Unnamed: 23            0 non-null       float64\n",
            " 24  Unnamed: 24            0 non-null       float64\n",
            " 25  Unnamed: 25            0 non-null       float64\n",
            "dtypes: float64(13), object(13)\n",
            "memory usage: 208.0+ MB\n"
          ]
        }
      ]
    },
    {
      "cell_type": "markdown",
      "source": [
        "<i>melihat informasi data set ada 5 terbawah tidak mempunyai value"
      ],
      "metadata": {
        "id": "c_Sk72-oZ8wA"
      }
    },
    {
      "cell_type": "code",
      "source": [
        "df.drop(['Unnamed: 21','Unnamed: 22','Unnamed: 23','Unnamed: 24','Unnamed: 25'],axis=1,inplace=True)"
      ],
      "metadata": {
        "id": "uVCfkxURTYN5"
      },
      "execution_count": 4,
      "outputs": []
    },
    {
      "cell_type": "markdown",
      "source": [
        "<i>karena tidak ada value maka colomn kita drop semua"
      ],
      "metadata": {
        "id": "oty28X8OaHUP"
      }
    },
    {
      "cell_type": "code",
      "source": [
        "df.info()"
      ],
      "metadata": {
        "colab": {
          "base_uri": "https://localhost:8080/"
        },
        "id": "1Y2T-V8VSmDy",
        "outputId": "27fa1708-ce8c-4525-fad1-55a13ede065a"
      },
      "execution_count": 5,
      "outputs": [
        {
          "output_type": "stream",
          "name": "stdout",
          "text": [
            "<class 'pandas.core.frame.DataFrame'>\n",
            "RangeIndex: 1048575 entries, 0 to 1048574\n",
            "Data columns (total 21 columns):\n",
            " #   Column                 Non-Null Count   Dtype  \n",
            "---  ------                 --------------   -----  \n",
            " 0   item_id                584524 non-null  float64\n",
            " 1   status                 584509 non-null  object \n",
            " 2   created_at             584524 non-null  object \n",
            " 3   sku                    584504 non-null  object \n",
            " 4   price                  584524 non-null  float64\n",
            " 5   qty_ordered            584524 non-null  float64\n",
            " 6   grand_total            584524 non-null  float64\n",
            " 7   increment_id           584524 non-null  object \n",
            " 8   category_name_1        584360 non-null  object \n",
            " 9   sales_commission_code  447349 non-null  object \n",
            " 10  discount_amount        584524 non-null  float64\n",
            " 11  payment_method         584524 non-null  object \n",
            " 12  Working Date           584524 non-null  object \n",
            " 13  BI Status              584524 non-null  object \n",
            " 14   MV                    584524 non-null  object \n",
            " 15  Year                   584524 non-null  float64\n",
            " 16  Month                  584524 non-null  float64\n",
            " 17  Customer Since         584513 non-null  object \n",
            " 18  M-Y                    584524 non-null  object \n",
            " 19  FY                     584524 non-null  object \n",
            " 20  Customer ID            584513 non-null  float64\n",
            "dtypes: float64(8), object(13)\n",
            "memory usage: 168.0+ MB\n"
          ]
        }
      ]
    },
    {
      "cell_type": "markdown",
      "source": [
        "<i>setelah dilihat informasi kembali, colomn yang tidak mempunyai value telah hilang"
      ],
      "metadata": {
        "id": "Ppq7C1ziaPBe"
      }
    },
    {
      "cell_type": "markdown",
      "source": [
        "<h1>Data Cleaning"
      ],
      "metadata": {
        "id": "AEj7i7s5w35x"
      }
    },
    {
      "cell_type": "code",
      "source": [
        "df.isnull().sum().sort_values()"
      ],
      "metadata": {
        "colab": {
          "base_uri": "https://localhost:8080/"
        },
        "id": "sNfJj9GvxETF",
        "outputId": "5e0e953f-ab6c-47c7-843f-8c758dae38c1"
      },
      "execution_count": 6,
      "outputs": [
        {
          "output_type": "execute_result",
          "data": {
            "text/plain": [
              "item_id                  464051\n",
              "M-Y                      464051\n",
              "Month                    464051\n",
              "Year                     464051\n",
              " MV                      464051\n",
              "BI Status                464051\n",
              "Working Date             464051\n",
              "payment_method           464051\n",
              "FY                       464051\n",
              "discount_amount          464051\n",
              "increment_id             464051\n",
              "grand_total              464051\n",
              "qty_ordered              464051\n",
              "price                    464051\n",
              "created_at               464051\n",
              "Customer Since           464062\n",
              "Customer ID              464062\n",
              "status                   464066\n",
              "sku                      464071\n",
              "category_name_1          464215\n",
              "sales_commission_code    601226\n",
              "dtype: int64"
            ]
          },
          "metadata": {},
          "execution_count": 6
        }
      ]
    },
    {
      "cell_type": "markdown",
      "source": [
        "<i>melihat dan menjumlahkan missing value"
      ],
      "metadata": {
        "id": "yYv8ZbMCagfe"
      }
    },
    {
      "cell_type": "code",
      "source": [
        "df.dropna(inplace=True)"
      ],
      "metadata": {
        "id": "cdb7GEc8-uxk"
      },
      "execution_count": 7,
      "outputs": []
    },
    {
      "cell_type": "markdown",
      "source": [
        "<i>hapus semua missing value"
      ],
      "metadata": {
        "id": "mMXuhyVqaoge"
      }
    },
    {
      "cell_type": "code",
      "source": [
        "df.isnull().sum()"
      ],
      "metadata": {
        "colab": {
          "base_uri": "https://localhost:8080/"
        },
        "id": "wEs2edhy_4Rp",
        "outputId": "07088652-7f32-4865-f249-5d73b18a832b"
      },
      "execution_count": 8,
      "outputs": [
        {
          "output_type": "execute_result",
          "data": {
            "text/plain": [
              "item_id                  0\n",
              "status                   0\n",
              "created_at               0\n",
              "sku                      0\n",
              "price                    0\n",
              "qty_ordered              0\n",
              "grand_total              0\n",
              "increment_id             0\n",
              "category_name_1          0\n",
              "sales_commission_code    0\n",
              "discount_amount          0\n",
              "payment_method           0\n",
              "Working Date             0\n",
              "BI Status                0\n",
              " MV                      0\n",
              "Year                     0\n",
              "Month                    0\n",
              "Customer Since           0\n",
              "M-Y                      0\n",
              "FY                       0\n",
              "Customer ID              0\n",
              "dtype: int64"
            ]
          },
          "metadata": {},
          "execution_count": 8
        }
      ]
    },
    {
      "cell_type": "markdown",
      "source": [
        "<i>sudah tidak ada missing value"
      ],
      "metadata": {
        "id": "jxz_LIaVatkV"
      }
    },
    {
      "cell_type": "code",
      "source": [
        "df.tail(10)"
      ],
      "metadata": {
        "colab": {
          "base_uri": "https://localhost:8080/",
          "height": 647
        },
        "id": "wcMof8hd_7nZ",
        "outputId": "a603f445-de82-4291-ce37-6fabc836e148"
      },
      "execution_count": 9,
      "outputs": [
        {
          "output_type": "execute_result",
          "data": {
            "text/plain": [
              "         item_id      status created_at                  sku    price  \\\n",
              "584338  904992.0    received  8/27/2018     JAZ5A5F32D397D60    445.5   \n",
              "584368  905028.0        paid  8/27/2018  ENTECO5A7FE80D6C830  20599.0   \n",
              "584426  905102.0    canceled  8/28/2018  BAGSUB5AE95657B8BF9    270.0   \n",
              "584427  905103.0    canceled  8/28/2018  BAGVIT5A9D1C61F3CCD    500.0   \n",
              "584428  905104.0    canceled  8/28/2018   BAGDW5A7038B3EF001    390.0   \n",
              "584429  905105.0    canceled  8/28/2018  BAGPRO5B0FA123819C4    490.0   \n",
              "584430  905106.0    canceled  8/28/2018   BAGFT5A3272925D642    224.0   \n",
              "584431  905107.0    canceled  8/28/2018     FAI5A95000195701    299.0   \n",
              "584480  905160.0         cod  8/28/2018  MATHUA5AE4D132A2D5A  21599.0   \n",
              "584491  905171.0  processing  8/28/2018  MATAPP59AD3CFE4A7CA  44459.0   \n",
              "\n",
              "        qty_ordered  grand_total increment_id    category_name_1  \\\n",
              "584338          1.0        595.5    100562274         Superstore   \n",
              "584368          1.0          0.0    100562284      Entertainment   \n",
              "584426          1.0       2722.0    100562312  Beauty & Grooming   \n",
              "584427          1.0       2722.0    100562312  Beauty & Grooming   \n",
              "584428          1.0       2722.0    100562312  Beauty & Grooming   \n",
              "584429          1.0       2722.0    100562312  Beauty & Grooming   \n",
              "584430          1.0       2722.0    100562312  Beauty & Grooming   \n",
              "584431          2.0       2722.0    100562312         Superstore   \n",
              "584480          1.0      21899.0    100562351  Mobiles & Tablets   \n",
              "584491          1.0      44759.0    100562360  Mobiles & Tablets   \n",
              "\n",
              "       sales_commission_code  ...  payment_method Working Date BI Status  \\\n",
              "584338                 80111  ...             cod    8/27/2018     Valid   \n",
              "584368          R-GUJ-106946  ...  customercredit    8/27/2018     Valid   \n",
              "584426             100559728  ...         Payaxis    8/28/2018     Gross   \n",
              "584427             100559728  ...         Payaxis    8/28/2018     Gross   \n",
              "584428             100559728  ...         Payaxis    8/28/2018     Gross   \n",
              "584429             100559728  ...         Payaxis    8/28/2018     Gross   \n",
              "584430             100559728  ...         Payaxis    8/28/2018     Gross   \n",
              "584431             100559728  ...         Payaxis    8/28/2018     Gross   \n",
              "584480          C-PEW-112010  ...             cod    8/28/2018     Valid   \n",
              "584491                111066  ...             cod    8/28/2018     Gross   \n",
              "\n",
              "             MV     Year  Month  Customer Since     M-Y    FY Customer ID  \n",
              "584338      446   2018.0    8.0          2016-8  8-2018  FY19      2633.0  \n",
              "584368   20,599   2018.0    8.0          2018-3  8-2018  FY19     92669.0  \n",
              "584426      270   2018.0    8.0          2018-8  8-2018  FY19    114788.0  \n",
              "584427      500   2018.0    8.0          2018-8  8-2018  FY19    114788.0  \n",
              "584428      390   2018.0    8.0          2018-8  8-2018  FY19    114788.0  \n",
              "584429      490   2018.0    8.0          2018-8  8-2018  FY19    114788.0  \n",
              "584430      224   2018.0    8.0          2018-8  8-2018  FY19    114788.0  \n",
              "584431      598   2018.0    8.0          2018-8  8-2018  FY19    114788.0  \n",
              "584480   21,599   2018.0    8.0          2018-5  8-2018  FY19    106822.0  \n",
              "584491   44,459   2018.0    8.0         2017-11  8-2018  FY19     67562.0  \n",
              "\n",
              "[10 rows x 21 columns]"
            ],
            "text/html": [
              "\n",
              "  <div id=\"df-2ea63875-0e27-4a1c-b835-b32a60bc7873\">\n",
              "    <div class=\"colab-df-container\">\n",
              "      <div>\n",
              "<style scoped>\n",
              "    .dataframe tbody tr th:only-of-type {\n",
              "        vertical-align: middle;\n",
              "    }\n",
              "\n",
              "    .dataframe tbody tr th {\n",
              "        vertical-align: top;\n",
              "    }\n",
              "\n",
              "    .dataframe thead th {\n",
              "        text-align: right;\n",
              "    }\n",
              "</style>\n",
              "<table border=\"1\" class=\"dataframe\">\n",
              "  <thead>\n",
              "    <tr style=\"text-align: right;\">\n",
              "      <th></th>\n",
              "      <th>item_id</th>\n",
              "      <th>status</th>\n",
              "      <th>created_at</th>\n",
              "      <th>sku</th>\n",
              "      <th>price</th>\n",
              "      <th>qty_ordered</th>\n",
              "      <th>grand_total</th>\n",
              "      <th>increment_id</th>\n",
              "      <th>category_name_1</th>\n",
              "      <th>sales_commission_code</th>\n",
              "      <th>...</th>\n",
              "      <th>payment_method</th>\n",
              "      <th>Working Date</th>\n",
              "      <th>BI Status</th>\n",
              "      <th>MV</th>\n",
              "      <th>Year</th>\n",
              "      <th>Month</th>\n",
              "      <th>Customer Since</th>\n",
              "      <th>M-Y</th>\n",
              "      <th>FY</th>\n",
              "      <th>Customer ID</th>\n",
              "    </tr>\n",
              "  </thead>\n",
              "  <tbody>\n",
              "    <tr>\n",
              "      <th>584338</th>\n",
              "      <td>904992.0</td>\n",
              "      <td>received</td>\n",
              "      <td>8/27/2018</td>\n",
              "      <td>JAZ5A5F32D397D60</td>\n",
              "      <td>445.5</td>\n",
              "      <td>1.0</td>\n",
              "      <td>595.5</td>\n",
              "      <td>100562274</td>\n",
              "      <td>Superstore</td>\n",
              "      <td>80111</td>\n",
              "      <td>...</td>\n",
              "      <td>cod</td>\n",
              "      <td>8/27/2018</td>\n",
              "      <td>Valid</td>\n",
              "      <td>446</td>\n",
              "      <td>2018.0</td>\n",
              "      <td>8.0</td>\n",
              "      <td>2016-8</td>\n",
              "      <td>8-2018</td>\n",
              "      <td>FY19</td>\n",
              "      <td>2633.0</td>\n",
              "    </tr>\n",
              "    <tr>\n",
              "      <th>584368</th>\n",
              "      <td>905028.0</td>\n",
              "      <td>paid</td>\n",
              "      <td>8/27/2018</td>\n",
              "      <td>ENTECO5A7FE80D6C830</td>\n",
              "      <td>20599.0</td>\n",
              "      <td>1.0</td>\n",
              "      <td>0.0</td>\n",
              "      <td>100562284</td>\n",
              "      <td>Entertainment</td>\n",
              "      <td>R-GUJ-106946</td>\n",
              "      <td>...</td>\n",
              "      <td>customercredit</td>\n",
              "      <td>8/27/2018</td>\n",
              "      <td>Valid</td>\n",
              "      <td>20,599</td>\n",
              "      <td>2018.0</td>\n",
              "      <td>8.0</td>\n",
              "      <td>2018-3</td>\n",
              "      <td>8-2018</td>\n",
              "      <td>FY19</td>\n",
              "      <td>92669.0</td>\n",
              "    </tr>\n",
              "    <tr>\n",
              "      <th>584426</th>\n",
              "      <td>905102.0</td>\n",
              "      <td>canceled</td>\n",
              "      <td>8/28/2018</td>\n",
              "      <td>BAGSUB5AE95657B8BF9</td>\n",
              "      <td>270.0</td>\n",
              "      <td>1.0</td>\n",
              "      <td>2722.0</td>\n",
              "      <td>100562312</td>\n",
              "      <td>Beauty &amp; Grooming</td>\n",
              "      <td>100559728</td>\n",
              "      <td>...</td>\n",
              "      <td>Payaxis</td>\n",
              "      <td>8/28/2018</td>\n",
              "      <td>Gross</td>\n",
              "      <td>270</td>\n",
              "      <td>2018.0</td>\n",
              "      <td>8.0</td>\n",
              "      <td>2018-8</td>\n",
              "      <td>8-2018</td>\n",
              "      <td>FY19</td>\n",
              "      <td>114788.0</td>\n",
              "    </tr>\n",
              "    <tr>\n",
              "      <th>584427</th>\n",
              "      <td>905103.0</td>\n",
              "      <td>canceled</td>\n",
              "      <td>8/28/2018</td>\n",
              "      <td>BAGVIT5A9D1C61F3CCD</td>\n",
              "      <td>500.0</td>\n",
              "      <td>1.0</td>\n",
              "      <td>2722.0</td>\n",
              "      <td>100562312</td>\n",
              "      <td>Beauty &amp; Grooming</td>\n",
              "      <td>100559728</td>\n",
              "      <td>...</td>\n",
              "      <td>Payaxis</td>\n",
              "      <td>8/28/2018</td>\n",
              "      <td>Gross</td>\n",
              "      <td>500</td>\n",
              "      <td>2018.0</td>\n",
              "      <td>8.0</td>\n",
              "      <td>2018-8</td>\n",
              "      <td>8-2018</td>\n",
              "      <td>FY19</td>\n",
              "      <td>114788.0</td>\n",
              "    </tr>\n",
              "    <tr>\n",
              "      <th>584428</th>\n",
              "      <td>905104.0</td>\n",
              "      <td>canceled</td>\n",
              "      <td>8/28/2018</td>\n",
              "      <td>BAGDW5A7038B3EF001</td>\n",
              "      <td>390.0</td>\n",
              "      <td>1.0</td>\n",
              "      <td>2722.0</td>\n",
              "      <td>100562312</td>\n",
              "      <td>Beauty &amp; Grooming</td>\n",
              "      <td>100559728</td>\n",
              "      <td>...</td>\n",
              "      <td>Payaxis</td>\n",
              "      <td>8/28/2018</td>\n",
              "      <td>Gross</td>\n",
              "      <td>390</td>\n",
              "      <td>2018.0</td>\n",
              "      <td>8.0</td>\n",
              "      <td>2018-8</td>\n",
              "      <td>8-2018</td>\n",
              "      <td>FY19</td>\n",
              "      <td>114788.0</td>\n",
              "    </tr>\n",
              "    <tr>\n",
              "      <th>584429</th>\n",
              "      <td>905105.0</td>\n",
              "      <td>canceled</td>\n",
              "      <td>8/28/2018</td>\n",
              "      <td>BAGPRO5B0FA123819C4</td>\n",
              "      <td>490.0</td>\n",
              "      <td>1.0</td>\n",
              "      <td>2722.0</td>\n",
              "      <td>100562312</td>\n",
              "      <td>Beauty &amp; Grooming</td>\n",
              "      <td>100559728</td>\n",
              "      <td>...</td>\n",
              "      <td>Payaxis</td>\n",
              "      <td>8/28/2018</td>\n",
              "      <td>Gross</td>\n",
              "      <td>490</td>\n",
              "      <td>2018.0</td>\n",
              "      <td>8.0</td>\n",
              "      <td>2018-8</td>\n",
              "      <td>8-2018</td>\n",
              "      <td>FY19</td>\n",
              "      <td>114788.0</td>\n",
              "    </tr>\n",
              "    <tr>\n",
              "      <th>584430</th>\n",
              "      <td>905106.0</td>\n",
              "      <td>canceled</td>\n",
              "      <td>8/28/2018</td>\n",
              "      <td>BAGFT5A3272925D642</td>\n",
              "      <td>224.0</td>\n",
              "      <td>1.0</td>\n",
              "      <td>2722.0</td>\n",
              "      <td>100562312</td>\n",
              "      <td>Beauty &amp; Grooming</td>\n",
              "      <td>100559728</td>\n",
              "      <td>...</td>\n",
              "      <td>Payaxis</td>\n",
              "      <td>8/28/2018</td>\n",
              "      <td>Gross</td>\n",
              "      <td>224</td>\n",
              "      <td>2018.0</td>\n",
              "      <td>8.0</td>\n",
              "      <td>2018-8</td>\n",
              "      <td>8-2018</td>\n",
              "      <td>FY19</td>\n",
              "      <td>114788.0</td>\n",
              "    </tr>\n",
              "    <tr>\n",
              "      <th>584431</th>\n",
              "      <td>905107.0</td>\n",
              "      <td>canceled</td>\n",
              "      <td>8/28/2018</td>\n",
              "      <td>FAI5A95000195701</td>\n",
              "      <td>299.0</td>\n",
              "      <td>2.0</td>\n",
              "      <td>2722.0</td>\n",
              "      <td>100562312</td>\n",
              "      <td>Superstore</td>\n",
              "      <td>100559728</td>\n",
              "      <td>...</td>\n",
              "      <td>Payaxis</td>\n",
              "      <td>8/28/2018</td>\n",
              "      <td>Gross</td>\n",
              "      <td>598</td>\n",
              "      <td>2018.0</td>\n",
              "      <td>8.0</td>\n",
              "      <td>2018-8</td>\n",
              "      <td>8-2018</td>\n",
              "      <td>FY19</td>\n",
              "      <td>114788.0</td>\n",
              "    </tr>\n",
              "    <tr>\n",
              "      <th>584480</th>\n",
              "      <td>905160.0</td>\n",
              "      <td>cod</td>\n",
              "      <td>8/28/2018</td>\n",
              "      <td>MATHUA5AE4D132A2D5A</td>\n",
              "      <td>21599.0</td>\n",
              "      <td>1.0</td>\n",
              "      <td>21899.0</td>\n",
              "      <td>100562351</td>\n",
              "      <td>Mobiles &amp; Tablets</td>\n",
              "      <td>C-PEW-112010</td>\n",
              "      <td>...</td>\n",
              "      <td>cod</td>\n",
              "      <td>8/28/2018</td>\n",
              "      <td>Valid</td>\n",
              "      <td>21,599</td>\n",
              "      <td>2018.0</td>\n",
              "      <td>8.0</td>\n",
              "      <td>2018-5</td>\n",
              "      <td>8-2018</td>\n",
              "      <td>FY19</td>\n",
              "      <td>106822.0</td>\n",
              "    </tr>\n",
              "    <tr>\n",
              "      <th>584491</th>\n",
              "      <td>905171.0</td>\n",
              "      <td>processing</td>\n",
              "      <td>8/28/2018</td>\n",
              "      <td>MATAPP59AD3CFE4A7CA</td>\n",
              "      <td>44459.0</td>\n",
              "      <td>1.0</td>\n",
              "      <td>44759.0</td>\n",
              "      <td>100562360</td>\n",
              "      <td>Mobiles &amp; Tablets</td>\n",
              "      <td>111066</td>\n",
              "      <td>...</td>\n",
              "      <td>cod</td>\n",
              "      <td>8/28/2018</td>\n",
              "      <td>Gross</td>\n",
              "      <td>44,459</td>\n",
              "      <td>2018.0</td>\n",
              "      <td>8.0</td>\n",
              "      <td>2017-11</td>\n",
              "      <td>8-2018</td>\n",
              "      <td>FY19</td>\n",
              "      <td>67562.0</td>\n",
              "    </tr>\n",
              "  </tbody>\n",
              "</table>\n",
              "<p>10 rows × 21 columns</p>\n",
              "</div>\n",
              "      <button class=\"colab-df-convert\" onclick=\"convertToInteractive('df-2ea63875-0e27-4a1c-b835-b32a60bc7873')\"\n",
              "              title=\"Convert this dataframe to an interactive table.\"\n",
              "              style=\"display:none;\">\n",
              "        \n",
              "  <svg xmlns=\"http://www.w3.org/2000/svg\" height=\"24px\"viewBox=\"0 0 24 24\"\n",
              "       width=\"24px\">\n",
              "    <path d=\"M0 0h24v24H0V0z\" fill=\"none\"/>\n",
              "    <path d=\"M18.56 5.44l.94 2.06.94-2.06 2.06-.94-2.06-.94-.94-2.06-.94 2.06-2.06.94zm-11 1L8.5 8.5l.94-2.06 2.06-.94-2.06-.94L8.5 2.5l-.94 2.06-2.06.94zm10 10l.94 2.06.94-2.06 2.06-.94-2.06-.94-.94-2.06-.94 2.06-2.06.94z\"/><path d=\"M17.41 7.96l-1.37-1.37c-.4-.4-.92-.59-1.43-.59-.52 0-1.04.2-1.43.59L10.3 9.45l-7.72 7.72c-.78.78-.78 2.05 0 2.83L4 21.41c.39.39.9.59 1.41.59.51 0 1.02-.2 1.41-.59l7.78-7.78 2.81-2.81c.8-.78.8-2.07 0-2.86zM5.41 20L4 18.59l7.72-7.72 1.47 1.35L5.41 20z\"/>\n",
              "  </svg>\n",
              "      </button>\n",
              "      \n",
              "  <style>\n",
              "    .colab-df-container {\n",
              "      display:flex;\n",
              "      flex-wrap:wrap;\n",
              "      gap: 12px;\n",
              "    }\n",
              "\n",
              "    .colab-df-convert {\n",
              "      background-color: #E8F0FE;\n",
              "      border: none;\n",
              "      border-radius: 50%;\n",
              "      cursor: pointer;\n",
              "      display: none;\n",
              "      fill: #1967D2;\n",
              "      height: 32px;\n",
              "      padding: 0 0 0 0;\n",
              "      width: 32px;\n",
              "    }\n",
              "\n",
              "    .colab-df-convert:hover {\n",
              "      background-color: #E2EBFA;\n",
              "      box-shadow: 0px 1px 2px rgba(60, 64, 67, 0.3), 0px 1px 3px 1px rgba(60, 64, 67, 0.15);\n",
              "      fill: #174EA6;\n",
              "    }\n",
              "\n",
              "    [theme=dark] .colab-df-convert {\n",
              "      background-color: #3B4455;\n",
              "      fill: #D2E3FC;\n",
              "    }\n",
              "\n",
              "    [theme=dark] .colab-df-convert:hover {\n",
              "      background-color: #434B5C;\n",
              "      box-shadow: 0px 1px 3px 1px rgba(0, 0, 0, 0.15);\n",
              "      filter: drop-shadow(0px 1px 2px rgba(0, 0, 0, 0.3));\n",
              "      fill: #FFFFFF;\n",
              "    }\n",
              "  </style>\n",
              "\n",
              "      <script>\n",
              "        const buttonEl =\n",
              "          document.querySelector('#df-2ea63875-0e27-4a1c-b835-b32a60bc7873 button.colab-df-convert');\n",
              "        buttonEl.style.display =\n",
              "          google.colab.kernel.accessAllowed ? 'block' : 'none';\n",
              "\n",
              "        async function convertToInteractive(key) {\n",
              "          const element = document.querySelector('#df-2ea63875-0e27-4a1c-b835-b32a60bc7873');\n",
              "          const dataTable =\n",
              "            await google.colab.kernel.invokeFunction('convertToInteractive',\n",
              "                                                     [key], {});\n",
              "          if (!dataTable) return;\n",
              "\n",
              "          const docLinkHtml = 'Like what you see? Visit the ' +\n",
              "            '<a target=\"_blank\" href=https://colab.research.google.com/notebooks/data_table.ipynb>data table notebook</a>'\n",
              "            + ' to learn more about interactive tables.';\n",
              "          element.innerHTML = '';\n",
              "          dataTable['output_type'] = 'display_data';\n",
              "          await google.colab.output.renderOutput(dataTable, element);\n",
              "          const docLink = document.createElement('div');\n",
              "          docLink.innerHTML = docLinkHtml;\n",
              "          element.appendChild(docLink);\n",
              "        }\n",
              "      </script>\n",
              "    </div>\n",
              "  </div>\n",
              "  "
            ]
          },
          "metadata": {},
          "execution_count": 9
        }
      ]
    },
    {
      "cell_type": "markdown",
      "source": [
        "<i>melihat tail untuk mengintip berapa jumlah index di row yang tersisa"
      ],
      "metadata": {
        "id": "La8q1_rPa0-d"
      }
    },
    {
      "cell_type": "code",
      "source": [
        "df.rename(columns={'Working Date':'date'},inplace=True)\n",
        "df.columns"
      ],
      "metadata": {
        "colab": {
          "base_uri": "https://localhost:8080/"
        },
        "id": "l_-1UJ0UVoJm",
        "outputId": "3992ea81-2b4c-4e0c-f06e-42a663c726c8"
      },
      "execution_count": 10,
      "outputs": [
        {
          "output_type": "execute_result",
          "data": {
            "text/plain": [
              "Index(['item_id', 'status', 'created_at', 'sku', 'price', 'qty_ordered',\n",
              "       'grand_total', 'increment_id', 'category_name_1',\n",
              "       'sales_commission_code', 'discount_amount', 'payment_method', 'date',\n",
              "       'BI Status', ' MV ', 'Year', 'Month', 'Customer Since', 'M-Y', 'FY',\n",
              "       'Customer ID'],\n",
              "      dtype='object')"
            ]
          },
          "metadata": {},
          "execution_count": 10
        }
      ]
    },
    {
      "cell_type": "code",
      "source": [
        "df['date'] = pd.to_datetime(df['date'])\n",
        "df.info()"
      ],
      "metadata": {
        "colab": {
          "base_uri": "https://localhost:8080/"
        },
        "id": "i4P4Mlb1n_nM",
        "outputId": "a815aaac-f8fd-4de7-dc23-97248ae52d22"
      },
      "execution_count": 11,
      "outputs": [
        {
          "output_type": "stream",
          "name": "stdout",
          "text": [
            "<class 'pandas.core.frame.DataFrame'>\n",
            "Int64Index: 447329 entries, 0 to 584491\n",
            "Data columns (total 21 columns):\n",
            " #   Column                 Non-Null Count   Dtype         \n",
            "---  ------                 --------------   -----         \n",
            " 0   item_id                447329 non-null  float64       \n",
            " 1   status                 447329 non-null  object        \n",
            " 2   created_at             447329 non-null  object        \n",
            " 3   sku                    447329 non-null  object        \n",
            " 4   price                  447329 non-null  float64       \n",
            " 5   qty_ordered            447329 non-null  float64       \n",
            " 6   grand_total            447329 non-null  float64       \n",
            " 7   increment_id           447329 non-null  object        \n",
            " 8   category_name_1        447329 non-null  object        \n",
            " 9   sales_commission_code  447329 non-null  object        \n",
            " 10  discount_amount        447329 non-null  float64       \n",
            " 11  payment_method         447329 non-null  object        \n",
            " 12  date                   447329 non-null  datetime64[ns]\n",
            " 13  BI Status              447329 non-null  object        \n",
            " 14   MV                    447329 non-null  object        \n",
            " 15  Year                   447329 non-null  float64       \n",
            " 16  Month                  447329 non-null  float64       \n",
            " 17  Customer Since         447329 non-null  object        \n",
            " 18  M-Y                    447329 non-null  object        \n",
            " 19  FY                     447329 non-null  object        \n",
            " 20  Customer ID            447329 non-null  float64       \n",
            "dtypes: datetime64[ns](1), float64(8), object(12)\n",
            "memory usage: 75.1+ MB\n"
          ]
        }
      ]
    },
    {
      "cell_type": "markdown",
      "source": [
        "<p>merubah tanggal yang bertype data \"object\" ke \"date\""
      ],
      "metadata": {
        "id": "-9NO_U0KOBbK"
      }
    },
    {
      "cell_type": "code",
      "source": [
        "\n",
        "df['item_id']=df['item_id'].astype(int)\n",
        "df['Customer ID']=df['Customer ID'].astype(str)\n",
        "df['qty_ordered']=df['qty_ordered'].astype(int)\n",
        "df['Year']=df['Year'].astype(int)\n",
        "df['Month']=df['Month'].astype(int)\n"
      ],
      "metadata": {
        "id": "4l5GF4owYrNj"
      },
      "execution_count": 12,
      "outputs": []
    },
    {
      "cell_type": "markdown",
      "source": [
        "<i>Merubah tipe data agar lebih mudah diproses/dimanipulasi"
      ],
      "metadata": {
        "id": "2tvs4F-gZPkh"
      }
    },
    {
      "cell_type": "code",
      "source": [
        "df.rename(columns={' MV ':'MV'},inplace=True)\n",
        "df.columns"
      ],
      "metadata": {
        "colab": {
          "base_uri": "https://localhost:8080/"
        },
        "id": "1dcFc1cffyWg",
        "outputId": "3d3bf515-1604-4525-866d-be4684cc5a1b"
      },
      "execution_count": 13,
      "outputs": [
        {
          "output_type": "execute_result",
          "data": {
            "text/plain": [
              "Index(['item_id', 'status', 'created_at', 'sku', 'price', 'qty_ordered',\n",
              "       'grand_total', 'increment_id', 'category_name_1',\n",
              "       'sales_commission_code', 'discount_amount', 'payment_method', 'date',\n",
              "       'BI Status', 'MV', 'Year', 'Month', 'Customer Since', 'M-Y', 'FY',\n",
              "       'Customer ID'],\n",
              "      dtype='object')"
            ]
          },
          "metadata": {},
          "execution_count": 13
        }
      ]
    },
    {
      "cell_type": "markdown",
      "source": [
        "<i>menghapus sepasi di column MV"
      ],
      "metadata": {
        "id": "DhKMs2vmf40n"
      }
    },
    {
      "cell_type": "code",
      "source": [
        "df.rename(columns={'category_name_1':'Category'},inplace=True)\n",
        "df.columns"
      ],
      "metadata": {
        "colab": {
          "base_uri": "https://localhost:8080/"
        },
        "id": "rlMOwvN1ZYPY",
        "outputId": "7573ea36-a7f3-4245-81b1-224e9571b9d8"
      },
      "execution_count": 14,
      "outputs": [
        {
          "output_type": "execute_result",
          "data": {
            "text/plain": [
              "Index(['item_id', 'status', 'created_at', 'sku', 'price', 'qty_ordered',\n",
              "       'grand_total', 'increment_id', 'Category', 'sales_commission_code',\n",
              "       'discount_amount', 'payment_method', 'date', 'BI Status', 'MV', 'Year',\n",
              "       'Month', 'Customer Since', 'M-Y', 'FY', 'Customer ID'],\n",
              "      dtype='object')"
            ]
          },
          "metadata": {},
          "execution_count": 14
        }
      ]
    },
    {
      "cell_type": "markdown",
      "source": [
        "<i>merubah nama columns dan mengecek apakah berhasil terubah, dan berhasil"
      ],
      "metadata": {
        "id": "GUAyOSq7bGk8"
      }
    },
    {
      "cell_type": "markdown",
      "source": [
        "<h1>Analisa dan ekploritasi\n",
        "\n",
        "\n",
        "\n",
        "</h1>"
      ],
      "metadata": {
        "id": "SNVVld17ASPF"
      }
    },
    {
      "cell_type": "code",
      "source": [
        "Top10Category=df.groupby('Category')['item_id'].agg(['count']).reset_index().sort_values(by='count',ascending=False).head(10)\n",
        "Top10Category"
      ],
      "metadata": {
        "colab": {
          "base_uri": "https://localhost:8080/",
          "height": 363
        },
        "id": "Jmv_mfO2Nmtk",
        "outputId": "c00d21de-e8f9-4a96-9868-a62d6d4999b7"
      },
      "execution_count": 15,
      "outputs": [
        {
          "output_type": "execute_result",
          "data": {
            "text/plain": [
              "             Category  count\n",
              "9   Mobiles & Tablets  90790\n",
              "8       Men's Fashion  75883\n",
              "14    Women's Fashion  45669\n",
              "0          Appliances  40274\n",
              "13         Superstore  35550\n",
              "1   Beauty & Grooming  33208\n",
              "12            Soghaat  30372\n",
              "6       Home & Living  20743\n",
              "4       Entertainment  20425\n",
              "7         Kids & Baby  13377"
            ],
            "text/html": [
              "\n",
              "  <div id=\"df-5f6c12d9-f69f-4b5c-b397-3df69d381b62\">\n",
              "    <div class=\"colab-df-container\">\n",
              "      <div>\n",
              "<style scoped>\n",
              "    .dataframe tbody tr th:only-of-type {\n",
              "        vertical-align: middle;\n",
              "    }\n",
              "\n",
              "    .dataframe tbody tr th {\n",
              "        vertical-align: top;\n",
              "    }\n",
              "\n",
              "    .dataframe thead th {\n",
              "        text-align: right;\n",
              "    }\n",
              "</style>\n",
              "<table border=\"1\" class=\"dataframe\">\n",
              "  <thead>\n",
              "    <tr style=\"text-align: right;\">\n",
              "      <th></th>\n",
              "      <th>Category</th>\n",
              "      <th>count</th>\n",
              "    </tr>\n",
              "  </thead>\n",
              "  <tbody>\n",
              "    <tr>\n",
              "      <th>9</th>\n",
              "      <td>Mobiles &amp; Tablets</td>\n",
              "      <td>90790</td>\n",
              "    </tr>\n",
              "    <tr>\n",
              "      <th>8</th>\n",
              "      <td>Men's Fashion</td>\n",
              "      <td>75883</td>\n",
              "    </tr>\n",
              "    <tr>\n",
              "      <th>14</th>\n",
              "      <td>Women's Fashion</td>\n",
              "      <td>45669</td>\n",
              "    </tr>\n",
              "    <tr>\n",
              "      <th>0</th>\n",
              "      <td>Appliances</td>\n",
              "      <td>40274</td>\n",
              "    </tr>\n",
              "    <tr>\n",
              "      <th>13</th>\n",
              "      <td>Superstore</td>\n",
              "      <td>35550</td>\n",
              "    </tr>\n",
              "    <tr>\n",
              "      <th>1</th>\n",
              "      <td>Beauty &amp; Grooming</td>\n",
              "      <td>33208</td>\n",
              "    </tr>\n",
              "    <tr>\n",
              "      <th>12</th>\n",
              "      <td>Soghaat</td>\n",
              "      <td>30372</td>\n",
              "    </tr>\n",
              "    <tr>\n",
              "      <th>6</th>\n",
              "      <td>Home &amp; Living</td>\n",
              "      <td>20743</td>\n",
              "    </tr>\n",
              "    <tr>\n",
              "      <th>4</th>\n",
              "      <td>Entertainment</td>\n",
              "      <td>20425</td>\n",
              "    </tr>\n",
              "    <tr>\n",
              "      <th>7</th>\n",
              "      <td>Kids &amp; Baby</td>\n",
              "      <td>13377</td>\n",
              "    </tr>\n",
              "  </tbody>\n",
              "</table>\n",
              "</div>\n",
              "      <button class=\"colab-df-convert\" onclick=\"convertToInteractive('df-5f6c12d9-f69f-4b5c-b397-3df69d381b62')\"\n",
              "              title=\"Convert this dataframe to an interactive table.\"\n",
              "              style=\"display:none;\">\n",
              "        \n",
              "  <svg xmlns=\"http://www.w3.org/2000/svg\" height=\"24px\"viewBox=\"0 0 24 24\"\n",
              "       width=\"24px\">\n",
              "    <path d=\"M0 0h24v24H0V0z\" fill=\"none\"/>\n",
              "    <path d=\"M18.56 5.44l.94 2.06.94-2.06 2.06-.94-2.06-.94-.94-2.06-.94 2.06-2.06.94zm-11 1L8.5 8.5l.94-2.06 2.06-.94-2.06-.94L8.5 2.5l-.94 2.06-2.06.94zm10 10l.94 2.06.94-2.06 2.06-.94-2.06-.94-.94-2.06-.94 2.06-2.06.94z\"/><path d=\"M17.41 7.96l-1.37-1.37c-.4-.4-.92-.59-1.43-.59-.52 0-1.04.2-1.43.59L10.3 9.45l-7.72 7.72c-.78.78-.78 2.05 0 2.83L4 21.41c.39.39.9.59 1.41.59.51 0 1.02-.2 1.41-.59l7.78-7.78 2.81-2.81c.8-.78.8-2.07 0-2.86zM5.41 20L4 18.59l7.72-7.72 1.47 1.35L5.41 20z\"/>\n",
              "  </svg>\n",
              "      </button>\n",
              "      \n",
              "  <style>\n",
              "    .colab-df-container {\n",
              "      display:flex;\n",
              "      flex-wrap:wrap;\n",
              "      gap: 12px;\n",
              "    }\n",
              "\n",
              "    .colab-df-convert {\n",
              "      background-color: #E8F0FE;\n",
              "      border: none;\n",
              "      border-radius: 50%;\n",
              "      cursor: pointer;\n",
              "      display: none;\n",
              "      fill: #1967D2;\n",
              "      height: 32px;\n",
              "      padding: 0 0 0 0;\n",
              "      width: 32px;\n",
              "    }\n",
              "\n",
              "    .colab-df-convert:hover {\n",
              "      background-color: #E2EBFA;\n",
              "      box-shadow: 0px 1px 2px rgba(60, 64, 67, 0.3), 0px 1px 3px 1px rgba(60, 64, 67, 0.15);\n",
              "      fill: #174EA6;\n",
              "    }\n",
              "\n",
              "    [theme=dark] .colab-df-convert {\n",
              "      background-color: #3B4455;\n",
              "      fill: #D2E3FC;\n",
              "    }\n",
              "\n",
              "    [theme=dark] .colab-df-convert:hover {\n",
              "      background-color: #434B5C;\n",
              "      box-shadow: 0px 1px 3px 1px rgba(0, 0, 0, 0.15);\n",
              "      filter: drop-shadow(0px 1px 2px rgba(0, 0, 0, 0.3));\n",
              "      fill: #FFFFFF;\n",
              "    }\n",
              "  </style>\n",
              "\n",
              "      <script>\n",
              "        const buttonEl =\n",
              "          document.querySelector('#df-5f6c12d9-f69f-4b5c-b397-3df69d381b62 button.colab-df-convert');\n",
              "        buttonEl.style.display =\n",
              "          google.colab.kernel.accessAllowed ? 'block' : 'none';\n",
              "\n",
              "        async function convertToInteractive(key) {\n",
              "          const element = document.querySelector('#df-5f6c12d9-f69f-4b5c-b397-3df69d381b62');\n",
              "          const dataTable =\n",
              "            await google.colab.kernel.invokeFunction('convertToInteractive',\n",
              "                                                     [key], {});\n",
              "          if (!dataTable) return;\n",
              "\n",
              "          const docLinkHtml = 'Like what you see? Visit the ' +\n",
              "            '<a target=\"_blank\" href=https://colab.research.google.com/notebooks/data_table.ipynb>data table notebook</a>'\n",
              "            + ' to learn more about interactive tables.';\n",
              "          element.innerHTML = '';\n",
              "          dataTable['output_type'] = 'display_data';\n",
              "          await google.colab.output.renderOutput(dataTable, element);\n",
              "          const docLink = document.createElement('div');\n",
              "          docLink.innerHTML = docLinkHtml;\n",
              "          element.appendChild(docLink);\n",
              "        }\n",
              "      </script>\n",
              "    </div>\n",
              "  </div>\n",
              "  "
            ]
          },
          "metadata": {},
          "execution_count": 15
        }
      ]
    },
    {
      "cell_type": "markdown",
      "source": [
        "<i>Melihat 10 kategori yang paling diminati"
      ],
      "metadata": {
        "id": "-qcJPelySPTG"
      }
    },
    {
      "cell_type": "code",
      "source": [
        "plt.figure(figsize=(15,5))\n",
        "graph=sns.barplot(x='Category',y='count',data=Top10Category)\n",
        "graph.set_title('Top 10 selling Category')\n",
        "plt.show()"
      ],
      "metadata": {
        "colab": {
          "base_uri": "https://localhost:8080/",
          "height": 350
        },
        "id": "jdI_3riONus6",
        "outputId": "5484c14b-3178-4073-a29a-47630569552a"
      },
      "execution_count": 16,
      "outputs": [
        {
          "output_type": "display_data",
          "data": {
            "text/plain": [
              "<Figure size 1080x360 with 1 Axes>"
            ],
            "image/png": "[encoded data removed]"
          },
          "metadata": {
            "needs_background": "light"
          }
        }
      ]
    },
    {
      "cell_type": "markdown",
      "source": [
        "<i>Bar Plot 10 kategori yang paling diminati bisa dilihat mobile & Tablets"
      ],
      "metadata": {
        "id": "4F5lijiNSoYP"
      }
    },
    {
      "cell_type": "code",
      "source": [
        "orderstatus=df.groupby('status')['item_id'].agg(['count']).reset_index().sort_values(by='count',ascending=False)\n",
        "orderstatus"
      ],
      "metadata": {
        "colab": {
          "base_uri": "https://localhost:8080/",
          "height": 551
        },
        "id": "gZNeyD-VNz6C",
        "outputId": "c93c5f90-d7d4-4fb6-df37-94177565a687"
      },
      "execution_count": 17,
      "outputs": [
        {
          "output_type": "execute_result",
          "data": {
            "text/plain": [
              "            status   count\n",
              "4         complete  205378\n",
              "1         canceled  141437\n",
              "8   order_refunded   48180\n",
              "14        received   43102\n",
              "15          refund    6366\n",
              "3              cod    1730\n",
              "9             paid     657\n",
              "2           closed     411\n",
              "10  payment_review      26\n",
              "6            fraud      10\n",
              "11         pending       9\n",
              "12  pending_paypal       7\n",
              "7           holded       6\n",
              "0               \\N       4\n",
              "5         exchange       4\n",
              "13      processing       2"
            ],
            "text/html": [
              "\n",
              "  <div id=\"df-2b397e69-00bf-48df-8650-12c157447549\">\n",
              "    <div class=\"colab-df-container\">\n",
              "      <div>\n",
              "<style scoped>\n",
              "    .dataframe tbody tr th:only-of-type {\n",
              "        vertical-align: middle;\n",
              "    }\n",
              "\n",
              "    .dataframe tbody tr th {\n",
              "        vertical-align: top;\n",
              "    }\n",
              "\n",
              "    .dataframe thead th {\n",
              "        text-align: right;\n",
              "    }\n",
              "</style>\n",
              "<table border=\"1\" class=\"dataframe\">\n",
              "  <thead>\n",
              "    <tr style=\"text-align: right;\">\n",
              "      <th></th>\n",
              "      <th>status</th>\n",
              "      <th>count</th>\n",
              "    </tr>\n",
              "  </thead>\n",
              "  <tbody>\n",
              "    <tr>\n",
              "      <th>4</th>\n",
              "      <td>complete</td>\n",
              "      <td>205378</td>\n",
              "    </tr>\n",
              "    <tr>\n",
              "      <th>1</th>\n",
              "      <td>canceled</td>\n",
              "      <td>141437</td>\n",
              "    </tr>\n",
              "    <tr>\n",
              "      <th>8</th>\n",
              "      <td>order_refunded</td>\n",
              "      <td>48180</td>\n",
              "    </tr>\n",
              "    <tr>\n",
              "      <th>14</th>\n",
              "      <td>received</td>\n",
              "      <td>43102</td>\n",
              "    </tr>\n",
              "    <tr>\n",
              "      <th>15</th>\n",
              "      <td>refund</td>\n",
              "      <td>6366</td>\n",
              "    </tr>\n",
              "    <tr>\n",
              "      <th>3</th>\n",
              "      <td>cod</td>\n",
              "      <td>1730</td>\n",
              "    </tr>\n",
              "    <tr>\n",
              "      <th>9</th>\n",
              "      <td>paid</td>\n",
              "      <td>657</td>\n",
              "    </tr>\n",
              "    <tr>\n",
              "      <th>2</th>\n",
              "      <td>closed</td>\n",
              "      <td>411</td>\n",
              "    </tr>\n",
              "    <tr>\n",
              "      <th>10</th>\n",
              "      <td>payment_review</td>\n",
              "      <td>26</td>\n",
              "    </tr>\n",
              "    <tr>\n",
              "      <th>6</th>\n",
              "      <td>fraud</td>\n",
              "      <td>10</td>\n",
              "    </tr>\n",
              "    <tr>\n",
              "      <th>11</th>\n",
              "      <td>pending</td>\n",
              "      <td>9</td>\n",
              "    </tr>\n",
              "    <tr>\n",
              "      <th>12</th>\n",
              "      <td>pending_paypal</td>\n",
              "      <td>7</td>\n",
              "    </tr>\n",
              "    <tr>\n",
              "      <th>7</th>\n",
              "      <td>holded</td>\n",
              "      <td>6</td>\n",
              "    </tr>\n",
              "    <tr>\n",
              "      <th>0</th>\n",
              "      <td>\\N</td>\n",
              "      <td>4</td>\n",
              "    </tr>\n",
              "    <tr>\n",
              "      <th>5</th>\n",
              "      <td>exchange</td>\n",
              "      <td>4</td>\n",
              "    </tr>\n",
              "    <tr>\n",
              "      <th>13</th>\n",
              "      <td>processing</td>\n",
              "      <td>2</td>\n",
              "    </tr>\n",
              "  </tbody>\n",
              "</table>\n",
              "</div>\n",
              "      <button class=\"colab-df-convert\" onclick=\"convertToInteractive('df-2b397e69-00bf-48df-8650-12c157447549')\"\n",
              "              title=\"Convert this dataframe to an interactive table.\"\n",
              "              style=\"display:none;\">\n",
              "        \n",
              "  <svg xmlns=\"http://www.w3.org/2000/svg\" height=\"24px\"viewBox=\"0 0 24 24\"\n",
              "       width=\"24px\">\n",
              "    <path d=\"M0 0h24v24H0V0z\" fill=\"none\"/>\n",
              "    <path d=\"M18.56 5.44l.94 2.06.94-2.06 2.06-.94-2.06-.94-.94-2.06-.94 2.06-2.06.94zm-11 1L8.5 8.5l.94-2.06 2.06-.94-2.06-.94L8.5 2.5l-.94 2.06-2.06.94zm10 10l.94 2.06.94-2.06 2.06-.94-2.06-.94-.94-2.06-.94 2.06-2.06.94z\"/><path d=\"M17.41 7.96l-1.37-1.37c-.4-.4-.92-.59-1.43-.59-.52 0-1.04.2-1.43.59L10.3 9.45l-7.72 7.72c-.78.78-.78 2.05 0 2.83L4 21.41c.39.39.9.59 1.41.59.51 0 1.02-.2 1.41-.59l7.78-7.78 2.81-2.81c.8-.78.8-2.07 0-2.86zM5.41 20L4 18.59l7.72-7.72 1.47 1.35L5.41 20z\"/>\n",
              "  </svg>\n",
              "      </button>\n",
              "      \n",
              "  <style>\n",
              "    .colab-df-container {\n",
              "      display:flex;\n",
              "      flex-wrap:wrap;\n",
              "      gap: 12px;\n",
              "    }\n",
              "\n",
              "    .colab-df-convert {\n",
              "      background-color: #E8F0FE;\n",
              "      border: none;\n",
              "      border-radius: 50%;\n",
              "      cursor: pointer;\n",
              "      display: none;\n",
              "      fill: #1967D2;\n",
              "      height: 32px;\n",
              "      padding: 0 0 0 0;\n",
              "      width: 32px;\n",
              "    }\n",
              "\n",
              "    .colab-df-convert:hover {\n",
              "      background-color: #E2EBFA;\n",
              "      box-shadow: 0px 1px 2px rgba(60, 64, 67, 0.3), 0px 1px 3px 1px rgba(60, 64, 67, 0.15);\n",
              "      fill: #174EA6;\n",
              "    }\n",
              "\n",
              "    [theme=dark] .colab-df-convert {\n",
              "      background-color: #3B4455;\n",
              "      fill: #D2E3FC;\n",
              "    }\n",
              "\n",
              "    [theme=dark] .colab-df-convert:hover {\n",
              "      background-color: #434B5C;\n",
              "      box-shadow: 0px 1px 3px 1px rgba(0, 0, 0, 0.15);\n",
              "      filter: drop-shadow(0px 1px 2px rgba(0, 0, 0, 0.3));\n",
              "      fill: #FFFFFF;\n",
              "    }\n",
              "  </style>\n",
              "\n",
              "      <script>\n",
              "        const buttonEl =\n",
              "          document.querySelector('#df-2b397e69-00bf-48df-8650-12c157447549 button.colab-df-convert');\n",
              "        buttonEl.style.display =\n",
              "          google.colab.kernel.accessAllowed ? 'block' : 'none';\n",
              "\n",
              "        async function convertToInteractive(key) {\n",
              "          const element = document.querySelector('#df-2b397e69-00bf-48df-8650-12c157447549');\n",
              "          const dataTable =\n",
              "            await google.colab.kernel.invokeFunction('convertToInteractive',\n",
              "                                                     [key], {});\n",
              "          if (!dataTable) return;\n",
              "\n",
              "          const docLinkHtml = 'Like what you see? Visit the ' +\n",
              "            '<a target=\"_blank\" href=https://colab.research.google.com/notebooks/data_table.ipynb>data table notebook</a>'\n",
              "            + ' to learn more about interactive tables.';\n",
              "          element.innerHTML = '';\n",
              "          dataTable['output_type'] = 'display_data';\n",
              "          await google.colab.output.renderOutput(dataTable, element);\n",
              "          const docLink = document.createElement('div');\n",
              "          docLink.innerHTML = docLinkHtml;\n",
              "          element.appendChild(docLink);\n",
              "        }\n",
              "      </script>\n",
              "    </div>\n",
              "  </div>\n",
              "  "
            ]
          },
          "metadata": {},
          "execution_count": 17
        }
      ]
    },
    {
      "cell_type": "markdown",
      "source": [
        "<i>melihat banyaknya order status"
      ],
      "metadata": {
        "id": "xpym4pavTLUt"
      }
    },
    {
      "cell_type": "code",
      "source": [
        "plt.figure(figsize=(18,10))\n",
        "graph=sns.barplot(x='status',y='count',data=orderstatus)\n",
        "graph.set_title('Order Status')\n",
        "plt.show()"
      ],
      "metadata": {
        "colab": {
          "base_uri": "https://localhost:8080/",
          "height": 622
        },
        "id": "Rbh-Ht6gN8Qq",
        "outputId": "771f0576-1f7e-49d9-b638-c7c4cd4c5baa"
      },
      "execution_count": 18,
      "outputs": [
        {
          "output_type": "display_data",
          "data": {
            "text/plain": [
              "<Figure size 1296x720 with 1 Axes>"
            ],
            "image/png": "[encoded data removed]"
          },
          "metadata": {
            "needs_background": "light"
          }
        }
      ]
    },
    {
      "cell_type": "markdown",
      "source": [
        "<i>Melihat bar Status order"
      ],
      "metadata": {
        "id": "R0n5h2-QTeE-"
      }
    },
    {
      "cell_type": "code",
      "source": [
        "paymethod=df.groupby('payment_method')['item_id'].agg(['count']).reset_index().sort_values(by='count',ascending=False).head(10)\n",
        "print(paymethod)"
      ],
      "metadata": {
        "colab": {
          "base_uri": "https://localhost:8080/"
        },
        "id": "xUMMOwbpOKX5",
        "outputId": "2e6d9524-7eb4-4d3f-98d0-611164dfbc3c"
      },
      "execution_count": 19,
      "outputs": [
        {
          "output_type": "stream",
          "name": "stdout",
          "text": [
            "     payment_method   count\n",
            "6               cod  221264\n",
            "2           Payaxis   80369\n",
            "0           Easypay   57083\n",
            "12       jazzwallet   30451\n",
            "8   easypay_voucher   25990\n",
            "11      jazzvoucher   13157\n",
            "1        Easypay_MA    8527\n",
            "7    customercredit    5223\n",
            "4       bankalfalah    1505\n",
            "17    ublcreditcard     882\n"
          ]
        }
      ]
    },
    {
      "cell_type": "markdown",
      "source": [
        "<i>melihat tipe pembayaran melakukan apa saja</i>"
      ],
      "metadata": {
        "id": "gykMmqwfSQyN"
      }
    },
    {
      "cell_type": "code",
      "source": [
        "plt.figure(figsize=(15,5))\n",
        "graph=sns.barplot(x='payment_method',y='count',data=paymethod)\n",
        "graph.set_title('Top 10 Payment Method')\n",
        "plt.show()"
      ],
      "metadata": {
        "colab": {
          "base_uri": "https://localhost:8080/",
          "height": 352
        },
        "id": "2Ck9-rd0OQvB",
        "outputId": "58e0ec4c-c823-4121-c7d6-214469cd58ff"
      },
      "execution_count": 20,
      "outputs": [
        {
          "output_type": "display_data",
          "data": {
            "text/plain": [
              "<Figure size 1080x360 with 1 Axes>"
            ],
            "image/png": "[encoded data removed]"
          },
          "metadata": {
            "needs_background": "light"
          }
        }
      ]
    },
    {
      "cell_type": "markdown",
      "source": [
        "<i>melihat bar status tipe pembayaran apa saja"
      ],
      "metadata": {
        "id": "zLrymDDAT5Z7"
      }
    },
    {
      "cell_type": "code",
      "source": [
        "status=df.groupby(['Category','status'])['grand_total'].sum().reset_index()\n",
        "graph=px.bar(status,x='Category',y='grand_total',color='status')\n",
        "graph.show()"
      ],
      "metadata": {
        "colab": {
          "base_uri": "https://localhost:8080/",
          "height": 542
        },
        "id": "ocghPiA_Ohv3",
        "outputId": "2e105bb4-45cc-4506-b4a0-ec05778ade36"
      },
      "execution_count": 21,
      "outputs": [
        {
          "output_type": "display_data",
          "data": {
            "text/html": [
              "<html>\n",
              "<head><meta charset=\"utf-8\" /></head>\n",
              "<body>\n",
              "    <div>            <script src=\"https://cdnjs.cloudflare.com/ajax/libs/mathjax/2.7.5/MathJax.js?config=TeX-AMS-MML_SVG\"></script><script type=\"text/javascript\">if (window.MathJax) {MathJax.Hub.Config({SVG: {font: \"STIX-Web\"}});}</script>                <script type=\"text/javascript\">window.PlotlyConfig = {MathJaxConfig: 'local'};</script>\n",
              "        <script src=\"https://cdn.plot.ly/plotly-2.8.3.min.js\"></script>                <div id=\"a6b91339-05dc-4f57-ab3b-0a4e08eba3b4\" class=\"plotly-graph-div\" style=\"height:525px; width:100%;\"></div>            <script type=\"text/javascript\">                                    window.PLOTLYENV=window.PLOTLYENV || {};                                    if (document.getElementById(\"a6b91339-05dc-4f57-ab3b-0a4e08eba3b4\")) {                    Plotly.newPlot(                        \"a6b91339-05dc-4f57-ab3b-0a4e08eba3b4\",                        [{\"alignmentgroup\":\"True\",\"hovertemplate\":\"status=canceled<br>Category=%{x}<br>grand_total=%{y}<extra></extra>\",\"legendgroup\":\"canceled\",\"marker\":{\"color\":\"#636efa\",\"pattern\":{\"shape\":\"\"}},\"name\":\"canceled\",\"offsetgroup\":\"canceled\",\"orientation\":\"v\",\"showlegend\":true,\"textposition\":\"auto\",\"x\":[\"Appliances\",\"Beauty & Grooming\",\"Books\",\"Computing\",\"Entertainment\",\"Health & Sports\",\"Home & Living\",\"Kids & Baby\",\"Men's Fashion\",\"Mobiles & Tablets\",\"Others\",\"School & Education\",\"Soghaat\",\"Superstore\",\"Women's Fashion\",\"\\\\N\"],\"xaxis\":\"x\",\"y\":[240077230.9415,27537785.187,411651.09500000003,82969741.263,206317747.4135,10664346.9825,27019250.6115,13772960.086,52991699.8845,894720926.023,9843449.77,1344131.0375,13057847.4755,32740202.113,71087427.0485,12601692.1375],\"yaxis\":\"y\",\"type\":\"bar\"},{\"alignmentgroup\":\"True\",\"hovertemplate\":\"status=closed<br>Category=%{x}<br>grand_total=%{y}<extra></extra>\",\"legendgroup\":\"closed\",\"marker\":{\"color\":\"#EF553B\",\"pattern\":{\"shape\":\"\"}},\"name\":\"closed\",\"offsetgroup\":\"closed\",\"orientation\":\"v\",\"showlegend\":true,\"textposition\":\"auto\",\"x\":[\"Appliances\",\"Beauty & Grooming\",\"Books\",\"Computing\",\"Entertainment\",\"Health & Sports\",\"Home & Living\",\"Kids & Baby\",\"Men's Fashion\",\"Mobiles & Tablets\",\"School & Education\",\"Soghaat\",\"Superstore\",\"Women's Fashion\",\"\\\\N\"],\"xaxis\":\"x\",\"y\":[1385393.35,142079.0,13710.0,165706.85,21353.7,36452.0,79580.55,6752.4,71991.5,411572.74,2385.0,10529.0,31115.0,359571.5,806.0],\"yaxis\":\"y\",\"type\":\"bar\"},{\"alignmentgroup\":\"True\",\"hovertemplate\":\"status=cod<br>Category=%{x}<br>grand_total=%{y}<extra></extra>\",\"legendgroup\":\"cod\",\"marker\":{\"color\":\"#00cc96\",\"pattern\":{\"shape\":\"\"}},\"name\":\"cod\",\"offsetgroup\":\"cod\",\"orientation\":\"v\",\"showlegend\":true,\"textposition\":\"auto\",\"x\":[\"Appliances\",\"Beauty & Grooming\",\"Books\",\"Computing\",\"Entertainment\",\"Health & Sports\",\"Home & Living\",\"Kids & Baby\",\"Men's Fashion\",\"Mobiles & Tablets\",\"Others\",\"School & Education\",\"Soghaat\",\"Superstore\",\"Women's Fashion\",\"\\\\N\"],\"xaxis\":\"x\",\"y\":[1229249.9,730480.1,28405.27,206139.5,163006.6,82604.45,1152583.14,258379.6,1714210.13,244082.91,24876.41,23118.99,104433.0,138472.83,2776505.59,1795.75],\"yaxis\":\"y\",\"type\":\"bar\"},{\"alignmentgroup\":\"True\",\"hovertemplate\":\"status=complete<br>Category=%{x}<br>grand_total=%{y}<extra></extra>\",\"legendgroup\":\"complete\",\"marker\":{\"color\":\"#ab63fa\",\"pattern\":{\"shape\":\"\"}},\"name\":\"complete\",\"offsetgroup\":\"complete\",\"orientation\":\"v\",\"showlegend\":true,\"textposition\":\"auto\",\"x\":[\"Appliances\",\"Beauty & Grooming\",\"Books\",\"Computing\",\"Entertainment\",\"Health & Sports\",\"Home & Living\",\"Kids & Baby\",\"Men's Fashion\",\"Mobiles & Tablets\",\"Others\",\"School & Education\",\"Soghaat\",\"Superstore\",\"Women's Fashion\",\"\\\\N\"],\"xaxis\":\"x\",\"y\":[136847572.5855,28547924.3235,956766.21,23063757.645,126407029.34,11037554.9185,20676462.172,10273196.015,49979227.838,426785481.248,5608524.59,2133682.52,16997195.4665,30022593.9065,76285644.569,17788972.7715],\"yaxis\":\"y\",\"type\":\"bar\"},{\"alignmentgroup\":\"True\",\"hovertemplate\":\"status=order_refunded<br>Category=%{x}<br>grand_total=%{y}<extra></extra>\",\"legendgroup\":\"order_refunded\",\"marker\":{\"color\":\"#FFA15A\",\"pattern\":{\"shape\":\"\"}},\"name\":\"order_refunded\",\"offsetgroup\":\"order_refunded\",\"orientation\":\"v\",\"showlegend\":true,\"textposition\":\"auto\",\"x\":[\"Appliances\",\"Beauty & Grooming\",\"Books\",\"Computing\",\"Entertainment\",\"Health & Sports\",\"Home & Living\",\"Kids & Baby\",\"Men's Fashion\",\"Mobiles & Tablets\",\"Others\",\"School & Education\",\"Soghaat\",\"Superstore\",\"Women's Fashion\",\"\\\\N\"],\"xaxis\":\"x\",\"y\":[43341452.8,5831765.56,227738.65,15020393.91,34495308.68,3809076.17,6507029.2065,2337038.92,22696451.965,153104351.388,866655.75,636222.5065,2204583.42,4355440.91,23300986.795,4211437.12],\"yaxis\":\"y\",\"type\":\"bar\"},{\"alignmentgroup\":\"True\",\"hovertemplate\":\"status=paid<br>Category=%{x}<br>grand_total=%{y}<extra></extra>\",\"legendgroup\":\"paid\",\"marker\":{\"color\":\"#19d3f3\",\"pattern\":{\"shape\":\"\"}},\"name\":\"paid\",\"offsetgroup\":\"paid\",\"orientation\":\"v\",\"showlegend\":true,\"textposition\":\"auto\",\"x\":[\"Appliances\",\"Beauty & Grooming\",\"Books\",\"Computing\",\"Entertainment\",\"Health & Sports\",\"Home & Living\",\"Kids & Baby\",\"Men's Fashion\",\"Mobiles & Tablets\",\"Others\",\"School & Education\",\"Soghaat\",\"Superstore\",\"Women's Fashion\",\"\\\\N\"],\"xaxis\":\"x\",\"y\":[146620.95,189473.39,6765.01,5733.314,144931.7,10663.86,133163.542,78850.73,193207.69999999998,404339.0,1826.8999999999999,3613.0,235242.21,788257.328,351625.81,4993.7],\"yaxis\":\"y\",\"type\":\"bar\"},{\"alignmentgroup\":\"True\",\"hovertemplate\":\"status=processing<br>Category=%{x}<br>grand_total=%{y}<extra></extra>\",\"legendgroup\":\"processing\",\"marker\":{\"color\":\"#FF6692\",\"pattern\":{\"shape\":\"\"}},\"name\":\"processing\",\"offsetgroup\":\"processing\",\"orientation\":\"v\",\"showlegend\":true,\"textposition\":\"auto\",\"x\":[\"Appliances\",\"Mobiles & Tablets\"],\"xaxis\":\"x\",\"y\":[10262.07,44759.0],\"yaxis\":\"y\",\"type\":\"bar\"},{\"alignmentgroup\":\"True\",\"hovertemplate\":\"status=received<br>Category=%{x}<br>grand_total=%{y}<extra></extra>\",\"legendgroup\":\"received\",\"marker\":{\"color\":\"#B6E880\",\"pattern\":{\"shape\":\"\"}},\"name\":\"received\",\"offsetgroup\":\"received\",\"orientation\":\"v\",\"showlegend\":true,\"textposition\":\"auto\",\"x\":[\"Appliances\",\"Beauty & Grooming\",\"Books\",\"Computing\",\"Entertainment\",\"Health & Sports\",\"Home & Living\",\"Kids & Baby\",\"Men's Fashion\",\"Mobiles & Tablets\",\"Others\",\"School & Education\",\"Soghaat\",\"Superstore\",\"Women's Fashion\",\"\\\\N\"],\"xaxis\":\"x\",\"y\":[29179445.387,9000736.602,240537.77,4085415.565,22297645.44,2876053.229,8993590.4835,5259402.833,20064050.993,54646997.315,1205615.404,536977.709,5055594.825,16657461.06,37072054.6045,898776.706],\"yaxis\":\"y\",\"type\":\"bar\"},{\"alignmentgroup\":\"True\",\"hovertemplate\":\"status=refund<br>Category=%{x}<br>grand_total=%{y}<extra></extra>\",\"legendgroup\":\"refund\",\"marker\":{\"color\":\"#FF97FF\",\"pattern\":{\"shape\":\"\"}},\"name\":\"refund\",\"offsetgroup\":\"refund\",\"orientation\":\"v\",\"showlegend\":true,\"textposition\":\"auto\",\"x\":[\"Appliances\",\"Beauty & Grooming\",\"Books\",\"Computing\",\"Entertainment\",\"Health & Sports\",\"Home & Living\",\"Kids & Baby\",\"Men's Fashion\",\"Mobiles & Tablets\",\"Others\",\"School & Education\",\"Soghaat\",\"Superstore\",\"Women's Fashion\",\"\\\\N\"],\"xaxis\":\"x\",\"y\":[3159197.5625,1065341.1435,26142.79,851491.34,1522552.3,1114569.0,2049465.6575,812907.721,3856030.315,5261848.03,270475.9,79964.0,561285.91,424871.95,3145867.1425,308613.55],\"yaxis\":\"y\",\"type\":\"bar\"},{\"alignmentgroup\":\"True\",\"hovertemplate\":\"status=exchange<br>Category=%{x}<br>grand_total=%{y}<extra></extra>\",\"legendgroup\":\"exchange\",\"marker\":{\"color\":\"#FECB52\",\"pattern\":{\"shape\":\"\"}},\"name\":\"exchange\",\"offsetgroup\":\"exchange\",\"orientation\":\"v\",\"showlegend\":true,\"textposition\":\"auto\",\"x\":[\"Computing\",\"Men's Fashion\",\"Mobiles & Tablets\",\"Women's Fashion\"],\"xaxis\":\"x\",\"y\":[340.0,325.0,4100.0,999.0],\"yaxis\":\"y\",\"type\":\"bar\"},{\"alignmentgroup\":\"True\",\"hovertemplate\":\"status=fraud<br>Category=%{x}<br>grand_total=%{y}<extra></extra>\",\"legendgroup\":\"fraud\",\"marker\":{\"color\":\"#636efa\",\"pattern\":{\"shape\":\"\"}},\"name\":\"fraud\",\"offsetgroup\":\"fraud\",\"orientation\":\"v\",\"showlegend\":true,\"textposition\":\"auto\",\"x\":[\"Computing\",\"Entertainment\",\"Home & Living\",\"Mobiles & Tablets\"],\"xaxis\":\"x\",\"y\":[42755.0,131150.0,120000.0,333039.0],\"yaxis\":\"y\",\"type\":\"bar\"},{\"alignmentgroup\":\"True\",\"hovertemplate\":\"status=pending<br>Category=%{x}<br>grand_total=%{y}<extra></extra>\",\"legendgroup\":\"pending\",\"marker\":{\"color\":\"#EF553B\",\"pattern\":{\"shape\":\"\"}},\"name\":\"pending\",\"offsetgroup\":\"pending\",\"orientation\":\"v\",\"showlegend\":true,\"textposition\":\"auto\",\"x\":[\"Entertainment\",\"Mobiles & Tablets\"],\"xaxis\":\"x\",\"y\":[73743.64,129427.2],\"yaxis\":\"y\",\"type\":\"bar\"},{\"alignmentgroup\":\"True\",\"hovertemplate\":\"status=pending_paypal<br>Category=%{x}<br>grand_total=%{y}<extra></extra>\",\"legendgroup\":\"pending_paypal\",\"marker\":{\"color\":\"#00cc96\",\"pattern\":{\"shape\":\"\"}},\"name\":\"pending_paypal\",\"offsetgroup\":\"pending_paypal\",\"orientation\":\"v\",\"showlegend\":true,\"textposition\":\"auto\",\"x\":[\"Health & Sports\",\"Home & Living\",\"Men's Fashion\",\"Superstore\",\"Women's Fashion\"],\"xaxis\":\"x\",\"y\":[1636.5,829.0,3775.0,3000.0,1636.5],\"yaxis\":\"y\",\"type\":\"bar\"},{\"alignmentgroup\":\"True\",\"hovertemplate\":\"status=holded<br>Category=%{x}<br>grand_total=%{y}<extra></extra>\",\"legendgroup\":\"holded\",\"marker\":{\"color\":\"#ab63fa\",\"pattern\":{\"shape\":\"\"}},\"name\":\"holded\",\"offsetgroup\":\"holded\",\"orientation\":\"v\",\"showlegend\":true,\"textposition\":\"auto\",\"x\":[\"Home & Living\",\"School & Education\",\"Soghaat\"],\"xaxis\":\"x\",\"y\":[3748.0,1874.0,5622.0],\"yaxis\":\"y\",\"type\":\"bar\"},{\"alignmentgroup\":\"True\",\"hovertemplate\":\"status=payment_review<br>Category=%{x}<br>grand_total=%{y}<extra></extra>\",\"legendgroup\":\"payment_review\",\"marker\":{\"color\":\"#FFA15A\",\"pattern\":{\"shape\":\"\"}},\"name\":\"payment_review\",\"offsetgroup\":\"payment_review\",\"orientation\":\"v\",\"showlegend\":true,\"textposition\":\"auto\",\"x\":[\"Superstore\"],\"xaxis\":\"x\",\"y\":[109841.5],\"yaxis\":\"y\",\"type\":\"bar\"},{\"alignmentgroup\":\"True\",\"hovertemplate\":\"status=\\\\N<br>Category=%{x}<br>grand_total=%{y}<extra></extra>\",\"legendgroup\":\"\\\\N\",\"marker\":{\"color\":\"#19d3f3\",\"pattern\":{\"shape\":\"\"}},\"name\":\"\\\\N\",\"offsetgroup\":\"\\\\N\",\"orientation\":\"v\",\"showlegend\":true,\"textposition\":\"auto\",\"x\":[\"\\\\N\"],\"xaxis\":\"x\",\"y\":[924.0],\"yaxis\":\"y\",\"type\":\"bar\"}],                        {\"template\":{\"data\":{\"bar\":[{\"error_x\":{\"color\":\"#2a3f5f\"},\"error_y\":{\"color\":\"#2a3f5f\"},\"marker\":{\"line\":{\"color\":\"#E5ECF6\",\"width\":0.5},\"pattern\":{\"fillmode\":\"overlay\",\"size\":10,\"solidity\":0.2}},\"type\":\"bar\"}],\"barpolar\":[{\"marker\":{\"line\":{\"color\":\"#E5ECF6\",\"width\":0.5},\"pattern\":{\"fillmode\":\"overlay\",\"size\":10,\"solidity\":0.2}},\"type\":\"barpolar\"}],\"carpet\":[{\"aaxis\":{\"endlinecolor\":\"#2a3f5f\",\"gridcolor\":\"white\",\"linecolor\":\"white\",\"minorgridcolor\":\"white\",\"startlinecolor\":\"#2a3f5f\"},\"baxis\":{\"endlinecolor\":\"#2a3f5f\",\"gridcolor\":\"white\",\"linecolor\":\"white\",\"minorgridcolor\":\"white\",\"startlinecolor\":\"#2a3f5f\"},\"type\":\"carpet\"}],\"choropleth\":[{\"colorbar\":{\"outlinewidth\":0,\"ticks\":\"\"},\"type\":\"choropleth\"}],\"contour\":[{\"colorbar\":{\"outlinewidth\":0,\"ticks\":\"\"},\"colorscale\":[[0.0,\"#0d0887\"],[0.1111111111111111,\"#46039f\"],[0.2222222222222222,\"#7201a8\"],[0.3333333333333333,\"#9c179e\"],[0.4444444444444444,\"#bd3786\"],[0.5555555555555556,\"#d8576b\"],[0.6666666666666666,\"#ed7953\"],[0.7777777777777778,\"#fb9f3a\"],[0.8888888888888888,\"#fdca26\"],[1.0,\"#f0f921\"]],\"type\":\"contour\"}],\"contourcarpet\":[{\"colorbar\":{\"outlinewidth\":0,\"ticks\":\"\"},\"type\":\"contourcarpet\"}],\"heatmap\":[{\"colorbar\":{\"outlinewidth\":0,\"ticks\":\"\"},\"colorscale\":[[0.0,\"#0d0887\"],[0.1111111111111111,\"#46039f\"],[0.2222222222222222,\"#7201a8\"],[0.3333333333333333,\"#9c179e\"],[0.4444444444444444,\"#bd3786\"],[0.5555555555555556,\"#d8576b\"],[0.6666666666666666,\"#ed7953\"],[0.7777777777777778,\"#fb9f3a\"],[0.8888888888888888,\"#fdca26\"],[1.0,\"#f0f921\"]],\"type\":\"heatmap\"}],\"heatmapgl\":[{\"colorbar\":{\"outlinewidth\":0,\"ticks\":\"\"},\"colorscale\":[[0.0,\"#0d0887\"],[0.1111111111111111,\"#46039f\"],[0.2222222222222222,\"#7201a8\"],[0.3333333333333333,\"#9c179e\"],[0.4444444444444444,\"#bd3786\"],[0.5555555555555556,\"#d8576b\"],[0.6666666666666666,\"#ed7953\"],[0.7777777777777778,\"#fb9f3a\"],[0.8888888888888888,\"#fdca26\"],[1.0,\"#f0f921\"]],\"type\":\"heatmapgl\"}],\"histogram\":[{\"marker\":{\"pattern\":{\"fillmode\":\"overlay\",\"size\":10,\"solidity\":0.2}},\"type\":\"histogram\"}],\"histogram2d\":[{\"colorbar\":{\"outlinewidth\":0,\"ticks\":\"\"},\"colorscale\":[[0.0,\"#0d0887\"],[0.1111111111111111,\"#46039f\"],[0.2222222222222222,\"#7201a8\"],[0.3333333333333333,\"#9c179e\"],[0.4444444444444444,\"#bd3786\"],[0.5555555555555556,\"#d8576b\"],[0.6666666666666666,\"#ed7953\"],[0.7777777777777778,\"#fb9f3a\"],[0.8888888888888888,\"#fdca26\"],[1.0,\"#f0f921\"]],\"type\":\"histogram2d\"}],\"histogram2dcontour\":[{\"colorbar\":{\"outlinewidth\":0,\"ticks\":\"\"},\"colorscale\":[[0.0,\"#0d0887\"],[0.1111111111111111,\"#46039f\"],[0.2222222222222222,\"#7201a8\"],[0.3333333333333333,\"#9c179e\"],[0.4444444444444444,\"#bd3786\"],[0.5555555555555556,\"#d8576b\"],[0.6666666666666666,\"#ed7953\"],[0.7777777777777778,\"#fb9f3a\"],[0.8888888888888888,\"#fdca26\"],[1.0,\"#f0f921\"]],\"type\":\"histogram2dcontour\"}],\"mesh3d\":[{\"colorbar\":{\"outlinewidth\":0,\"ticks\":\"\"},\"type\":\"mesh3d\"}],\"parcoords\":[{\"line\":{\"colorbar\":{\"outlinewidth\":0,\"ticks\":\"\"}},\"type\":\"parcoords\"}],\"pie\":[{\"automargin\":true,\"type\":\"pie\"}],\"scatter\":[{\"marker\":{\"colorbar\":{\"outlinewidth\":0,\"ticks\":\"\"}},\"type\":\"scatter\"}],\"scatter3d\":[{\"line\":{\"colorbar\":{\"outlinewidth\":0,\"ticks\":\"\"}},\"marker\":{\"colorbar\":{\"outlinewidth\":0,\"ticks\":\"\"}},\"type\":\"scatter3d\"}],\"scattercarpet\":[{\"marker\":{\"colorbar\":{\"outlinewidth\":0,\"ticks\":\"\"}},\"type\":\"scattercarpet\"}],\"scattergeo\":[{\"marker\":{\"colorbar\":{\"outlinewidth\":0,\"ticks\":\"\"}},\"type\":\"scattergeo\"}],\"scattergl\":[{\"marker\":{\"colorbar\":{\"outlinewidth\":0,\"ticks\":\"\"}},\"type\":\"scattergl\"}],\"scattermapbox\":[{\"marker\":{\"colorbar\":{\"outlinewidth\":0,\"ticks\":\"\"}},\"type\":\"scattermapbox\"}],\"scatterpolar\":[{\"marker\":{\"colorbar\":{\"outlinewidth\":0,\"ticks\":\"\"}},\"type\":\"scatterpolar\"}],\"scatterpolargl\":[{\"marker\":{\"colorbar\":{\"outlinewidth\":0,\"ticks\":\"\"}},\"type\":\"scatterpolargl\"}],\"scatterternary\":[{\"marker\":{\"colorbar\":{\"outlinewidth\":0,\"ticks\":\"\"}},\"type\":\"scatterternary\"}],\"surface\":[{\"colorbar\":{\"outlinewidth\":0,\"ticks\":\"\"},\"colorscale\":[[0.0,\"#0d0887\"],[0.1111111111111111,\"#46039f\"],[0.2222222222222222,\"#7201a8\"],[0.3333333333333333,\"#9c179e\"],[0.4444444444444444,\"#bd3786\"],[0.5555555555555556,\"#d8576b\"],[0.6666666666666666,\"#ed7953\"],[0.7777777777777778,\"#fb9f3a\"],[0.8888888888888888,\"#fdca26\"],[1.0,\"#f0f921\"]],\"type\":\"surface\"}],\"table\":[{\"cells\":{\"fill\":{\"color\":\"#EBF0F8\"},\"line\":{\"color\":\"white\"}},\"header\":{\"fill\":{\"color\":\"#C8D4E3\"},\"line\":{\"color\":\"white\"}},\"type\":\"table\"}]},\"layout\":{\"annotationdefaults\":{\"arrowcolor\":\"#2a3f5f\",\"arrowhead\":0,\"arrowwidth\":1},\"autotypenumbers\":\"strict\",\"coloraxis\":{\"colorbar\":{\"outlinewidth\":0,\"ticks\":\"\"}},\"colorscale\":{\"diverging\":[[0,\"#8e0152\"],[0.1,\"#c51b7d\"],[0.2,\"#de77ae\"],[0.3,\"#f1b6da\"],[0.4,\"#fde0ef\"],[0.5,\"#f7f7f7\"],[0.6,\"#e6f5d0\"],[0.7,\"#b8e186\"],[0.8,\"#7fbc41\"],[0.9,\"#4d9221\"],[1,\"#276419\"]],\"sequential\":[[0.0,\"#0d0887\"],[0.1111111111111111,\"#46039f\"],[0.2222222222222222,\"#7201a8\"],[0.3333333333333333,\"#9c179e\"],[0.4444444444444444,\"#bd3786\"],[0.5555555555555556,\"#d8576b\"],[0.6666666666666666,\"#ed7953\"],[0.7777777777777778,\"#fb9f3a\"],[0.8888888888888888,\"#fdca26\"],[1.0,\"#f0f921\"]],\"sequentialminus\":[[0.0,\"#0d0887\"],[0.1111111111111111,\"#46039f\"],[0.2222222222222222,\"#7201a8\"],[0.3333333333333333,\"#9c179e\"],[0.4444444444444444,\"#bd3786\"],[0.5555555555555556,\"#d8576b\"],[0.6666666666666666,\"#ed7953\"],[0.7777777777777778,\"#fb9f3a\"],[0.8888888888888888,\"#fdca26\"],[1.0,\"#f0f921\"]]},\"colorway\":[\"#636efa\",\"#EF553B\",\"#00cc96\",\"#ab63fa\",\"#FFA15A\",\"#19d3f3\",\"#FF6692\",\"#B6E880\",\"#FF97FF\",\"#FECB52\"],\"font\":{\"color\":\"#2a3f5f\"},\"geo\":{\"bgcolor\":\"white\",\"lakecolor\":\"white\",\"landcolor\":\"#E5ECF6\",\"showlakes\":true,\"showland\":true,\"subunitcolor\":\"white\"},\"hoverlabel\":{\"align\":\"left\"},\"hovermode\":\"closest\",\"mapbox\":{\"style\":\"light\"},\"paper_bgcolor\":\"white\",\"plot_bgcolor\":\"#E5ECF6\",\"polar\":{\"angularaxis\":{\"gridcolor\":\"white\",\"linecolor\":\"white\",\"ticks\":\"\"},\"bgcolor\":\"#E5ECF6\",\"radialaxis\":{\"gridcolor\":\"white\",\"linecolor\":\"white\",\"ticks\":\"\"}},\"scene\":{\"xaxis\":{\"backgroundcolor\":\"#E5ECF6\",\"gridcolor\":\"white\",\"gridwidth\":2,\"linecolor\":\"white\",\"showbackground\":true,\"ticks\":\"\",\"zerolinecolor\":\"white\"},\"yaxis\":{\"backgroundcolor\":\"#E5ECF6\",\"gridcolor\":\"white\",\"gridwidth\":2,\"linecolor\":\"white\",\"showbackground\":true,\"ticks\":\"\",\"zerolinecolor\":\"white\"},\"zaxis\":{\"backgroundcolor\":\"#E5ECF6\",\"gridcolor\":\"white\",\"gridwidth\":2,\"linecolor\":\"white\",\"showbackground\":true,\"ticks\":\"\",\"zerolinecolor\":\"white\"}},\"shapedefaults\":{\"line\":{\"color\":\"#2a3f5f\"}},\"ternary\":{\"aaxis\":{\"gridcolor\":\"white\",\"linecolor\":\"white\",\"ticks\":\"\"},\"baxis\":{\"gridcolor\":\"white\",\"linecolor\":\"white\",\"ticks\":\"\"},\"bgcolor\":\"#E5ECF6\",\"caxis\":{\"gridcolor\":\"white\",\"linecolor\":\"white\",\"ticks\":\"\"}},\"title\":{\"x\":0.05},\"xaxis\":{\"automargin\":true,\"gridcolor\":\"white\",\"linecolor\":\"white\",\"ticks\":\"\",\"title\":{\"standoff\":15},\"zerolinecolor\":\"white\",\"zerolinewidth\":2},\"yaxis\":{\"automargin\":true,\"gridcolor\":\"white\",\"linecolor\":\"white\",\"ticks\":\"\",\"title\":{\"standoff\":15},\"zerolinecolor\":\"white\",\"zerolinewidth\":2}}},\"xaxis\":{\"anchor\":\"y\",\"domain\":[0.0,1.0],\"title\":{\"text\":\"Category\"}},\"yaxis\":{\"anchor\":\"x\",\"domain\":[0.0,1.0],\"title\":{\"text\":\"grand_total\"}},\"legend\":{\"title\":{\"text\":\"status\"},\"tracegroupgap\":0},\"margin\":{\"t\":60},\"barmode\":\"relative\"},                        {\"responsive\": true}                    ).then(function(){\n",
              "                            \n",
              "var gd = document.getElementById('a6b91339-05dc-4f57-ab3b-0a4e08eba3b4');\n",
              "var x = new MutationObserver(function (mutations, observer) {{\n",
              "        var display = window.getComputedStyle(gd).display;\n",
              "        if (!display || display === 'none') {{\n",
              "            console.log([gd, 'removed!']);\n",
              "            Plotly.purge(gd);\n",
              "            observer.disconnect();\n",
              "        }}\n",
              "}});\n",
              "\n",
              "// Listen for the removal of the full notebook cells\n",
              "var notebookContainer = gd.closest('#notebook-container');\n",
              "if (notebookContainer) {{\n",
              "    x.observe(notebookContainer, {childList: true});\n",
              "}}\n",
              "\n",
              "// Listen for the clearing of the current output cell\n",
              "var outputEl = gd.closest('.output');\n",
              "if (outputEl) {{\n",
              "    x.observe(outputEl, {childList: true});\n",
              "}}\n",
              "\n",
              "                        })                };                            </script>        </div>\n",
              "</body>\n",
              "</html>"
            ]
          },
          "metadata": {}
        }
      ]
    },
    {
      "cell_type": "markdown",
      "source": [
        "<i>bar untuk menganalisa semua item dan disemua kategori hampir rata-rata status canceled lebih dari status yang lainnya"
      ],
      "metadata": {
        "id": "wACkWq0fVYrQ"
      }
    },
    {
      "cell_type": "code",
      "source": [
        "status=df.groupby(['Category','status'])['qty_ordered'].sum().reset_index()\n",
        "graph=px.line(status,x='Category',y='qty_ordered',color='status')\n",
        "graph.show()"
      ],
      "metadata": {
        "colab": {
          "base_uri": "https://localhost:8080/",
          "height": 542
        },
        "id": "KPq4orccPF7G",
        "outputId": "fa8642ae-82a5-4707-eb51-045dfe6fcfd1"
      },
      "execution_count": 22,
      "outputs": [
        {
          "output_type": "display_data",
          "data": {
            "text/html": [
              "<html>\n",
              "<head><meta charset=\"utf-8\" /></head>\n",
              "<body>\n",
              "    <div>            <script src=\"https://cdnjs.cloudflare.com/ajax/libs/mathjax/2.7.5/MathJax.js?config=TeX-AMS-MML_SVG\"></script><script type=\"text/javascript\">if (window.MathJax) {MathJax.Hub.Config({SVG: {font: \"STIX-Web\"}});}</script>                <script type=\"text/javascript\">window.PlotlyConfig = {MathJaxConfig: 'local'};</script>\n",
              "        <script src=\"https://cdn.plot.ly/plotly-2.8.3.min.js\"></script>                <div id=\"39e94ab7-b8fb-4fcb-b862-d2690dafdedc\" class=\"plotly-graph-div\" style=\"height:525px; width:100%;\"></div>            <script type=\"text/javascript\">                                    window.PLOTLYENV=window.PLOTLYENV || {};                                    if (document.getElementById(\"39e94ab7-b8fb-4fcb-b862-d2690dafdedc\")) {                    Plotly.newPlot(                        \"39e94ab7-b8fb-4fcb-b862-d2690dafdedc\",                        [{\"hovertemplate\":\"status=canceled<br>Category=%{x}<br>qty_ordered=%{y}<extra></extra>\",\"legendgroup\":\"canceled\",\"line\":{\"color\":\"#636efa\",\"dash\":\"solid\"},\"marker\":{\"symbol\":\"circle\"},\"mode\":\"lines\",\"name\":\"canceled\",\"orientation\":\"v\",\"showlegend\":true,\"x\":[\"Appliances\",\"Beauty & Grooming\",\"Books\",\"Computing\",\"Entertainment\",\"Health & Sports\",\"Home & Living\",\"Kids & Baby\",\"Men's Fashion\",\"Mobiles & Tablets\",\"Others\",\"School & Education\",\"Soghaat\",\"Superstore\",\"Women's Fashion\",\"\\\\N\"],\"xaxis\":\"x\",\"y\":[17557,9916,257,5436,9977,2796,6412,3760,18485,46307,4192,599,10392,22217,12588,3892],\"yaxis\":\"y\",\"type\":\"scatter\"},{\"hovertemplate\":\"status=closed<br>Category=%{x}<br>qty_ordered=%{y}<extra></extra>\",\"legendgroup\":\"closed\",\"line\":{\"color\":\"#EF553B\",\"dash\":\"solid\"},\"marker\":{\"symbol\":\"circle\"},\"mode\":\"lines\",\"name\":\"closed\",\"orientation\":\"v\",\"showlegend\":true,\"x\":[\"Appliances\",\"Beauty & Grooming\",\"Books\",\"Computing\",\"Entertainment\",\"Health & Sports\",\"Home & Living\",\"Kids & Baby\",\"Men's Fashion\",\"Mobiles & Tablets\",\"School & Education\",\"Soghaat\",\"Superstore\",\"Women's Fashion\",\"\\\\N\"],\"xaxis\":\"x\",\"y\":[89,41,6,20,2,15,11,4,62,57,1,8,9,110,2],\"yaxis\":\"y\",\"type\":\"scatter\"},{\"hovertemplate\":\"status=cod<br>Category=%{x}<br>qty_ordered=%{y}<extra></extra>\",\"legendgroup\":\"cod\",\"line\":{\"color\":\"#00cc96\",\"dash\":\"solid\"},\"marker\":{\"symbol\":\"circle\"},\"mode\":\"lines\",\"name\":\"cod\",\"orientation\":\"v\",\"showlegend\":true,\"x\":[\"Appliances\",\"Beauty & Grooming\",\"Books\",\"Computing\",\"Entertainment\",\"Health & Sports\",\"Home & Living\",\"Kids & Baby\",\"Men's Fashion\",\"Mobiles & Tablets\",\"Others\",\"School & Education\",\"Soghaat\",\"Superstore\",\"Women's Fashion\",\"\\\\N\"],\"xaxis\":\"x\",\"y\":[76,209,88,28,5,34,286,103,406,85,60,18,82,136,320,4],\"yaxis\":\"y\",\"type\":\"scatter\"},{\"hovertemplate\":\"status=complete<br>Category=%{x}<br>qty_ordered=%{y}<extra></extra>\",\"legendgroup\":\"complete\",\"line\":{\"color\":\"#ab63fa\",\"dash\":\"solid\"},\"marker\":{\"symbol\":\"circle\"},\"mode\":\"lines\",\"name\":\"complete\",\"orientation\":\"v\",\"showlegend\":true,\"x\":[\"Appliances\",\"Beauty & Grooming\",\"Books\",\"Computing\",\"Entertainment\",\"Health & Sports\",\"Home & Living\",\"Kids & Baby\",\"Men's Fashion\",\"Mobiles & Tablets\",\"Others\",\"School & Education\",\"Soghaat\",\"Superstore\",\"Women's Fashion\",\"\\\\N\"],\"xaxis\":\"x\",\"y\":[18951,24364,1057,5126,7827,7032,11050,7103,38053,41596,2293,1693,24983,26142,22126,3627],\"yaxis\":\"y\",\"type\":\"scatter\"},{\"hovertemplate\":\"status=order_refunded<br>Category=%{x}<br>qty_ordered=%{y}<extra></extra>\",\"legendgroup\":\"order_refunded\",\"line\":{\"color\":\"#FFA15A\",\"dash\":\"solid\"},\"marker\":{\"symbol\":\"circle\"},\"mode\":\"lines\",\"name\":\"order_refunded\",\"orientation\":\"v\",\"showlegend\":true,\"x\":[\"Appliances\",\"Beauty & Grooming\",\"Books\",\"Computing\",\"Entertainment\",\"Health & Sports\",\"Home & Living\",\"Kids & Baby\",\"Men's Fashion\",\"Mobiles & Tablets\",\"Others\",\"School & Education\",\"Soghaat\",\"Superstore\",\"Women's Fashion\",\"\\\\N\"],\"xaxis\":\"x\",\"y\":[4132,3354,229,1366,1787,1654,2227,1728,13956,10156,1060,514,2626,3236,6984,1752],\"yaxis\":\"y\",\"type\":\"scatter\"},{\"hovertemplate\":\"status=paid<br>Category=%{x}<br>qty_ordered=%{y}<extra></extra>\",\"legendgroup\":\"paid\",\"line\":{\"color\":\"#19d3f3\",\"dash\":\"solid\"},\"marker\":{\"symbol\":\"circle\"},\"mode\":\"lines\",\"name\":\"paid\",\"orientation\":\"v\",\"showlegend\":true,\"x\":[\"Appliances\",\"Beauty & Grooming\",\"Books\",\"Computing\",\"Entertainment\",\"Health & Sports\",\"Home & Living\",\"Kids & Baby\",\"Men's Fashion\",\"Mobiles & Tablets\",\"Others\",\"School & Education\",\"Soghaat\",\"Superstore\",\"Women's Fashion\",\"\\\\N\"],\"xaxis\":\"x\",\"y\":[20,47,12,4,12,5,35,33,66,54,5,2,96,529,65,3],\"yaxis\":\"y\",\"type\":\"scatter\"},{\"hovertemplate\":\"status=processing<br>Category=%{x}<br>qty_ordered=%{y}<extra></extra>\",\"legendgroup\":\"processing\",\"line\":{\"color\":\"#FF6692\",\"dash\":\"solid\"},\"marker\":{\"symbol\":\"circle\"},\"mode\":\"lines\",\"name\":\"processing\",\"orientation\":\"v\",\"showlegend\":true,\"x\":[\"Appliances\",\"Mobiles & Tablets\"],\"xaxis\":\"x\",\"y\":[1,1],\"yaxis\":\"y\",\"type\":\"scatter\"},{\"hovertemplate\":\"status=received<br>Category=%{x}<br>qty_ordered=%{y}<extra></extra>\",\"legendgroup\":\"received\",\"line\":{\"color\":\"#B6E880\",\"dash\":\"solid\"},\"marker\":{\"symbol\":\"circle\"},\"mode\":\"lines\",\"name\":\"received\",\"orientation\":\"v\",\"showlegend\":true,\"x\":[\"Appliances\",\"Beauty & Grooming\",\"Books\",\"Computing\",\"Entertainment\",\"Health & Sports\",\"Home & Living\",\"Kids & Baby\",\"Men's Fashion\",\"Mobiles & Tablets\",\"Others\",\"School & Education\",\"Soghaat\",\"Superstore\",\"Women's Fashion\",\"\\\\N\"],\"xaxis\":\"x\",\"y\":[2584,3897,251,664,1368,1160,2838,2069,9620,5523,1098,369,3750,13026,6153,162],\"yaxis\":\"y\",\"type\":\"scatter\"},{\"hovertemplate\":\"status=refund<br>Category=%{x}<br>qty_ordered=%{y}<extra></extra>\",\"legendgroup\":\"refund\",\"line\":{\"color\":\"#FF97FF\",\"dash\":\"solid\"},\"marker\":{\"symbol\":\"circle\"},\"mode\":\"lines\",\"name\":\"refund\",\"orientation\":\"v\",\"showlegend\":true,\"x\":[\"Appliances\",\"Beauty & Grooming\",\"Books\",\"Computing\",\"Entertainment\",\"Health & Sports\",\"Home & Living\",\"Kids & Baby\",\"Men's Fashion\",\"Mobiles & Tablets\",\"Others\",\"School & Education\",\"Soghaat\",\"Superstore\",\"Women's Fashion\",\"\\\\N\"],\"xaxis\":\"x\",\"y\":[458,535,40,182,125,191,525,324,2289,815,250,49,493,369,853,160],\"yaxis\":\"y\",\"type\":\"scatter\"},{\"hovertemplate\":\"status=exchange<br>Category=%{x}<br>qty_ordered=%{y}<extra></extra>\",\"legendgroup\":\"exchange\",\"line\":{\"color\":\"#FECB52\",\"dash\":\"solid\"},\"marker\":{\"symbol\":\"circle\"},\"mode\":\"lines\",\"name\":\"exchange\",\"orientation\":\"v\",\"showlegend\":true,\"x\":[\"Computing\",\"Men's Fashion\",\"Mobiles & Tablets\",\"Women's Fashion\"],\"xaxis\":\"x\",\"y\":[1,1,1,1],\"yaxis\":\"y\",\"type\":\"scatter\"},{\"hovertemplate\":\"status=fraud<br>Category=%{x}<br>qty_ordered=%{y}<extra></extra>\",\"legendgroup\":\"fraud\",\"line\":{\"color\":\"#636efa\",\"dash\":\"solid\"},\"marker\":{\"symbol\":\"circle\"},\"mode\":\"lines\",\"name\":\"fraud\",\"orientation\":\"v\",\"showlegend\":true,\"x\":[\"Computing\",\"Entertainment\",\"Home & Living\",\"Mobiles & Tablets\"],\"xaxis\":\"x\",\"y\":[1,2,1,6],\"yaxis\":\"y\",\"type\":\"scatter\"},{\"hovertemplate\":\"status=pending<br>Category=%{x}<br>qty_ordered=%{y}<extra></extra>\",\"legendgroup\":\"pending\",\"line\":{\"color\":\"#EF553B\",\"dash\":\"solid\"},\"marker\":{\"symbol\":\"circle\"},\"mode\":\"lines\",\"name\":\"pending\",\"orientation\":\"v\",\"showlegend\":true,\"x\":[\"Entertainment\",\"Mobiles & Tablets\"],\"xaxis\":\"x\",\"y\":[4,5],\"yaxis\":\"y\",\"type\":\"scatter\"},{\"hovertemplate\":\"status=pending_paypal<br>Category=%{x}<br>qty_ordered=%{y}<extra></extra>\",\"legendgroup\":\"pending_paypal\",\"line\":{\"color\":\"#00cc96\",\"dash\":\"solid\"},\"marker\":{\"symbol\":\"circle\"},\"mode\":\"lines\",\"name\":\"pending_paypal\",\"orientation\":\"v\",\"showlegend\":true,\"x\":[\"Health & Sports\",\"Home & Living\",\"Men's Fashion\",\"Superstore\",\"Women's Fashion\"],\"xaxis\":\"x\",\"y\":[1,1,3,3,1],\"yaxis\":\"y\",\"type\":\"scatter\"},{\"hovertemplate\":\"status=holded<br>Category=%{x}<br>qty_ordered=%{y}<extra></extra>\",\"legendgroup\":\"holded\",\"line\":{\"color\":\"#ab63fa\",\"dash\":\"solid\"},\"marker\":{\"symbol\":\"circle\"},\"mode\":\"lines\",\"name\":\"holded\",\"orientation\":\"v\",\"showlegend\":true,\"x\":[\"Home & Living\",\"School & Education\",\"Soghaat\"],\"xaxis\":\"x\",\"y\":[2,1,3],\"yaxis\":\"y\",\"type\":\"scatter\"},{\"hovertemplate\":\"status=payment_review<br>Category=%{x}<br>qty_ordered=%{y}<extra></extra>\",\"legendgroup\":\"payment_review\",\"line\":{\"color\":\"#FFA15A\",\"dash\":\"solid\"},\"marker\":{\"symbol\":\"circle\"},\"mode\":\"lines\",\"name\":\"payment_review\",\"orientation\":\"v\",\"showlegend\":true,\"x\":[\"Superstore\"],\"xaxis\":\"x\",\"y\":[120],\"yaxis\":\"y\",\"type\":\"scatter\"},{\"hovertemplate\":\"status=\\\\N<br>Category=%{x}<br>qty_ordered=%{y}<extra></extra>\",\"legendgroup\":\"\\\\N\",\"line\":{\"color\":\"#19d3f3\",\"dash\":\"solid\"},\"marker\":{\"symbol\":\"circle\"},\"mode\":\"lines\",\"name\":\"\\\\N\",\"orientation\":\"v\",\"showlegend\":true,\"x\":[\"\\\\N\"],\"xaxis\":\"x\",\"y\":[6],\"yaxis\":\"y\",\"type\":\"scatter\"}],                        {\"template\":{\"data\":{\"bar\":[{\"error_x\":{\"color\":\"#2a3f5f\"},\"error_y\":{\"color\":\"#2a3f5f\"},\"marker\":{\"line\":{\"color\":\"#E5ECF6\",\"width\":0.5},\"pattern\":{\"fillmode\":\"overlay\",\"size\":10,\"solidity\":0.2}},\"type\":\"bar\"}],\"barpolar\":[{\"marker\":{\"line\":{\"color\":\"#E5ECF6\",\"width\":0.5},\"pattern\":{\"fillmode\":\"overlay\",\"size\":10,\"solidity\":0.2}},\"type\":\"barpolar\"}],\"carpet\":[{\"aaxis\":{\"endlinecolor\":\"#2a3f5f\",\"gridcolor\":\"white\",\"linecolor\":\"white\",\"minorgridcolor\":\"white\",\"startlinecolor\":\"#2a3f5f\"},\"baxis\":{\"endlinecolor\":\"#2a3f5f\",\"gridcolor\":\"white\",\"linecolor\":\"white\",\"minorgridcolor\":\"white\",\"startlinecolor\":\"#2a3f5f\"},\"type\":\"carpet\"}],\"choropleth\":[{\"colorbar\":{\"outlinewidth\":0,\"ticks\":\"\"},\"type\":\"choropleth\"}],\"contour\":[{\"colorbar\":{\"outlinewidth\":0,\"ticks\":\"\"},\"colorscale\":[[0.0,\"#0d0887\"],[0.1111111111111111,\"#46039f\"],[0.2222222222222222,\"#7201a8\"],[0.3333333333333333,\"#9c179e\"],[0.4444444444444444,\"#bd3786\"],[0.5555555555555556,\"#d8576b\"],[0.6666666666666666,\"#ed7953\"],[0.7777777777777778,\"#fb9f3a\"],[0.8888888888888888,\"#fdca26\"],[1.0,\"#f0f921\"]],\"type\":\"contour\"}],\"contourcarpet\":[{\"colorbar\":{\"outlinewidth\":0,\"ticks\":\"\"},\"type\":\"contourcarpet\"}],\"heatmap\":[{\"colorbar\":{\"outlinewidth\":0,\"ticks\":\"\"},\"colorscale\":[[0.0,\"#0d0887\"],[0.1111111111111111,\"#46039f\"],[0.2222222222222222,\"#7201a8\"],[0.3333333333333333,\"#9c179e\"],[0.4444444444444444,\"#bd3786\"],[0.5555555555555556,\"#d8576b\"],[0.6666666666666666,\"#ed7953\"],[0.7777777777777778,\"#fb9f3a\"],[0.8888888888888888,\"#fdca26\"],[1.0,\"#f0f921\"]],\"type\":\"heatmap\"}],\"heatmapgl\":[{\"colorbar\":{\"outlinewidth\":0,\"ticks\":\"\"},\"colorscale\":[[0.0,\"#0d0887\"],[0.1111111111111111,\"#46039f\"],[0.2222222222222222,\"#7201a8\"],[0.3333333333333333,\"#9c179e\"],[0.4444444444444444,\"#bd3786\"],[0.5555555555555556,\"#d8576b\"],[0.6666666666666666,\"#ed7953\"],[0.7777777777777778,\"#fb9f3a\"],[0.8888888888888888,\"#fdca26\"],[1.0,\"#f0f921\"]],\"type\":\"heatmapgl\"}],\"histogram\":[{\"marker\":{\"pattern\":{\"fillmode\":\"overlay\",\"size\":10,\"solidity\":0.2}},\"type\":\"histogram\"}],\"histogram2d\":[{\"colorbar\":{\"outlinewidth\":0,\"ticks\":\"\"},\"colorscale\":[[0.0,\"#0d0887\"],[0.1111111111111111,\"#46039f\"],[0.2222222222222222,\"#7201a8\"],[0.3333333333333333,\"#9c179e\"],[0.4444444444444444,\"#bd3786\"],[0.5555555555555556,\"#d8576b\"],[0.6666666666666666,\"#ed7953\"],[0.7777777777777778,\"#fb9f3a\"],[0.8888888888888888,\"#fdca26\"],[1.0,\"#f0f921\"]],\"type\":\"histogram2d\"}],\"histogram2dcontour\":[{\"colorbar\":{\"outlinewidth\":0,\"ticks\":\"\"},\"colorscale\":[[0.0,\"#0d0887\"],[0.1111111111111111,\"#46039f\"],[0.2222222222222222,\"#7201a8\"],[0.3333333333333333,\"#9c179e\"],[0.4444444444444444,\"#bd3786\"],[0.5555555555555556,\"#d8576b\"],[0.6666666666666666,\"#ed7953\"],[0.7777777777777778,\"#fb9f3a\"],[0.8888888888888888,\"#fdca26\"],[1.0,\"#f0f921\"]],\"type\":\"histogram2dcontour\"}],\"mesh3d\":[{\"colorbar\":{\"outlinewidth\":0,\"ticks\":\"\"},\"type\":\"mesh3d\"}],\"parcoords\":[{\"line\":{\"colorbar\":{\"outlinewidth\":0,\"ticks\":\"\"}},\"type\":\"parcoords\"}],\"pie\":[{\"automargin\":true,\"type\":\"pie\"}],\"scatter\":[{\"marker\":{\"colorbar\":{\"outlinewidth\":0,\"ticks\":\"\"}},\"type\":\"scatter\"}],\"scatter3d\":[{\"line\":{\"colorbar\":{\"outlinewidth\":0,\"ticks\":\"\"}},\"marker\":{\"colorbar\":{\"outlinewidth\":0,\"ticks\":\"\"}},\"type\":\"scatter3d\"}],\"scattercarpet\":[{\"marker\":{\"colorbar\":{\"outlinewidth\":0,\"ticks\":\"\"}},\"type\":\"scattercarpet\"}],\"scattergeo\":[{\"marker\":{\"colorbar\":{\"outlinewidth\":0,\"ticks\":\"\"}},\"type\":\"scattergeo\"}],\"scattergl\":[{\"marker\":{\"colorbar\":{\"outlinewidth\":0,\"ticks\":\"\"}},\"type\":\"scattergl\"}],\"scattermapbox\":[{\"marker\":{\"colorbar\":{\"outlinewidth\":0,\"ticks\":\"\"}},\"type\":\"scattermapbox\"}],\"scatterpolar\":[{\"marker\":{\"colorbar\":{\"outlinewidth\":0,\"ticks\":\"\"}},\"type\":\"scatterpolar\"}],\"scatterpolargl\":[{\"marker\":{\"colorbar\":{\"outlinewidth\":0,\"ticks\":\"\"}},\"type\":\"scatterpolargl\"}],\"scatterternary\":[{\"marker\":{\"colorbar\":{\"outlinewidth\":0,\"ticks\":\"\"}},\"type\":\"scatterternary\"}],\"surface\":[{\"colorbar\":{\"outlinewidth\":0,\"ticks\":\"\"},\"colorscale\":[[0.0,\"#0d0887\"],[0.1111111111111111,\"#46039f\"],[0.2222222222222222,\"#7201a8\"],[0.3333333333333333,\"#9c179e\"],[0.4444444444444444,\"#bd3786\"],[0.5555555555555556,\"#d8576b\"],[0.6666666666666666,\"#ed7953\"],[0.7777777777777778,\"#fb9f3a\"],[0.8888888888888888,\"#fdca26\"],[1.0,\"#f0f921\"]],\"type\":\"surface\"}],\"table\":[{\"cells\":{\"fill\":{\"color\":\"#EBF0F8\"},\"line\":{\"color\":\"white\"}},\"header\":{\"fill\":{\"color\":\"#C8D4E3\"},\"line\":{\"color\":\"white\"}},\"type\":\"table\"}]},\"layout\":{\"annotationdefaults\":{\"arrowcolor\":\"#2a3f5f\",\"arrowhead\":0,\"arrowwidth\":1},\"autotypenumbers\":\"strict\",\"coloraxis\":{\"colorbar\":{\"outlinewidth\":0,\"ticks\":\"\"}},\"colorscale\":{\"diverging\":[[0,\"#8e0152\"],[0.1,\"#c51b7d\"],[0.2,\"#de77ae\"],[0.3,\"#f1b6da\"],[0.4,\"#fde0ef\"],[0.5,\"#f7f7f7\"],[0.6,\"#e6f5d0\"],[0.7,\"#b8e186\"],[0.8,\"#7fbc41\"],[0.9,\"#4d9221\"],[1,\"#276419\"]],\"sequential\":[[0.0,\"#0d0887\"],[0.1111111111111111,\"#46039f\"],[0.2222222222222222,\"#7201a8\"],[0.3333333333333333,\"#9c179e\"],[0.4444444444444444,\"#bd3786\"],[0.5555555555555556,\"#d8576b\"],[0.6666666666666666,\"#ed7953\"],[0.7777777777777778,\"#fb9f3a\"],[0.8888888888888888,\"#fdca26\"],[1.0,\"#f0f921\"]],\"sequentialminus\":[[0.0,\"#0d0887\"],[0.1111111111111111,\"#46039f\"],[0.2222222222222222,\"#7201a8\"],[0.3333333333333333,\"#9c179e\"],[0.4444444444444444,\"#bd3786\"],[0.5555555555555556,\"#d8576b\"],[0.6666666666666666,\"#ed7953\"],[0.7777777777777778,\"#fb9f3a\"],[0.8888888888888888,\"#fdca26\"],[1.0,\"#f0f921\"]]},\"colorway\":[\"#636efa\",\"#EF553B\",\"#00cc96\",\"#ab63fa\",\"#FFA15A\",\"#19d3f3\",\"#FF6692\",\"#B6E880\",\"#FF97FF\",\"#FECB52\"],\"font\":{\"color\":\"#2a3f5f\"},\"geo\":{\"bgcolor\":\"white\",\"lakecolor\":\"white\",\"landcolor\":\"#E5ECF6\",\"showlakes\":true,\"showland\":true,\"subunitcolor\":\"white\"},\"hoverlabel\":{\"align\":\"left\"},\"hovermode\":\"closest\",\"mapbox\":{\"style\":\"light\"},\"paper_bgcolor\":\"white\",\"plot_bgcolor\":\"#E5ECF6\",\"polar\":{\"angularaxis\":{\"gridcolor\":\"white\",\"linecolor\":\"white\",\"ticks\":\"\"},\"bgcolor\":\"#E5ECF6\",\"radialaxis\":{\"gridcolor\":\"white\",\"linecolor\":\"white\",\"ticks\":\"\"}},\"scene\":{\"xaxis\":{\"backgroundcolor\":\"#E5ECF6\",\"gridcolor\":\"white\",\"gridwidth\":2,\"linecolor\":\"white\",\"showbackground\":true,\"ticks\":\"\",\"zerolinecolor\":\"white\"},\"yaxis\":{\"backgroundcolor\":\"#E5ECF6\",\"gridcolor\":\"white\",\"gridwidth\":2,\"linecolor\":\"white\",\"showbackground\":true,\"ticks\":\"\",\"zerolinecolor\":\"white\"},\"zaxis\":{\"backgroundcolor\":\"#E5ECF6\",\"gridcolor\":\"white\",\"gridwidth\":2,\"linecolor\":\"white\",\"showbackground\":true,\"ticks\":\"\",\"zerolinecolor\":\"white\"}},\"shapedefaults\":{\"line\":{\"color\":\"#2a3f5f\"}},\"ternary\":{\"aaxis\":{\"gridcolor\":\"white\",\"linecolor\":\"white\",\"ticks\":\"\"},\"baxis\":{\"gridcolor\":\"white\",\"linecolor\":\"white\",\"ticks\":\"\"},\"bgcolor\":\"#E5ECF6\",\"caxis\":{\"gridcolor\":\"white\",\"linecolor\":\"white\",\"ticks\":\"\"}},\"title\":{\"x\":0.05},\"xaxis\":{\"automargin\":true,\"gridcolor\":\"white\",\"linecolor\":\"white\",\"ticks\":\"\",\"title\":{\"standoff\":15},\"zerolinecolor\":\"white\",\"zerolinewidth\":2},\"yaxis\":{\"automargin\":true,\"gridcolor\":\"white\",\"linecolor\":\"white\",\"ticks\":\"\",\"title\":{\"standoff\":15},\"zerolinecolor\":\"white\",\"zerolinewidth\":2}}},\"xaxis\":{\"anchor\":\"y\",\"domain\":[0.0,1.0],\"title\":{\"text\":\"Category\"}},\"yaxis\":{\"anchor\":\"x\",\"domain\":[0.0,1.0],\"title\":{\"text\":\"qty_ordered\"}},\"legend\":{\"title\":{\"text\":\"status\"},\"tracegroupgap\":0},\"margin\":{\"t\":60}},                        {\"responsive\": true}                    ).then(function(){\n",
              "                            \n",
              "var gd = document.getElementById('39e94ab7-b8fb-4fcb-b862-d2690dafdedc');\n",
              "var x = new MutationObserver(function (mutations, observer) {{\n",
              "        var display = window.getComputedStyle(gd).display;\n",
              "        if (!display || display === 'none') {{\n",
              "            console.log([gd, 'removed!']);\n",
              "            Plotly.purge(gd);\n",
              "            observer.disconnect();\n",
              "        }}\n",
              "}});\n",
              "\n",
              "// Listen for the removal of the full notebook cells\n",
              "var notebookContainer = gd.closest('#notebook-container');\n",
              "if (notebookContainer) {{\n",
              "    x.observe(notebookContainer, {childList: true});\n",
              "}}\n",
              "\n",
              "// Listen for the clearing of the current output cell\n",
              "var outputEl = gd.closest('.output');\n",
              "if (outputEl) {{\n",
              "    x.observe(outputEl, {childList: true});\n",
              "}}\n",
              "\n",
              "                        })                };                            </script>        </div>\n",
              "</body>\n",
              "</html>"
            ]
          },
          "metadata": {}
        }
      ]
    },
    {
      "cell_type": "markdown",
      "source": [
        "<p>Line chart untuk menganalisa semua item dari banyaknya order dan status, terlihat disini status canceled lebih banyak dari completed"
      ],
      "metadata": {
        "id": "Z2jGJUaEVmhe"
      }
    },
    {
      "cell_type": "code",
      "source": [
        "no=df.groupby(['Year','Category','status'])['qty_ordered'].sum().reset_index()\n",
        "px.scatter(no,x='Category',y='qty_ordered',color='status',size='qty_ordered',hover_data=['Category','status','Year'])"
      ],
      "metadata": {
        "colab": {
          "base_uri": "https://localhost:8080/",
          "height": 542
        },
        "id": "35iupOC3POJP",
        "outputId": "2338542d-1d69-4b7b-967f-ea319be55ecf"
      },
      "execution_count": 23,
      "outputs": [
        {
          "output_type": "display_data",
          "data": {
            "text/html": [
              "<html>\n",
              "<head><meta charset=\"utf-8\" /></head>\n",
              "<body>\n",
              "    <div>            <script src=\"https://cdnjs.cloudflare.com/ajax/libs/mathjax/2.7.5/MathJax.js?config=TeX-AMS-MML_SVG\"></script><script type=\"text/javascript\">if (window.MathJax) {MathJax.Hub.Config({SVG: {font: \"STIX-Web\"}});}</script>                <script type=\"text/javascript\">window.PlotlyConfig = {MathJaxConfig: 'local'};</script>\n",
              "        <script src=\"https://cdn.plot.ly/plotly-2.8.3.min.js\"></script>                <div id=\"86d3b8df-8413-4cf2-a922-72269cde4682\" class=\"plotly-graph-div\" style=\"height:525px; width:100%;\"></div>            <script type=\"text/javascript\">                                    window.PLOTLYENV=window.PLOTLYENV || {};                                    if (document.getElementById(\"86d3b8df-8413-4cf2-a922-72269cde4682\")) {                    Plotly.newPlot(                        \"86d3b8df-8413-4cf2-a922-72269cde4682\",                        [{\"customdata\":[[\"canceled\",2016],[\"canceled\",2016],[\"canceled\",2016],[\"canceled\",2016],[\"canceled\",2016],[\"canceled\",2016],[\"canceled\",2016],[\"canceled\",2016],[\"canceled\",2016],[\"canceled\",2016],[\"canceled\",2016],[\"canceled\",2016],[\"canceled\",2016],[\"canceled\",2016],[\"canceled\",2016],[\"canceled\",2016],[\"canceled\",2017],[\"canceled\",2017],[\"canceled\",2017],[\"canceled\",2017],[\"canceled\",2017],[\"canceled\",2017],[\"canceled\",2017],[\"canceled\",2017],[\"canceled\",2017],[\"canceled\",2017],[\"canceled\",2017],[\"canceled\",2017],[\"canceled\",2017],[\"canceled\",2017],[\"canceled\",2017],[\"canceled\",2017],[\"canceled\",2018],[\"canceled\",2018],[\"canceled\",2018],[\"canceled\",2018],[\"canceled\",2018],[\"canceled\",2018],[\"canceled\",2018],[\"canceled\",2018],[\"canceled\",2018],[\"canceled\",2018],[\"canceled\",2018],[\"canceled\",2018],[\"canceled\",2018],[\"canceled\",2018],[\"canceled\",2018]],\"hovertemplate\":\"status=%{customdata[0]}<br>Category=%{x}<br>qty_ordered=%{marker.size}<br>Year=%{customdata[1]}<extra></extra>\",\"legendgroup\":\"canceled\",\"marker\":{\"color\":\"#636efa\",\"size\":[4266,3052,61,1881,2101,1022,1972,702,5000,10315,798,248,4775,2462,2809,2846,11913,6597,194,3458,6528,1599,4361,2993,13253,32556,2908,338,5505,18655,9524,1046,1378,267,2,97,1348,175,79,65,232,3436,486,13,112,1100,255],\"sizemode\":\"area\",\"sizeref\":81.39,\"symbol\":\"circle\"},\"mode\":\"markers\",\"name\":\"canceled\",\"orientation\":\"v\",\"showlegend\":true,\"x\":[\"Appliances\",\"Beauty & Grooming\",\"Books\",\"Computing\",\"Entertainment\",\"Health & Sports\",\"Home & Living\",\"Kids & Baby\",\"Men's Fashion\",\"Mobiles & Tablets\",\"Others\",\"School & Education\",\"Soghaat\",\"Superstore\",\"Women's Fashion\",\"\\\\N\",\"Appliances\",\"Beauty & Grooming\",\"Books\",\"Computing\",\"Entertainment\",\"Health & Sports\",\"Home & Living\",\"Kids & Baby\",\"Men's Fashion\",\"Mobiles & Tablets\",\"Others\",\"School & Education\",\"Soghaat\",\"Superstore\",\"Women's Fashion\",\"\\\\N\",\"Appliances\",\"Beauty & Grooming\",\"Books\",\"Computing\",\"Entertainment\",\"Health & Sports\",\"Home & Living\",\"Kids & Baby\",\"Men's Fashion\",\"Mobiles & Tablets\",\"Others\",\"School & Education\",\"Soghaat\",\"Superstore\",\"Women's Fashion\"],\"xaxis\":\"x\",\"y\":[4266,3052,61,1881,2101,1022,1972,702,5000,10315,798,248,4775,2462,2809,2846,11913,6597,194,3458,6528,1599,4361,2993,13253,32556,2908,338,5505,18655,9524,1046,1378,267,2,97,1348,175,79,65,232,3436,486,13,112,1100,255],\"yaxis\":\"y\",\"type\":\"scatter\"},{\"customdata\":[[\"closed\",2016],[\"closed\",2016],[\"closed\",2016],[\"closed\",2016],[\"closed\",2016],[\"closed\",2016],[\"closed\",2016],[\"closed\",2016],[\"closed\",2016],[\"closed\",2016],[\"closed\",2016],[\"closed\",2016],[\"closed\",2016],[\"closed\",2017],[\"closed\",2017],[\"closed\",2017],[\"closed\",2017],[\"closed\",2017],[\"closed\",2017],[\"closed\",2017],[\"closed\",2017],[\"closed\",2017],[\"closed\",2017],[\"closed\",2018],[\"closed\",2018],[\"closed\",2018],[\"closed\",2018],[\"closed\",2018],[\"closed\",2018]],\"hovertemplate\":\"status=%{customdata[0]}<br>Category=%{x}<br>qty_ordered=%{marker.size}<br>Year=%{customdata[1]}<extra></extra>\",\"legendgroup\":\"closed\",\"marker\":{\"color\":\"#EF553B\",\"size\":[61,30,6,7,5,3,62,17,1,3,3,21,2,27,9,20,2,8,4,1,39,2,89,1,2,2,1,3,6],\"sizemode\":\"area\",\"sizeref\":81.39,\"symbol\":\"circle\"},\"mode\":\"markers\",\"name\":\"closed\",\"orientation\":\"v\",\"showlegend\":true,\"x\":[\"Appliances\",\"Beauty & Grooming\",\"Books\",\"Health & Sports\",\"Home & Living\",\"Kids & Baby\",\"Men's Fashion\",\"Mobiles & Tablets\",\"School & Education\",\"Soghaat\",\"Superstore\",\"Women's Fashion\",\"\\\\N\",\"Appliances\",\"Beauty & Grooming\",\"Computing\",\"Entertainment\",\"Health & Sports\",\"Home & Living\",\"Kids & Baby\",\"Mobiles & Tablets\",\"Soghaat\",\"Women's Fashion\",\"Appliances\",\"Beauty & Grooming\",\"Home & Living\",\"Mobiles & Tablets\",\"Soghaat\",\"Superstore\"],\"xaxis\":\"x\",\"y\":[61,30,6,7,5,3,62,17,1,3,3,21,2,27,9,20,2,8,4,1,39,2,89,1,2,2,1,3,6],\"yaxis\":\"y\",\"type\":\"scatter\"},{\"customdata\":[[\"complete\",2016],[\"complete\",2016],[\"complete\",2016],[\"complete\",2016],[\"complete\",2016],[\"complete\",2016],[\"complete\",2016],[\"complete\",2016],[\"complete\",2016],[\"complete\",2016],[\"complete\",2016],[\"complete\",2016],[\"complete\",2016],[\"complete\",2016],[\"complete\",2016],[\"complete\",2016],[\"complete\",2017],[\"complete\",2017],[\"complete\",2017],[\"complete\",2017],[\"complete\",2017],[\"complete\",2017],[\"complete\",2017],[\"complete\",2017],[\"complete\",2017],[\"complete\",2017],[\"complete\",2017],[\"complete\",2017],[\"complete\",2017],[\"complete\",2017],[\"complete\",2017],[\"complete\",2017],[\"complete\",2018],[\"complete\",2018],[\"complete\",2018],[\"complete\",2018],[\"complete\",2018],[\"complete\",2018],[\"complete\",2018],[\"complete\",2018],[\"complete\",2018],[\"complete\",2018],[\"complete\",2018],[\"complete\",2018],[\"complete\",2018],[\"complete\",2018],[\"complete\",2018]],\"hovertemplate\":\"status=%{customdata[0]}<br>Category=%{x}<br>qty_ordered=%{marker.size}<br>Year=%{customdata[1]}<extra></extra>\",\"legendgroup\":\"complete\",\"marker\":{\"color\":\"#00cc96\",\"size\":[4769,10274,371,1810,1181,2895,3510,2288,15934,10026,939,855,14599,4095,5076,2974,13056,13662,657,3261,5269,3817,7476,4712,21859,27808,1292,837,10227,21104,16885,653,1126,428,29,55,1377,320,64,103,260,3762,62,1,157,943,165],\"sizemode\":\"area\",\"sizeref\":81.39,\"symbol\":\"circle\"},\"mode\":\"markers\",\"name\":\"complete\",\"orientation\":\"v\",\"showlegend\":true,\"x\":[\"Appliances\",\"Beauty & Grooming\",\"Books\",\"Computing\",\"Entertainment\",\"Health & Sports\",\"Home & Living\",\"Kids & Baby\",\"Men's Fashion\",\"Mobiles & Tablets\",\"Others\",\"School & Education\",\"Soghaat\",\"Superstore\",\"Women's Fashion\",\"\\\\N\",\"Appliances\",\"Beauty & Grooming\",\"Books\",\"Computing\",\"Entertainment\",\"Health & Sports\",\"Home & Living\",\"Kids & Baby\",\"Men's Fashion\",\"Mobiles & Tablets\",\"Others\",\"School & Education\",\"Soghaat\",\"Superstore\",\"Women's Fashion\",\"\\\\N\",\"Appliances\",\"Beauty & Grooming\",\"Books\",\"Computing\",\"Entertainment\",\"Health & Sports\",\"Home & Living\",\"Kids & Baby\",\"Men's Fashion\",\"Mobiles & Tablets\",\"Others\",\"School & Education\",\"Soghaat\",\"Superstore\",\"Women's Fashion\"],\"xaxis\":\"x\",\"y\":[4769,10274,371,1810,1181,2895,3510,2288,15934,10026,939,855,14599,4095,5076,2974,13056,13662,657,3261,5269,3817,7476,4712,21859,27808,1292,837,10227,21104,16885,653,1126,428,29,55,1377,320,64,103,260,3762,62,1,157,943,165],\"yaxis\":\"y\",\"type\":\"scatter\"},{\"customdata\":[[\"order_refunded\",2016],[\"order_refunded\",2016],[\"order_refunded\",2016],[\"order_refunded\",2016],[\"order_refunded\",2016],[\"order_refunded\",2016],[\"order_refunded\",2016],[\"order_refunded\",2016],[\"order_refunded\",2016],[\"order_refunded\",2016],[\"order_refunded\",2016],[\"order_refunded\",2016],[\"order_refunded\",2016],[\"order_refunded\",2016],[\"order_refunded\",2016],[\"order_refunded\",2016],[\"order_refunded\",2017],[\"order_refunded\",2017],[\"order_refunded\",2017],[\"order_refunded\",2017],[\"order_refunded\",2017],[\"order_refunded\",2017],[\"order_refunded\",2017],[\"order_refunded\",2017],[\"order_refunded\",2017],[\"order_refunded\",2017],[\"order_refunded\",2017],[\"order_refunded\",2017],[\"order_refunded\",2017],[\"order_refunded\",2017],[\"order_refunded\",2017],[\"order_refunded\",2017],[\"order_refunded\",2018],[\"order_refunded\",2018],[\"order_refunded\",2018],[\"order_refunded\",2018],[\"order_refunded\",2018],[\"order_refunded\",2018],[\"order_refunded\",2018],[\"order_refunded\",2018],[\"order_refunded\",2018],[\"order_refunded\",2018],[\"order_refunded\",2018],[\"order_refunded\",2018],[\"order_refunded\",2018],[\"order_refunded\",2018],[\"order_refunded\",2018]],\"hovertemplate\":\"status=%{customdata[0]}<br>Category=%{x}<br>qty_ordered=%{marker.size}<br>Year=%{customdata[1]}<extra></extra>\",\"legendgroup\":\"order_refunded\",\"marker\":{\"color\":\"#ab63fa\",\"size\":[753,1137,69,418,261,501,601,421,4583,2401,213,171,1281,867,1520,1080,2889,2100,159,861,1393,1122,1566,1269,9124,7232,671,331,1309,2300,5347,672,490,117,1,87,133,31,60,38,249,523,176,12,36,69,117],\"sizemode\":\"area\",\"sizeref\":81.39,\"symbol\":\"circle\"},\"mode\":\"markers\",\"name\":\"order_refunded\",\"orientation\":\"v\",\"showlegend\":true,\"x\":[\"Appliances\",\"Beauty & Grooming\",\"Books\",\"Computing\",\"Entertainment\",\"Health & Sports\",\"Home & Living\",\"Kids & Baby\",\"Men's Fashion\",\"Mobiles & Tablets\",\"Others\",\"School & Education\",\"Soghaat\",\"Superstore\",\"Women's Fashion\",\"\\\\N\",\"Appliances\",\"Beauty & Grooming\",\"Books\",\"Computing\",\"Entertainment\",\"Health & Sports\",\"Home & Living\",\"Kids & Baby\",\"Men's Fashion\",\"Mobiles & Tablets\",\"Others\",\"School & Education\",\"Soghaat\",\"Superstore\",\"Women's Fashion\",\"\\\\N\",\"Appliances\",\"Beauty & Grooming\",\"Books\",\"Computing\",\"Entertainment\",\"Health & Sports\",\"Home & Living\",\"Kids & Baby\",\"Men's Fashion\",\"Mobiles & Tablets\",\"Others\",\"School & Education\",\"Soghaat\",\"Superstore\",\"Women's Fashion\"],\"xaxis\":\"x\",\"y\":[753,1137,69,418,261,501,601,421,4583,2401,213,171,1281,867,1520,1080,2889,2100,159,861,1393,1122,1566,1269,9124,7232,671,331,1309,2300,5347,672,490,117,1,87,133,31,60,38,249,523,176,12,36,69,117],\"yaxis\":\"y\",\"type\":\"scatter\"},{\"customdata\":[[\"received\",2016],[\"received\",2016],[\"received\",2016],[\"received\",2016],[\"received\",2016],[\"received\",2016],[\"received\",2016],[\"received\",2016],[\"received\",2016],[\"received\",2016],[\"received\",2016],[\"received\",2016],[\"received\",2016],[\"received\",2016],[\"received\",2016],[\"received\",2016],[\"received\",2017],[\"received\",2017],[\"received\",2017],[\"received\",2017],[\"received\",2017],[\"received\",2017],[\"received\",2017],[\"received\",2017],[\"received\",2017],[\"received\",2017],[\"received\",2017],[\"received\",2017],[\"received\",2017],[\"received\",2017],[\"received\",2017],[\"received\",2017],[\"received\",2018],[\"received\",2018],[\"received\",2018],[\"received\",2018],[\"received\",2018],[\"received\",2018],[\"received\",2018],[\"received\",2018],[\"received\",2018],[\"received\",2018],[\"received\",2018],[\"received\",2018],[\"received\",2018],[\"received\",2018],[\"received\",2018]],\"hovertemplate\":\"status=%{customdata[0]}<br>Category=%{x}<br>qty_ordered=%{marker.size}<br>Year=%{customdata[1]}<extra></extra>\",\"legendgroup\":\"received\",\"marker\":{\"color\":\"#FFA15A\",\"size\":[180,322,3,67,20,106,115,130,772,239,33,36,397,242,292,49,1187,3117,209,547,255,909,2577,1881,8477,3125,773,326,3128,10617,5481,113,1217,458,39,50,1093,145,146,58,371,2159,292,7,225,2167,380],\"sizemode\":\"area\",\"sizeref\":81.39,\"symbol\":\"circle\"},\"mode\":\"markers\",\"name\":\"received\",\"orientation\":\"v\",\"showlegend\":true,\"x\":[\"Appliances\",\"Beauty & Grooming\",\"Books\",\"Computing\",\"Entertainment\",\"Health & Sports\",\"Home & Living\",\"Kids & Baby\",\"Men's Fashion\",\"Mobiles & Tablets\",\"Others\",\"School & Education\",\"Soghaat\",\"Superstore\",\"Women's Fashion\",\"\\\\N\",\"Appliances\",\"Beauty & Grooming\",\"Books\",\"Computing\",\"Entertainment\",\"Health & Sports\",\"Home & Living\",\"Kids & Baby\",\"Men's Fashion\",\"Mobiles & Tablets\",\"Others\",\"School & Education\",\"Soghaat\",\"Superstore\",\"Women's Fashion\",\"\\\\N\",\"Appliances\",\"Beauty & Grooming\",\"Books\",\"Computing\",\"Entertainment\",\"Health & Sports\",\"Home & Living\",\"Kids & Baby\",\"Men's Fashion\",\"Mobiles & Tablets\",\"Others\",\"School & Education\",\"Soghaat\",\"Superstore\",\"Women's Fashion\"],\"xaxis\":\"x\",\"y\":[180,322,3,67,20,106,115,130,772,239,33,36,397,242,292,49,1187,3117,209,547,255,909,2577,1881,8477,3125,773,326,3128,10617,5481,113,1217,458,39,50,1093,145,146,58,371,2159,292,7,225,2167,380],\"yaxis\":\"y\",\"type\":\"scatter\"},{\"customdata\":[[\"refund\",2016],[\"refund\",2016],[\"refund\",2016],[\"refund\",2016],[\"refund\",2016],[\"refund\",2016],[\"refund\",2016],[\"refund\",2016],[\"refund\",2016],[\"refund\",2016],[\"refund\",2016],[\"refund\",2016],[\"refund\",2016],[\"refund\",2016],[\"refund\",2016],[\"refund\",2016],[\"refund\",2017],[\"refund\",2017],[\"refund\",2017],[\"refund\",2017],[\"refund\",2017],[\"refund\",2017],[\"refund\",2017],[\"refund\",2017],[\"refund\",2017],[\"refund\",2017],[\"refund\",2017],[\"refund\",2017],[\"refund\",2017],[\"refund\",2017],[\"refund\",2017],[\"refund\",2017],[\"refund\",2018],[\"refund\",2018],[\"refund\",2018],[\"refund\",2018],[\"refund\",2018],[\"refund\",2018],[\"refund\",2018],[\"refund\",2018],[\"refund\",2018],[\"refund\",2018],[\"refund\",2018],[\"refund\",2018],[\"refund\",2018],[\"refund\",2018]],\"hovertemplate\":\"status=%{customdata[0]}<br>Category=%{x}<br>qty_ordered=%{marker.size}<br>Year=%{customdata[1]}<extra></extra>\",\"legendgroup\":\"refund\",\"marker\":{\"color\":\"#19d3f3\",\"size\":[186,224,5,122,40,98,177,130,954,329,40,38,243,67,330,101,242,268,33,58,83,90,337,183,1316,475,209,11,242,278,520,59,30,43,2,2,2,3,11,11,19,11,1,8,24,3],\"sizemode\":\"area\",\"sizeref\":81.39,\"symbol\":\"circle\"},\"mode\":\"markers\",\"name\":\"refund\",\"orientation\":\"v\",\"showlegend\":true,\"x\":[\"Appliances\",\"Beauty & Grooming\",\"Books\",\"Computing\",\"Entertainment\",\"Health & Sports\",\"Home & Living\",\"Kids & Baby\",\"Men's Fashion\",\"Mobiles & Tablets\",\"Others\",\"School & Education\",\"Soghaat\",\"Superstore\",\"Women's Fashion\",\"\\\\N\",\"Appliances\",\"Beauty & Grooming\",\"Books\",\"Computing\",\"Entertainment\",\"Health & Sports\",\"Home & Living\",\"Kids & Baby\",\"Men's Fashion\",\"Mobiles & Tablets\",\"Others\",\"School & Education\",\"Soghaat\",\"Superstore\",\"Women's Fashion\",\"\\\\N\",\"Appliances\",\"Beauty & Grooming\",\"Books\",\"Computing\",\"Entertainment\",\"Health & Sports\",\"Home & Living\",\"Kids & Baby\",\"Men's Fashion\",\"Mobiles & Tablets\",\"Others\",\"Soghaat\",\"Superstore\",\"Women's Fashion\"],\"xaxis\":\"x\",\"y\":[186,224,5,122,40,98,177,130,954,329,40,38,243,67,330,101,242,268,33,58,83,90,337,183,1316,475,209,11,242,278,520,59,30,43,2,2,2,3,11,11,19,11,1,8,24,3],\"yaxis\":\"y\",\"type\":\"scatter\"},{\"customdata\":[[\"exchange\",2016],[\"exchange\",2016],[\"exchange\",2016],[\"exchange\",2016]],\"hovertemplate\":\"status=%{customdata[0]}<br>Category=%{x}<br>qty_ordered=%{marker.size}<br>Year=%{customdata[1]}<extra></extra>\",\"legendgroup\":\"exchange\",\"marker\":{\"color\":\"#FF6692\",\"size\":[1,1,1,1],\"sizemode\":\"area\",\"sizeref\":81.39,\"symbol\":\"circle\"},\"mode\":\"markers\",\"name\":\"exchange\",\"orientation\":\"v\",\"showlegend\":true,\"x\":[\"Computing\",\"Men's Fashion\",\"Mobiles & Tablets\",\"Women's Fashion\"],\"xaxis\":\"x\",\"y\":[1,1,1,1],\"yaxis\":\"y\",\"type\":\"scatter\"},{\"customdata\":[[\"fraud\",2016],[\"fraud\",2016],[\"fraud\",2016],[\"fraud\",2016],[\"fraud\",2017]],\"hovertemplate\":\"status=%{customdata[0]}<br>Category=%{x}<br>qty_ordered=%{marker.size}<br>Year=%{customdata[1]}<extra></extra>\",\"legendgroup\":\"fraud\",\"marker\":{\"color\":\"#B6E880\",\"size\":[1,2,1,3,3],\"sizemode\":\"area\",\"sizeref\":81.39,\"symbol\":\"circle\"},\"mode\":\"markers\",\"name\":\"fraud\",\"orientation\":\"v\",\"showlegend\":true,\"x\":[\"Computing\",\"Entertainment\",\"Home & Living\",\"Mobiles & Tablets\",\"Mobiles & Tablets\"],\"xaxis\":\"x\",\"y\":[1,2,1,3,3],\"yaxis\":\"y\",\"type\":\"scatter\"},{\"customdata\":[[\"holded\",2016],[\"holded\",2016],[\"holded\",2016]],\"hovertemplate\":\"status=%{customdata[0]}<br>Category=%{x}<br>qty_ordered=%{marker.size}<br>Year=%{customdata[1]}<extra></extra>\",\"legendgroup\":\"holded\",\"marker\":{\"color\":\"#FF97FF\",\"size\":[2,1,3],\"sizemode\":\"area\",\"sizeref\":81.39,\"symbol\":\"circle\"},\"mode\":\"markers\",\"name\":\"holded\",\"orientation\":\"v\",\"showlegend\":true,\"x\":[\"Home & Living\",\"School & Education\",\"Soghaat\"],\"xaxis\":\"x\",\"y\":[2,1,3],\"yaxis\":\"y\",\"type\":\"scatter\"},{\"customdata\":[[\"cod\",2017],[\"cod\",2017],[\"cod\",2017],[\"cod\",2017],[\"cod\",2017],[\"cod\",2017],[\"cod\",2017],[\"cod\",2017],[\"cod\",2017],[\"cod\",2017],[\"cod\",2017],[\"cod\",2017],[\"cod\",2017],[\"cod\",2017],[\"cod\",2017],[\"cod\",2017],[\"cod\",2018],[\"cod\",2018],[\"cod\",2018],[\"cod\",2018],[\"cod\",2018],[\"cod\",2018],[\"cod\",2018],[\"cod\",2018],[\"cod\",2018],[\"cod\",2018],[\"cod\",2018],[\"cod\",2018],[\"cod\",2018],[\"cod\",2018]],\"hovertemplate\":\"status=%{customdata[0]}<br>Category=%{x}<br>qty_ordered=%{marker.size}<br>Year=%{customdata[1]}<extra></extra>\",\"legendgroup\":\"cod\",\"marker\":{\"color\":\"#FECB52\",\"size\":[67,195,86,27,4,27,264,101,389,75,51,17,82,124,306,4,9,14,2,1,1,7,22,2,17,10,9,1,12,14],\"sizemode\":\"area\",\"sizeref\":81.39,\"symbol\":\"circle\"},\"mode\":\"markers\",\"name\":\"cod\",\"orientation\":\"v\",\"showlegend\":true,\"x\":[\"Appliances\",\"Beauty & Grooming\",\"Books\",\"Computing\",\"Entertainment\",\"Health & Sports\",\"Home & Living\",\"Kids & Baby\",\"Men's Fashion\",\"Mobiles & Tablets\",\"Others\",\"School & Education\",\"Soghaat\",\"Superstore\",\"Women's Fashion\",\"\\\\N\",\"Appliances\",\"Beauty & Grooming\",\"Books\",\"Computing\",\"Entertainment\",\"Health & Sports\",\"Home & Living\",\"Kids & Baby\",\"Men's Fashion\",\"Mobiles & Tablets\",\"Others\",\"School & Education\",\"Superstore\",\"Women's Fashion\"],\"xaxis\":\"x\",\"y\":[67,195,86,27,4,27,264,101,389,75,51,17,82,124,306,4,9,14,2,1,1,7,22,2,17,10,9,1,12,14],\"yaxis\":\"y\",\"type\":\"scatter\"},{\"customdata\":[[\"paid\",2017],[\"paid\",2017],[\"paid\",2017],[\"paid\",2017],[\"paid\",2017],[\"paid\",2017],[\"paid\",2017],[\"paid\",2017],[\"paid\",2017],[\"paid\",2017],[\"paid\",2017],[\"paid\",2017],[\"paid\",2017],[\"paid\",2017],[\"paid\",2017],[\"paid\",2017],[\"paid\",2018],[\"paid\",2018],[\"paid\",2018],[\"paid\",2018],[\"paid\",2018],[\"paid\",2018],[\"paid\",2018]],\"hovertemplate\":\"status=%{customdata[0]}<br>Category=%{x}<br>qty_ordered=%{marker.size}<br>Year=%{customdata[1]}<extra></extra>\",\"legendgroup\":\"paid\",\"marker\":{\"color\":\"#636efa\",\"size\":[12,44,12,4,3,5,28,33,62,33,5,2,96,529,55,3,8,3,9,7,4,21,10],\"sizemode\":\"area\",\"sizeref\":81.39,\"symbol\":\"circle\"},\"mode\":\"markers\",\"name\":\"paid\",\"orientation\":\"v\",\"showlegend\":true,\"x\":[\"Appliances\",\"Beauty & Grooming\",\"Books\",\"Computing\",\"Entertainment\",\"Health & Sports\",\"Home & Living\",\"Kids & Baby\",\"Men's Fashion\",\"Mobiles & Tablets\",\"Others\",\"School & Education\",\"Soghaat\",\"Superstore\",\"Women's Fashion\",\"\\\\N\",\"Appliances\",\"Beauty & Grooming\",\"Entertainment\",\"Home & Living\",\"Men's Fashion\",\"Mobiles & Tablets\",\"Women's Fashion\"],\"xaxis\":\"x\",\"y\":[12,44,12,4,3,5,28,33,62,33,5,2,96,529,55,3,8,3,9,7,4,21,10],\"yaxis\":\"y\",\"type\":\"scatter\"},{\"customdata\":[[\"pending_paypal\",2017],[\"pending_paypal\",2017],[\"pending_paypal\",2017],[\"pending_paypal\",2017],[\"pending_paypal\",2017]],\"hovertemplate\":\"status=%{customdata[0]}<br>Category=%{x}<br>qty_ordered=%{marker.size}<br>Year=%{customdata[1]}<extra></extra>\",\"legendgroup\":\"pending_paypal\",\"marker\":{\"color\":\"#EF553B\",\"size\":[1,1,3,3,1],\"sizemode\":\"area\",\"sizeref\":81.39,\"symbol\":\"circle\"},\"mode\":\"markers\",\"name\":\"pending_paypal\",\"orientation\":\"v\",\"showlegend\":true,\"x\":[\"Health & Sports\",\"Home & Living\",\"Men's Fashion\",\"Superstore\",\"Women's Fashion\"],\"xaxis\":\"x\",\"y\":[1,1,3,3,1],\"yaxis\":\"y\",\"type\":\"scatter\"},{\"customdata\":[[\"\\\\N\",2017]],\"hovertemplate\":\"status=%{customdata[0]}<br>Category=%{x}<br>qty_ordered=%{marker.size}<br>Year=%{customdata[1]}<extra></extra>\",\"legendgroup\":\"\\\\N\",\"marker\":{\"color\":\"#00cc96\",\"size\":[6],\"sizemode\":\"area\",\"sizeref\":81.39,\"symbol\":\"circle\"},\"mode\":\"markers\",\"name\":\"\\\\N\",\"orientation\":\"v\",\"showlegend\":true,\"x\":[\"\\\\N\"],\"xaxis\":\"x\",\"y\":[6],\"yaxis\":\"y\",\"type\":\"scatter\"},{\"customdata\":[[\"processing\",2018],[\"processing\",2018]],\"hovertemplate\":\"status=%{customdata[0]}<br>Category=%{x}<br>qty_ordered=%{marker.size}<br>Year=%{customdata[1]}<extra></extra>\",\"legendgroup\":\"processing\",\"marker\":{\"color\":\"#ab63fa\",\"size\":[1,1],\"sizemode\":\"area\",\"sizeref\":81.39,\"symbol\":\"circle\"},\"mode\":\"markers\",\"name\":\"processing\",\"orientation\":\"v\",\"showlegend\":true,\"x\":[\"Appliances\",\"Mobiles & Tablets\"],\"xaxis\":\"x\",\"y\":[1,1],\"yaxis\":\"y\",\"type\":\"scatter\"},{\"customdata\":[[\"pending\",2018],[\"pending\",2018]],\"hovertemplate\":\"status=%{customdata[0]}<br>Category=%{x}<br>qty_ordered=%{marker.size}<br>Year=%{customdata[1]}<extra></extra>\",\"legendgroup\":\"pending\",\"marker\":{\"color\":\"#FFA15A\",\"size\":[4,5],\"sizemode\":\"area\",\"sizeref\":81.39,\"symbol\":\"circle\"},\"mode\":\"markers\",\"name\":\"pending\",\"orientation\":\"v\",\"showlegend\":true,\"x\":[\"Entertainment\",\"Mobiles & Tablets\"],\"xaxis\":\"x\",\"y\":[4,5],\"yaxis\":\"y\",\"type\":\"scatter\"},{\"customdata\":[[\"payment_review\",2018]],\"hovertemplate\":\"status=%{customdata[0]}<br>Category=%{x}<br>qty_ordered=%{marker.size}<br>Year=%{customdata[1]}<extra></extra>\",\"legendgroup\":\"payment_review\",\"marker\":{\"color\":\"#19d3f3\",\"size\":[120],\"sizemode\":\"area\",\"sizeref\":81.39,\"symbol\":\"circle\"},\"mode\":\"markers\",\"name\":\"payment_review\",\"orientation\":\"v\",\"showlegend\":true,\"x\":[\"Superstore\"],\"xaxis\":\"x\",\"y\":[120],\"yaxis\":\"y\",\"type\":\"scatter\"}],                        {\"template\":{\"data\":{\"bar\":[{\"error_x\":{\"color\":\"#2a3f5f\"},\"error_y\":{\"color\":\"#2a3f5f\"},\"marker\":{\"line\":{\"color\":\"#E5ECF6\",\"width\":0.5},\"pattern\":{\"fillmode\":\"overlay\",\"size\":10,\"solidity\":0.2}},\"type\":\"bar\"}],\"barpolar\":[{\"marker\":{\"line\":{\"color\":\"#E5ECF6\",\"width\":0.5},\"pattern\":{\"fillmode\":\"overlay\",\"size\":10,\"solidity\":0.2}},\"type\":\"barpolar\"}],\"carpet\":[{\"aaxis\":{\"endlinecolor\":\"#2a3f5f\",\"gridcolor\":\"white\",\"linecolor\":\"white\",\"minorgridcolor\":\"white\",\"startlinecolor\":\"#2a3f5f\"},\"baxis\":{\"endlinecolor\":\"#2a3f5f\",\"gridcolor\":\"white\",\"linecolor\":\"white\",\"minorgridcolor\":\"white\",\"startlinecolor\":\"#2a3f5f\"},\"type\":\"carpet\"}],\"choropleth\":[{\"colorbar\":{\"outlinewidth\":0,\"ticks\":\"\"},\"type\":\"choropleth\"}],\"contour\":[{\"colorbar\":{\"outlinewidth\":0,\"ticks\":\"\"},\"colorscale\":[[0.0,\"#0d0887\"],[0.1111111111111111,\"#46039f\"],[0.2222222222222222,\"#7201a8\"],[0.3333333333333333,\"#9c179e\"],[0.4444444444444444,\"#bd3786\"],[0.5555555555555556,\"#d8576b\"],[0.6666666666666666,\"#ed7953\"],[0.7777777777777778,\"#fb9f3a\"],[0.8888888888888888,\"#fdca26\"],[1.0,\"#f0f921\"]],\"type\":\"contour\"}],\"contourcarpet\":[{\"colorbar\":{\"outlinewidth\":0,\"ticks\":\"\"},\"type\":\"contourcarpet\"}],\"heatmap\":[{\"colorbar\":{\"outlinewidth\":0,\"ticks\":\"\"},\"colorscale\":[[0.0,\"#0d0887\"],[0.1111111111111111,\"#46039f\"],[0.2222222222222222,\"#7201a8\"],[0.3333333333333333,\"#9c179e\"],[0.4444444444444444,\"#bd3786\"],[0.5555555555555556,\"#d8576b\"],[0.6666666666666666,\"#ed7953\"],[0.7777777777777778,\"#fb9f3a\"],[0.8888888888888888,\"#fdca26\"],[1.0,\"#f0f921\"]],\"type\":\"heatmap\"}],\"heatmapgl\":[{\"colorbar\":{\"outlinewidth\":0,\"ticks\":\"\"},\"colorscale\":[[0.0,\"#0d0887\"],[0.1111111111111111,\"#46039f\"],[0.2222222222222222,\"#7201a8\"],[0.3333333333333333,\"#9c179e\"],[0.4444444444444444,\"#bd3786\"],[0.5555555555555556,\"#d8576b\"],[0.6666666666666666,\"#ed7953\"],[0.7777777777777778,\"#fb9f3a\"],[0.8888888888888888,\"#fdca26\"],[1.0,\"#f0f921\"]],\"type\":\"heatmapgl\"}],\"histogram\":[{\"marker\":{\"pattern\":{\"fillmode\":\"overlay\",\"size\":10,\"solidity\":0.2}},\"type\":\"histogram\"}],\"histogram2d\":[{\"colorbar\":{\"outlinewidth\":0,\"ticks\":\"\"},\"colorscale\":[[0.0,\"#0d0887\"],[0.1111111111111111,\"#46039f\"],[0.2222222222222222,\"#7201a8\"],[0.3333333333333333,\"#9c179e\"],[0.4444444444444444,\"#bd3786\"],[0.5555555555555556,\"#d8576b\"],[0.6666666666666666,\"#ed7953\"],[0.7777777777777778,\"#fb9f3a\"],[0.8888888888888888,\"#fdca26\"],[1.0,\"#f0f921\"]],\"type\":\"histogram2d\"}],\"histogram2dcontour\":[{\"colorbar\":{\"outlinewidth\":0,\"ticks\":\"\"},\"colorscale\":[[0.0,\"#0d0887\"],[0.1111111111111111,\"#46039f\"],[0.2222222222222222,\"#7201a8\"],[0.3333333333333333,\"#9c179e\"],[0.4444444444444444,\"#bd3786\"],[0.5555555555555556,\"#d8576b\"],[0.6666666666666666,\"#ed7953\"],[0.7777777777777778,\"#fb9f3a\"],[0.8888888888888888,\"#fdca26\"],[1.0,\"#f0f921\"]],\"type\":\"histogram2dcontour\"}],\"mesh3d\":[{\"colorbar\":{\"outlinewidth\":0,\"ticks\":\"\"},\"type\":\"mesh3d\"}],\"parcoords\":[{\"line\":{\"colorbar\":{\"outlinewidth\":0,\"ticks\":\"\"}},\"type\":\"parcoords\"}],\"pie\":[{\"automargin\":true,\"type\":\"pie\"}],\"scatter\":[{\"marker\":{\"colorbar\":{\"outlinewidth\":0,\"ticks\":\"\"}},\"type\":\"scatter\"}],\"scatter3d\":[{\"line\":{\"colorbar\":{\"outlinewidth\":0,\"ticks\":\"\"}},\"marker\":{\"colorbar\":{\"outlinewidth\":0,\"ticks\":\"\"}},\"type\":\"scatter3d\"}],\"scattercarpet\":[{\"marker\":{\"colorbar\":{\"outlinewidth\":0,\"ticks\":\"\"}},\"type\":\"scattercarpet\"}],\"scattergeo\":[{\"marker\":{\"colorbar\":{\"outlinewidth\":0,\"ticks\":\"\"}},\"type\":\"scattergeo\"}],\"scattergl\":[{\"marker\":{\"colorbar\":{\"outlinewidth\":0,\"ticks\":\"\"}},\"type\":\"scattergl\"}],\"scattermapbox\":[{\"marker\":{\"colorbar\":{\"outlinewidth\":0,\"ticks\":\"\"}},\"type\":\"scattermapbox\"}],\"scatterpolar\":[{\"marker\":{\"colorbar\":{\"outlinewidth\":0,\"ticks\":\"\"}},\"type\":\"scatterpolar\"}],\"scatterpolargl\":[{\"marker\":{\"colorbar\":{\"outlinewidth\":0,\"ticks\":\"\"}},\"type\":\"scatterpolargl\"}],\"scatterternary\":[{\"marker\":{\"colorbar\":{\"outlinewidth\":0,\"ticks\":\"\"}},\"type\":\"scatterternary\"}],\"surface\":[{\"colorbar\":{\"outlinewidth\":0,\"ticks\":\"\"},\"colorscale\":[[0.0,\"#0d0887\"],[0.1111111111111111,\"#46039f\"],[0.2222222222222222,\"#7201a8\"],[0.3333333333333333,\"#9c179e\"],[0.4444444444444444,\"#bd3786\"],[0.5555555555555556,\"#d8576b\"],[0.6666666666666666,\"#ed7953\"],[0.7777777777777778,\"#fb9f3a\"],[0.8888888888888888,\"#fdca26\"],[1.0,\"#f0f921\"]],\"type\":\"surface\"}],\"table\":[{\"cells\":{\"fill\":{\"color\":\"#EBF0F8\"},\"line\":{\"color\":\"white\"}},\"header\":{\"fill\":{\"color\":\"#C8D4E3\"},\"line\":{\"color\":\"white\"}},\"type\":\"table\"}]},\"layout\":{\"annotationdefaults\":{\"arrowcolor\":\"#2a3f5f\",\"arrowhead\":0,\"arrowwidth\":1},\"autotypenumbers\":\"strict\",\"coloraxis\":{\"colorbar\":{\"outlinewidth\":0,\"ticks\":\"\"}},\"colorscale\":{\"diverging\":[[0,\"#8e0152\"],[0.1,\"#c51b7d\"],[0.2,\"#de77ae\"],[0.3,\"#f1b6da\"],[0.4,\"#fde0ef\"],[0.5,\"#f7f7f7\"],[0.6,\"#e6f5d0\"],[0.7,\"#b8e186\"],[0.8,\"#7fbc41\"],[0.9,\"#4d9221\"],[1,\"#276419\"]],\"sequential\":[[0.0,\"#0d0887\"],[0.1111111111111111,\"#46039f\"],[0.2222222222222222,\"#7201a8\"],[0.3333333333333333,\"#9c179e\"],[0.4444444444444444,\"#bd3786\"],[0.5555555555555556,\"#d8576b\"],[0.6666666666666666,\"#ed7953\"],[0.7777777777777778,\"#fb9f3a\"],[0.8888888888888888,\"#fdca26\"],[1.0,\"#f0f921\"]],\"sequentialminus\":[[0.0,\"#0d0887\"],[0.1111111111111111,\"#46039f\"],[0.2222222222222222,\"#7201a8\"],[0.3333333333333333,\"#9c179e\"],[0.4444444444444444,\"#bd3786\"],[0.5555555555555556,\"#d8576b\"],[0.6666666666666666,\"#ed7953\"],[0.7777777777777778,\"#fb9f3a\"],[0.8888888888888888,\"#fdca26\"],[1.0,\"#f0f921\"]]},\"colorway\":[\"#636efa\",\"#EF553B\",\"#00cc96\",\"#ab63fa\",\"#FFA15A\",\"#19d3f3\",\"#FF6692\",\"#B6E880\",\"#FF97FF\",\"#FECB52\"],\"font\":{\"color\":\"#2a3f5f\"},\"geo\":{\"bgcolor\":\"white\",\"lakecolor\":\"white\",\"landcolor\":\"#E5ECF6\",\"showlakes\":true,\"showland\":true,\"subunitcolor\":\"white\"},\"hoverlabel\":{\"align\":\"left\"},\"hovermode\":\"closest\",\"mapbox\":{\"style\":\"light\"},\"paper_bgcolor\":\"white\",\"plot_bgcolor\":\"#E5ECF6\",\"polar\":{\"angularaxis\":{\"gridcolor\":\"white\",\"linecolor\":\"white\",\"ticks\":\"\"},\"bgcolor\":\"#E5ECF6\",\"radialaxis\":{\"gridcolor\":\"white\",\"linecolor\":\"white\",\"ticks\":\"\"}},\"scene\":{\"xaxis\":{\"backgroundcolor\":\"#E5ECF6\",\"gridcolor\":\"white\",\"gridwidth\":2,\"linecolor\":\"white\",\"showbackground\":true,\"ticks\":\"\",\"zerolinecolor\":\"white\"},\"yaxis\":{\"backgroundcolor\":\"#E5ECF6\",\"gridcolor\":\"white\",\"gridwidth\":2,\"linecolor\":\"white\",\"showbackground\":true,\"ticks\":\"\",\"zerolinecolor\":\"white\"},\"zaxis\":{\"backgroundcolor\":\"#E5ECF6\",\"gridcolor\":\"white\",\"gridwidth\":2,\"linecolor\":\"white\",\"showbackground\":true,\"ticks\":\"\",\"zerolinecolor\":\"white\"}},\"shapedefaults\":{\"line\":{\"color\":\"#2a3f5f\"}},\"ternary\":{\"aaxis\":{\"gridcolor\":\"white\",\"linecolor\":\"white\",\"ticks\":\"\"},\"baxis\":{\"gridcolor\":\"white\",\"linecolor\":\"white\",\"ticks\":\"\"},\"bgcolor\":\"#E5ECF6\",\"caxis\":{\"gridcolor\":\"white\",\"linecolor\":\"white\",\"ticks\":\"\"}},\"title\":{\"x\":0.05},\"xaxis\":{\"automargin\":true,\"gridcolor\":\"white\",\"linecolor\":\"white\",\"ticks\":\"\",\"title\":{\"standoff\":15},\"zerolinecolor\":\"white\",\"zerolinewidth\":2},\"yaxis\":{\"automargin\":true,\"gridcolor\":\"white\",\"linecolor\":\"white\",\"ticks\":\"\",\"title\":{\"standoff\":15},\"zerolinecolor\":\"white\",\"zerolinewidth\":2}}},\"xaxis\":{\"anchor\":\"y\",\"domain\":[0.0,1.0],\"title\":{\"text\":\"Category\"}},\"yaxis\":{\"anchor\":\"x\",\"domain\":[0.0,1.0],\"title\":{\"text\":\"qty_ordered\"}},\"legend\":{\"title\":{\"text\":\"status\"},\"tracegroupgap\":0,\"itemsizing\":\"constant\"},\"margin\":{\"t\":60}},                        {\"responsive\": true}                    ).then(function(){\n",
              "                            \n",
              "var gd = document.getElementById('86d3b8df-8413-4cf2-a922-72269cde4682');\n",
              "var x = new MutationObserver(function (mutations, observer) {{\n",
              "        var display = window.getComputedStyle(gd).display;\n",
              "        if (!display || display === 'none') {{\n",
              "            console.log([gd, 'removed!']);\n",
              "            Plotly.purge(gd);\n",
              "            observer.disconnect();\n",
              "        }}\n",
              "}});\n",
              "\n",
              "// Listen for the removal of the full notebook cells\n",
              "var notebookContainer = gd.closest('#notebook-container');\n",
              "if (notebookContainer) {{\n",
              "    x.observe(notebookContainer, {childList: true});\n",
              "}}\n",
              "\n",
              "// Listen for the clearing of the current output cell\n",
              "var outputEl = gd.closest('.output');\n",
              "if (outputEl) {{\n",
              "    x.observe(outputEl, {childList: true});\n",
              "}}\n",
              "\n",
              "                        })                };                            </script>        </div>\n",
              "</body>\n",
              "</html>"
            ]
          },
          "metadata": {}
        }
      ]
    },
    {
      "cell_type": "markdown",
      "source": [
        "<p>scatter chart untuk menganalisa semua item bedasarkan tahun status dan banyaknya order, bisa kita lihat terlalu banyak yang canceled"
      ],
      "metadata": {
        "id": "ZqjvFawnWT6F"
      }
    },
    {
      "cell_type": "markdown",
      "source": [
        "<h1>Insight</h1>\n",
        "<p>hasil dari ekploritasi dikarenakan ditemukan terlalu banyak status canceled peneliti akan lebih dalam lagi untuk menggali status canceled</p>"
      ],
      "metadata": {
        "id": "U3Q_EjtRxLvg"
      }
    },
    {
      "cell_type": "code",
      "source": [
        "canceled=df[df['status']=='canceled']\n",
        "canceled"
      ],
      "metadata": {
        "colab": {
          "base_uri": "https://localhost:8080/",
          "height": 696
        },
        "id": "8gV1wjYVa8L5",
        "outputId": "e39c1faa-6fbc-4545-d17e-bb6dbf510b18"
      },
      "execution_count": 24,
      "outputs": [
        {
          "output_type": "execute_result",
          "data": {
            "text/plain": [
              "        item_id    status created_at  \\\n",
              "1        211133  canceled   7/1/2016   \n",
              "2        211134  canceled   7/1/2016   \n",
              "5        211137  canceled   7/1/2016   \n",
              "8        211140  canceled   7/1/2016   \n",
              "9        211141  canceled   7/1/2016   \n",
              "...         ...       ...        ...   \n",
              "584427   905103  canceled  8/28/2018   \n",
              "584428   905104  canceled  8/28/2018   \n",
              "584429   905105  canceled  8/28/2018   \n",
              "584430   905106  canceled  8/28/2018   \n",
              "584431   905107  canceled  8/28/2018   \n",
              "\n",
              "                                                      sku    price  \\\n",
              "1       kcc_Buy 2 Frey Air Freshener & Get 1 Kasual Bo...    240.0   \n",
              "2                                      Ego_UP0017-999-MR0   2450.0   \n",
              "5                           UK_Namkino All In One 200 Gms     80.0   \n",
              "8                                    Apple iPhone 6S 64GB  96499.0   \n",
              "9                                    Apple iPhone 6S 64GB  96499.0   \n",
              "...                                                   ...      ...   \n",
              "584427                                BAGVIT5A9D1C61F3CCD    500.0   \n",
              "584428                                 BAGDW5A7038B3EF001    390.0   \n",
              "584429                                BAGPRO5B0FA123819C4    490.0   \n",
              "584430                                 BAGFT5A3272925D642    224.0   \n",
              "584431                                   FAI5A95000195701    299.0   \n",
              "\n",
              "        qty_ordered  grand_total increment_id           Category  \\\n",
              "1                 1        240.0    100147444  Beauty & Grooming   \n",
              "2                 1       2450.0    100147445    Women's Fashion   \n",
              "5                 1         80.0    100147448            Soghaat   \n",
              "8                 1      96499.0    100147451  Mobiles & Tablets   \n",
              "9                 1      96499.0    100147452  Mobiles & Tablets   \n",
              "...             ...          ...          ...                ...   \n",
              "584427            1       2722.0    100562312  Beauty & Grooming   \n",
              "584428            1       2722.0    100562312  Beauty & Grooming   \n",
              "584429            1       2722.0    100562312  Beauty & Grooming   \n",
              "584430            1       2722.0    100562312  Beauty & Grooming   \n",
              "584431            2       2722.0    100562312         Superstore   \n",
              "\n",
              "       sales_commission_code  ...  payment_method       date BI Status  \\\n",
              "1                         \\N  ...             cod 2016-07-01     Gross   \n",
              "2                         \\N  ...             cod 2016-07-01     Gross   \n",
              "5                         \\N  ...             cod 2016-07-01     Gross   \n",
              "8                         \\N  ...   ublcreditcard 2016-07-01     Gross   \n",
              "9                         \\N  ...       mygateway 2016-07-01     Gross   \n",
              "...                      ...  ...             ...        ...       ...   \n",
              "584427             100559728  ...         Payaxis 2018-08-28     Gross   \n",
              "584428             100559728  ...         Payaxis 2018-08-28     Gross   \n",
              "584429             100559728  ...         Payaxis 2018-08-28     Gross   \n",
              "584430             100559728  ...         Payaxis 2018-08-28     Gross   \n",
              "584431             100559728  ...         Payaxis 2018-08-28     Gross   \n",
              "\n",
              "              MV  Year  Month  Customer Since     M-Y    FY Customer ID  \n",
              "1           240   2016      7          2016-7  7-2016  FY17         2.0  \n",
              "2         2,450   2016      7          2016-7  7-2016  FY17         3.0  \n",
              "5            80   2016      7          2016-7  7-2016  FY17         6.0  \n",
              "8        96,499   2016      7          2016-7  7-2016  FY17         8.0  \n",
              "9        96,499   2016      7          2016-7  7-2016  FY17         8.0  \n",
              "...          ...   ...    ...             ...     ...   ...         ...  \n",
              "584427      500   2018      8          2018-8  8-2018  FY19    114788.0  \n",
              "584428      390   2018      8          2018-8  8-2018  FY19    114788.0  \n",
              "584429      490   2018      8          2018-8  8-2018  FY19    114788.0  \n",
              "584430      224   2018      8          2018-8  8-2018  FY19    114788.0  \n",
              "584431      598   2018      8          2018-8  8-2018  FY19    114788.0  \n",
              "\n",
              "[141437 rows x 21 columns]"
            ],
            "text/html": [
              "\n",
              "  <div id=\"df-c74ace79-76fc-4674-a9c1-1fd66867a4e3\">\n",
              "    <div class=\"colab-df-container\">\n",
              "      <div>\n",
              "<style scoped>\n",
              "    .dataframe tbody tr th:only-of-type {\n",
              "        vertical-align: middle;\n",
              "    }\n",
              "\n",
              "    .dataframe tbody tr th {\n",
              "        vertical-align: top;\n",
              "    }\n",
              "\n",
              "    .dataframe thead th {\n",
              "        text-align: right;\n",
              "    }\n",
              "</style>\n",
              "<table border=\"1\" class=\"dataframe\">\n",
              "  <thead>\n",
              "    <tr style=\"text-align: right;\">\n",
              "      <th></th>\n",
              "      <th>item_id</th>\n",
              "      <th>status</th>\n",
              "      <th>created_at</th>\n",
              "      <th>sku</th>\n",
              "      <th>price</th>\n",
              "      <th>qty_ordered</th>\n",
              "      <th>grand_total</th>\n",
              "      <th>increment_id</th>\n",
              "      <th>Category</th>\n",
              "      <th>sales_commission_code</th>\n",
              "      <th>...</th>\n",
              "      <th>payment_method</th>\n",
              "      <th>date</th>\n",
              "      <th>BI Status</th>\n",
              "      <th>MV</th>\n",
              "      <th>Year</th>\n",
              "      <th>Month</th>\n",
              "      <th>Customer Since</th>\n",
              "      <th>M-Y</th>\n",
              "      <th>FY</th>\n",
              "      <th>Customer ID</th>\n",
              "    </tr>\n",
              "  </thead>\n",
              "  <tbody>\n",
              "    <tr>\n",
              "      <th>1</th>\n",
              "      <td>211133</td>\n",
              "      <td>canceled</td>\n",
              "      <td>7/1/2016</td>\n",
              "      <td>kcc_Buy 2 Frey Air Freshener &amp; Get 1 Kasual Bo...</td>\n",
              "      <td>240.0</td>\n",
              "      <td>1</td>\n",
              "      <td>240.0</td>\n",
              "      <td>100147444</td>\n",
              "      <td>Beauty &amp; Grooming</td>\n",
              "      <td>\\N</td>\n",
              "      <td>...</td>\n",
              "      <td>cod</td>\n",
              "      <td>2016-07-01</td>\n",
              "      <td>Gross</td>\n",
              "      <td>240</td>\n",
              "      <td>2016</td>\n",
              "      <td>7</td>\n",
              "      <td>2016-7</td>\n",
              "      <td>7-2016</td>\n",
              "      <td>FY17</td>\n",
              "      <td>2.0</td>\n",
              "    </tr>\n",
              "    <tr>\n",
              "      <th>2</th>\n",
              "      <td>211134</td>\n",
              "      <td>canceled</td>\n",
              "      <td>7/1/2016</td>\n",
              "      <td>Ego_UP0017-999-MR0</td>\n",
              "      <td>2450.0</td>\n",
              "      <td>1</td>\n",
              "      <td>2450.0</td>\n",
              "      <td>100147445</td>\n",
              "      <td>Women's Fashion</td>\n",
              "      <td>\\N</td>\n",
              "      <td>...</td>\n",
              "      <td>cod</td>\n",
              "      <td>2016-07-01</td>\n",
              "      <td>Gross</td>\n",
              "      <td>2,450</td>\n",
              "      <td>2016</td>\n",
              "      <td>7</td>\n",
              "      <td>2016-7</td>\n",
              "      <td>7-2016</td>\n",
              "      <td>FY17</td>\n",
              "      <td>3.0</td>\n",
              "    </tr>\n",
              "    <tr>\n",
              "      <th>5</th>\n",
              "      <td>211137</td>\n",
              "      <td>canceled</td>\n",
              "      <td>7/1/2016</td>\n",
              "      <td>UK_Namkino All In One 200 Gms</td>\n",
              "      <td>80.0</td>\n",
              "      <td>1</td>\n",
              "      <td>80.0</td>\n",
              "      <td>100147448</td>\n",
              "      <td>Soghaat</td>\n",
              "      <td>\\N</td>\n",
              "      <td>...</td>\n",
              "      <td>cod</td>\n",
              "      <td>2016-07-01</td>\n",
              "      <td>Gross</td>\n",
              "      <td>80</td>\n",
              "      <td>2016</td>\n",
              "      <td>7</td>\n",
              "      <td>2016-7</td>\n",
              "      <td>7-2016</td>\n",
              "      <td>FY17</td>\n",
              "      <td>6.0</td>\n",
              "    </tr>\n",
              "    <tr>\n",
              "      <th>8</th>\n",
              "      <td>211140</td>\n",
              "      <td>canceled</td>\n",
              "      <td>7/1/2016</td>\n",
              "      <td>Apple iPhone 6S 64GB</td>\n",
              "      <td>96499.0</td>\n",
              "      <td>1</td>\n",
              "      <td>96499.0</td>\n",
              "      <td>100147451</td>\n",
              "      <td>Mobiles &amp; Tablets</td>\n",
              "      <td>\\N</td>\n",
              "      <td>...</td>\n",
              "      <td>ublcreditcard</td>\n",
              "      <td>2016-07-01</td>\n",
              "      <td>Gross</td>\n",
              "      <td>96,499</td>\n",
              "      <td>2016</td>\n",
              "      <td>7</td>\n",
              "      <td>2016-7</td>\n",
              "      <td>7-2016</td>\n",
              "      <td>FY17</td>\n",
              "      <td>8.0</td>\n",
              "    </tr>\n",
              "    <tr>\n",
              "      <th>9</th>\n",
              "      <td>211141</td>\n",
              "      <td>canceled</td>\n",
              "      <td>7/1/2016</td>\n",
              "      <td>Apple iPhone 6S 64GB</td>\n",
              "      <td>96499.0</td>\n",
              "      <td>1</td>\n",
              "      <td>96499.0</td>\n",
              "      <td>100147452</td>\n",
              "      <td>Mobiles &amp; Tablets</td>\n",
              "      <td>\\N</td>\n",
              "      <td>...</td>\n",
              "      <td>mygateway</td>\n",
              "      <td>2016-07-01</td>\n",
              "      <td>Gross</td>\n",
              "      <td>96,499</td>\n",
              "      <td>2016</td>\n",
              "      <td>7</td>\n",
              "      <td>2016-7</td>\n",
              "      <td>7-2016</td>\n",
              "      <td>FY17</td>\n",
              "      <td>8.0</td>\n",
              "    </tr>\n",
              "    <tr>\n",
              "      <th>...</th>\n",
              "      <td>...</td>\n",
              "      <td>...</td>\n",
              "      <td>...</td>\n",
              "      <td>...</td>\n",
              "      <td>...</td>\n",
              "      <td>...</td>\n",
              "      <td>...</td>\n",
              "      <td>...</td>\n",
              "      <td>...</td>\n",
              "      <td>...</td>\n",
              "      <td>...</td>\n",
              "      <td>...</td>\n",
              "      <td>...</td>\n",
              "      <td>...</td>\n",
              "      <td>...</td>\n",
              "      <td>...</td>\n",
              "      <td>...</td>\n",
              "      <td>...</td>\n",
              "      <td>...</td>\n",
              "      <td>...</td>\n",
              "      <td>...</td>\n",
              "    </tr>\n",
              "    <tr>\n",
              "      <th>584427</th>\n",
              "      <td>905103</td>\n",
              "      <td>canceled</td>\n",
              "      <td>8/28/2018</td>\n",
              "      <td>BAGVIT5A9D1C61F3CCD</td>\n",
              "      <td>500.0</td>\n",
              "      <td>1</td>\n",
              "      <td>2722.0</td>\n",
              "      <td>100562312</td>\n",
              "      <td>Beauty &amp; Grooming</td>\n",
              "      <td>100559728</td>\n",
              "      <td>...</td>\n",
              "      <td>Payaxis</td>\n",
              "      <td>2018-08-28</td>\n",
              "      <td>Gross</td>\n",
              "      <td>500</td>\n",
              "      <td>2018</td>\n",
              "      <td>8</td>\n",
              "      <td>2018-8</td>\n",
              "      <td>8-2018</td>\n",
              "      <td>FY19</td>\n",
              "      <td>114788.0</td>\n",
              "    </tr>\n",
              "    <tr>\n",
              "      <th>584428</th>\n",
              "      <td>905104</td>\n",
              "      <td>canceled</td>\n",
              "      <td>8/28/2018</td>\n",
              "      <td>BAGDW5A7038B3EF001</td>\n",
              "      <td>390.0</td>\n",
              "      <td>1</td>\n",
              "      <td>2722.0</td>\n",
              "      <td>100562312</td>\n",
              "      <td>Beauty &amp; Grooming</td>\n",
              "      <td>100559728</td>\n",
              "      <td>...</td>\n",
              "      <td>Payaxis</td>\n",
              "      <td>2018-08-28</td>\n",
              "      <td>Gross</td>\n",
              "      <td>390</td>\n",
              "      <td>2018</td>\n",
              "      <td>8</td>\n",
              "      <td>2018-8</td>\n",
              "      <td>8-2018</td>\n",
              "      <td>FY19</td>\n",
              "      <td>114788.0</td>\n",
              "    </tr>\n",
              "    <tr>\n",
              "      <th>584429</th>\n",
              "      <td>905105</td>\n",
              "      <td>canceled</td>\n",
              "      <td>8/28/2018</td>\n",
              "      <td>BAGPRO5B0FA123819C4</td>\n",
              "      <td>490.0</td>\n",
              "      <td>1</td>\n",
              "      <td>2722.0</td>\n",
              "      <td>100562312</td>\n",
              "      <td>Beauty &amp; Grooming</td>\n",
              "      <td>100559728</td>\n",
              "      <td>...</td>\n",
              "      <td>Payaxis</td>\n",
              "      <td>2018-08-28</td>\n",
              "      <td>Gross</td>\n",
              "      <td>490</td>\n",
              "      <td>2018</td>\n",
              "      <td>8</td>\n",
              "      <td>2018-8</td>\n",
              "      <td>8-2018</td>\n",
              "      <td>FY19</td>\n",
              "      <td>114788.0</td>\n",
              "    </tr>\n",
              "    <tr>\n",
              "      <th>584430</th>\n",
              "      <td>905106</td>\n",
              "      <td>canceled</td>\n",
              "      <td>8/28/2018</td>\n",
              "      <td>BAGFT5A3272925D642</td>\n",
              "      <td>224.0</td>\n",
              "      <td>1</td>\n",
              "      <td>2722.0</td>\n",
              "      <td>100562312</td>\n",
              "      <td>Beauty &amp; Grooming</td>\n",
              "      <td>100559728</td>\n",
              "      <td>...</td>\n",
              "      <td>Payaxis</td>\n",
              "      <td>2018-08-28</td>\n",
              "      <td>Gross</td>\n",
              "      <td>224</td>\n",
              "      <td>2018</td>\n",
              "      <td>8</td>\n",
              "      <td>2018-8</td>\n",
              "      <td>8-2018</td>\n",
              "      <td>FY19</td>\n",
              "      <td>114788.0</td>\n",
              "    </tr>\n",
              "    <tr>\n",
              "      <th>584431</th>\n",
              "      <td>905107</td>\n",
              "      <td>canceled</td>\n",
              "      <td>8/28/2018</td>\n",
              "      <td>FAI5A95000195701</td>\n",
              "      <td>299.0</td>\n",
              "      <td>2</td>\n",
              "      <td>2722.0</td>\n",
              "      <td>100562312</td>\n",
              "      <td>Superstore</td>\n",
              "      <td>100559728</td>\n",
              "      <td>...</td>\n",
              "      <td>Payaxis</td>\n",
              "      <td>2018-08-28</td>\n",
              "      <td>Gross</td>\n",
              "      <td>598</td>\n",
              "      <td>2018</td>\n",
              "      <td>8</td>\n",
              "      <td>2018-8</td>\n",
              "      <td>8-2018</td>\n",
              "      <td>FY19</td>\n",
              "      <td>114788.0</td>\n",
              "    </tr>\n",
              "  </tbody>\n",
              "</table>\n",
              "<p>141437 rows × 21 columns</p>\n",
              "</div>\n",
              "      <button class=\"colab-df-convert\" onclick=\"convertToInteractive('df-c74ace79-76fc-4674-a9c1-1fd66867a4e3')\"\n",
              "              title=\"Convert this dataframe to an interactive table.\"\n",
              "              style=\"display:none;\">\n",
              "        \n",
              "  <svg xmlns=\"http://www.w3.org/2000/svg\" height=\"24px\"viewBox=\"0 0 24 24\"\n",
              "       width=\"24px\">\n",
              "    <path d=\"M0 0h24v24H0V0z\" fill=\"none\"/>\n",
              "    <path d=\"M18.56 5.44l.94 2.06.94-2.06 2.06-.94-2.06-.94-.94-2.06-.94 2.06-2.06.94zm-11 1L8.5 8.5l.94-2.06 2.06-.94-2.06-.94L8.5 2.5l-.94 2.06-2.06.94zm10 10l.94 2.06.94-2.06 2.06-.94-2.06-.94-.94-2.06-.94 2.06-2.06.94z\"/><path d=\"M17.41 7.96l-1.37-1.37c-.4-.4-.92-.59-1.43-.59-.52 0-1.04.2-1.43.59L10.3 9.45l-7.72 7.72c-.78.78-.78 2.05 0 2.83L4 21.41c.39.39.9.59 1.41.59.51 0 1.02-.2 1.41-.59l7.78-7.78 2.81-2.81c.8-.78.8-2.07 0-2.86zM5.41 20L4 18.59l7.72-7.72 1.47 1.35L5.41 20z\"/>\n",
              "  </svg>\n",
              "      </button>\n",
              "      \n",
              "  <style>\n",
              "    .colab-df-container {\n",
              "      display:flex;\n",
              "      flex-wrap:wrap;\n",
              "      gap: 12px;\n",
              "    }\n",
              "\n",
              "    .colab-df-convert {\n",
              "      background-color: #E8F0FE;\n",
              "      border: none;\n",
              "      border-radius: 50%;\n",
              "      cursor: pointer;\n",
              "      display: none;\n",
              "      fill: #1967D2;\n",
              "      height: 32px;\n",
              "      padding: 0 0 0 0;\n",
              "      width: 32px;\n",
              "    }\n",
              "\n",
              "    .colab-df-convert:hover {\n",
              "      background-color: #E2EBFA;\n",
              "      box-shadow: 0px 1px 2px rgba(60, 64, 67, 0.3), 0px 1px 3px 1px rgba(60, 64, 67, 0.15);\n",
              "      fill: #174EA6;\n",
              "    }\n",
              "\n",
              "    [theme=dark] .colab-df-convert {\n",
              "      background-color: #3B4455;\n",
              "      fill: #D2E3FC;\n",
              "    }\n",
              "\n",
              "    [theme=dark] .colab-df-convert:hover {\n",
              "      background-color: #434B5C;\n",
              "      box-shadow: 0px 1px 3px 1px rgba(0, 0, 0, 0.15);\n",
              "      filter: drop-shadow(0px 1px 2px rgba(0, 0, 0, 0.3));\n",
              "      fill: #FFFFFF;\n",
              "    }\n",
              "  </style>\n",
              "\n",
              "      <script>\n",
              "        const buttonEl =\n",
              "          document.querySelector('#df-c74ace79-76fc-4674-a9c1-1fd66867a4e3 button.colab-df-convert');\n",
              "        buttonEl.style.display =\n",
              "          google.colab.kernel.accessAllowed ? 'block' : 'none';\n",
              "\n",
              "        async function convertToInteractive(key) {\n",
              "          const element = document.querySelector('#df-c74ace79-76fc-4674-a9c1-1fd66867a4e3');\n",
              "          const dataTable =\n",
              "            await google.colab.kernel.invokeFunction('convertToInteractive',\n",
              "                                                     [key], {});\n",
              "          if (!dataTable) return;\n",
              "\n",
              "          const docLinkHtml = 'Like what you see? Visit the ' +\n",
              "            '<a target=\"_blank\" href=https://colab.research.google.com/notebooks/data_table.ipynb>data table notebook</a>'\n",
              "            + ' to learn more about interactive tables.';\n",
              "          element.innerHTML = '';\n",
              "          dataTable['output_type'] = 'display_data';\n",
              "          await google.colab.output.renderOutput(dataTable, element);\n",
              "          const docLink = document.createElement('div');\n",
              "          docLink.innerHTML = docLinkHtml;\n",
              "          element.appendChild(docLink);\n",
              "        }\n",
              "      </script>\n",
              "    </div>\n",
              "  </div>\n",
              "  "
            ]
          },
          "metadata": {},
          "execution_count": 24
        }
      ]
    },
    {
      "cell_type": "markdown",
      "source": [
        "<i>Memfilter hanya data canceled saja"
      ],
      "metadata": {
        "id": "nEkw45QDyL3I"
      }
    },
    {
      "cell_type": "code",
      "source": [
        "canceled['payment_method']"
      ],
      "metadata": {
        "colab": {
          "base_uri": "https://localhost:8080/"
        },
        "id": "TTiG2Hkbbj3X",
        "outputId": "0eb96ddc-d660-45a5-8c17-5db13b6e3b0d"
      },
      "execution_count": 25,
      "outputs": [
        {
          "output_type": "execute_result",
          "data": {
            "text/plain": [
              "1                   cod\n",
              "2                   cod\n",
              "5                   cod\n",
              "8         ublcreditcard\n",
              "9             mygateway\n",
              "              ...      \n",
              "584427          Payaxis\n",
              "584428          Payaxis\n",
              "584429          Payaxis\n",
              "584430          Payaxis\n",
              "584431          Payaxis\n",
              "Name: payment_method, Length: 141437, dtype: object"
            ]
          },
          "metadata": {},
          "execution_count": 25
        }
      ]
    },
    {
      "cell_type": "markdown",
      "source": [
        "<i>mencari fitur pembayaran yang banyak terkena canceled"
      ],
      "metadata": {
        "id": "WJrPRZ-byZyk"
      }
    },
    {
      "cell_type": "code",
      "source": [
        "paycanceled=canceled.groupby('payment_method')['item_id'].agg(['count']).reset_index().sort_values(by='count',ascending=False).head(10)\n",
        "paycanceled"
      ],
      "metadata": {
        "colab": {
          "base_uri": "https://localhost:8080/",
          "height": 363
        },
        "id": "bcGNCNkrb_yu",
        "outputId": "2deb40f1-d2cd-48fe-8a41-8e204a07148c"
      },
      "execution_count": 26,
      "outputs": [
        {
          "output_type": "execute_result",
          "data": {
            "text/plain": [
              "     payment_method  count\n",
              "2           Payaxis  51362\n",
              "0           Easypay  35731\n",
              "6               cod  16316\n",
              "12       jazzwallet  14034\n",
              "8   easypay_voucher   9387\n",
              "11      jazzvoucher   6909\n",
              "1        Easypay_MA   5133\n",
              "4       bankalfalah    670\n",
              "16    ublcreditcard    660\n",
              "14        mygateway    652"
            ],
            "text/html": [
              "\n",
              "  <div id=\"df-6896975b-8cb1-4a85-a2ed-7f5f7b85465d\">\n",
              "    <div class=\"colab-df-container\">\n",
              "      <div>\n",
              "<style scoped>\n",
              "    .dataframe tbody tr th:only-of-type {\n",
              "        vertical-align: middle;\n",
              "    }\n",
              "\n",
              "    .dataframe tbody tr th {\n",
              "        vertical-align: top;\n",
              "    }\n",
              "\n",
              "    .dataframe thead th {\n",
              "        text-align: right;\n",
              "    }\n",
              "</style>\n",
              "<table border=\"1\" class=\"dataframe\">\n",
              "  <thead>\n",
              "    <tr style=\"text-align: right;\">\n",
              "      <th></th>\n",
              "      <th>payment_method</th>\n",
              "      <th>count</th>\n",
              "    </tr>\n",
              "  </thead>\n",
              "  <tbody>\n",
              "    <tr>\n",
              "      <th>2</th>\n",
              "      <td>Payaxis</td>\n",
              "      <td>51362</td>\n",
              "    </tr>\n",
              "    <tr>\n",
              "      <th>0</th>\n",
              "      <td>Easypay</td>\n",
              "      <td>35731</td>\n",
              "    </tr>\n",
              "    <tr>\n",
              "      <th>6</th>\n",
              "      <td>cod</td>\n",
              "      <td>16316</td>\n",
              "    </tr>\n",
              "    <tr>\n",
              "      <th>12</th>\n",
              "      <td>jazzwallet</td>\n",
              "      <td>14034</td>\n",
              "    </tr>\n",
              "    <tr>\n",
              "      <th>8</th>\n",
              "      <td>easypay_voucher</td>\n",
              "      <td>9387</td>\n",
              "    </tr>\n",
              "    <tr>\n",
              "      <th>11</th>\n",
              "      <td>jazzvoucher</td>\n",
              "      <td>6909</td>\n",
              "    </tr>\n",
              "    <tr>\n",
              "      <th>1</th>\n",
              "      <td>Easypay_MA</td>\n",
              "      <td>5133</td>\n",
              "    </tr>\n",
              "    <tr>\n",
              "      <th>4</th>\n",
              "      <td>bankalfalah</td>\n",
              "      <td>670</td>\n",
              "    </tr>\n",
              "    <tr>\n",
              "      <th>16</th>\n",
              "      <td>ublcreditcard</td>\n",
              "      <td>660</td>\n",
              "    </tr>\n",
              "    <tr>\n",
              "      <th>14</th>\n",
              "      <td>mygateway</td>\n",
              "      <td>652</td>\n",
              "    </tr>\n",
              "  </tbody>\n",
              "</table>\n",
              "</div>\n",
              "      <button class=\"colab-df-convert\" onclick=\"convertToInteractive('df-6896975b-8cb1-4a85-a2ed-7f5f7b85465d')\"\n",
              "              title=\"Convert this dataframe to an interactive table.\"\n",
              "              style=\"display:none;\">\n",
              "        \n",
              "  <svg xmlns=\"http://www.w3.org/2000/svg\" height=\"24px\"viewBox=\"0 0 24 24\"\n",
              "       width=\"24px\">\n",
              "    <path d=\"M0 0h24v24H0V0z\" fill=\"none\"/>\n",
              "    <path d=\"M18.56 5.44l.94 2.06.94-2.06 2.06-.94-2.06-.94-.94-2.06-.94 2.06-2.06.94zm-11 1L8.5 8.5l.94-2.06 2.06-.94-2.06-.94L8.5 2.5l-.94 2.06-2.06.94zm10 10l.94 2.06.94-2.06 2.06-.94-2.06-.94-.94-2.06-.94 2.06-2.06.94z\"/><path d=\"M17.41 7.96l-1.37-1.37c-.4-.4-.92-.59-1.43-.59-.52 0-1.04.2-1.43.59L10.3 9.45l-7.72 7.72c-.78.78-.78 2.05 0 2.83L4 21.41c.39.39.9.59 1.41.59.51 0 1.02-.2 1.41-.59l7.78-7.78 2.81-2.81c.8-.78.8-2.07 0-2.86zM5.41 20L4 18.59l7.72-7.72 1.47 1.35L5.41 20z\"/>\n",
              "  </svg>\n",
              "      </button>\n",
              "      \n",
              "  <style>\n",
              "    .colab-df-container {\n",
              "      display:flex;\n",
              "      flex-wrap:wrap;\n",
              "      gap: 12px;\n",
              "    }\n",
              "\n",
              "    .colab-df-convert {\n",
              "      background-color: #E8F0FE;\n",
              "      border: none;\n",
              "      border-radius: 50%;\n",
              "      cursor: pointer;\n",
              "      display: none;\n",
              "      fill: #1967D2;\n",
              "      height: 32px;\n",
              "      padding: 0 0 0 0;\n",
              "      width: 32px;\n",
              "    }\n",
              "\n",
              "    .colab-df-convert:hover {\n",
              "      background-color: #E2EBFA;\n",
              "      box-shadow: 0px 1px 2px rgba(60, 64, 67, 0.3), 0px 1px 3px 1px rgba(60, 64, 67, 0.15);\n",
              "      fill: #174EA6;\n",
              "    }\n",
              "\n",
              "    [theme=dark] .colab-df-convert {\n",
              "      background-color: #3B4455;\n",
              "      fill: #D2E3FC;\n",
              "    }\n",
              "\n",
              "    [theme=dark] .colab-df-convert:hover {\n",
              "      background-color: #434B5C;\n",
              "      box-shadow: 0px 1px 3px 1px rgba(0, 0, 0, 0.15);\n",
              "      filter: drop-shadow(0px 1px 2px rgba(0, 0, 0, 0.3));\n",
              "      fill: #FFFFFF;\n",
              "    }\n",
              "  </style>\n",
              "\n",
              "      <script>\n",
              "        const buttonEl =\n",
              "          document.querySelector('#df-6896975b-8cb1-4a85-a2ed-7f5f7b85465d button.colab-df-convert');\n",
              "        buttonEl.style.display =\n",
              "          google.colab.kernel.accessAllowed ? 'block' : 'none';\n",
              "\n",
              "        async function convertToInteractive(key) {\n",
              "          const element = document.querySelector('#df-6896975b-8cb1-4a85-a2ed-7f5f7b85465d');\n",
              "          const dataTable =\n",
              "            await google.colab.kernel.invokeFunction('convertToInteractive',\n",
              "                                                     [key], {});\n",
              "          if (!dataTable) return;\n",
              "\n",
              "          const docLinkHtml = 'Like what you see? Visit the ' +\n",
              "            '<a target=\"_blank\" href=https://colab.research.google.com/notebooks/data_table.ipynb>data table notebook</a>'\n",
              "            + ' to learn more about interactive tables.';\n",
              "          element.innerHTML = '';\n",
              "          dataTable['output_type'] = 'display_data';\n",
              "          await google.colab.output.renderOutput(dataTable, element);\n",
              "          const docLink = document.createElement('div');\n",
              "          docLink.innerHTML = docLinkHtml;\n",
              "          element.appendChild(docLink);\n",
              "        }\n",
              "      </script>\n",
              "    </div>\n",
              "  </div>\n",
              "  "
            ]
          },
          "metadata": {},
          "execution_count": 26
        }
      ]
    },
    {
      "cell_type": "markdown",
      "source": [
        "<i>mencari dan menghitung fitur pembayaran yang banyak terkena canceled dan ada di payment poin Payaxis"
      ],
      "metadata": {
        "id": "QYaqcWqOyrVV"
      }
    },
    {
      "cell_type": "code",
      "source": [
        "plt.figure(figsize=(15,5))\n",
        "graph=sns.barplot(x='payment_method',y='count',data=paycanceled)\n",
        "graph.set_title('Top 10 Payment Method canceled')\n",
        "plt.show()"
      ],
      "metadata": {
        "colab": {
          "base_uri": "https://localhost:8080/",
          "height": 352
        },
        "id": "u333tO-5c2V7",
        "outputId": "ff1cf75b-7dac-4839-e157-dc507d3d670b"
      },
      "execution_count": 27,
      "outputs": [
        {
          "output_type": "display_data",
          "data": {
            "text/plain": [
              "<Figure size 1080x360 with 1 Axes>"
            ],
            "image/png": "[encoded data removed]"
          },
          "metadata": {
            "needs_background": "light"
          }
        }
      ]
    },
    {
      "cell_type": "markdown",
      "source": [
        "<i>visualisasi BAR fitur pembayaran yang sering terkena canceled"
      ],
      "metadata": {
        "id": "2QrNt980zI0F"
      }
    },
    {
      "cell_type": "markdown",
      "source": [
        "\n",
        "\n",
        "---\n",
        "<h1><i><b>Mulai pengecekan descriptif dan cek apakah ada fitur metode pembayaran, yang distribusi normal atau tidak</h1></i>\n"
      ],
      "metadata": {
        "id": "llZQux-YzWFy"
      }
    },
    {
      "cell_type": "code",
      "source": [
        "print ('Min: ' + str(paycanceled['count'].min()))\n",
        "print ('Mode: ' + str(paycanceled['count'].mode()[0]))\n",
        "print ('Median: ' + str(paycanceled['count'].median()))\n",
        "print ('Mean: ' + str(paycanceled['count'].mean()))\n",
        "print ('Max: ' + str(paycanceled['count'].max()))"
      ],
      "metadata": {
        "colab": {
          "base_uri": "https://localhost:8080/"
        },
        "id": "U2ot1obnqu1x",
        "outputId": "7449d3f7-3756-48ec-bec1-d8c132f204ec"
      },
      "execution_count": 28,
      "outputs": [
        {
          "output_type": "stream",
          "name": "stdout",
          "text": [
            "Min: 652\n",
            "Mode: 652\n",
            "Median: 8148.0\n",
            "Mean: 14085.4\n",
            "Max: 51362\n"
          ]
        }
      ]
    },
    {
      "cell_type": "markdown",
      "source": [
        "<i>menghitung Central Tedency  yang dimaksud\n",
        "<li>minimal ada 652 item tercancel\n",
        "<li>sebanyak 652 item banyak ke canceled\n",
        "<li>Nilai tengah 8148\n",
        "<li>rata rata tercancel item sebanyak 14085.4\n",
        "<li>nilai Maximal tercancel 51362"
      ],
      "metadata": {
        "id": "hnaGiZtm2PR7"
      }
    },
    {
      "cell_type": "code",
      "source": [
        "canceled_count = paycanceled['count']\n",
        "canceled_count.plot.hist(title='canceled Distribution', color='lightblue', bins=25)  \n",
        "plt.axvline(canceled_count.mean(), color='magenta', linestyle='dashed', linewidth=2)\n",
        "plt.axvline(canceled_count.median(), color='green', linestyle='dashed', linewidth=2)\n",
        "plt.show()"
      ],
      "metadata": {
        "colab": {
          "base_uri": "https://localhost:8080/",
          "height": 281
        },
        "id": "u68qvz-T8TJ8",
        "outputId": "34cbf8a3-9dfb-42d4-ca49-499ddde0d1e9"
      },
      "execution_count": 29,
      "outputs": [
        {
          "output_type": "display_data",
          "data": {
            "text/plain": [
              "<Figure size 432x288 with 1 Axes>"
            ],
            "image/png": "[encoded data removed]"
          },
          "metadata": {
            "needs_background": "light"
          }
        }
      ]
    },
    {
      "cell_type": "markdown",
      "source": [
        "<i>Histogram dari item canceled </i>\n",
        "<li>Magenta line : mean dari canceled.</li>\n",
        "<li>Green line : median dari canceled</li>"
      ],
      "metadata": {
        "id": "XN28qVvk848i"
      }
    },
    {
      "cell_type": "code",
      "source": [
        "print('Sorted count canceled : ', sorted(list(canceled_count)), '\\n')\n",
        "\n",
        "n, bins = np.histogram(canceled_count, bins=25)\n",
        "for ii in range(0, len(n)):\n",
        "  print('Bins Border - ' , ii, ': ', bins[ii], ' - ', bins[ii+1], '\\t', ' Frequency : ', n[ii])"
      ],
      "metadata": {
        "colab": {
          "base_uri": "https://localhost:8080/"
        },
        "id": "Hzms7FjA9N5h",
        "outputId": "81799747-6ac4-4779-9f61-2b1b9c7d5c65"
      },
      "execution_count": 30,
      "outputs": [
        {
          "output_type": "stream",
          "name": "stdout",
          "text": [
            "Sorted count canceled :  [652, 660, 670, 5133, 6909, 9387, 14034, 16316, 35731, 51362] \n",
            "\n",
            "Bins Border -  0 :  652.0  -  2680.4 \t  Frequency :  3\n",
            "Bins Border -  1 :  2680.4  -  4708.8 \t  Frequency :  0\n",
            "Bins Border -  2 :  4708.8  -  6737.200000000001 \t  Frequency :  1\n",
            "Bins Border -  3 :  6737.200000000001  -  8765.6 \t  Frequency :  1\n",
            "Bins Border -  4 :  8765.6  -  10794.0 \t  Frequency :  1\n",
            "Bins Border -  5 :  10794.0  -  12822.400000000001 \t  Frequency :  0\n",
            "Bins Border -  6 :  12822.400000000001  -  14850.800000000001 \t  Frequency :  1\n",
            "Bins Border -  7 :  14850.800000000001  -  16879.2 \t  Frequency :  1\n",
            "Bins Border -  8 :  16879.2  -  18907.600000000002 \t  Frequency :  0\n",
            "Bins Border -  9 :  18907.600000000002  -  20936.0 \t  Frequency :  0\n",
            "Bins Border -  10 :  20936.0  -  22964.4 \t  Frequency :  0\n",
            "Bins Border -  11 :  22964.4  -  24992.800000000003 \t  Frequency :  0\n",
            "Bins Border -  12 :  24992.800000000003  -  27021.2 \t  Frequency :  0\n",
            "Bins Border -  13 :  27021.2  -  29049.600000000002 \t  Frequency :  0\n",
            "Bins Border -  14 :  29049.600000000002  -  31078.0 \t  Frequency :  0\n",
            "Bins Border -  15 :  31078.0  -  33106.4 \t  Frequency :  0\n",
            "Bins Border -  16 :  33106.4  -  35134.8 \t  Frequency :  0\n",
            "Bins Border -  17 :  35134.8  -  37163.200000000004 \t  Frequency :  1\n",
            "Bins Border -  18 :  37163.200000000004  -  39191.6 \t  Frequency :  0\n",
            "Bins Border -  19 :  39191.6  -  41220.0 \t  Frequency :  0\n",
            "Bins Border -  20 :  41220.0  -  43248.4 \t  Frequency :  0\n",
            "Bins Border -  21 :  43248.4  -  45276.8 \t  Frequency :  0\n",
            "Bins Border -  22 :  45276.8  -  47305.200000000004 \t  Frequency :  0\n",
            "Bins Border -  23 :  47305.200000000004  -  49333.600000000006 \t  Frequency :  0\n",
            "Bins Border -  24 :  49333.600000000006  -  51362.0 \t  Frequency :  1\n"
          ]
        }
      ]
    },
    {
      "cell_type": "markdown",
      "source": [
        "<h1>Insight</h1>\n",
        "<p>Jumlah bin dalam histogram menentukan ukuran setiap pita item tercancel yang frekuensinya peneliti hitung. Lebih sedikit box berarti menggabungkan lebih banyak item ter canceled untuk dihitung sebagai satu kelompok,\n",
        "Sebagian besar data ada di sisi kiri histogram, yang mencerminkan fakta bahwa sebagian besar jumlah item canceled antara 5.000 dan 15.000,\n",
        "Mean adalah nilai yang lebih tinggi dari median dan modus.\n",
        "Ada celah dalam histogram untuk pita jumlah canceled yang tidak diperoleh fitur pembayaran manapun.\n",
        "Histogram menunjukkan frekuensi relatif dari setiap pita canceled, berdasarkan jumlah box. Ini juga memberi kita gambaran tentang kepadatan data untuk setiap poin pada item tercanceled. Dengan titik data yang cukup, dan bin yang cukup kecil, kita dapat melihat kepadatan ini sebagai garis yang menunjukkan bentuk distribusi data.</p>"
      ],
      "metadata": {
        "id": "ZvIRb3-p_Dyt"
      }
    },
    {
      "cell_type": "code",
      "source": [
        "density = stats.gaussian_kde(canceled_count)\n",
        "n, x, _ = plt.hist(canceled_count, histtype='step', bins=25)  \n",
        "plt.plot(x, density(x)*10**5)\n",
        "plt.axvline(canceled_count.mean(), color='magenta', linestyle='dashed', linewidth=2)\n",
        "plt.axvline(canceled_count.median(), color='green', linestyle='dashed', linewidth=2)\n",
        "plt.show()"
      ],
      "metadata": {
        "colab": {
          "base_uri": "https://localhost:8080/",
          "height": 265
        },
        "id": "0JQYVV7yAZcx",
        "outputId": "3bf609a8-cef9-49e6-8ba4-948d42e0d678"
      },
      "execution_count": 31,
      "outputs": [
        {
          "output_type": "display_data",
          "data": {
            "text/plain": [
              "<Figure size 432x288 with 1 Axes>"
            ],
            "image/png": "[encoded data removed]"
          },
          "metadata": {
            "needs_background": "light"
          }
        }
      ]
    },
    {
      "cell_type": "markdown",
      "source": [
        "<p>Perhatikan bahwa garis kerapatan berbentuk kurva asimetris yang memiliki \"puncak\" di sebelah kiri dan ekor panjang di sebelah kanan. Peneliti menggambarkan distribusi data semacam ini sebagai <b>skewed</b> yaitu, data tidak didistribusikan secara simetris tetapi \"berkumpul bersama\" di satu sisi. Dalam hal ini, data dikelompokkan bersama di sebelah kiri, membuat ekor panjang di sebelah kanan dan digambarkan sebagai <b>right-skewed</b> karena beberapa nilai tinggi yang jarang terjadi menarik mean ke kanan.</p>"
      ],
      "metadata": {
        "id": "_IAQtC1QBcGn"
      }
    },
    {
      "cell_type": "code",
      "source": [
        "plt.figure(figsize = (10, 5))\n",
        "sns.boxplot(paycanceled['count'])\n",
        "plt.annotate('Outlier', (paycanceled['count'].describe()['max'],0.1), xytext = (paycanceled['count'].describe()['max'],0.3),\n",
        "             arrowprops = dict(facecolor = 'blue'), fontsize = 13 )\n",
        "IQR = paycanceled['count'].describe()['75%'] - paycanceled['count'].describe()['25%']\n",
        "\n",
        "plt.figure(figsize=(15,5))\n",
        "graph=sns.barplot(x='payment_method',y='count',data=paycanceled)\n",
        "graph.set_title('Top 10 Payment Method canceled')\n",
        "plt.show()\n"
      ],
      "metadata": {
        "colab": {
          "base_uri": "https://localhost:8080/",
          "height": 758
        },
        "id": "1FVi_Tf45-0B",
        "outputId": "c2ea1991-40c4-48f7-dd13-6e754fe5380c"
      },
      "execution_count": 32,
      "outputs": [
        {
          "output_type": "stream",
          "name": "stderr",
          "text": [
            "/usr/local/lib/python3.7/dist-packages/seaborn/_decorators.py:43: FutureWarning:\n",
            "\n",
            "Pass the following variable as a keyword arg: x. From version 0.12, the only valid positional argument will be `data`, and passing other arguments without an explicit keyword will result in an error or misinterpretation.\n",
            "\n"
          ]
        },
        {
          "output_type": "display_data",
          "data": {
            "text/plain": [
              "<Figure size 720x360 with 1 Axes>"
            ],
            "image/png": "[encoded data removed]"
          },
          "metadata": {
            "needs_background": "light"
          }
        },
        {
          "output_type": "display_data",
          "data": {
            "text/plain": [
              "<Figure size 1080x360 with 1 Axes>"
            ],
            "image/png": "[encoded data removed]"
          },
          "metadata": {
            "needs_background": "light"
          }
        }
      ]
    },
    {
      "cell_type": "markdown",
      "source": [
        "<h1><p>dari visualisasi Box plot peneliti melihat ada outlier, <b>diangka > 50.000</b> jika peneliti lihat itu adalah costumer melakukan canceled dengan pembayaran menggunakan kartu Payaxis, kartu dan cara pembayaran lainnya masih terhitung normal.<p><h1>"
      ],
      "metadata": {
        "id": "U2WNm-rxHEWo"
      }
    },
    {
      "cell_type": "markdown",
      "source": [
        "<h1><b>Mulai pengecekan infrensif, apakah significant menaikan 10%</h1>"
      ],
      "metadata": {
        "id": "e_WQ4jR5NEV5"
      }
    },
    {
      "cell_type": "markdown",
      "source": [
        "<b>Single Sample Hypothesis Testing<b>"
      ],
      "metadata": {
        "id": "-QR-_7qy6l3F"
      }
    },
    {
      "cell_type": "markdown",
      "source": [
        "<p>selama 3 tahun terakhir, omset harian rata-rata 4.159.996 pemerintah ingin/berharap ecommerce pakistan, menaikan omset sebesar 10 %,jika peneliti hitung rata rata perhari jadi bertambah sebesar 416.000, dimana kita akan  mencapai rata-rata 4.575.996(4.159.996+416.000) perhari. Apakah keiinginan pemerintah menaikan 10% omset akan menjadi kenaikan yang significant?</p>"
      ],
      "metadata": {
        "id": "ArMzzYAvyGqK"
      }
    },
    {
      "cell_type": "code",
      "source": [
        "daily_omset = df[['date','grand_total']].groupby('date').sum()\n",
        "print('rata-rata omset di dataset ini perhari dari 2016 sampai 2018 : ${}'.format(np.round(daily_omset['grand_total'].mean())))"
      ],
      "metadata": {
        "colab": {
          "base_uri": "https://localhost:8080/"
        },
        "id": "lCkFpRnVR1Pu",
        "outputId": "593cd604-adb9-4c01-90e6-40a825415b4b"
      },
      "execution_count": 33,
      "outputs": [
        {
          "output_type": "stream",
          "name": "stdout",
          "text": [
            "rata-rata omset di dataset ini perhari dari 2016 sampai 2018 : $4159996.0\n"
          ]
        }
      ]
    },
    {
      "cell_type": "markdown",
      "source": [
        "<p>Untuk memeriksa apakah penambahan omset 10% untuk ecommerce pakistan akan signifikan atau tidak, peneliti akan melakukan sampel tunggal satu sisi dan menetapkan tingkat signifikansi 0,05. peneliti menggunakan metode ini karena peneliti hanya menguji variabel dan membandingkan sample(jika kedepan naik 10%) dan populasi (dan dari dataset 3 tahun).\n",
        "\n",
        "Hipotesis kami pada kasus ini:\n",
        "\n",
        "H0: μ<= $4.159.996.00\n",
        "\n",
        "H1: μ < $4.159.996.00 </p>"
      ],
      "metadata": {
        "id": "L3MjtLsiwOWV"
      }
    },
    {
      "cell_type": "code",
      "source": [
        "daily_omset"
      ],
      "metadata": {
        "colab": {
          "base_uri": "https://localhost:8080/",
          "height": 455
        },
        "id": "zELPTVVwwawN",
        "outputId": "5b7d2bb8-f522-4d8f-f6e8-85897f4616c4"
      },
      "execution_count": 34,
      "outputs": [
        {
          "output_type": "execute_result",
          "data": {
            "text/plain": [
              "            grand_total\n",
              "date                   \n",
              "2016-07-01   1301026.75\n",
              "2016-07-02   1408450.48\n",
              "2016-07-03   2215490.88\n",
              "2016-07-04   1094080.25\n",
              "2016-07-05    913053.50\n",
              "...                 ...\n",
              "2018-08-24    271097.45\n",
              "2018-08-25    283042.20\n",
              "2018-08-26      8653.00\n",
              "2018-08-27     46653.50\n",
              "2018-08-28     82990.00\n",
              "\n",
              "[784 rows x 1 columns]"
            ],
            "text/html": [
              "\n",
              "  <div id=\"df-54064162-a7fe-4284-885b-3207616e19da\">\n",
              "    <div class=\"colab-df-container\">\n",
              "      <div>\n",
              "<style scoped>\n",
              "    .dataframe tbody tr th:only-of-type {\n",
              "        vertical-align: middle;\n",
              "    }\n",
              "\n",
              "    .dataframe tbody tr th {\n",
              "        vertical-align: top;\n",
              "    }\n",
              "\n",
              "    .dataframe thead th {\n",
              "        text-align: right;\n",
              "    }\n",
              "</style>\n",
              "<table border=\"1\" class=\"dataframe\">\n",
              "  <thead>\n",
              "    <tr style=\"text-align: right;\">\n",
              "      <th></th>\n",
              "      <th>grand_total</th>\n",
              "    </tr>\n",
              "    <tr>\n",
              "      <th>date</th>\n",
              "      <th></th>\n",
              "    </tr>\n",
              "  </thead>\n",
              "  <tbody>\n",
              "    <tr>\n",
              "      <th>2016-07-01</th>\n",
              "      <td>1301026.75</td>\n",
              "    </tr>\n",
              "    <tr>\n",
              "      <th>2016-07-02</th>\n",
              "      <td>1408450.48</td>\n",
              "    </tr>\n",
              "    <tr>\n",
              "      <th>2016-07-03</th>\n",
              "      <td>2215490.88</td>\n",
              "    </tr>\n",
              "    <tr>\n",
              "      <th>2016-07-04</th>\n",
              "      <td>1094080.25</td>\n",
              "    </tr>\n",
              "    <tr>\n",
              "      <th>2016-07-05</th>\n",
              "      <td>913053.50</td>\n",
              "    </tr>\n",
              "    <tr>\n",
              "      <th>...</th>\n",
              "      <td>...</td>\n",
              "    </tr>\n",
              "    <tr>\n",
              "      <th>2018-08-24</th>\n",
              "      <td>271097.45</td>\n",
              "    </tr>\n",
              "    <tr>\n",
              "      <th>2018-08-25</th>\n",
              "      <td>283042.20</td>\n",
              "    </tr>\n",
              "    <tr>\n",
              "      <th>2018-08-26</th>\n",
              "      <td>8653.00</td>\n",
              "    </tr>\n",
              "    <tr>\n",
              "      <th>2018-08-27</th>\n",
              "      <td>46653.50</td>\n",
              "    </tr>\n",
              "    <tr>\n",
              "      <th>2018-08-28</th>\n",
              "      <td>82990.00</td>\n",
              "    </tr>\n",
              "  </tbody>\n",
              "</table>\n",
              "<p>784 rows × 1 columns</p>\n",
              "</div>\n",
              "      <button class=\"colab-df-convert\" onclick=\"convertToInteractive('df-54064162-a7fe-4284-885b-3207616e19da')\"\n",
              "              title=\"Convert this dataframe to an interactive table.\"\n",
              "              style=\"display:none;\">\n",
              "        \n",
              "  <svg xmlns=\"http://www.w3.org/2000/svg\" height=\"24px\"viewBox=\"0 0 24 24\"\n",
              "       width=\"24px\">\n",
              "    <path d=\"M0 0h24v24H0V0z\" fill=\"none\"/>\n",
              "    <path d=\"M18.56 5.44l.94 2.06.94-2.06 2.06-.94-2.06-.94-.94-2.06-.94 2.06-2.06.94zm-11 1L8.5 8.5l.94-2.06 2.06-.94-2.06-.94L8.5 2.5l-.94 2.06-2.06.94zm10 10l.94 2.06.94-2.06 2.06-.94-2.06-.94-.94-2.06-.94 2.06-2.06.94z\"/><path d=\"M17.41 7.96l-1.37-1.37c-.4-.4-.92-.59-1.43-.59-.52 0-1.04.2-1.43.59L10.3 9.45l-7.72 7.72c-.78.78-.78 2.05 0 2.83L4 21.41c.39.39.9.59 1.41.59.51 0 1.02-.2 1.41-.59l7.78-7.78 2.81-2.81c.8-.78.8-2.07 0-2.86zM5.41 20L4 18.59l7.72-7.72 1.47 1.35L5.41 20z\"/>\n",
              "  </svg>\n",
              "      </button>\n",
              "      \n",
              "  <style>\n",
              "    .colab-df-container {\n",
              "      display:flex;\n",
              "      flex-wrap:wrap;\n",
              "      gap: 12px;\n",
              "    }\n",
              "\n",
              "    .colab-df-convert {\n",
              "      background-color: #E8F0FE;\n",
              "      border: none;\n",
              "      border-radius: 50%;\n",
              "      cursor: pointer;\n",
              "      display: none;\n",
              "      fill: #1967D2;\n",
              "      height: 32px;\n",
              "      padding: 0 0 0 0;\n",
              "      width: 32px;\n",
              "    }\n",
              "\n",
              "    .colab-df-convert:hover {\n",
              "      background-color: #E2EBFA;\n",
              "      box-shadow: 0px 1px 2px rgba(60, 64, 67, 0.3), 0px 1px 3px 1px rgba(60, 64, 67, 0.15);\n",
              "      fill: #174EA6;\n",
              "    }\n",
              "\n",
              "    [theme=dark] .colab-df-convert {\n",
              "      background-color: #3B4455;\n",
              "      fill: #D2E3FC;\n",
              "    }\n",
              "\n",
              "    [theme=dark] .colab-df-convert:hover {\n",
              "      background-color: #434B5C;\n",
              "      box-shadow: 0px 1px 3px 1px rgba(0, 0, 0, 0.15);\n",
              "      filter: drop-shadow(0px 1px 2px rgba(0, 0, 0, 0.3));\n",
              "      fill: #FFFFFF;\n",
              "    }\n",
              "  </style>\n",
              "\n",
              "      <script>\n",
              "        const buttonEl =\n",
              "          document.querySelector('#df-54064162-a7fe-4284-885b-3207616e19da button.colab-df-convert');\n",
              "        buttonEl.style.display =\n",
              "          google.colab.kernel.accessAllowed ? 'block' : 'none';\n",
              "\n",
              "        async function convertToInteractive(key) {\n",
              "          const element = document.querySelector('#df-54064162-a7fe-4284-885b-3207616e19da');\n",
              "          const dataTable =\n",
              "            await google.colab.kernel.invokeFunction('convertToInteractive',\n",
              "                                                     [key], {});\n",
              "          if (!dataTable) return;\n",
              "\n",
              "          const docLinkHtml = 'Like what you see? Visit the ' +\n",
              "            '<a target=\"_blank\" href=https://colab.research.google.com/notebooks/data_table.ipynb>data table notebook</a>'\n",
              "            + ' to learn more about interactive tables.';\n",
              "          element.innerHTML = '';\n",
              "          dataTable['output_type'] = 'display_data';\n",
              "          await google.colab.output.renderOutput(dataTable, element);\n",
              "          const docLink = document.createElement('div');\n",
              "          docLink.innerHTML = docLinkHtml;\n",
              "          element.appendChild(docLink);\n",
              "        }\n",
              "      </script>\n",
              "    </div>\n",
              "  </div>\n",
              "  "
            ]
          },
          "metadata": {},
          "execution_count": 34
        }
      ]
    },
    {
      "cell_type": "code",
      "source": [
        "t_stat,p_val = stats.ttest_1samp(daily_omset.grand_total, 4575996) #dinaikan ke omset 10%\n",
        "print('P-value:',p_val/2) #Nilai p dibagi 2 karena outputnya adalah nilai p dua sisi\n",
        "print('t-statistics:',t_stat)"
      ],
      "metadata": {
        "colab": {
          "base_uri": "https://localhost:8080/"
        },
        "id": "iNwkA9CY1HvB",
        "outputId": "a3e84201-5933-415f-cd1f-e2dfc1efbdba"
      },
      "execution_count": 35,
      "outputs": [
        {
          "output_type": "stream",
          "name": "stdout",
          "text": [
            "P-value: 0.1346471385097447\n",
            "t-statistics: -1.1054729171526436\n"
          ]
        }
      ]
    },
    {
      "cell_type": "markdown",
      "source": [
        "<p>Gagal tolak H0 yang artinya <b>p>0.05</b></p>"
      ],
      "metadata": {
        "id": "pxD9YGQOG_pL"
      }
    },
    {
      "cell_type": "code",
      "source": [
        "daily_omset_pop = np.random.normal(daily_omset.grand_total.mean(), daily_omset.grand_total.std(), 10000)\n",
        "\n",
        "ci = stats.norm.interval(0.90, daily_omset.grand_total.mean(), daily_omset.grand_total.std())\n",
        "\n",
        "plt.figure(figsize=(16,5))\n",
        "sns.distplot(daily_omset_pop, label='Daily Omset (Population)', color='blue')\n",
        "plt.axvline(daily_omset.grand_total.mean(), color='red', linewidth=2, label='Daily Omset (Mean)')\n",
        "plt.axvline(ci[1], color='green', linestyle='dashed', linewidth=2, label='confidence threshold of 95%')\n",
        "plt.axvline(daily_omset_pop.mean() + t_stat*daily_omset_pop.std(), color='black', linestyle='dashed', linewidth=2, label = 'Alternative Hypothesis')\n",
        "plt.legend()"
      ],
      "metadata": {
        "colab": {
          "base_uri": "https://localhost:8080/",
          "height": 451
        },
        "id": "nyZtcS5x3GBj",
        "outputId": "3b8a5c83-72ca-44de-9299-2cf4c369cdfb"
      },
      "execution_count": 36,
      "outputs": [
        {
          "output_type": "stream",
          "name": "stderr",
          "text": [
            "/usr/local/lib/python3.7/dist-packages/seaborn/distributions.py:2619: FutureWarning:\n",
            "\n",
            "`distplot` is a deprecated function and will be removed in a future version. Please adapt your code to use either `displot` (a figure-level function with similar flexibility) or `histplot` (an axes-level function for histograms).\n",
            "\n"
          ]
        },
        {
          "output_type": "execute_result",
          "data": {
            "text/plain": [
              "<matplotlib.legend.Legend at 0x7f050fc02050>"
            ]
          },
          "metadata": {},
          "execution_count": 36
        },
        {
          "output_type": "display_data",
          "data": {
            "text/plain": [
              "<Figure size 1152x360 with 1 Axes>"
            ],
            "image/png": "[encoded data removed]"
          },
          "metadata": {
            "needs_background": "light"
          }
        }
      ]
    },
    {
      "cell_type": "markdown",
      "source": [
        "<p>Karena nilai p lebih dari 0,05, jadi peneliti gagal menolak hipotesis nol dan peneliti dapat menyimpulkan bahwa, omset e-commerce pakistan jika dinaikan 10 % , akan menjadi kenaikan omset yang significant .\n",
        "Catatan: Variabel t-statistik mengacu pada seberapa jauh hipotesis alternatif dari hipotesis nol.</p>\n",
        "<i>\"karena gagal tolak h0 peneliti berenti di single sample testing\"</i>"
      ],
      "metadata": {
        "id": "6QcqJMjj4u-f"
      }
    },
    {
      "cell_type": "markdown",
      "source": [
        "<h1><b>Pengambilan Kesimpulan</b></h1>\n",
        "<li>Dari Pemeriksaan data, ada hal yang mengganggu untuk tercapainya kenaikan omset, yaitu banyaknya user cancel pembelian.</li>\n",
        "<li>Peneliti sudah melakukan perhitungan apakah distribusi normal atau tidak dengan jumlah cancel tersebut </li>\n",
        "<li>Peneliti menemukan ada di fitur e-commerce payment poin yang menggunakan kartu, nama provider tersebut adalah <b>Payaxis</b>, di kartu pembayaran tersebut, terlihat distribusi belanjaan yang cancel/tidak jadi beli,ditemukan hal tidak normal setelah dihitung, yang artinnya sangat jauh dari rata-rata di metode pembayaran lainnya.</li>\n",
        "<li>Peneliti menyarankan untuk memeriksa provider, apakah mereka ada gangguan jaringan?atau apapun, yang menyebabkan user, yang menggunakan kartu Payaxis banyak cancel atau mungkin tercancel</li>\n",
        "<li>Dari data kita lihat ada banyak costumer cancel, yang artinnya itu menjadi costumer prospek kita untuk menaikan omset 10% dari yang pemerintah inginkan.</li>\n",
        "<li>Melihat dari data banyak costumer di e-commerce pakistan belanja mobiles dan tablet,disarankan dari peneliti lebih banyak tipe item mobile dan tablets agar bisa juga menaikan omset</p>\n",
        "<li>Peneliti sudah melakukan perhitungan, bahwa target menaikan 10% sangat significant</li>\n",
        "<li>semoga data yang diolah oleh peneliti bisa berguna untuk pengambilan keputusan kepada pemerintah pakistan, terimakasih</li>\n"
      ],
      "metadata": {
        "id": "SWJw98hcQAXm"
      }
    },
    {
      "cell_type": "markdown",
      "source": [
        "<h1>Download data</>"
      ],
      "metadata": {
        "id": "eKGbGgABJTWi"
      }
    },
    {
      "cell_type": "code",
      "source": [
        "df.to_csv('pakistanecomm.csv', index=False)"
      ],
      "metadata": {
        "id": "lN3-PtReJZTj"
      },
      "execution_count": 37,
      "outputs": []
    },
    {
      "cell_type": "code",
      "source": [
        "files.download('pakistanecomm.csv')"
      ],
      "metadata": {
        "colab": {
          "base_uri": "https://localhost:8080/",
          "height": 34
        },
        "id": "8pwxrt7rJogy",
        "outputId": "853bf8c2-6af4-428e-ea8d-e5a61118fce5"
      },
      "execution_count": 38,
      "outputs": [
        {
          "output_type": "display_data",
          "data": {
            "text/plain": [
              "<IPython.core.display.Javascript object>"
            ],
            "application/javascript": [
              "\n",
              "    async function download(id, filename, size) {\n",
              "      if (!google.colab.kernel.accessAllowed) {\n",
              "        return;\n",
              "      }\n",
              "      const div = document.createElement('div');\n",
              "      const label = document.createElement('label');\n",
              "      label.textContent = `Downloading \"${filename}\": `;\n",
              "      div.appendChild(label);\n",
              "      const progress = document.createElement('progress');\n",
              "      progress.max = size;\n",
              "      div.appendChild(progress);\n",
              "      document.body.appendChild(div);\n",
              "\n",
              "      const buffers = [];\n",
              "      let downloaded = 0;\n",
              "\n",
              "      const channel = await google.colab.kernel.comms.open(id);\n",
              "      // Send a message to notify the kernel that we're ready.\n",
              "      channel.send({})\n",
              "\n",
              "      for await (const message of channel.messages) {\n",
              "        // Send a message to notify the kernel that we're ready.\n",
              "        channel.send({})\n",
              "        if (message.buffers) {\n",
              "          for (const buffer of message.buffers) {\n",
              "            buffers.push(buffer);\n",
              "            downloaded += buffer.byteLength;\n",
              "            progress.value = downloaded;\n",
              "          }\n",
              "        }\n",
              "      }\n",
              "      const blob = new Blob(buffers, {type: 'application/binary'});\n",
              "      const a = document.createElement('a');\n",
              "      a.href = window.URL.createObjectURL(blob);\n",
              "      a.download = filename;\n",
              "      div.appendChild(a);\n",
              "      a.click();\n",
              "      div.remove();\n",
              "    }\n",
              "  "
            ]
          },
          "metadata": {}
        },
        {
          "output_type": "display_data",
          "data": {
            "text/plain": [
              "<IPython.core.display.Javascript object>"
            ],
            "application/javascript": [
              "download(\"download_b5326d9a-ad2d-4e83-b4ec-f7704ab067d4\", \"pakistanecomm.csv\", 73363818)"
            ]
          },
          "metadata": {}
        }
      ]
    }
  ]
}