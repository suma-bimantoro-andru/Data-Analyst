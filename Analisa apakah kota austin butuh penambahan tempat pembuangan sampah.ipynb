{
  "cells": [
    {
      "cell_type": "markdown",
      "metadata": {
        "id": "WpPPTGz9ccMT"
      },
      "source": [
        "Peneliti:Suma Bimantoro Andru\n",
        "\n",
        "---\n",
        "\n",
        "Problem:Apakah distribusi pembuangan sampah sudah normal, apakah butuh penambahan tempat pembuangan sampah.\n",
        "Metode peneliti:peneliti akan menganalisa dengan perhitungan statistika dan matematika untuk menganalisa problem tersebut\n"
      ]
    },
    {
      "cell_type": "markdown",
      "metadata": {
        "id": "e1ilxWRFcU8d"
      },
      "source": [
        "select report_date,load_time,load_type,load_weight,dropoff_site from `bigquery-public-data.austin_waste.waste_and_diversion`\n",
        "where report_date BETWEEN '2021-01-01' AND '2021-07-09'"
      ]
    },
    {
      "cell_type": "code",
      "execution_count": 292,
      "metadata": {
        "id": "TxQJZZT0SrKR"
      },
      "outputs": [],
      "source": [
        "import pandas as pd\n",
        "import numpy as np\n",
        "import matplotlib.pyplot as plt\n",
        "import scipy.stats as stats\n",
        "from scipy.stats import t\n",
        "from numpy import percentile\n",
        "import seaborn as sns"
      ]
    },
    {
      "cell_type": "markdown",
      "metadata": {
        "id": "k_Qq1TTNGkA9"
      },
      "source": [
        "**Load data Tampil head dan tail dari dataset**"
      ]
    },
    {
      "cell_type": "code",
      "execution_count": 240,
      "metadata": {
        "colab": {
          "base_uri": "https://localhost:8080/",
          "height": 423
        },
        "id": "7BlOvTw7TxwK",
        "outputId": "0db836c2-c680-47f7-9cce-145ad429dcb1"
      },
      "outputs": [
        {
          "data": {
            "text/html": [
              "\n",
              "  <div id=\"df-b724c0ae-9a5d-4ac3-a874-058048aff979\">\n",
              "    <div class=\"colab-df-container\">\n",
              "      <div>\n",
              "<style scoped>\n",
              "    .dataframe tbody tr th:only-of-type {\n",
              "        vertical-align: middle;\n",
              "    }\n",
              "\n",
              "    .dataframe tbody tr th {\n",
              "        vertical-align: top;\n",
              "    }\n",
              "\n",
              "    .dataframe thead th {\n",
              "        text-align: right;\n",
              "    }\n",
              "</style>\n",
              "<table border=\"1\" class=\"dataframe\">\n",
              "  <thead>\n",
              "    <tr style=\"text-align: right;\">\n",
              "      <th></th>\n",
              "      <th>report_date</th>\n",
              "      <th>load_time</th>\n",
              "      <th>load_type</th>\n",
              "      <th>load_weight</th>\n",
              "      <th>dropoff_site</th>\n",
              "    </tr>\n",
              "  </thead>\n",
              "  <tbody>\n",
              "    <tr>\n",
              "      <th>0</th>\n",
              "      <td>2021-07-08</td>\n",
              "      <td>2021-07-08 12:00:00 UTC</td>\n",
              "      <td>TIRES</td>\n",
              "      <td>2260.0</td>\n",
              "      <td>MRF</td>\n",
              "    </tr>\n",
              "    <tr>\n",
              "      <th>1</th>\n",
              "      <td>2021-07-08</td>\n",
              "      <td>2021-07-08 11:00:00 UTC</td>\n",
              "      <td>TIRES</td>\n",
              "      <td>1260.0</td>\n",
              "      <td>MRF</td>\n",
              "    </tr>\n",
              "    <tr>\n",
              "      <th>2</th>\n",
              "      <td>2021-07-08</td>\n",
              "      <td>2021-07-08 03:00:00 UTC</td>\n",
              "      <td>TIRES</td>\n",
              "      <td>800.0</td>\n",
              "      <td>MRF</td>\n",
              "    </tr>\n",
              "    <tr>\n",
              "      <th>3</th>\n",
              "      <td>2021-05-01</td>\n",
              "      <td>2021-05-01 12:29:00 UTC</td>\n",
              "      <td>TIRES</td>\n",
              "      <td>760.0</td>\n",
              "      <td>MRF</td>\n",
              "    </tr>\n",
              "    <tr>\n",
              "      <th>4</th>\n",
              "      <td>2021-07-03</td>\n",
              "      <td>2021-07-03 12:09:00 UTC</td>\n",
              "      <td>TIRES</td>\n",
              "      <td>1400.0</td>\n",
              "      <td>MRF</td>\n",
              "    </tr>\n",
              "    <tr>\n",
              "      <th>...</th>\n",
              "      <td>...</td>\n",
              "      <td>...</td>\n",
              "      <td>...</td>\n",
              "      <td>...</td>\n",
              "      <td>...</td>\n",
              "    </tr>\n",
              "    <tr>\n",
              "      <th>26152</th>\n",
              "      <td>2021-03-01</td>\n",
              "      <td>2021-03-01 11:26:00 UTC</td>\n",
              "      <td>ORGANICS</td>\n",
              "      <td>12100.0</td>\n",
              "      <td>ORGANICS BY GOSH</td>\n",
              "    </tr>\n",
              "    <tr>\n",
              "      <th>26153</th>\n",
              "      <td>2021-03-01</td>\n",
              "      <td>2021-03-01 04:27:00 UTC</td>\n",
              "      <td>ORGANICS</td>\n",
              "      <td>10900.0</td>\n",
              "      <td>ORGANICS BY GOSH</td>\n",
              "    </tr>\n",
              "    <tr>\n",
              "      <th>26154</th>\n",
              "      <td>2021-03-01</td>\n",
              "      <td>2021-03-01 05:55:00 UTC</td>\n",
              "      <td>ORGANICS</td>\n",
              "      <td>21800.0</td>\n",
              "      <td>ORGANICS BY GOSH</td>\n",
              "    </tr>\n",
              "    <tr>\n",
              "      <th>26155</th>\n",
              "      <td>2021-03-01</td>\n",
              "      <td>2021-03-02 01:10:00 UTC</td>\n",
              "      <td>ORGANICS</td>\n",
              "      <td>5640.0</td>\n",
              "      <td>ORGANICS BY GOSH</td>\n",
              "    </tr>\n",
              "    <tr>\n",
              "      <th>26156</th>\n",
              "      <td>2021-03-01</td>\n",
              "      <td>2021-03-01 10:22:00 UTC</td>\n",
              "      <td>RECYCLED METAL</td>\n",
              "      <td>360.0</td>\n",
              "      <td>AUSTIN IRON AND METAL</td>\n",
              "    </tr>\n",
              "  </tbody>\n",
              "</table>\n",
              "<p>26157 rows × 5 columns</p>\n",
              "</div>\n",
              "      <button class=\"colab-df-convert\" onclick=\"convertToInteractive('df-b724c0ae-9a5d-4ac3-a874-058048aff979')\"\n",
              "              title=\"Convert this dataframe to an interactive table.\"\n",
              "              style=\"display:none;\">\n",
              "        \n",
              "  <svg xmlns=\"http://www.w3.org/2000/svg\" height=\"24px\"viewBox=\"0 0 24 24\"\n",
              "       width=\"24px\">\n",
              "    <path d=\"M0 0h24v24H0V0z\" fill=\"none\"/>\n",
              "    <path d=\"M18.56 5.44l.94 2.06.94-2.06 2.06-.94-2.06-.94-.94-2.06-.94 2.06-2.06.94zm-11 1L8.5 8.5l.94-2.06 2.06-.94-2.06-.94L8.5 2.5l-.94 2.06-2.06.94zm10 10l.94 2.06.94-2.06 2.06-.94-2.06-.94-.94-2.06-.94 2.06-2.06.94z\"/><path d=\"M17.41 7.96l-1.37-1.37c-.4-.4-.92-.59-1.43-.59-.52 0-1.04.2-1.43.59L10.3 9.45l-7.72 7.72c-.78.78-.78 2.05 0 2.83L4 21.41c.39.39.9.59 1.41.59.51 0 1.02-.2 1.41-.59l7.78-7.78 2.81-2.81c.8-.78.8-2.07 0-2.86zM5.41 20L4 18.59l7.72-7.72 1.47 1.35L5.41 20z\"/>\n",
              "  </svg>\n",
              "      </button>\n",
              "      \n",
              "  <style>\n",
              "    .colab-df-container {\n",
              "      display:flex;\n",
              "      flex-wrap:wrap;\n",
              "      gap: 12px;\n",
              "    }\n",
              "\n",
              "    .colab-df-convert {\n",
              "      background-color: #E8F0FE;\n",
              "      border: none;\n",
              "      border-radius: 50%;\n",
              "      cursor: pointer;\n",
              "      display: none;\n",
              "      fill: #1967D2;\n",
              "      height: 32px;\n",
              "      padding: 0 0 0 0;\n",
              "      width: 32px;\n",
              "    }\n",
              "\n",
              "    .colab-df-convert:hover {\n",
              "      background-color: #E2EBFA;\n",
              "      box-shadow: 0px 1px 2px rgba(60, 64, 67, 0.3), 0px 1px 3px 1px rgba(60, 64, 67, 0.15);\n",
              "      fill: #174EA6;\n",
              "    }\n",
              "\n",
              "    [theme=dark] .colab-df-convert {\n",
              "      background-color: #3B4455;\n",
              "      fill: #D2E3FC;\n",
              "    }\n",
              "\n",
              "    [theme=dark] .colab-df-convert:hover {\n",
              "      background-color: #434B5C;\n",
              "      box-shadow: 0px 1px 3px 1px rgba(0, 0, 0, 0.15);\n",
              "      filter: drop-shadow(0px 1px 2px rgba(0, 0, 0, 0.3));\n",
              "      fill: #FFFFFF;\n",
              "    }\n",
              "  </style>\n",
              "\n",
              "      <script>\n",
              "        const buttonEl =\n",
              "          document.querySelector('#df-b724c0ae-9a5d-4ac3-a874-058048aff979 button.colab-df-convert');\n",
              "        buttonEl.style.display =\n",
              "          google.colab.kernel.accessAllowed ? 'block' : 'none';\n",
              "\n",
              "        async function convertToInteractive(key) {\n",
              "          const element = document.querySelector('#df-b724c0ae-9a5d-4ac3-a874-058048aff979');\n",
              "          const dataTable =\n",
              "            await google.colab.kernel.invokeFunction('convertToInteractive',\n",
              "                                                     [key], {});\n",
              "          if (!dataTable) return;\n",
              "\n",
              "          const docLinkHtml = 'Like what you see? Visit the ' +\n",
              "            '<a target=\"_blank\" href=https://colab.research.google.com/notebooks/data_table.ipynb>data table notebook</a>'\n",
              "            + ' to learn more about interactive tables.';\n",
              "          element.innerHTML = '';\n",
              "          dataTable['output_type'] = 'display_data';\n",
              "          await google.colab.output.renderOutput(dataTable, element);\n",
              "          const docLink = document.createElement('div');\n",
              "          docLink.innerHTML = docLinkHtml;\n",
              "          element.appendChild(docLink);\n",
              "        }\n",
              "      </script>\n",
              "    </div>\n",
              "  </div>\n",
              "  "
            ],
            "text/plain": [
              "      report_date                load_time       load_type  load_weight  \\\n",
              "0      2021-07-08  2021-07-08 12:00:00 UTC           TIRES       2260.0   \n",
              "1      2021-07-08  2021-07-08 11:00:00 UTC           TIRES       1260.0   \n",
              "2      2021-07-08  2021-07-08 03:00:00 UTC           TIRES        800.0   \n",
              "3      2021-05-01  2021-05-01 12:29:00 UTC           TIRES        760.0   \n",
              "4      2021-07-03  2021-07-03 12:09:00 UTC           TIRES       1400.0   \n",
              "...           ...                      ...             ...          ...   \n",
              "26152  2021-03-01  2021-03-01 11:26:00 UTC        ORGANICS      12100.0   \n",
              "26153  2021-03-01  2021-03-01 04:27:00 UTC        ORGANICS      10900.0   \n",
              "26154  2021-03-01  2021-03-01 05:55:00 UTC        ORGANICS      21800.0   \n",
              "26155  2021-03-01  2021-03-02 01:10:00 UTC        ORGANICS       5640.0   \n",
              "26156  2021-03-01  2021-03-01 10:22:00 UTC  RECYCLED METAL        360.0   \n",
              "\n",
              "                dropoff_site  \n",
              "0                        MRF  \n",
              "1                        MRF  \n",
              "2                        MRF  \n",
              "3                        MRF  \n",
              "4                        MRF  \n",
              "...                      ...  \n",
              "26152       ORGANICS BY GOSH  \n",
              "26153       ORGANICS BY GOSH  \n",
              "26154       ORGANICS BY GOSH  \n",
              "26155       ORGANICS BY GOSH  \n",
              "26156  AUSTIN IRON AND METAL  \n",
              "\n",
              "[26157 rows x 5 columns]"
            ]
          },
          "execution_count": 240,
          "metadata": {},
          "output_type": "execute_result"
        }
      ],
      "source": [
        "df=pd.read_csv('/content/drive/MyDrive/bq-results-20220819-092029-1660901150463/h8dsft_P0GC2_Suma-Bimantoro-Andru.csv')\n",
        "df"
      ]
    },
    {
      "cell_type": "markdown",
      "metadata": {
        "id": "2q23Ui1vHRjT"
      },
      "source": [
        "**Cleaning Missing Value**"
      ]
    },
    {
      "cell_type": "code",
      "execution_count": 241,
      "metadata": {
        "colab": {
          "base_uri": "https://localhost:8080/"
        },
        "id": "CXDelnP62Tz_",
        "outputId": "8026c3a3-4863-4898-cf86-47177db85d32"
      },
      "outputs": [
        {
          "data": {
            "text/plain": [
              "report_date        0\n",
              "load_time          0\n",
              "load_type          0\n",
              "load_weight     1048\n",
              "dropoff_site       0\n",
              "dtype: int64"
            ]
          },
          "execution_count": 241,
          "metadata": {},
          "output_type": "execute_result"
        }
      ],
      "source": [
        "#cek missing value\n",
        "df.isnull().sum()"
      ]
    },
    {
      "cell_type": "code",
      "execution_count": 242,
      "metadata": {
        "colab": {
          "base_uri": "https://localhost:8080/"
        },
        "id": "xDmLHfkG3FDt",
        "outputId": "68dcfbb6-4671-4b79-c431-08251ad1721b"
      },
      "outputs": [
        {
          "data": {
            "text/plain": [
              "report_date     0\n",
              "load_time       0\n",
              "load_type       0\n",
              "load_weight     0\n",
              "dropoff_site    0\n",
              "dtype: int64"
            ]
          },
          "execution_count": 242,
          "metadata": {},
          "output_type": "execute_result"
        }
      ],
      "source": [
        "#rubah missing value dengan nilai median\n",
        "median = df['load_weight'].median()\n",
        "df['load_weight'].fillna(median, inplace=True)\n",
        "df.isnull().sum()"
      ]
    },
    {
      "cell_type": "markdown",
      "metadata": {
        "id": "gmwyeiU7GTze"
      },
      "source": [
        "**Eksplorasi Data**"
      ]
    },
    {
      "cell_type": "code",
      "execution_count": 243,
      "metadata": {
        "colab": {
          "base_uri": "https://localhost:8080/",
          "height": 423
        },
        "id": "fnhDcQUm9uqJ",
        "outputId": "5a60a4e5-cf9f-44d8-d4b8-7f39a02aa741"
      },
      "outputs": [
        {
          "data": {
            "text/html": [
              "\n",
              "  <div id=\"df-ce9ebec1-62ea-429f-a5b7-6265f4e2cec0\">\n",
              "    <div class=\"colab-df-container\">\n",
              "      <div>\n",
              "<style scoped>\n",
              "    .dataframe tbody tr th:only-of-type {\n",
              "        vertical-align: middle;\n",
              "    }\n",
              "\n",
              "    .dataframe tbody tr th {\n",
              "        vertical-align: top;\n",
              "    }\n",
              "\n",
              "    .dataframe thead th {\n",
              "        text-align: right;\n",
              "    }\n",
              "</style>\n",
              "<table border=\"1\" class=\"dataframe\">\n",
              "  <thead>\n",
              "    <tr style=\"text-align: right;\">\n",
              "      <th></th>\n",
              "      <th>report_date</th>\n",
              "    </tr>\n",
              "  </thead>\n",
              "  <tbody>\n",
              "    <tr>\n",
              "      <th>0</th>\n",
              "      <td>2021-07-08</td>\n",
              "    </tr>\n",
              "    <tr>\n",
              "      <th>1</th>\n",
              "      <td>2021-07-08</td>\n",
              "    </tr>\n",
              "    <tr>\n",
              "      <th>2</th>\n",
              "      <td>2021-07-08</td>\n",
              "    </tr>\n",
              "    <tr>\n",
              "      <th>3</th>\n",
              "      <td>2021-05-01</td>\n",
              "    </tr>\n",
              "    <tr>\n",
              "      <th>4</th>\n",
              "      <td>2021-07-03</td>\n",
              "    </tr>\n",
              "    <tr>\n",
              "      <th>...</th>\n",
              "      <td>...</td>\n",
              "    </tr>\n",
              "    <tr>\n",
              "      <th>26152</th>\n",
              "      <td>2021-03-01</td>\n",
              "    </tr>\n",
              "    <tr>\n",
              "      <th>26153</th>\n",
              "      <td>2021-03-01</td>\n",
              "    </tr>\n",
              "    <tr>\n",
              "      <th>26154</th>\n",
              "      <td>2021-03-01</td>\n",
              "    </tr>\n",
              "    <tr>\n",
              "      <th>26155</th>\n",
              "      <td>2021-03-01</td>\n",
              "    </tr>\n",
              "    <tr>\n",
              "      <th>26156</th>\n",
              "      <td>2021-03-01</td>\n",
              "    </tr>\n",
              "  </tbody>\n",
              "</table>\n",
              "<p>26157 rows × 1 columns</p>\n",
              "</div>\n",
              "      <button class=\"colab-df-convert\" onclick=\"convertToInteractive('df-ce9ebec1-62ea-429f-a5b7-6265f4e2cec0')\"\n",
              "              title=\"Convert this dataframe to an interactive table.\"\n",
              "              style=\"display:none;\">\n",
              "        \n",
              "  <svg xmlns=\"http://www.w3.org/2000/svg\" height=\"24px\"viewBox=\"0 0 24 24\"\n",
              "       width=\"24px\">\n",
              "    <path d=\"M0 0h24v24H0V0z\" fill=\"none\"/>\n",
              "    <path d=\"M18.56 5.44l.94 2.06.94-2.06 2.06-.94-2.06-.94-.94-2.06-.94 2.06-2.06.94zm-11 1L8.5 8.5l.94-2.06 2.06-.94-2.06-.94L8.5 2.5l-.94 2.06-2.06.94zm10 10l.94 2.06.94-2.06 2.06-.94-2.06-.94-.94-2.06-.94 2.06-2.06.94z\"/><path d=\"M17.41 7.96l-1.37-1.37c-.4-.4-.92-.59-1.43-.59-.52 0-1.04.2-1.43.59L10.3 9.45l-7.72 7.72c-.78.78-.78 2.05 0 2.83L4 21.41c.39.39.9.59 1.41.59.51 0 1.02-.2 1.41-.59l7.78-7.78 2.81-2.81c.8-.78.8-2.07 0-2.86zM5.41 20L4 18.59l7.72-7.72 1.47 1.35L5.41 20z\"/>\n",
              "  </svg>\n",
              "      </button>\n",
              "      \n",
              "  <style>\n",
              "    .colab-df-container {\n",
              "      display:flex;\n",
              "      flex-wrap:wrap;\n",
              "      gap: 12px;\n",
              "    }\n",
              "\n",
              "    .colab-df-convert {\n",
              "      background-color: #E8F0FE;\n",
              "      border: none;\n",
              "      border-radius: 50%;\n",
              "      cursor: pointer;\n",
              "      display: none;\n",
              "      fill: #1967D2;\n",
              "      height: 32px;\n",
              "      padding: 0 0 0 0;\n",
              "      width: 32px;\n",
              "    }\n",
              "\n",
              "    .colab-df-convert:hover {\n",
              "      background-color: #E2EBFA;\n",
              "      box-shadow: 0px 1px 2px rgba(60, 64, 67, 0.3), 0px 1px 3px 1px rgba(60, 64, 67, 0.15);\n",
              "      fill: #174EA6;\n",
              "    }\n",
              "\n",
              "    [theme=dark] .colab-df-convert {\n",
              "      background-color: #3B4455;\n",
              "      fill: #D2E3FC;\n",
              "    }\n",
              "\n",
              "    [theme=dark] .colab-df-convert:hover {\n",
              "      background-color: #434B5C;\n",
              "      box-shadow: 0px 1px 3px 1px rgba(0, 0, 0, 0.15);\n",
              "      filter: drop-shadow(0px 1px 2px rgba(0, 0, 0, 0.3));\n",
              "      fill: #FFFFFF;\n",
              "    }\n",
              "  </style>\n",
              "\n",
              "      <script>\n",
              "        const buttonEl =\n",
              "          document.querySelector('#df-ce9ebec1-62ea-429f-a5b7-6265f4e2cec0 button.colab-df-convert');\n",
              "        buttonEl.style.display =\n",
              "          google.colab.kernel.accessAllowed ? 'block' : 'none';\n",
              "\n",
              "        async function convertToInteractive(key) {\n",
              "          const element = document.querySelector('#df-ce9ebec1-62ea-429f-a5b7-6265f4e2cec0');\n",
              "          const dataTable =\n",
              "            await google.colab.kernel.invokeFunction('convertToInteractive',\n",
              "                                                     [key], {});\n",
              "          if (!dataTable) return;\n",
              "\n",
              "          const docLinkHtml = 'Like what you see? Visit the ' +\n",
              "            '<a target=\"_blank\" href=https://colab.research.google.com/notebooks/data_table.ipynb>data table notebook</a>'\n",
              "            + ' to learn more about interactive tables.';\n",
              "          element.innerHTML = '';\n",
              "          dataTable['output_type'] = 'display_data';\n",
              "          await google.colab.output.renderOutput(dataTable, element);\n",
              "          const docLink = document.createElement('div');\n",
              "          docLink.innerHTML = docLinkHtml;\n",
              "          element.appendChild(docLink);\n",
              "        }\n",
              "      </script>\n",
              "    </div>\n",
              "  </div>\n",
              "  "
            ],
            "text/plain": [
              "      report_date\n",
              "0      2021-07-08\n",
              "1      2021-07-08\n",
              "2      2021-07-08\n",
              "3      2021-05-01\n",
              "4      2021-07-03\n",
              "...           ...\n",
              "26152  2021-03-01\n",
              "26153  2021-03-01\n",
              "26154  2021-03-01\n",
              "26155  2021-03-01\n",
              "26156  2021-03-01\n",
              "\n",
              "[26157 rows x 1 columns]"
            ]
          },
          "execution_count": 243,
          "metadata": {},
          "output_type": "execute_result"
        }
      ],
      "source": [
        "#melihat rentang waktu pengambilan data\n",
        "df[['report_date']]"
      ]
    },
    {
      "cell_type": "code",
      "execution_count": 244,
      "metadata": {
        "colab": {
          "base_uri": "https://localhost:8080/"
        },
        "id": "TZocTey6y23x",
        "outputId": "754ea5d8-3774-4b53-dc38-bf68200d45be"
      },
      "outputs": [
        {
          "data": {
            "text/plain": [
              "19766"
            ]
          },
          "execution_count": 244,
          "metadata": {},
          "output_type": "execute_result"
        }
      ],
      "source": [
        "#melihat ada berapa kali pengambilan sampah\n",
        "df['load_time'].nunique()"
      ]
    },
    {
      "cell_type": "code",
      "execution_count": 245,
      "metadata": {
        "colab": {
          "base_uri": "https://localhost:8080/"
        },
        "id": "KYyfoF4s1GRk",
        "outputId": "aa8e699d-c8cf-40ff-a05a-ca9cb79bd862"
      },
      "outputs": [
        {
          "data": {
            "text/plain": [
              "2021-03-05 12:00:00 UTC    30\n",
              "2021-01-27 12:00:00 UTC    26\n",
              "2021-06-02 12:00:00 UTC    25\n",
              "2021-03-11 12:00:00 UTC    23\n",
              "2021-03-08 12:00:00 UTC    20\n",
              "                           ..\n",
              "2021-04-26 02:58:00 UTC     1\n",
              "2021-04-26 02:42:00 UTC     1\n",
              "2021-04-26 04:53:00 UTC     1\n",
              "2021-04-26 02:25:00 UTC     1\n",
              "2021-03-01 10:22:00 UTC     1\n",
              "Name: load_time, Length: 19766, dtype: int64"
            ]
          },
          "execution_count": 245,
          "metadata": {},
          "output_type": "execute_result"
        }
      ],
      "source": [
        "df['load_time'].value_counts()"
      ]
    },
    {
      "cell_type": "code",
      "execution_count": 246,
      "metadata": {
        "colab": {
          "base_uri": "https://localhost:8080/"
        },
        "id": "kLc9tekKzYxg",
        "outputId": "a273b791-d36e-4695-a3d5-4f0b5852b8f3"
      },
      "outputs": [
        {
          "data": {
            "text/plain": [
              "array(['2021-07-08', '2021-05-01', '2021-07-03', '2021-02-27',\n",
              "       '2021-05-08', '2021-04-18', '2021-04-17', '2021-03-20',\n",
              "       '2021-06-12', '2021-03-06', '2021-03-13', '2021-01-16',\n",
              "       '2021-04-03', '2021-02-06', '2021-05-22', '2021-07-09',\n",
              "       '2021-06-05', '2021-01-23', '2021-05-29', '2021-06-26',\n",
              "       '2021-05-15', '2021-03-27', '2021-04-10', '2021-01-09',\n",
              "       '2021-01-30', '2021-04-24', '2021-02-11', '2021-01-01',\n",
              "       '2021-06-19', '2021-02-28', '2021-03-07', '2021-03-28',\n",
              "       '2021-02-19', '2021-02-07', '2021-02-21', '2021-05-30',\n",
              "       '2021-03-14', '2021-03-21', '2021-03-02', '2021-03-03',\n",
              "       '2021-03-04', '2021-03-05', '2021-03-08', '2021-03-09',\n",
              "       '2021-03-10', '2021-03-11', '2021-03-12', '2021-03-15',\n",
              "       '2021-03-16', '2021-03-17', '2021-03-18', '2021-03-19',\n",
              "       '2021-03-22', '2021-03-23', '2021-03-24', '2021-03-25',\n",
              "       '2021-03-26', '2021-03-29', '2021-03-30', '2021-03-31',\n",
              "       '2021-04-01', '2021-04-02', '2021-04-05', '2021-04-06',\n",
              "       '2021-04-07', '2021-04-08', '2021-04-09', '2021-04-12',\n",
              "       '2021-04-13', '2021-04-14', '2021-04-15', '2021-04-16',\n",
              "       '2021-04-19', '2021-04-20', '2021-04-21', '2021-04-22',\n",
              "       '2021-04-23', '2021-04-26', '2021-04-27', '2021-04-28',\n",
              "       '2021-04-29', '2021-04-30', '2021-05-03', '2021-05-04',\n",
              "       '2021-05-05', '2021-05-06', '2021-05-07', '2021-05-10',\n",
              "       '2021-05-11', '2021-05-12', '2021-05-13', '2021-05-14',\n",
              "       '2021-05-17', '2021-05-18', '2021-05-19', '2021-05-20',\n",
              "       '2021-05-21', '2021-05-24', '2021-05-25', '2021-05-26',\n",
              "       '2021-05-27', '2021-05-28', '2021-05-31', '2021-06-01',\n",
              "       '2021-06-02', '2021-06-03', '2021-06-04', '2021-06-07',\n",
              "       '2021-06-08', '2021-06-09', '2021-06-10', '2021-06-11',\n",
              "       '2021-06-14', '2021-06-15', '2021-06-16', '2021-06-17',\n",
              "       '2021-06-18', '2021-06-21', '2021-06-22', '2021-06-23',\n",
              "       '2021-06-24', '2021-06-25', '2021-06-28', '2021-06-29',\n",
              "       '2021-06-30', '2021-07-01', '2021-07-02', '2021-07-05',\n",
              "       '2021-07-06', '2021-07-07', '2021-01-02', '2021-01-04',\n",
              "       '2021-01-05', '2021-01-06', '2021-01-07', '2021-01-08',\n",
              "       '2021-01-11', '2021-01-12', '2021-01-13', '2021-01-14',\n",
              "       '2021-01-15', '2021-01-18', '2021-01-19', '2021-01-20',\n",
              "       '2021-01-21', '2021-01-22', '2021-01-25', '2021-01-26',\n",
              "       '2021-01-27', '2021-01-28', '2021-01-29', '2021-02-01',\n",
              "       '2021-02-02', '2021-02-03', '2021-02-04', '2021-02-05',\n",
              "       '2021-02-08', '2021-02-09', '2021-02-10', '2021-02-12',\n",
              "       '2021-02-22', '2021-02-23', '2021-02-24', '2021-02-25',\n",
              "       '2021-02-26', '2021-03-01'], dtype=object)"
            ]
          },
          "execution_count": 246,
          "metadata": {},
          "output_type": "execute_result"
        }
      ],
      "source": [
        "#m\n",
        "report=df['report_date'].unique()\n",
        "report"
      ]
    },
    {
      "cell_type": "code",
      "execution_count": 247,
      "metadata": {
        "colab": {
          "base_uri": "https://localhost:8080/"
        },
        "id": "N-xFXrydD_89",
        "outputId": "94cdc872-d9c9-49ce-d4f1-a633acef31ba"
      },
      "outputs": [
        {
          "data": {
            "text/plain": [
              "2021-02-25    277\n",
              "2021-03-08    273\n",
              "2021-03-22    258\n",
              "2021-02-24    257\n",
              "2021-03-10    256\n",
              "             ... \n",
              "2021-01-30      5\n",
              "2021-01-01      4\n",
              "2021-05-30      1\n",
              "2021-02-07      1\n",
              "2021-04-18      1\n",
              "Name: report_date, Length: 166, dtype: int64"
            ]
          },
          "execution_count": 247,
          "metadata": {},
          "output_type": "execute_result"
        }
      ],
      "source": [
        "#mencari berapa kali report date\n",
        "df['report_date'].value_counts()"
      ]
    },
    {
      "cell_type": "code",
      "execution_count": 248,
      "metadata": {
        "colab": {
          "base_uri": "https://localhost:8080/"
        },
        "id": "txYZhFuBE48z",
        "outputId": "9e9350b8-7810-40cb-eecb-34e05f838400"
      },
      "outputs": [
        {
          "data": {
            "text/plain": [
              "report_date\n",
              "2021-01-01      4\n",
              "2021-01-02    160\n",
              "2021-01-04    211\n",
              "2021-01-05    189\n",
              "2021-01-06    185\n",
              "             ... \n",
              "2021-07-05    143\n",
              "2021-07-06    166\n",
              "2021-07-07    148\n",
              "2021-07-08    123\n",
              "2021-07-09     26\n",
              "Name: dropoff_site, Length: 166, dtype: int64"
            ]
          },
          "execution_count": 248,
          "metadata": {},
          "output_type": "execute_result"
        }
      ],
      "source": [
        "#mencari banyaknya report date\n",
        "report_date=df.groupby('report_date')['dropoff_site'].count()\n",
        "report_date"
      ]
    },
    {
      "cell_type": "code",
      "execution_count": 249,
      "metadata": {
        "colab": {
          "base_uri": "https://localhost:8080/"
        },
        "id": "dJ3ZGbcgAr8p",
        "outputId": "cd5e9e71-05b3-4fde-afa9-bdf996b4dfb5"
      },
      "outputs": [
        {
          "data": {
            "text/plain": [
              "array(['TIRES', 'RECYCLING - SINGLE STREAM', 'SWEEPING', 'BRUSH',\n",
              "       'GARBAGE COLLECTIONS', 'YARD TRIMMING', 'BULK', 'DEAD ANIMAL',\n",
              "       'ORGANICS', 'MIXED LITTER', 'LITTER', 'RECYCLED METAL',\n",
              "       'CONTAMINATED RECYCLING', 'CONTAMINATED ORGANICS'], dtype=object)"
            ]
          },
          "execution_count": 249,
          "metadata": {},
          "output_type": "execute_result"
        }
      ],
      "source": [
        "#Ada apa saja tipe load sampah di kota Austin berdasarkan data\n",
        "df['load_type'].unique()"
      ]
    },
    {
      "cell_type": "code",
      "execution_count": 250,
      "metadata": {
        "colab": {
          "base_uri": "https://localhost:8080/"
        },
        "id": "KZVtsBqZ1ceX",
        "outputId": "22f08daf-bbe5-450b-8f50-fdc6b4e1fbb5"
      },
      "outputs": [
        {
          "data": {
            "text/plain": [
              "CONTAMINATED RECYCLING          1\n",
              "CONTAMINATED ORGANICS           1\n",
              "LITTER                         41\n",
              "RECYCLED METAL                 57\n",
              "YARD TRIMMING                 137\n",
              "DEAD ANIMAL                   150\n",
              "TIRES                         175\n",
              "MIXED LITTER                  329\n",
              "SWEEPING                     1390\n",
              "BRUSH                        1517\n",
              "BULK                         1594\n",
              "ORGANICS                     5763\n",
              "RECYCLING - SINGLE STREAM    6760\n",
              "GARBAGE COLLECTIONS          8242\n",
              "Name: load_type, dtype: int64"
            ]
          },
          "execution_count": 250,
          "metadata": {},
          "output_type": "execute_result"
        }
      ],
      "source": [
        "#jumlah tipe load\n",
        "df['load_type'].value_counts().sort_values()"
      ]
    },
    {
      "cell_type": "code",
      "execution_count": 251,
      "metadata": {
        "colab": {
          "base_uri": "https://localhost:8080/"
        },
        "id": "oEJlTNfsyUvj",
        "outputId": "1b79e6ad-1ebc-42e3-93e5-a768b0274ba5"
      },
      "outputs": [
        {
          "data": {
            "text/plain": [
              "14"
            ]
          },
          "execution_count": 251,
          "metadata": {},
          "output_type": "execute_result"
        }
      ],
      "source": [
        "#mengetahui ada berapa jumlah load sampah di kota austin\n",
        "df['load_type'].nunique()"
      ]
    },
    {
      "cell_type": "code",
      "execution_count": 252,
      "metadata": {
        "colab": {
          "base_uri": "https://localhost:8080/"
        },
        "id": "Rvy1EKfJBwQs",
        "outputId": "bf6dad99-b029-4ff4-bf4e-db21534bb9ba"
      },
      "outputs": [
        {
          "data": {
            "text/plain": [
              "array(['MRF', 'TDS - MRF', 'ONION CREEK', 'PARK CENTER', 'HORNSBY BEND',\n",
              "       'TDS LANDFILL', 'GREAT NORTHERN', 'ORGANICS BY GOSH',\n",
              "       'BALCONES RECYCLING', 'ON ROUTE HIGH DUMP',\n",
              "       'AUSTIN IRON AND METAL', 'PARK BEND', 'BALCONES WOODS',\n",
              "       'STEINER LANDFILL', 'WESTFIELD', 'ST. EDWARDS',\n",
              "       'AUSTIN WOOD RECYCLING', 'WILCAB'], dtype=object)"
            ]
          },
          "execution_count": 252,
          "metadata": {},
          "output_type": "execute_result"
        }
      ],
      "source": [
        "#Mengetahui tempat drop site ada dimana saja\n",
        "df['dropoff_site'].unique()"
      ]
    },
    {
      "cell_type": "code",
      "execution_count": 253,
      "metadata": {
        "colab": {
          "base_uri": "https://localhost:8080/"
        },
        "id": "OgMdJdGx2BrZ",
        "outputId": "ef094fdf-0b11-40c6-f025-e1f4652d1461"
      },
      "outputs": [
        {
          "data": {
            "text/plain": [
              "TDS LANDFILL             10694\n",
              "ORGANICS BY GOSH          5755\n",
              "BALCONES RECYCLING        3837\n",
              "TDS - MRF                 2948\n",
              "HORNSBY BEND              1655\n",
              "ONION CREEK                813\n",
              "MRF                        168\n",
              "ON ROUTE HIGH DUMP          81\n",
              "PARK CENTER                 75\n",
              "GREAT NORTHERN              70\n",
              "AUSTIN IRON AND METAL       50\n",
              "PARK BEND                    4\n",
              "AUSTIN WOOD RECYCLING        2\n",
              "BALCONES WOODS               1\n",
              "STEINER LANDFILL             1\n",
              "WESTFIELD                    1\n",
              "ST. EDWARDS                  1\n",
              "WILCAB                       1\n",
              "Name: dropoff_site, dtype: int64"
            ]
          },
          "execution_count": 253,
          "metadata": {},
          "output_type": "execute_result"
        }
      ],
      "source": [
        "#mengetahui ada berapa jumlah drop site\n",
        "df['dropoff_site'].value_counts()"
      ]
    },
    {
      "cell_type": "code",
      "execution_count": 254,
      "metadata": {
        "colab": {
          "base_uri": "https://localhost:8080/"
        },
        "id": "KiX3C92Vyi4B",
        "outputId": "cfd5898b-11c1-4d72-f7cd-e9f6469f74de"
      },
      "outputs": [
        {
          "data": {
            "text/plain": [
              "18"
            ]
          },
          "execution_count": 254,
          "metadata": {},
          "output_type": "execute_result"
        }
      ],
      "source": [
        "#mengetahui ada berapa jumlah drop site di kota austing\n",
        "df['dropoff_site'].nunique()"
      ]
    },
    {
      "cell_type": "code",
      "execution_count": 255,
      "metadata": {
        "colab": {
          "base_uri": "https://localhost:8080/"
        },
        "id": "B2agiS6225Pm",
        "outputId": "8b77d8ed-32d2-443e-ece4-7f752249a101"
      },
      "outputs": [
        {
          "data": {
            "text/plain": [
              "dropoff_site\n",
              "STEINER LANDFILL         7.800000e+02\n",
              "AUSTIN WOOD RECYCLING    8.100000e+03\n",
              "BALCONES WOODS           8.460000e+03\n",
              "WILCAB                   1.130000e+04\n",
              "ST. EDWARDS              1.130000e+04\n",
              "WESTFIELD                1.602000e+04\n",
              "AUSTIN IRON AND METAL    2.256000e+04\n",
              "PARK BEND                5.354000e+04\n",
              "MRF                      3.023970e+05\n",
              "GREAT NORTHERN           8.381200e+05\n",
              "PARK CENTER              8.475000e+05\n",
              "ON ROUTE HIGH DUMP       9.238800e+05\n",
              "ONION CREEK              9.186900e+06\n",
              "HORNSBY BEND             1.098442e+07\n",
              "TDS - MRF                2.910428e+07\n",
              "BALCONES RECYCLING       3.631587e+07\n",
              "ORGANICS BY GOSH         6.800811e+07\n",
              "TDS LANDFILL             1.622100e+08\n",
              "Name: load_weight, dtype: float64"
            ]
          },
          "execution_count": 255,
          "metadata": {},
          "output_type": "execute_result"
        }
      ],
      "source": [
        "#melihat beban dropsite\n",
        "data_beban_dropsite=df.groupby('dropoff_site')['load_weight'].sum().sort_values()\n",
        "data_beban_dropsite"
      ]
    },
    {
      "cell_type": "code",
      "execution_count": 256,
      "metadata": {
        "colab": {
          "base_uri": "https://localhost:8080/",
          "height": 614
        },
        "id": "ix--9lKKAxz-",
        "outputId": "ccadea95-1595-4059-89ff-683926709a29"
      },
      "outputs": [
        {
          "data": {
            "text/html": [
              "\n",
              "  <div id=\"df-a10eacc1-5795-49e1-9ba8-3366f7e10e22\">\n",
              "    <div class=\"colab-df-container\">\n",
              "      <div>\n",
              "<style scoped>\n",
              "    .dataframe tbody tr th:only-of-type {\n",
              "        vertical-align: middle;\n",
              "    }\n",
              "\n",
              "    .dataframe tbody tr th {\n",
              "        vertical-align: top;\n",
              "    }\n",
              "\n",
              "    .dataframe thead th {\n",
              "        text-align: right;\n",
              "    }\n",
              "</style>\n",
              "<table border=\"1\" class=\"dataframe\">\n",
              "  <thead>\n",
              "    <tr style=\"text-align: right;\">\n",
              "      <th></th>\n",
              "      <th>dropoff_site</th>\n",
              "      <th>load_weight</th>\n",
              "    </tr>\n",
              "  </thead>\n",
              "  <tbody>\n",
              "    <tr>\n",
              "      <th>0</th>\n",
              "      <td>STEINER LANDFILL</td>\n",
              "      <td>7.800000e+02</td>\n",
              "    </tr>\n",
              "    <tr>\n",
              "      <th>1</th>\n",
              "      <td>AUSTIN WOOD RECYCLING</td>\n",
              "      <td>8.100000e+03</td>\n",
              "    </tr>\n",
              "    <tr>\n",
              "      <th>2</th>\n",
              "      <td>BALCONES WOODS</td>\n",
              "      <td>8.460000e+03</td>\n",
              "    </tr>\n",
              "    <tr>\n",
              "      <th>3</th>\n",
              "      <td>WILCAB</td>\n",
              "      <td>1.130000e+04</td>\n",
              "    </tr>\n",
              "    <tr>\n",
              "      <th>4</th>\n",
              "      <td>ST. EDWARDS</td>\n",
              "      <td>1.130000e+04</td>\n",
              "    </tr>\n",
              "    <tr>\n",
              "      <th>5</th>\n",
              "      <td>WESTFIELD</td>\n",
              "      <td>1.602000e+04</td>\n",
              "    </tr>\n",
              "    <tr>\n",
              "      <th>6</th>\n",
              "      <td>AUSTIN IRON AND METAL</td>\n",
              "      <td>2.256000e+04</td>\n",
              "    </tr>\n",
              "    <tr>\n",
              "      <th>7</th>\n",
              "      <td>PARK BEND</td>\n",
              "      <td>5.354000e+04</td>\n",
              "    </tr>\n",
              "    <tr>\n",
              "      <th>8</th>\n",
              "      <td>MRF</td>\n",
              "      <td>3.023970e+05</td>\n",
              "    </tr>\n",
              "    <tr>\n",
              "      <th>9</th>\n",
              "      <td>GREAT NORTHERN</td>\n",
              "      <td>8.381200e+05</td>\n",
              "    </tr>\n",
              "    <tr>\n",
              "      <th>10</th>\n",
              "      <td>PARK CENTER</td>\n",
              "      <td>8.475000e+05</td>\n",
              "    </tr>\n",
              "    <tr>\n",
              "      <th>11</th>\n",
              "      <td>ON ROUTE HIGH DUMP</td>\n",
              "      <td>9.238800e+05</td>\n",
              "    </tr>\n",
              "    <tr>\n",
              "      <th>12</th>\n",
              "      <td>ONION CREEK</td>\n",
              "      <td>9.186900e+06</td>\n",
              "    </tr>\n",
              "    <tr>\n",
              "      <th>13</th>\n",
              "      <td>HORNSBY BEND</td>\n",
              "      <td>1.098442e+07</td>\n",
              "    </tr>\n",
              "    <tr>\n",
              "      <th>14</th>\n",
              "      <td>TDS - MRF</td>\n",
              "      <td>2.910428e+07</td>\n",
              "    </tr>\n",
              "    <tr>\n",
              "      <th>15</th>\n",
              "      <td>BALCONES RECYCLING</td>\n",
              "      <td>3.631587e+07</td>\n",
              "    </tr>\n",
              "    <tr>\n",
              "      <th>16</th>\n",
              "      <td>ORGANICS BY GOSH</td>\n",
              "      <td>6.800811e+07</td>\n",
              "    </tr>\n",
              "    <tr>\n",
              "      <th>17</th>\n",
              "      <td>TDS LANDFILL</td>\n",
              "      <td>1.622100e+08</td>\n",
              "    </tr>\n",
              "  </tbody>\n",
              "</table>\n",
              "</div>\n",
              "      <button class=\"colab-df-convert\" onclick=\"convertToInteractive('df-a10eacc1-5795-49e1-9ba8-3366f7e10e22')\"\n",
              "              title=\"Convert this dataframe to an interactive table.\"\n",
              "              style=\"display:none;\">\n",
              "        \n",
              "  <svg xmlns=\"http://www.w3.org/2000/svg\" height=\"24px\"viewBox=\"0 0 24 24\"\n",
              "       width=\"24px\">\n",
              "    <path d=\"M0 0h24v24H0V0z\" fill=\"none\"/>\n",
              "    <path d=\"M18.56 5.44l.94 2.06.94-2.06 2.06-.94-2.06-.94-.94-2.06-.94 2.06-2.06.94zm-11 1L8.5 8.5l.94-2.06 2.06-.94-2.06-.94L8.5 2.5l-.94 2.06-2.06.94zm10 10l.94 2.06.94-2.06 2.06-.94-2.06-.94-.94-2.06-.94 2.06-2.06.94z\"/><path d=\"M17.41 7.96l-1.37-1.37c-.4-.4-.92-.59-1.43-.59-.52 0-1.04.2-1.43.59L10.3 9.45l-7.72 7.72c-.78.78-.78 2.05 0 2.83L4 21.41c.39.39.9.59 1.41.59.51 0 1.02-.2 1.41-.59l7.78-7.78 2.81-2.81c.8-.78.8-2.07 0-2.86zM5.41 20L4 18.59l7.72-7.72 1.47 1.35L5.41 20z\"/>\n",
              "  </svg>\n",
              "      </button>\n",
              "      \n",
              "  <style>\n",
              "    .colab-df-container {\n",
              "      display:flex;\n",
              "      flex-wrap:wrap;\n",
              "      gap: 12px;\n",
              "    }\n",
              "\n",
              "    .colab-df-convert {\n",
              "      background-color: #E8F0FE;\n",
              "      border: none;\n",
              "      border-radius: 50%;\n",
              "      cursor: pointer;\n",
              "      display: none;\n",
              "      fill: #1967D2;\n",
              "      height: 32px;\n",
              "      padding: 0 0 0 0;\n",
              "      width: 32px;\n",
              "    }\n",
              "\n",
              "    .colab-df-convert:hover {\n",
              "      background-color: #E2EBFA;\n",
              "      box-shadow: 0px 1px 2px rgba(60, 64, 67, 0.3), 0px 1px 3px 1px rgba(60, 64, 67, 0.15);\n",
              "      fill: #174EA6;\n",
              "    }\n",
              "\n",
              "    [theme=dark] .colab-df-convert {\n",
              "      background-color: #3B4455;\n",
              "      fill: #D2E3FC;\n",
              "    }\n",
              "\n",
              "    [theme=dark] .colab-df-convert:hover {\n",
              "      background-color: #434B5C;\n",
              "      box-shadow: 0px 1px 3px 1px rgba(0, 0, 0, 0.15);\n",
              "      filter: drop-shadow(0px 1px 2px rgba(0, 0, 0, 0.3));\n",
              "      fill: #FFFFFF;\n",
              "    }\n",
              "  </style>\n",
              "\n",
              "      <script>\n",
              "        const buttonEl =\n",
              "          document.querySelector('#df-a10eacc1-5795-49e1-9ba8-3366f7e10e22 button.colab-df-convert');\n",
              "        buttonEl.style.display =\n",
              "          google.colab.kernel.accessAllowed ? 'block' : 'none';\n",
              "\n",
              "        async function convertToInteractive(key) {\n",
              "          const element = document.querySelector('#df-a10eacc1-5795-49e1-9ba8-3366f7e10e22');\n",
              "          const dataTable =\n",
              "            await google.colab.kernel.invokeFunction('convertToInteractive',\n",
              "                                                     [key], {});\n",
              "          if (!dataTable) return;\n",
              "\n",
              "          const docLinkHtml = 'Like what you see? Visit the ' +\n",
              "            '<a target=\"_blank\" href=https://colab.research.google.com/notebooks/data_table.ipynb>data table notebook</a>'\n",
              "            + ' to learn more about interactive tables.';\n",
              "          element.innerHTML = '';\n",
              "          dataTable['output_type'] = 'display_data';\n",
              "          await google.colab.output.renderOutput(dataTable, element);\n",
              "          const docLink = document.createElement('div');\n",
              "          docLink.innerHTML = docLinkHtml;\n",
              "          element.appendChild(docLink);\n",
              "        }\n",
              "      </script>\n",
              "    </div>\n",
              "  </div>\n",
              "  "
            ],
            "text/plain": [
              "             dropoff_site   load_weight\n",
              "0        STEINER LANDFILL  7.800000e+02\n",
              "1   AUSTIN WOOD RECYCLING  8.100000e+03\n",
              "2          BALCONES WOODS  8.460000e+03\n",
              "3                  WILCAB  1.130000e+04\n",
              "4             ST. EDWARDS  1.130000e+04\n",
              "5               WESTFIELD  1.602000e+04\n",
              "6   AUSTIN IRON AND METAL  2.256000e+04\n",
              "7               PARK BEND  5.354000e+04\n",
              "8                     MRF  3.023970e+05\n",
              "9          GREAT NORTHERN  8.381200e+05\n",
              "10            PARK CENTER  8.475000e+05\n",
              "11     ON ROUTE HIGH DUMP  9.238800e+05\n",
              "12            ONION CREEK  9.186900e+06\n",
              "13           HORNSBY BEND  1.098442e+07\n",
              "14              TDS - MRF  2.910428e+07\n",
              "15     BALCONES RECYCLING  3.631587e+07\n",
              "16       ORGANICS BY GOSH  6.800811e+07\n",
              "17           TDS LANDFILL  1.622100e+08"
            ]
          },
          "execution_count": 256,
          "metadata": {},
          "output_type": "execute_result"
        }
      ],
      "source": [
        "data_beban_dropsite=data_beban_dropsite.to_frame().reset_index()\n",
        "data_beban_dropsite.columns=['dropoff_site','load_weight']\n",
        "data_beban_dropsite"
      ]
    },
    {
      "cell_type": "code",
      "execution_count": 257,
      "metadata": {
        "colab": {
          "base_uri": "https://localhost:8080/",
          "height": 491
        },
        "id": "PUpQCaWPH4SZ",
        "outputId": "af403124-a94f-47b1-e8f4-75723beb7f2b"
      },
      "outputs": [
        {
          "data": {
            "text/plain": [
              "<matplotlib.axes._subplots.AxesSubplot at 0x7f7fd2241b50>"
            ]
          },
          "execution_count": 257,
          "metadata": {},
          "output_type": "execute_result"
        },
        {
          "data": {
            "image/png": "[encoded data removed]",
            "text/plain": [
              "<Figure size 1080x360 with 1 Axes>"
            ]
          },
          "metadata": {
            "needs_background": "light"
          },
          "output_type": "display_data"
        }
      ],
      "source": [
        "data_beban_dropsite.plot(x='dropoff_site',\n",
        "                  y='load_weight', \n",
        "                  title='Beban Drop Site',\n",
        "                   figsize=(15,5),\n",
        "                   kind='bar')"
      ]
    },
    {
      "cell_type": "code",
      "execution_count": 258,
      "metadata": {
        "colab": {
          "base_uri": "https://localhost:8080/"
        },
        "id": "5c5c7G014EPC",
        "outputId": "ed15ca2b-d3b1-4411-b663-ba2405b0abd1"
      },
      "outputs": [
        {
          "data": {
            "text/plain": [
              "load_type\n",
              "CONTAMINATED RECYCLING       5.160000e+03\n",
              "DEAD ANIMAL                  2.465000e+04\n",
              "CONTAMINATED ORGANICS        2.538000e+04\n",
              "RECYCLED METAL               8.567000e+04\n",
              "LITTER                       1.286800e+05\n",
              "TIRES                        3.097870e+05\n",
              "MIXED LITTER                 1.051780e+06\n",
              "YARD TRIMMING                1.504520e+06\n",
              "BRUSH                        9.473580e+06\n",
              "BULK                         1.294074e+07\n",
              "SWEEPING                     1.510148e+07\n",
              "RECYCLING - SINGLE STREAM    6.495443e+07\n",
              "ORGANICS                     6.808857e+07\n",
              "GARBAGE COLLECTIONS          1.451591e+08\n",
              "Name: load_weight, dtype: float64"
            ]
          },
          "execution_count": 258,
          "metadata": {},
          "output_type": "execute_result"
        }
      ],
      "source": [
        "#melihat beban load type\n",
        "data_beban_load_type=df.groupby('load_type')['load_weight'].sum().sort_values()\n",
        "data_beban_load_type"
      ]
    },
    {
      "cell_type": "code",
      "execution_count": 259,
      "metadata": {
        "colab": {
          "base_uri": "https://localhost:8080/",
          "height": 488
        },
        "id": "ZSCQKgDmBFwU",
        "outputId": "dfe2c656-2118-4598-8b75-d1691e5fae1d"
      },
      "outputs": [
        {
          "data": {
            "text/html": [
              "\n",
              "  <div id=\"df-33370e23-edbf-4c6b-acd2-d7a588e46e18\">\n",
              "    <div class=\"colab-df-container\">\n",
              "      <div>\n",
              "<style scoped>\n",
              "    .dataframe tbody tr th:only-of-type {\n",
              "        vertical-align: middle;\n",
              "    }\n",
              "\n",
              "    .dataframe tbody tr th {\n",
              "        vertical-align: top;\n",
              "    }\n",
              "\n",
              "    .dataframe thead th {\n",
              "        text-align: right;\n",
              "    }\n",
              "</style>\n",
              "<table border=\"1\" class=\"dataframe\">\n",
              "  <thead>\n",
              "    <tr style=\"text-align: right;\">\n",
              "      <th></th>\n",
              "      <th>load_type</th>\n",
              "      <th>load_weight</th>\n",
              "    </tr>\n",
              "  </thead>\n",
              "  <tbody>\n",
              "    <tr>\n",
              "      <th>0</th>\n",
              "      <td>CONTAMINATED RECYCLING</td>\n",
              "      <td>5.160000e+03</td>\n",
              "    </tr>\n",
              "    <tr>\n",
              "      <th>1</th>\n",
              "      <td>DEAD ANIMAL</td>\n",
              "      <td>2.465000e+04</td>\n",
              "    </tr>\n",
              "    <tr>\n",
              "      <th>2</th>\n",
              "      <td>CONTAMINATED ORGANICS</td>\n",
              "      <td>2.538000e+04</td>\n",
              "    </tr>\n",
              "    <tr>\n",
              "      <th>3</th>\n",
              "      <td>RECYCLED METAL</td>\n",
              "      <td>8.567000e+04</td>\n",
              "    </tr>\n",
              "    <tr>\n",
              "      <th>4</th>\n",
              "      <td>LITTER</td>\n",
              "      <td>1.286800e+05</td>\n",
              "    </tr>\n",
              "    <tr>\n",
              "      <th>5</th>\n",
              "      <td>TIRES</td>\n",
              "      <td>3.097870e+05</td>\n",
              "    </tr>\n",
              "    <tr>\n",
              "      <th>6</th>\n",
              "      <td>MIXED LITTER</td>\n",
              "      <td>1.051780e+06</td>\n",
              "    </tr>\n",
              "    <tr>\n",
              "      <th>7</th>\n",
              "      <td>YARD TRIMMING</td>\n",
              "      <td>1.504520e+06</td>\n",
              "    </tr>\n",
              "    <tr>\n",
              "      <th>8</th>\n",
              "      <td>BRUSH</td>\n",
              "      <td>9.473580e+06</td>\n",
              "    </tr>\n",
              "    <tr>\n",
              "      <th>9</th>\n",
              "      <td>BULK</td>\n",
              "      <td>1.294074e+07</td>\n",
              "    </tr>\n",
              "    <tr>\n",
              "      <th>10</th>\n",
              "      <td>SWEEPING</td>\n",
              "      <td>1.510148e+07</td>\n",
              "    </tr>\n",
              "    <tr>\n",
              "      <th>11</th>\n",
              "      <td>RECYCLING - SINGLE STREAM</td>\n",
              "      <td>6.495443e+07</td>\n",
              "    </tr>\n",
              "    <tr>\n",
              "      <th>12</th>\n",
              "      <td>ORGANICS</td>\n",
              "      <td>6.808857e+07</td>\n",
              "    </tr>\n",
              "    <tr>\n",
              "      <th>13</th>\n",
              "      <td>GARBAGE COLLECTIONS</td>\n",
              "      <td>1.451591e+08</td>\n",
              "    </tr>\n",
              "  </tbody>\n",
              "</table>\n",
              "</div>\n",
              "      <button class=\"colab-df-convert\" onclick=\"convertToInteractive('df-33370e23-edbf-4c6b-acd2-d7a588e46e18')\"\n",
              "              title=\"Convert this dataframe to an interactive table.\"\n",
              "              style=\"display:none;\">\n",
              "        \n",
              "  <svg xmlns=\"http://www.w3.org/2000/svg\" height=\"24px\"viewBox=\"0 0 24 24\"\n",
              "       width=\"24px\">\n",
              "    <path d=\"M0 0h24v24H0V0z\" fill=\"none\"/>\n",
              "    <path d=\"M18.56 5.44l.94 2.06.94-2.06 2.06-.94-2.06-.94-.94-2.06-.94 2.06-2.06.94zm-11 1L8.5 8.5l.94-2.06 2.06-.94-2.06-.94L8.5 2.5l-.94 2.06-2.06.94zm10 10l.94 2.06.94-2.06 2.06-.94-2.06-.94-.94-2.06-.94 2.06-2.06.94z\"/><path d=\"M17.41 7.96l-1.37-1.37c-.4-.4-.92-.59-1.43-.59-.52 0-1.04.2-1.43.59L10.3 9.45l-7.72 7.72c-.78.78-.78 2.05 0 2.83L4 21.41c.39.39.9.59 1.41.59.51 0 1.02-.2 1.41-.59l7.78-7.78 2.81-2.81c.8-.78.8-2.07 0-2.86zM5.41 20L4 18.59l7.72-7.72 1.47 1.35L5.41 20z\"/>\n",
              "  </svg>\n",
              "      </button>\n",
              "      \n",
              "  <style>\n",
              "    .colab-df-container {\n",
              "      display:flex;\n",
              "      flex-wrap:wrap;\n",
              "      gap: 12px;\n",
              "    }\n",
              "\n",
              "    .colab-df-convert {\n",
              "      background-color: #E8F0FE;\n",
              "      border: none;\n",
              "      border-radius: 50%;\n",
              "      cursor: pointer;\n",
              "      display: none;\n",
              "      fill: #1967D2;\n",
              "      height: 32px;\n",
              "      padding: 0 0 0 0;\n",
              "      width: 32px;\n",
              "    }\n",
              "\n",
              "    .colab-df-convert:hover {\n",
              "      background-color: #E2EBFA;\n",
              "      box-shadow: 0px 1px 2px rgba(60, 64, 67, 0.3), 0px 1px 3px 1px rgba(60, 64, 67, 0.15);\n",
              "      fill: #174EA6;\n",
              "    }\n",
              "\n",
              "    [theme=dark] .colab-df-convert {\n",
              "      background-color: #3B4455;\n",
              "      fill: #D2E3FC;\n",
              "    }\n",
              "\n",
              "    [theme=dark] .colab-df-convert:hover {\n",
              "      background-color: #434B5C;\n",
              "      box-shadow: 0px 1px 3px 1px rgba(0, 0, 0, 0.15);\n",
              "      filter: drop-shadow(0px 1px 2px rgba(0, 0, 0, 0.3));\n",
              "      fill: #FFFFFF;\n",
              "    }\n",
              "  </style>\n",
              "\n",
              "      <script>\n",
              "        const buttonEl =\n",
              "          document.querySelector('#df-33370e23-edbf-4c6b-acd2-d7a588e46e18 button.colab-df-convert');\n",
              "        buttonEl.style.display =\n",
              "          google.colab.kernel.accessAllowed ? 'block' : 'none';\n",
              "\n",
              "        async function convertToInteractive(key) {\n",
              "          const element = document.querySelector('#df-33370e23-edbf-4c6b-acd2-d7a588e46e18');\n",
              "          const dataTable =\n",
              "            await google.colab.kernel.invokeFunction('convertToInteractive',\n",
              "                                                     [key], {});\n",
              "          if (!dataTable) return;\n",
              "\n",
              "          const docLinkHtml = 'Like what you see? Visit the ' +\n",
              "            '<a target=\"_blank\" href=https://colab.research.google.com/notebooks/data_table.ipynb>data table notebook</a>'\n",
              "            + ' to learn more about interactive tables.';\n",
              "          element.innerHTML = '';\n",
              "          dataTable['output_type'] = 'display_data';\n",
              "          await google.colab.output.renderOutput(dataTable, element);\n",
              "          const docLink = document.createElement('div');\n",
              "          docLink.innerHTML = docLinkHtml;\n",
              "          element.appendChild(docLink);\n",
              "        }\n",
              "      </script>\n",
              "    </div>\n",
              "  </div>\n",
              "  "
            ],
            "text/plain": [
              "                    load_type   load_weight\n",
              "0      CONTAMINATED RECYCLING  5.160000e+03\n",
              "1                 DEAD ANIMAL  2.465000e+04\n",
              "2       CONTAMINATED ORGANICS  2.538000e+04\n",
              "3              RECYCLED METAL  8.567000e+04\n",
              "4                      LITTER  1.286800e+05\n",
              "5                       TIRES  3.097870e+05\n",
              "6                MIXED LITTER  1.051780e+06\n",
              "7               YARD TRIMMING  1.504520e+06\n",
              "8                       BRUSH  9.473580e+06\n",
              "9                        BULK  1.294074e+07\n",
              "10                   SWEEPING  1.510148e+07\n",
              "11  RECYCLING - SINGLE STREAM  6.495443e+07\n",
              "12                   ORGANICS  6.808857e+07\n",
              "13        GARBAGE COLLECTIONS  1.451591e+08"
            ]
          },
          "execution_count": 259,
          "metadata": {},
          "output_type": "execute_result"
        }
      ],
      "source": [
        "data_beban_load_type=data_beban_load_type.to_frame().reset_index()\n",
        "data_beban_load_type.columns=['load_type','load_weight']\n",
        "data_beban_load_type"
      ]
    },
    {
      "cell_type": "code",
      "execution_count": 260,
      "metadata": {
        "colab": {
          "base_uri": "https://localhost:8080/",
          "height": 504
        },
        "id": "vU5ynrX7IR3P",
        "outputId": "e6499b4e-e409-413a-d3cc-000ec7590867"
      },
      "outputs": [
        {
          "data": {
            "text/plain": [
              "<matplotlib.axes._subplots.AxesSubplot at 0x7f7fd1fc4690>"
            ]
          },
          "execution_count": 260,
          "metadata": {},
          "output_type": "execute_result"
        },
        {
          "data": {
            "image/png": "[encoded data removed]",
            "text/plain": [
              "<Figure size 1080x360 with 1 Axes>"
            ]
          },
          "metadata": {
            "needs_background": "light"
          },
          "output_type": "display_data"
        }
      ],
      "source": [
        "data_beban_load_type.plot(x='load_type',\n",
        "                  y='load_weight', \n",
        "                  title='Beban Load',\n",
        "                   figsize=(15,5),\n",
        "                   kind='bar')"
      ]
    },
    {
      "cell_type": "markdown",
      "metadata": {
        "id": "gE1AL7WIJFri"
      },
      "source": [
        "***(mean, median, dan modus) untuk masing-masing site***"
      ]
    },
    {
      "cell_type": "code",
      "execution_count": 261,
      "metadata": {
        "colab": {
          "base_uri": "https://localhost:8080/",
          "height": 423
        },
        "id": "-_ZPahmOEr5h",
        "outputId": "2a817325-23b7-4b9c-bc72-b1138f0301aa"
      },
      "outputs": [
        {
          "data": {
            "text/html": [
              "\n",
              "  <div id=\"df-ce272a76-fdf2-42f2-ac3e-74220ed79613\">\n",
              "    <div class=\"colab-df-container\">\n",
              "      <div>\n",
              "<style scoped>\n",
              "    .dataframe tbody tr th:only-of-type {\n",
              "        vertical-align: middle;\n",
              "    }\n",
              "\n",
              "    .dataframe tbody tr th {\n",
              "        vertical-align: top;\n",
              "    }\n",
              "\n",
              "    .dataframe thead th {\n",
              "        text-align: right;\n",
              "    }\n",
              "</style>\n",
              "<table border=\"1\" class=\"dataframe\">\n",
              "  <thead>\n",
              "    <tr style=\"text-align: right;\">\n",
              "      <th></th>\n",
              "      <th>report_date</th>\n",
              "      <th>load_time</th>\n",
              "      <th>load_type</th>\n",
              "      <th>load_weight</th>\n",
              "      <th>dropoff_site</th>\n",
              "    </tr>\n",
              "  </thead>\n",
              "  <tbody>\n",
              "    <tr>\n",
              "      <th>0</th>\n",
              "      <td>2021-07-08</td>\n",
              "      <td>2021-07-08 12:00:00 UTC</td>\n",
              "      <td>TIRES</td>\n",
              "      <td>2260.0</td>\n",
              "      <td>MRF</td>\n",
              "    </tr>\n",
              "    <tr>\n",
              "      <th>1</th>\n",
              "      <td>2021-07-08</td>\n",
              "      <td>2021-07-08 11:00:00 UTC</td>\n",
              "      <td>TIRES</td>\n",
              "      <td>1260.0</td>\n",
              "      <td>MRF</td>\n",
              "    </tr>\n",
              "    <tr>\n",
              "      <th>2</th>\n",
              "      <td>2021-07-08</td>\n",
              "      <td>2021-07-08 03:00:00 UTC</td>\n",
              "      <td>TIRES</td>\n",
              "      <td>800.0</td>\n",
              "      <td>MRF</td>\n",
              "    </tr>\n",
              "    <tr>\n",
              "      <th>3</th>\n",
              "      <td>2021-05-01</td>\n",
              "      <td>2021-05-01 12:29:00 UTC</td>\n",
              "      <td>TIRES</td>\n",
              "      <td>760.0</td>\n",
              "      <td>MRF</td>\n",
              "    </tr>\n",
              "    <tr>\n",
              "      <th>4</th>\n",
              "      <td>2021-07-03</td>\n",
              "      <td>2021-07-03 12:09:00 UTC</td>\n",
              "      <td>TIRES</td>\n",
              "      <td>1400.0</td>\n",
              "      <td>MRF</td>\n",
              "    </tr>\n",
              "    <tr>\n",
              "      <th>...</th>\n",
              "      <td>...</td>\n",
              "      <td>...</td>\n",
              "      <td>...</td>\n",
              "      <td>...</td>\n",
              "      <td>...</td>\n",
              "    </tr>\n",
              "    <tr>\n",
              "      <th>26152</th>\n",
              "      <td>2021-03-01</td>\n",
              "      <td>2021-03-01 11:26:00 UTC</td>\n",
              "      <td>ORGANICS</td>\n",
              "      <td>12100.0</td>\n",
              "      <td>ORGANICS BY GOSH</td>\n",
              "    </tr>\n",
              "    <tr>\n",
              "      <th>26153</th>\n",
              "      <td>2021-03-01</td>\n",
              "      <td>2021-03-01 04:27:00 UTC</td>\n",
              "      <td>ORGANICS</td>\n",
              "      <td>10900.0</td>\n",
              "      <td>ORGANICS BY GOSH</td>\n",
              "    </tr>\n",
              "    <tr>\n",
              "      <th>26154</th>\n",
              "      <td>2021-03-01</td>\n",
              "      <td>2021-03-01 05:55:00 UTC</td>\n",
              "      <td>ORGANICS</td>\n",
              "      <td>21800.0</td>\n",
              "      <td>ORGANICS BY GOSH</td>\n",
              "    </tr>\n",
              "    <tr>\n",
              "      <th>26155</th>\n",
              "      <td>2021-03-01</td>\n",
              "      <td>2021-03-02 01:10:00 UTC</td>\n",
              "      <td>ORGANICS</td>\n",
              "      <td>5640.0</td>\n",
              "      <td>ORGANICS BY GOSH</td>\n",
              "    </tr>\n",
              "    <tr>\n",
              "      <th>26156</th>\n",
              "      <td>2021-03-01</td>\n",
              "      <td>2021-03-01 10:22:00 UTC</td>\n",
              "      <td>RECYCLED METAL</td>\n",
              "      <td>360.0</td>\n",
              "      <td>AUSTIN IRON AND METAL</td>\n",
              "    </tr>\n",
              "  </tbody>\n",
              "</table>\n",
              "<p>26157 rows × 5 columns</p>\n",
              "</div>\n",
              "      <button class=\"colab-df-convert\" onclick=\"convertToInteractive('df-ce272a76-fdf2-42f2-ac3e-74220ed79613')\"\n",
              "              title=\"Convert this dataframe to an interactive table.\"\n",
              "              style=\"display:none;\">\n",
              "        \n",
              "  <svg xmlns=\"http://www.w3.org/2000/svg\" height=\"24px\"viewBox=\"0 0 24 24\"\n",
              "       width=\"24px\">\n",
              "    <path d=\"M0 0h24v24H0V0z\" fill=\"none\"/>\n",
              "    <path d=\"M18.56 5.44l.94 2.06.94-2.06 2.06-.94-2.06-.94-.94-2.06-.94 2.06-2.06.94zm-11 1L8.5 8.5l.94-2.06 2.06-.94-2.06-.94L8.5 2.5l-.94 2.06-2.06.94zm10 10l.94 2.06.94-2.06 2.06-.94-2.06-.94-.94-2.06-.94 2.06-2.06.94z\"/><path d=\"M17.41 7.96l-1.37-1.37c-.4-.4-.92-.59-1.43-.59-.52 0-1.04.2-1.43.59L10.3 9.45l-7.72 7.72c-.78.78-.78 2.05 0 2.83L4 21.41c.39.39.9.59 1.41.59.51 0 1.02-.2 1.41-.59l7.78-7.78 2.81-2.81c.8-.78.8-2.07 0-2.86zM5.41 20L4 18.59l7.72-7.72 1.47 1.35L5.41 20z\"/>\n",
              "  </svg>\n",
              "      </button>\n",
              "      \n",
              "  <style>\n",
              "    .colab-df-container {\n",
              "      display:flex;\n",
              "      flex-wrap:wrap;\n",
              "      gap: 12px;\n",
              "    }\n",
              "\n",
              "    .colab-df-convert {\n",
              "      background-color: #E8F0FE;\n",
              "      border: none;\n",
              "      border-radius: 50%;\n",
              "      cursor: pointer;\n",
              "      display: none;\n",
              "      fill: #1967D2;\n",
              "      height: 32px;\n",
              "      padding: 0 0 0 0;\n",
              "      width: 32px;\n",
              "    }\n",
              "\n",
              "    .colab-df-convert:hover {\n",
              "      background-color: #E2EBFA;\n",
              "      box-shadow: 0px 1px 2px rgba(60, 64, 67, 0.3), 0px 1px 3px 1px rgba(60, 64, 67, 0.15);\n",
              "      fill: #174EA6;\n",
              "    }\n",
              "\n",
              "    [theme=dark] .colab-df-convert {\n",
              "      background-color: #3B4455;\n",
              "      fill: #D2E3FC;\n",
              "    }\n",
              "\n",
              "    [theme=dark] .colab-df-convert:hover {\n",
              "      background-color: #434B5C;\n",
              "      box-shadow: 0px 1px 3px 1px rgba(0, 0, 0, 0.15);\n",
              "      filter: drop-shadow(0px 1px 2px rgba(0, 0, 0, 0.3));\n",
              "      fill: #FFFFFF;\n",
              "    }\n",
              "  </style>\n",
              "\n",
              "      <script>\n",
              "        const buttonEl =\n",
              "          document.querySelector('#df-ce272a76-fdf2-42f2-ac3e-74220ed79613 button.colab-df-convert');\n",
              "        buttonEl.style.display =\n",
              "          google.colab.kernel.accessAllowed ? 'block' : 'none';\n",
              "\n",
              "        async function convertToInteractive(key) {\n",
              "          const element = document.querySelector('#df-ce272a76-fdf2-42f2-ac3e-74220ed79613');\n",
              "          const dataTable =\n",
              "            await google.colab.kernel.invokeFunction('convertToInteractive',\n",
              "                                                     [key], {});\n",
              "          if (!dataTable) return;\n",
              "\n",
              "          const docLinkHtml = 'Like what you see? Visit the ' +\n",
              "            '<a target=\"_blank\" href=https://colab.research.google.com/notebooks/data_table.ipynb>data table notebook</a>'\n",
              "            + ' to learn more about interactive tables.';\n",
              "          element.innerHTML = '';\n",
              "          dataTable['output_type'] = 'display_data';\n",
              "          await google.colab.output.renderOutput(dataTable, element);\n",
              "          const docLink = document.createElement('div');\n",
              "          docLink.innerHTML = docLinkHtml;\n",
              "          element.appendChild(docLink);\n",
              "        }\n",
              "      </script>\n",
              "    </div>\n",
              "  </div>\n",
              "  "
            ],
            "text/plain": [
              "      report_date                load_time       load_type  load_weight  \\\n",
              "0      2021-07-08  2021-07-08 12:00:00 UTC           TIRES       2260.0   \n",
              "1      2021-07-08  2021-07-08 11:00:00 UTC           TIRES       1260.0   \n",
              "2      2021-07-08  2021-07-08 03:00:00 UTC           TIRES        800.0   \n",
              "3      2021-05-01  2021-05-01 12:29:00 UTC           TIRES        760.0   \n",
              "4      2021-07-03  2021-07-03 12:09:00 UTC           TIRES       1400.0   \n",
              "...           ...                      ...             ...          ...   \n",
              "26152  2021-03-01  2021-03-01 11:26:00 UTC        ORGANICS      12100.0   \n",
              "26153  2021-03-01  2021-03-01 04:27:00 UTC        ORGANICS      10900.0   \n",
              "26154  2021-03-01  2021-03-01 05:55:00 UTC        ORGANICS      21800.0   \n",
              "26155  2021-03-01  2021-03-02 01:10:00 UTC        ORGANICS       5640.0   \n",
              "26156  2021-03-01  2021-03-01 10:22:00 UTC  RECYCLED METAL        360.0   \n",
              "\n",
              "                dropoff_site  \n",
              "0                        MRF  \n",
              "1                        MRF  \n",
              "2                        MRF  \n",
              "3                        MRF  \n",
              "4                        MRF  \n",
              "...                      ...  \n",
              "26152       ORGANICS BY GOSH  \n",
              "26153       ORGANICS BY GOSH  \n",
              "26154       ORGANICS BY GOSH  \n",
              "26155       ORGANICS BY GOSH  \n",
              "26156  AUSTIN IRON AND METAL  \n",
              "\n",
              "[26157 rows x 5 columns]"
            ]
          },
          "execution_count": 261,
          "metadata": {},
          "output_type": "execute_result"
        }
      ],
      "source": [
        "#show data\n",
        "df"
      ]
    },
    {
      "cell_type": "code",
      "execution_count": 262,
      "metadata": {
        "colab": {
          "base_uri": "https://localhost:8080/",
          "height": 676
        },
        "id": "H-ST-V0ZFYKP",
        "outputId": "08538a3b-2c81-4d25-d57d-5f4accf8f1bb"
      },
      "outputs": [
        {
          "data": {
            "text/html": [
              "\n",
              "  <div id=\"df-6ee09e66-7516-4d48-a459-be3313520787\">\n",
              "    <div class=\"colab-df-container\">\n",
              "      <div>\n",
              "<style scoped>\n",
              "    .dataframe tbody tr th:only-of-type {\n",
              "        vertical-align: middle;\n",
              "    }\n",
              "\n",
              "    .dataframe tbody tr th {\n",
              "        vertical-align: top;\n",
              "    }\n",
              "\n",
              "    .dataframe thead tr th {\n",
              "        text-align: left;\n",
              "    }\n",
              "\n",
              "    .dataframe thead tr:last-of-type th {\n",
              "        text-align: right;\n",
              "    }\n",
              "</style>\n",
              "<table border=\"1\" class=\"dataframe\">\n",
              "  <thead>\n",
              "    <tr>\n",
              "      <th></th>\n",
              "      <th colspan=\"2\" halign=\"left\">load_weight</th>\n",
              "    </tr>\n",
              "    <tr>\n",
              "      <th></th>\n",
              "      <th>mean</th>\n",
              "      <th>median</th>\n",
              "    </tr>\n",
              "    <tr>\n",
              "      <th>dropoff_site</th>\n",
              "      <th></th>\n",
              "      <th></th>\n",
              "    </tr>\n",
              "  </thead>\n",
              "  <tbody>\n",
              "    <tr>\n",
              "      <th>AUSTIN IRON AND METAL</th>\n",
              "      <td>451.200000</td>\n",
              "      <td>400.0</td>\n",
              "    </tr>\n",
              "    <tr>\n",
              "      <th>AUSTIN WOOD RECYCLING</th>\n",
              "      <td>4050.000000</td>\n",
              "      <td>4050.0</td>\n",
              "    </tr>\n",
              "    <tr>\n",
              "      <th>BALCONES RECYCLING</th>\n",
              "      <td>9464.652072</td>\n",
              "      <td>9840.0</td>\n",
              "    </tr>\n",
              "    <tr>\n",
              "      <th>BALCONES WOODS</th>\n",
              "      <td>8460.000000</td>\n",
              "      <td>8460.0</td>\n",
              "    </tr>\n",
              "    <tr>\n",
              "      <th>GREAT NORTHERN</th>\n",
              "      <td>11973.142857</td>\n",
              "      <td>11300.0</td>\n",
              "    </tr>\n",
              "    <tr>\n",
              "      <th>HORNSBY BEND</th>\n",
              "      <td>6637.111782</td>\n",
              "      <td>6400.0</td>\n",
              "    </tr>\n",
              "    <tr>\n",
              "      <th>MRF</th>\n",
              "      <td>1799.982143</td>\n",
              "      <td>1360.0</td>\n",
              "    </tr>\n",
              "    <tr>\n",
              "      <th>ON ROUTE HIGH DUMP</th>\n",
              "      <td>11405.925926</td>\n",
              "      <td>11300.0</td>\n",
              "    </tr>\n",
              "    <tr>\n",
              "      <th>ONION CREEK</th>\n",
              "      <td>11300.000000</td>\n",
              "      <td>11300.0</td>\n",
              "    </tr>\n",
              "    <tr>\n",
              "      <th>ORGANICS BY GOSH</th>\n",
              "      <td>11817.220851</td>\n",
              "      <td>11900.0</td>\n",
              "    </tr>\n",
              "    <tr>\n",
              "      <th>PARK BEND</th>\n",
              "      <td>13385.000000</td>\n",
              "      <td>12330.0</td>\n",
              "    </tr>\n",
              "    <tr>\n",
              "      <th>PARK CENTER</th>\n",
              "      <td>11300.000000</td>\n",
              "      <td>11300.0</td>\n",
              "    </tr>\n",
              "    <tr>\n",
              "      <th>ST. EDWARDS</th>\n",
              "      <td>11300.000000</td>\n",
              "      <td>11300.0</td>\n",
              "    </tr>\n",
              "    <tr>\n",
              "      <th>STEINER LANDFILL</th>\n",
              "      <td>780.000000</td>\n",
              "      <td>780.0</td>\n",
              "    </tr>\n",
              "    <tr>\n",
              "      <th>TDS - MRF</th>\n",
              "      <td>9872.550882</td>\n",
              "      <td>10330.0</td>\n",
              "    </tr>\n",
              "    <tr>\n",
              "      <th>TDS LANDFILL</th>\n",
              "      <td>15168.321726</td>\n",
              "      <td>14920.0</td>\n",
              "    </tr>\n",
              "    <tr>\n",
              "      <th>WESTFIELD</th>\n",
              "      <td>16020.000000</td>\n",
              "      <td>16020.0</td>\n",
              "    </tr>\n",
              "    <tr>\n",
              "      <th>WILCAB</th>\n",
              "      <td>11300.000000</td>\n",
              "      <td>11300.0</td>\n",
              "    </tr>\n",
              "  </tbody>\n",
              "</table>\n",
              "</div>\n",
              "      <button class=\"colab-df-convert\" onclick=\"convertToInteractive('df-6ee09e66-7516-4d48-a459-be3313520787')\"\n",
              "              title=\"Convert this dataframe to an interactive table.\"\n",
              "              style=\"display:none;\">\n",
              "        \n",
              "  <svg xmlns=\"http://www.w3.org/2000/svg\" height=\"24px\"viewBox=\"0 0 24 24\"\n",
              "       width=\"24px\">\n",
              "    <path d=\"M0 0h24v24H0V0z\" fill=\"none\"/>\n",
              "    <path d=\"M18.56 5.44l.94 2.06.94-2.06 2.06-.94-2.06-.94-.94-2.06-.94 2.06-2.06.94zm-11 1L8.5 8.5l.94-2.06 2.06-.94-2.06-.94L8.5 2.5l-.94 2.06-2.06.94zm10 10l.94 2.06.94-2.06 2.06-.94-2.06-.94-.94-2.06-.94 2.06-2.06.94z\"/><path d=\"M17.41 7.96l-1.37-1.37c-.4-.4-.92-.59-1.43-.59-.52 0-1.04.2-1.43.59L10.3 9.45l-7.72 7.72c-.78.78-.78 2.05 0 2.83L4 21.41c.39.39.9.59 1.41.59.51 0 1.02-.2 1.41-.59l7.78-7.78 2.81-2.81c.8-.78.8-2.07 0-2.86zM5.41 20L4 18.59l7.72-7.72 1.47 1.35L5.41 20z\"/>\n",
              "  </svg>\n",
              "      </button>\n",
              "      \n",
              "  <style>\n",
              "    .colab-df-container {\n",
              "      display:flex;\n",
              "      flex-wrap:wrap;\n",
              "      gap: 12px;\n",
              "    }\n",
              "\n",
              "    .colab-df-convert {\n",
              "      background-color: #E8F0FE;\n",
              "      border: none;\n",
              "      border-radius: 50%;\n",
              "      cursor: pointer;\n",
              "      display: none;\n",
              "      fill: #1967D2;\n",
              "      height: 32px;\n",
              "      padding: 0 0 0 0;\n",
              "      width: 32px;\n",
              "    }\n",
              "\n",
              "    .colab-df-convert:hover {\n",
              "      background-color: #E2EBFA;\n",
              "      box-shadow: 0px 1px 2px rgba(60, 64, 67, 0.3), 0px 1px 3px 1px rgba(60, 64, 67, 0.15);\n",
              "      fill: #174EA6;\n",
              "    }\n",
              "\n",
              "    [theme=dark] .colab-df-convert {\n",
              "      background-color: #3B4455;\n",
              "      fill: #D2E3FC;\n",
              "    }\n",
              "\n",
              "    [theme=dark] .colab-df-convert:hover {\n",
              "      background-color: #434B5C;\n",
              "      box-shadow: 0px 1px 3px 1px rgba(0, 0, 0, 0.15);\n",
              "      filter: drop-shadow(0px 1px 2px rgba(0, 0, 0, 0.3));\n",
              "      fill: #FFFFFF;\n",
              "    }\n",
              "  </style>\n",
              "\n",
              "      <script>\n",
              "        const buttonEl =\n",
              "          document.querySelector('#df-6ee09e66-7516-4d48-a459-be3313520787 button.colab-df-convert');\n",
              "        buttonEl.style.display =\n",
              "          google.colab.kernel.accessAllowed ? 'block' : 'none';\n",
              "\n",
              "        async function convertToInteractive(key) {\n",
              "          const element = document.querySelector('#df-6ee09e66-7516-4d48-a459-be3313520787');\n",
              "          const dataTable =\n",
              "            await google.colab.kernel.invokeFunction('convertToInteractive',\n",
              "                                                     [key], {});\n",
              "          if (!dataTable) return;\n",
              "\n",
              "          const docLinkHtml = 'Like what you see? Visit the ' +\n",
              "            '<a target=\"_blank\" href=https://colab.research.google.com/notebooks/data_table.ipynb>data table notebook</a>'\n",
              "            + ' to learn more about interactive tables.';\n",
              "          element.innerHTML = '';\n",
              "          dataTable['output_type'] = 'display_data';\n",
              "          await google.colab.output.renderOutput(dataTable, element);\n",
              "          const docLink = document.createElement('div');\n",
              "          docLink.innerHTML = docLinkHtml;\n",
              "          element.appendChild(docLink);\n",
              "        }\n",
              "      </script>\n",
              "    </div>\n",
              "  </div>\n",
              "  "
            ],
            "text/plain": [
              "                        load_weight         \n",
              "                               mean   median\n",
              "dropoff_site                                \n",
              "AUSTIN IRON AND METAL    451.200000    400.0\n",
              "AUSTIN WOOD RECYCLING   4050.000000   4050.0\n",
              "BALCONES RECYCLING      9464.652072   9840.0\n",
              "BALCONES WOODS          8460.000000   8460.0\n",
              "GREAT NORTHERN         11973.142857  11300.0\n",
              "HORNSBY BEND            6637.111782   6400.0\n",
              "MRF                     1799.982143   1360.0\n",
              "ON ROUTE HIGH DUMP     11405.925926  11300.0\n",
              "ONION CREEK            11300.000000  11300.0\n",
              "ORGANICS BY GOSH       11817.220851  11900.0\n",
              "PARK BEND              13385.000000  12330.0\n",
              "PARK CENTER            11300.000000  11300.0\n",
              "ST. EDWARDS            11300.000000  11300.0\n",
              "STEINER LANDFILL         780.000000    780.0\n",
              "TDS - MRF               9872.550882  10330.0\n",
              "TDS LANDFILL           15168.321726  14920.0\n",
              "WESTFIELD              16020.000000  16020.0\n",
              "WILCAB                 11300.000000  11300.0"
            ]
          },
          "execution_count": 262,
          "metadata": {},
          "output_type": "execute_result"
        }
      ],
      "source": [
        "#hitung mean dan median per site\n",
        "df2=df.groupby(['dropoff_site']).agg({'load_weight':['mean','median']})\n",
        "df2"
      ]
    },
    {
      "cell_type": "code",
      "execution_count": 263,
      "metadata": {
        "colab": {
          "base_uri": "https://localhost:8080/"
        },
        "id": "dKoI_4IDVNjH",
        "outputId": "e37b8bd8-dba6-4d0f-a8e0-516efa3345c6"
      },
      "outputs": [
        {
          "data": {
            "text/plain": [
              "dropoff_site            \n",
              "AUSTIN IRON AND METAL  0      260.0\n",
              "                       1      320.0\n",
              "                       2      520.0\n",
              "AUSTIN WOOD RECYCLING  0     2340.0\n",
              "                       1     5760.0\n",
              "BALCONES RECYCLING     0    11880.0\n",
              "BALCONES WOODS         0     8460.0\n",
              "GREAT NORTHERN         0    11300.0\n",
              "HORNSBY BEND           0     5500.0\n",
              "MRF                    0      960.0\n",
              "ON ROUTE HIGH DUMP     0    11300.0\n",
              "ONION CREEK            0    11300.0\n",
              "ORGANICS BY GOSH       0    11300.0\n",
              "PARK BEND              0     8480.0\n",
              "                       1     8960.0\n",
              "                       2    15700.0\n",
              "                       3    20400.0\n",
              "PARK CENTER            0    11300.0\n",
              "ST. EDWARDS            0    11300.0\n",
              "STEINER LANDFILL       0      780.0\n",
              "TDS - MRF              0    10360.0\n",
              "TDS LANDFILL           0       20.0\n",
              "                       1       60.0\n",
              "                       2    12020.0\n",
              "WESTFIELD              0    16020.0\n",
              "WILCAB                 0    11300.0\n",
              "Name: load_weight, dtype: float64"
            ]
          },
          "execution_count": 263,
          "metadata": {},
          "output_type": "execute_result"
        }
      ],
      "source": [
        "#hitung Modus\n",
        "df3=df.groupby(['dropoff_site'])['load_weight'].apply(pd.Series.mode)\n",
        "df3"
      ]
    },
    {
      "cell_type": "markdown",
      "metadata": {
        "id": "VSlp-Ab-oaI_"
      },
      "source": [
        "**insight dari peneliti Berdasarkan central tendency:\n",
        "karena banyaknya nilai mean dan median sama bisa disimpulkan\n",
        "distribusi skor normal. diluar dari peneliti temukan mohon diperhatikan kembali untuk distribusinya atau bisa ditambahkan sitenya**\n",
        "\n",
        "*   PARK CENTER\n",
        "*   ST. EDWARDS\n",
        "\n",
        "\n",
        "*   ONION CREEK\n",
        "*   BALCONES WOODS\n",
        "\n",
        "\n",
        "*   AUSTIN WOOD RECYCLING\n",
        "*   STEINER LANDFILL\n",
        "\n",
        "\n",
        "*   WESTFIELD\n",
        "*   WILCAB\n",
        "\n",
        "\n",
        "\n",
        "\n",
        "\n",
        "\n",
        "\n",
        "\n",
        "\n"
      ]
    },
    {
      "cell_type": "markdown",
      "metadata": {
        "id": "_0nwXq1WzHG6"
      },
      "source": [
        "**site yang paling menarik**\n",
        "TDS LANDFILL karena sitenya lebih banyak 2 kali lipat dari posisi ke 2"
      ]
    },
    {
      "cell_type": "code",
      "execution_count": 264,
      "metadata": {
        "colab": {
          "base_uri": "https://localhost:8080/",
          "height": 423
        },
        "id": "PcjgcUiJy-Po",
        "outputId": "e31f689a-6d7c-43de-906d-ad5e9add72bb"
      },
      "outputs": [
        {
          "data": {
            "text/html": [
              "\n",
              "  <div id=\"df-0b004d96-bf90-4edf-94eb-648e7a31f909\">\n",
              "    <div class=\"colab-df-container\">\n",
              "      <div>\n",
              "<style scoped>\n",
              "    .dataframe tbody tr th:only-of-type {\n",
              "        vertical-align: middle;\n",
              "    }\n",
              "\n",
              "    .dataframe tbody tr th {\n",
              "        vertical-align: top;\n",
              "    }\n",
              "\n",
              "    .dataframe thead th {\n",
              "        text-align: right;\n",
              "    }\n",
              "</style>\n",
              "<table border=\"1\" class=\"dataframe\">\n",
              "  <thead>\n",
              "    <tr style=\"text-align: right;\">\n",
              "      <th></th>\n",
              "      <th>report_date</th>\n",
              "      <th>load_time</th>\n",
              "      <th>load_type</th>\n",
              "      <th>load_weight</th>\n",
              "      <th>dropoff_site</th>\n",
              "    </tr>\n",
              "  </thead>\n",
              "  <tbody>\n",
              "    <tr>\n",
              "      <th>383</th>\n",
              "      <td>2021-01-23</td>\n",
              "      <td>2021-01-23 11:12:00 UTC</td>\n",
              "      <td>BULK</td>\n",
              "      <td>9940.0</td>\n",
              "      <td>TDS LANDFILL</td>\n",
              "    </tr>\n",
              "    <tr>\n",
              "      <th>384</th>\n",
              "      <td>2021-01-23</td>\n",
              "      <td>2021-01-23 01:10:00 UTC</td>\n",
              "      <td>BULK</td>\n",
              "      <td>1960.0</td>\n",
              "      <td>TDS LANDFILL</td>\n",
              "    </tr>\n",
              "    <tr>\n",
              "      <th>385</th>\n",
              "      <td>2021-01-23</td>\n",
              "      <td>2021-01-23 12:31:00 UTC</td>\n",
              "      <td>BULK</td>\n",
              "      <td>10760.0</td>\n",
              "      <td>TDS LANDFILL</td>\n",
              "    </tr>\n",
              "    <tr>\n",
              "      <th>386</th>\n",
              "      <td>2021-01-23</td>\n",
              "      <td>2021-01-23 12:58:00 UTC</td>\n",
              "      <td>BULK</td>\n",
              "      <td>3920.0</td>\n",
              "      <td>TDS LANDFILL</td>\n",
              "    </tr>\n",
              "    <tr>\n",
              "      <th>387</th>\n",
              "      <td>2021-01-23</td>\n",
              "      <td>2021-01-23 12:25:00 UTC</td>\n",
              "      <td>BULK</td>\n",
              "      <td>13580.0</td>\n",
              "      <td>TDS LANDFILL</td>\n",
              "    </tr>\n",
              "    <tr>\n",
              "      <th>...</th>\n",
              "      <td>...</td>\n",
              "      <td>...</td>\n",
              "      <td>...</td>\n",
              "      <td>...</td>\n",
              "      <td>...</td>\n",
              "    </tr>\n",
              "    <tr>\n",
              "      <th>26110</th>\n",
              "      <td>2021-03-01</td>\n",
              "      <td>2021-03-01 01:04:00 UTC</td>\n",
              "      <td>SWEEPING</td>\n",
              "      <td>7280.0</td>\n",
              "      <td>TDS LANDFILL</td>\n",
              "    </tr>\n",
              "    <tr>\n",
              "      <th>26111</th>\n",
              "      <td>2021-03-01</td>\n",
              "      <td>2021-03-01 12:57:00 UTC</td>\n",
              "      <td>SWEEPING</td>\n",
              "      <td>4320.0</td>\n",
              "      <td>TDS LANDFILL</td>\n",
              "    </tr>\n",
              "    <tr>\n",
              "      <th>26112</th>\n",
              "      <td>2021-03-01</td>\n",
              "      <td>2021-03-01 01:40:00 UTC</td>\n",
              "      <td>RECYCLING - SINGLE STREAM</td>\n",
              "      <td>5320.0</td>\n",
              "      <td>TDS LANDFILL</td>\n",
              "    </tr>\n",
              "    <tr>\n",
              "      <th>26113</th>\n",
              "      <td>2021-03-01</td>\n",
              "      <td>2021-03-01 03:44:00 UTC</td>\n",
              "      <td>BULK</td>\n",
              "      <td>3660.0</td>\n",
              "      <td>TDS LANDFILL</td>\n",
              "    </tr>\n",
              "    <tr>\n",
              "      <th>26114</th>\n",
              "      <td>2021-03-01</td>\n",
              "      <td>2021-03-01 11:07:00 UTC</td>\n",
              "      <td>BULK</td>\n",
              "      <td>4440.0</td>\n",
              "      <td>TDS LANDFILL</td>\n",
              "    </tr>\n",
              "  </tbody>\n",
              "</table>\n",
              "<p>10694 rows × 5 columns</p>\n",
              "</div>\n",
              "      <button class=\"colab-df-convert\" onclick=\"convertToInteractive('df-0b004d96-bf90-4edf-94eb-648e7a31f909')\"\n",
              "              title=\"Convert this dataframe to an interactive table.\"\n",
              "              style=\"display:none;\">\n",
              "        \n",
              "  <svg xmlns=\"http://www.w3.org/2000/svg\" height=\"24px\"viewBox=\"0 0 24 24\"\n",
              "       width=\"24px\">\n",
              "    <path d=\"M0 0h24v24H0V0z\" fill=\"none\"/>\n",
              "    <path d=\"M18.56 5.44l.94 2.06.94-2.06 2.06-.94-2.06-.94-.94-2.06-.94 2.06-2.06.94zm-11 1L8.5 8.5l.94-2.06 2.06-.94-2.06-.94L8.5 2.5l-.94 2.06-2.06.94zm10 10l.94 2.06.94-2.06 2.06-.94-2.06-.94-.94-2.06-.94 2.06-2.06.94z\"/><path d=\"M17.41 7.96l-1.37-1.37c-.4-.4-.92-.59-1.43-.59-.52 0-1.04.2-1.43.59L10.3 9.45l-7.72 7.72c-.78.78-.78 2.05 0 2.83L4 21.41c.39.39.9.59 1.41.59.51 0 1.02-.2 1.41-.59l7.78-7.78 2.81-2.81c.8-.78.8-2.07 0-2.86zM5.41 20L4 18.59l7.72-7.72 1.47 1.35L5.41 20z\"/>\n",
              "  </svg>\n",
              "      </button>\n",
              "      \n",
              "  <style>\n",
              "    .colab-df-container {\n",
              "      display:flex;\n",
              "      flex-wrap:wrap;\n",
              "      gap: 12px;\n",
              "    }\n",
              "\n",
              "    .colab-df-convert {\n",
              "      background-color: #E8F0FE;\n",
              "      border: none;\n",
              "      border-radius: 50%;\n",
              "      cursor: pointer;\n",
              "      display: none;\n",
              "      fill: #1967D2;\n",
              "      height: 32px;\n",
              "      padding: 0 0 0 0;\n",
              "      width: 32px;\n",
              "    }\n",
              "\n",
              "    .colab-df-convert:hover {\n",
              "      background-color: #E2EBFA;\n",
              "      box-shadow: 0px 1px 2px rgba(60, 64, 67, 0.3), 0px 1px 3px 1px rgba(60, 64, 67, 0.15);\n",
              "      fill: #174EA6;\n",
              "    }\n",
              "\n",
              "    [theme=dark] .colab-df-convert {\n",
              "      background-color: #3B4455;\n",
              "      fill: #D2E3FC;\n",
              "    }\n",
              "\n",
              "    [theme=dark] .colab-df-convert:hover {\n",
              "      background-color: #434B5C;\n",
              "      box-shadow: 0px 1px 3px 1px rgba(0, 0, 0, 0.15);\n",
              "      filter: drop-shadow(0px 1px 2px rgba(0, 0, 0, 0.3));\n",
              "      fill: #FFFFFF;\n",
              "    }\n",
              "  </style>\n",
              "\n",
              "      <script>\n",
              "        const buttonEl =\n",
              "          document.querySelector('#df-0b004d96-bf90-4edf-94eb-648e7a31f909 button.colab-df-convert');\n",
              "        buttonEl.style.display =\n",
              "          google.colab.kernel.accessAllowed ? 'block' : 'none';\n",
              "\n",
              "        async function convertToInteractive(key) {\n",
              "          const element = document.querySelector('#df-0b004d96-bf90-4edf-94eb-648e7a31f909');\n",
              "          const dataTable =\n",
              "            await google.colab.kernel.invokeFunction('convertToInteractive',\n",
              "                                                     [key], {});\n",
              "          if (!dataTable) return;\n",
              "\n",
              "          const docLinkHtml = 'Like what you see? Visit the ' +\n",
              "            '<a target=\"_blank\" href=https://colab.research.google.com/notebooks/data_table.ipynb>data table notebook</a>'\n",
              "            + ' to learn more about interactive tables.';\n",
              "          element.innerHTML = '';\n",
              "          dataTable['output_type'] = 'display_data';\n",
              "          await google.colab.output.renderOutput(dataTable, element);\n",
              "          const docLink = document.createElement('div');\n",
              "          docLink.innerHTML = docLinkHtml;\n",
              "          element.appendChild(docLink);\n",
              "        }\n",
              "      </script>\n",
              "    </div>\n",
              "  </div>\n",
              "  "
            ],
            "text/plain": [
              "      report_date                load_time                  load_type  \\\n",
              "383    2021-01-23  2021-01-23 11:12:00 UTC                       BULK   \n",
              "384    2021-01-23  2021-01-23 01:10:00 UTC                       BULK   \n",
              "385    2021-01-23  2021-01-23 12:31:00 UTC                       BULK   \n",
              "386    2021-01-23  2021-01-23 12:58:00 UTC                       BULK   \n",
              "387    2021-01-23  2021-01-23 12:25:00 UTC                       BULK   \n",
              "...           ...                      ...                        ...   \n",
              "26110  2021-03-01  2021-03-01 01:04:00 UTC                   SWEEPING   \n",
              "26111  2021-03-01  2021-03-01 12:57:00 UTC                   SWEEPING   \n",
              "26112  2021-03-01  2021-03-01 01:40:00 UTC  RECYCLING - SINGLE STREAM   \n",
              "26113  2021-03-01  2021-03-01 03:44:00 UTC                       BULK   \n",
              "26114  2021-03-01  2021-03-01 11:07:00 UTC                       BULK   \n",
              "\n",
              "       load_weight  dropoff_site  \n",
              "383         9940.0  TDS LANDFILL  \n",
              "384         1960.0  TDS LANDFILL  \n",
              "385        10760.0  TDS LANDFILL  \n",
              "386         3920.0  TDS LANDFILL  \n",
              "387        13580.0  TDS LANDFILL  \n",
              "...            ...           ...  \n",
              "26110       7280.0  TDS LANDFILL  \n",
              "26111       4320.0  TDS LANDFILL  \n",
              "26112       5320.0  TDS LANDFILL  \n",
              "26113       3660.0  TDS LANDFILL  \n",
              "26114       4440.0  TDS LANDFILL  \n",
              "\n",
              "[10694 rows x 5 columns]"
            ]
          },
          "execution_count": 264,
          "metadata": {},
          "output_type": "execute_result"
        }
      ],
      "source": [
        "#TDS LANDFILL \n",
        "TDS_LANDFILL=df[(df['dropoff_site']=='TDS LANDFILL')]\n",
        "TDS_LANDFILL"
      ]
    },
    {
      "cell_type": "markdown",
      "metadata": {
        "id": "kUR46tE_2sZu"
      },
      "source": [
        "**load_weight ada outlier atau tidak**"
      ]
    },
    {
      "cell_type": "code",
      "execution_count": 265,
      "metadata": {
        "colab": {
          "base_uri": "https://localhost:8080/"
        },
        "id": "VqowipBo1Ovu",
        "outputId": "527f0641-1f2e-4c14-f8b9-65e490b708a8"
      },
      "outputs": [
        {
          "name": "stdout",
          "output_type": "stream",
          "text": [
            "Min: 0.0\n",
            "Mode: 20.0\n",
            "Median: 14920.0\n",
            "Mean: 15168.321726145503\n",
            "Max: 245540.0\n"
          ]
        }
      ],
      "source": [
        "#TDS_LANDFILL cek tendencies\n",
        "print ('Min: ' + str(TDS_LANDFILL['load_weight'].min()))\n",
        "print ('Mode: ' + str(TDS_LANDFILL['load_weight'].mode()[0]))\n",
        "print ('Median: ' + str(TDS_LANDFILL['load_weight'].median()))\n",
        "print ('Mean: ' + str(TDS_LANDFILL['load_weight'].mean()))\n",
        "print ('Max: ' + str(TDS_LANDFILL['load_weight'].max()))"
      ]
    },
    {
      "cell_type": "code",
      "execution_count": 266,
      "metadata": {
        "colab": {
          "base_uri": "https://localhost:8080/",
          "height": 748
        },
        "id": "uh2DM4oN2x65",
        "outputId": "bc4a2518-050e-4284-a96c-fa908e79e8db"
      },
      "outputs": [
        {
          "data": {
            "image/png": "[encoded data removed]",
            "text/plain": [
              "<Figure size 720x576 with 1 Axes>"
            ]
          },
          "metadata": {
            "needs_background": "light"
          },
          "output_type": "display_data"
        },
        {
          "data": {
            "image/png": "[encoded data removed]",
            "text/plain": [
              "<Figure size 432x288 with 1 Axes>"
            ]
          },
          "metadata": {
            "needs_background": "light"
          },
          "output_type": "display_data"
        }
      ],
      "source": [
        "# Plot a box-whisker chart\n",
        "TDS_LANDFILL['load_weight'].plot(kind='box', title='Distribution', figsize=(10,8))\n",
        "plt.show()\n",
        "\n",
        "# Visualization of Distribution\n",
        "tds = TDS_LANDFILL['load_weight']\n",
        "density = stats.gaussian_kde(tds)\n",
        "n, x, _ = plt.hist(tds, histtype='step', bins=25)  \n",
        "plt.plot(x, density(x)*2**7.5)\n",
        "plt.axvline(tds.mean(), color='magenta', linestyle='dashed', linewidth=2)\n",
        "plt.axvline(tds.median(), color='green', linestyle='dashed', linewidth=2)\n",
        "plt.show()"
      ]
    },
    {
      "cell_type": "code",
      "execution_count": 267,
      "metadata": {
        "colab": {
          "base_uri": "https://localhost:8080/",
          "height": 300
        },
        "id": "IETjqDHgDAO-",
        "outputId": "77ed95b3-bdda-47ee-c2f5-2b69ad59b531"
      },
      "outputs": [
        {
          "data": {
            "text/html": [
              "\n",
              "  <div id=\"df-3541b965-a26b-4b65-9c44-06ce408d0bad\">\n",
              "    <div class=\"colab-df-container\">\n",
              "      <div>\n",
              "<style scoped>\n",
              "    .dataframe tbody tr th:only-of-type {\n",
              "        vertical-align: middle;\n",
              "    }\n",
              "\n",
              "    .dataframe tbody tr th {\n",
              "        vertical-align: top;\n",
              "    }\n",
              "\n",
              "    .dataframe thead th {\n",
              "        text-align: right;\n",
              "    }\n",
              "</style>\n",
              "<table border=\"1\" class=\"dataframe\">\n",
              "  <thead>\n",
              "    <tr style=\"text-align: right;\">\n",
              "      <th></th>\n",
              "      <th>load_weight</th>\n",
              "    </tr>\n",
              "  </thead>\n",
              "  <tbody>\n",
              "    <tr>\n",
              "      <th>count</th>\n",
              "      <td>10694.000000</td>\n",
              "    </tr>\n",
              "    <tr>\n",
              "      <th>mean</th>\n",
              "      <td>15168.321726</td>\n",
              "    </tr>\n",
              "    <tr>\n",
              "      <th>std</th>\n",
              "      <td>8590.068498</td>\n",
              "    </tr>\n",
              "    <tr>\n",
              "      <th>min</th>\n",
              "      <td>0.000000</td>\n",
              "    </tr>\n",
              "    <tr>\n",
              "      <th>25%</th>\n",
              "      <td>8820.000000</td>\n",
              "    </tr>\n",
              "    <tr>\n",
              "      <th>50%</th>\n",
              "      <td>14920.000000</td>\n",
              "    </tr>\n",
              "    <tr>\n",
              "      <th>75%</th>\n",
              "      <td>21660.000000</td>\n",
              "    </tr>\n",
              "    <tr>\n",
              "      <th>max</th>\n",
              "      <td>245540.000000</td>\n",
              "    </tr>\n",
              "  </tbody>\n",
              "</table>\n",
              "</div>\n",
              "      <button class=\"colab-df-convert\" onclick=\"convertToInteractive('df-3541b965-a26b-4b65-9c44-06ce408d0bad')\"\n",
              "              title=\"Convert this dataframe to an interactive table.\"\n",
              "              style=\"display:none;\">\n",
              "        \n",
              "  <svg xmlns=\"http://www.w3.org/2000/svg\" height=\"24px\"viewBox=\"0 0 24 24\"\n",
              "       width=\"24px\">\n",
              "    <path d=\"M0 0h24v24H0V0z\" fill=\"none\"/>\n",
              "    <path d=\"M18.56 5.44l.94 2.06.94-2.06 2.06-.94-2.06-.94-.94-2.06-.94 2.06-2.06.94zm-11 1L8.5 8.5l.94-2.06 2.06-.94-2.06-.94L8.5 2.5l-.94 2.06-2.06.94zm10 10l.94 2.06.94-2.06 2.06-.94-2.06-.94-.94-2.06-.94 2.06-2.06.94z\"/><path d=\"M17.41 7.96l-1.37-1.37c-.4-.4-.92-.59-1.43-.59-.52 0-1.04.2-1.43.59L10.3 9.45l-7.72 7.72c-.78.78-.78 2.05 0 2.83L4 21.41c.39.39.9.59 1.41.59.51 0 1.02-.2 1.41-.59l7.78-7.78 2.81-2.81c.8-.78.8-2.07 0-2.86zM5.41 20L4 18.59l7.72-7.72 1.47 1.35L5.41 20z\"/>\n",
              "  </svg>\n",
              "      </button>\n",
              "      \n",
              "  <style>\n",
              "    .colab-df-container {\n",
              "      display:flex;\n",
              "      flex-wrap:wrap;\n",
              "      gap: 12px;\n",
              "    }\n",
              "\n",
              "    .colab-df-convert {\n",
              "      background-color: #E8F0FE;\n",
              "      border: none;\n",
              "      border-radius: 50%;\n",
              "      cursor: pointer;\n",
              "      display: none;\n",
              "      fill: #1967D2;\n",
              "      height: 32px;\n",
              "      padding: 0 0 0 0;\n",
              "      width: 32px;\n",
              "    }\n",
              "\n",
              "    .colab-df-convert:hover {\n",
              "      background-color: #E2EBFA;\n",
              "      box-shadow: 0px 1px 2px rgba(60, 64, 67, 0.3), 0px 1px 3px 1px rgba(60, 64, 67, 0.15);\n",
              "      fill: #174EA6;\n",
              "    }\n",
              "\n",
              "    [theme=dark] .colab-df-convert {\n",
              "      background-color: #3B4455;\n",
              "      fill: #D2E3FC;\n",
              "    }\n",
              "\n",
              "    [theme=dark] .colab-df-convert:hover {\n",
              "      background-color: #434B5C;\n",
              "      box-shadow: 0px 1px 3px 1px rgba(0, 0, 0, 0.15);\n",
              "      filter: drop-shadow(0px 1px 2px rgba(0, 0, 0, 0.3));\n",
              "      fill: #FFFFFF;\n",
              "    }\n",
              "  </style>\n",
              "\n",
              "      <script>\n",
              "        const buttonEl =\n",
              "          document.querySelector('#df-3541b965-a26b-4b65-9c44-06ce408d0bad button.colab-df-convert');\n",
              "        buttonEl.style.display =\n",
              "          google.colab.kernel.accessAllowed ? 'block' : 'none';\n",
              "\n",
              "        async function convertToInteractive(key) {\n",
              "          const element = document.querySelector('#df-3541b965-a26b-4b65-9c44-06ce408d0bad');\n",
              "          const dataTable =\n",
              "            await google.colab.kernel.invokeFunction('convertToInteractive',\n",
              "                                                     [key], {});\n",
              "          if (!dataTable) return;\n",
              "\n",
              "          const docLinkHtml = 'Like what you see? Visit the ' +\n",
              "            '<a target=\"_blank\" href=https://colab.research.google.com/notebooks/data_table.ipynb>data table notebook</a>'\n",
              "            + ' to learn more about interactive tables.';\n",
              "          element.innerHTML = '';\n",
              "          dataTable['output_type'] = 'display_data';\n",
              "          await google.colab.output.renderOutput(dataTable, element);\n",
              "          const docLink = document.createElement('div');\n",
              "          docLink.innerHTML = docLinkHtml;\n",
              "          element.appendChild(docLink);\n",
              "        }\n",
              "      </script>\n",
              "    </div>\n",
              "  </div>\n",
              "  "
            ],
            "text/plain": [
              "         load_weight\n",
              "count   10694.000000\n",
              "mean    15168.321726\n",
              "std      8590.068498\n",
              "min         0.000000\n",
              "25%      8820.000000\n",
              "50%     14920.000000\n",
              "75%     21660.000000\n",
              "max    245540.000000"
            ]
          },
          "execution_count": 267,
          "metadata": {},
          "output_type": "execute_result"
        }
      ],
      "source": [
        "TDS_LANDFILL.describe()"
      ]
    },
    {
      "cell_type": "code",
      "execution_count": 268,
      "metadata": {
        "colab": {
          "base_uri": "https://localhost:8080/",
          "height": 592
        },
        "id": "XRjVyYGUDMj1",
        "outputId": "3c9083bc-8168-4128-aea4-3a9a3f13ef6e"
      },
      "outputs": [
        {
          "data": {
            "image/png": "[encoded data removed]",
            "text/plain": [
              "<Figure size 720x720 with 1 Axes>"
            ]
          },
          "metadata": {
            "needs_background": "light"
          },
          "output_type": "display_data"
        }
      ],
      "source": [
        "#cari outlier\n",
        "plt.figure(figsize=(10,10)) \n",
        "TDS_LANDFILL.boxplot()\n",
        "plt.show()"
      ]
    },
    {
      "cell_type": "code",
      "execution_count": 269,
      "metadata": {
        "colab": {
          "base_uri": "https://localhost:8080/"
        },
        "id": "Vsp1RbGfEnBR",
        "outputId": "34ceeaf4-fbba-4cd4-e2cd-6082df265a5a"
      },
      "outputs": [
        {
          "data": {
            "text/plain": [
              "2540.0"
            ]
          },
          "execution_count": 269,
          "metadata": {},
          "output_type": "execute_result"
        }
      ],
      "source": [
        "#percentile 5% batas bawah\n",
        "lower_limit=TDS_LANDFILL['load_weight'].quantile(0.05)\n",
        "lower_limit"
      ]
    },
    {
      "cell_type": "code",
      "execution_count": 270,
      "metadata": {
        "colab": {
          "base_uri": "https://localhost:8080/",
          "height": 423
        },
        "id": "wdJpUV27FM-w",
        "outputId": "15f532e7-b1b5-4dd1-8416-75a094d34f26"
      },
      "outputs": [
        {
          "data": {
            "text/html": [
              "\n",
              "  <div id=\"df-bf467648-2b0d-453d-9ae1-a45248cd831f\">\n",
              "    <div class=\"colab-df-container\">\n",
              "      <div>\n",
              "<style scoped>\n",
              "    .dataframe tbody tr th:only-of-type {\n",
              "        vertical-align: middle;\n",
              "    }\n",
              "\n",
              "    .dataframe tbody tr th {\n",
              "        vertical-align: top;\n",
              "    }\n",
              "\n",
              "    .dataframe thead th {\n",
              "        text-align: right;\n",
              "    }\n",
              "</style>\n",
              "<table border=\"1\" class=\"dataframe\">\n",
              "  <thead>\n",
              "    <tr style=\"text-align: right;\">\n",
              "      <th></th>\n",
              "      <th>report_date</th>\n",
              "      <th>load_time</th>\n",
              "      <th>load_type</th>\n",
              "      <th>load_weight</th>\n",
              "      <th>dropoff_site</th>\n",
              "    </tr>\n",
              "  </thead>\n",
              "  <tbody>\n",
              "    <tr>\n",
              "      <th>384</th>\n",
              "      <td>2021-01-23</td>\n",
              "      <td>2021-01-23 01:10:00 UTC</td>\n",
              "      <td>BULK</td>\n",
              "      <td>1960.0</td>\n",
              "      <td>TDS LANDFILL</td>\n",
              "    </tr>\n",
              "    <tr>\n",
              "      <th>397</th>\n",
              "      <td>2021-01-23</td>\n",
              "      <td>2021-01-23 10:38:00 UTC</td>\n",
              "      <td>BULK</td>\n",
              "      <td>2260.0</td>\n",
              "      <td>TDS LANDFILL</td>\n",
              "    </tr>\n",
              "    <tr>\n",
              "      <th>494</th>\n",
              "      <td>2021-02-27</td>\n",
              "      <td>2021-02-27 01:35:00 UTC</td>\n",
              "      <td>BULK</td>\n",
              "      <td>2340.0</td>\n",
              "      <td>TDS LANDFILL</td>\n",
              "    </tr>\n",
              "    <tr>\n",
              "      <th>546</th>\n",
              "      <td>2021-01-09</td>\n",
              "      <td>2021-01-08 12:50:00 UTC</td>\n",
              "      <td>DEAD ANIMAL</td>\n",
              "      <td>120.0</td>\n",
              "      <td>TDS LANDFILL</td>\n",
              "    </tr>\n",
              "    <tr>\n",
              "      <th>547</th>\n",
              "      <td>2021-01-16</td>\n",
              "      <td>2021-01-16 12:46:00 UTC</td>\n",
              "      <td>DEAD ANIMAL</td>\n",
              "      <td>20.0</td>\n",
              "      <td>TDS LANDFILL</td>\n",
              "    </tr>\n",
              "    <tr>\n",
              "      <th>...</th>\n",
              "      <td>...</td>\n",
              "      <td>...</td>\n",
              "      <td>...</td>\n",
              "      <td>...</td>\n",
              "      <td>...</td>\n",
              "    </tr>\n",
              "    <tr>\n",
              "      <th>25586</th>\n",
              "      <td>2021-02-25</td>\n",
              "      <td>2021-02-25 01:07:00 UTC</td>\n",
              "      <td>SWEEPING</td>\n",
              "      <td>2280.0</td>\n",
              "      <td>TDS LANDFILL</td>\n",
              "    </tr>\n",
              "    <tr>\n",
              "      <th>25588</th>\n",
              "      <td>2021-02-25</td>\n",
              "      <td>2021-02-25 09:46:00 UTC</td>\n",
              "      <td>BULK</td>\n",
              "      <td>780.0</td>\n",
              "      <td>TDS LANDFILL</td>\n",
              "    </tr>\n",
              "    <tr>\n",
              "      <th>25776</th>\n",
              "      <td>2021-02-26</td>\n",
              "      <td>2021-02-26 09:01:00 UTC</td>\n",
              "      <td>GARBAGE COLLECTIONS</td>\n",
              "      <td>1100.0</td>\n",
              "      <td>TDS LANDFILL</td>\n",
              "    </tr>\n",
              "    <tr>\n",
              "      <th>25823</th>\n",
              "      <td>2021-02-26</td>\n",
              "      <td>2021-02-26 01:21:00 UTC</td>\n",
              "      <td>SWEEPING</td>\n",
              "      <td>1780.0</td>\n",
              "      <td>TDS LANDFILL</td>\n",
              "    </tr>\n",
              "    <tr>\n",
              "      <th>26029</th>\n",
              "      <td>2021-03-01</td>\n",
              "      <td>2021-03-01 02:58:00 UTC</td>\n",
              "      <td>DEAD ANIMAL</td>\n",
              "      <td>720.0</td>\n",
              "      <td>TDS LANDFILL</td>\n",
              "    </tr>\n",
              "  </tbody>\n",
              "</table>\n",
              "<p>534 rows × 5 columns</p>\n",
              "</div>\n",
              "      <button class=\"colab-df-convert\" onclick=\"convertToInteractive('df-bf467648-2b0d-453d-9ae1-a45248cd831f')\"\n",
              "              title=\"Convert this dataframe to an interactive table.\"\n",
              "              style=\"display:none;\">\n",
              "        \n",
              "  <svg xmlns=\"http://www.w3.org/2000/svg\" height=\"24px\"viewBox=\"0 0 24 24\"\n",
              "       width=\"24px\">\n",
              "    <path d=\"M0 0h24v24H0V0z\" fill=\"none\"/>\n",
              "    <path d=\"M18.56 5.44l.94 2.06.94-2.06 2.06-.94-2.06-.94-.94-2.06-.94 2.06-2.06.94zm-11 1L8.5 8.5l.94-2.06 2.06-.94-2.06-.94L8.5 2.5l-.94 2.06-2.06.94zm10 10l.94 2.06.94-2.06 2.06-.94-2.06-.94-.94-2.06-.94 2.06-2.06.94z\"/><path d=\"M17.41 7.96l-1.37-1.37c-.4-.4-.92-.59-1.43-.59-.52 0-1.04.2-1.43.59L10.3 9.45l-7.72 7.72c-.78.78-.78 2.05 0 2.83L4 21.41c.39.39.9.59 1.41.59.51 0 1.02-.2 1.41-.59l7.78-7.78 2.81-2.81c.8-.78.8-2.07 0-2.86zM5.41 20L4 18.59l7.72-7.72 1.47 1.35L5.41 20z\"/>\n",
              "  </svg>\n",
              "      </button>\n",
              "      \n",
              "  <style>\n",
              "    .colab-df-container {\n",
              "      display:flex;\n",
              "      flex-wrap:wrap;\n",
              "      gap: 12px;\n",
              "    }\n",
              "\n",
              "    .colab-df-convert {\n",
              "      background-color: #E8F0FE;\n",
              "      border: none;\n",
              "      border-radius: 50%;\n",
              "      cursor: pointer;\n",
              "      display: none;\n",
              "      fill: #1967D2;\n",
              "      height: 32px;\n",
              "      padding: 0 0 0 0;\n",
              "      width: 32px;\n",
              "    }\n",
              "\n",
              "    .colab-df-convert:hover {\n",
              "      background-color: #E2EBFA;\n",
              "      box-shadow: 0px 1px 2px rgba(60, 64, 67, 0.3), 0px 1px 3px 1px rgba(60, 64, 67, 0.15);\n",
              "      fill: #174EA6;\n",
              "    }\n",
              "\n",
              "    [theme=dark] .colab-df-convert {\n",
              "      background-color: #3B4455;\n",
              "      fill: #D2E3FC;\n",
              "    }\n",
              "\n",
              "    [theme=dark] .colab-df-convert:hover {\n",
              "      background-color: #434B5C;\n",
              "      box-shadow: 0px 1px 3px 1px rgba(0, 0, 0, 0.15);\n",
              "      filter: drop-shadow(0px 1px 2px rgba(0, 0, 0, 0.3));\n",
              "      fill: #FFFFFF;\n",
              "    }\n",
              "  </style>\n",
              "\n",
              "      <script>\n",
              "        const buttonEl =\n",
              "          document.querySelector('#df-bf467648-2b0d-453d-9ae1-a45248cd831f button.colab-df-convert');\n",
              "        buttonEl.style.display =\n",
              "          google.colab.kernel.accessAllowed ? 'block' : 'none';\n",
              "\n",
              "        async function convertToInteractive(key) {\n",
              "          const element = document.querySelector('#df-bf467648-2b0d-453d-9ae1-a45248cd831f');\n",
              "          const dataTable =\n",
              "            await google.colab.kernel.invokeFunction('convertToInteractive',\n",
              "                                                     [key], {});\n",
              "          if (!dataTable) return;\n",
              "\n",
              "          const docLinkHtml = 'Like what you see? Visit the ' +\n",
              "            '<a target=\"_blank\" href=https://colab.research.google.com/notebooks/data_table.ipynb>data table notebook</a>'\n",
              "            + ' to learn more about interactive tables.';\n",
              "          element.innerHTML = '';\n",
              "          dataTable['output_type'] = 'display_data';\n",
              "          await google.colab.output.renderOutput(dataTable, element);\n",
              "          const docLink = document.createElement('div');\n",
              "          docLink.innerHTML = docLinkHtml;\n",
              "          element.appendChild(docLink);\n",
              "        }\n",
              "      </script>\n",
              "    </div>\n",
              "  </div>\n",
              "  "
            ],
            "text/plain": [
              "      report_date                load_time            load_type  load_weight  \\\n",
              "384    2021-01-23  2021-01-23 01:10:00 UTC                 BULK       1960.0   \n",
              "397    2021-01-23  2021-01-23 10:38:00 UTC                 BULK       2260.0   \n",
              "494    2021-02-27  2021-02-27 01:35:00 UTC                 BULK       2340.0   \n",
              "546    2021-01-09  2021-01-08 12:50:00 UTC          DEAD ANIMAL        120.0   \n",
              "547    2021-01-16  2021-01-16 12:46:00 UTC          DEAD ANIMAL         20.0   \n",
              "...           ...                      ...                  ...          ...   \n",
              "25586  2021-02-25  2021-02-25 01:07:00 UTC             SWEEPING       2280.0   \n",
              "25588  2021-02-25  2021-02-25 09:46:00 UTC                 BULK        780.0   \n",
              "25776  2021-02-26  2021-02-26 09:01:00 UTC  GARBAGE COLLECTIONS       1100.0   \n",
              "25823  2021-02-26  2021-02-26 01:21:00 UTC             SWEEPING       1780.0   \n",
              "26029  2021-03-01  2021-03-01 02:58:00 UTC          DEAD ANIMAL        720.0   \n",
              "\n",
              "       dropoff_site  \n",
              "384    TDS LANDFILL  \n",
              "397    TDS LANDFILL  \n",
              "494    TDS LANDFILL  \n",
              "546    TDS LANDFILL  \n",
              "547    TDS LANDFILL  \n",
              "...             ...  \n",
              "25586  TDS LANDFILL  \n",
              "25588  TDS LANDFILL  \n",
              "25776  TDS LANDFILL  \n",
              "25823  TDS LANDFILL  \n",
              "26029  TDS LANDFILL  \n",
              "\n",
              "[534 rows x 5 columns]"
            ]
          },
          "execution_count": 270,
          "metadata": {},
          "output_type": "execute_result"
        }
      ],
      "source": [
        "#menampilkan data lower limit\n",
        "TDS_LANDFILL[TDS_LANDFILL['load_weight']<lower_limit]"
      ]
    },
    {
      "cell_type": "code",
      "execution_count": 271,
      "metadata": {
        "colab": {
          "base_uri": "https://localhost:8080/"
        },
        "id": "w4y6-4W4F271",
        "outputId": "2b657193-a4c0-4af8-8901-0456cd23f93d"
      },
      "outputs": [
        {
          "data": {
            "text/plain": [
              "27260.0"
            ]
          },
          "execution_count": 271,
          "metadata": {},
          "output_type": "execute_result"
        }
      ],
      "source": [
        "#percentile batas atas 95%\n",
        "uper_limit=TDS_LANDFILL['load_weight'].quantile(0.95)\n",
        "uper_limit"
      ]
    },
    {
      "cell_type": "code",
      "execution_count": 272,
      "metadata": {
        "colab": {
          "base_uri": "https://localhost:8080/",
          "height": 423
        },
        "id": "qIsAwhFLGKqe",
        "outputId": "b06a7c68-5fbe-493b-f5d3-074bae2bb53d"
      },
      "outputs": [
        {
          "data": {
            "text/html": [
              "\n",
              "  <div id=\"df-e9d613be-823f-456b-9d88-41777ab43d8d\">\n",
              "    <div class=\"colab-df-container\">\n",
              "      <div>\n",
              "<style scoped>\n",
              "    .dataframe tbody tr th:only-of-type {\n",
              "        vertical-align: middle;\n",
              "    }\n",
              "\n",
              "    .dataframe tbody tr th {\n",
              "        vertical-align: top;\n",
              "    }\n",
              "\n",
              "    .dataframe thead th {\n",
              "        text-align: right;\n",
              "    }\n",
              "</style>\n",
              "<table border=\"1\" class=\"dataframe\">\n",
              "  <thead>\n",
              "    <tr style=\"text-align: right;\">\n",
              "      <th></th>\n",
              "      <th>report_date</th>\n",
              "      <th>load_time</th>\n",
              "      <th>load_type</th>\n",
              "      <th>load_weight</th>\n",
              "      <th>dropoff_site</th>\n",
              "    </tr>\n",
              "  </thead>\n",
              "  <tbody>\n",
              "    <tr>\n",
              "      <th>421</th>\n",
              "      <td>2021-07-08</td>\n",
              "      <td>2021-07-08 03:37:00 UTC</td>\n",
              "      <td>BULK</td>\n",
              "      <td>28000.0</td>\n",
              "      <td>TDS LANDFILL</td>\n",
              "    </tr>\n",
              "    <tr>\n",
              "      <th>619</th>\n",
              "      <td>2021-02-21</td>\n",
              "      <td>2021-02-21 11:19:00 UTC</td>\n",
              "      <td>GARBAGE COLLECTIONS</td>\n",
              "      <td>30220.0</td>\n",
              "      <td>TDS LANDFILL</td>\n",
              "    </tr>\n",
              "    <tr>\n",
              "      <th>620</th>\n",
              "      <td>2021-02-21</td>\n",
              "      <td>2021-02-21 09:47:00 UTC</td>\n",
              "      <td>GARBAGE COLLECTIONS</td>\n",
              "      <td>29140.0</td>\n",
              "      <td>TDS LANDFILL</td>\n",
              "    </tr>\n",
              "    <tr>\n",
              "      <th>626</th>\n",
              "      <td>2021-02-21</td>\n",
              "      <td>2021-02-21 12:58:00 UTC</td>\n",
              "      <td>GARBAGE COLLECTIONS</td>\n",
              "      <td>30960.0</td>\n",
              "      <td>TDS LANDFILL</td>\n",
              "    </tr>\n",
              "    <tr>\n",
              "      <th>627</th>\n",
              "      <td>2021-02-21</td>\n",
              "      <td>2021-02-21 12:47:00 UTC</td>\n",
              "      <td>GARBAGE COLLECTIONS</td>\n",
              "      <td>31380.0</td>\n",
              "      <td>TDS LANDFILL</td>\n",
              "    </tr>\n",
              "    <tr>\n",
              "      <th>...</th>\n",
              "      <td>...</td>\n",
              "      <td>...</td>\n",
              "      <td>...</td>\n",
              "      <td>...</td>\n",
              "      <td>...</td>\n",
              "    </tr>\n",
              "    <tr>\n",
              "      <th>25784</th>\n",
              "      <td>2021-02-26</td>\n",
              "      <td>2021-02-26 01:23:00 UTC</td>\n",
              "      <td>GARBAGE COLLECTIONS</td>\n",
              "      <td>30620.0</td>\n",
              "      <td>TDS LANDFILL</td>\n",
              "    </tr>\n",
              "    <tr>\n",
              "      <th>25786</th>\n",
              "      <td>2021-02-26</td>\n",
              "      <td>2021-03-02 12:00:00 UTC</td>\n",
              "      <td>GARBAGE COLLECTIONS</td>\n",
              "      <td>30400.0</td>\n",
              "      <td>TDS LANDFILL</td>\n",
              "    </tr>\n",
              "    <tr>\n",
              "      <th>26037</th>\n",
              "      <td>2021-03-01</td>\n",
              "      <td>2021-03-01 01:30:00 UTC</td>\n",
              "      <td>GARBAGE COLLECTIONS</td>\n",
              "      <td>28900.0</td>\n",
              "      <td>TDS LANDFILL</td>\n",
              "    </tr>\n",
              "    <tr>\n",
              "      <th>26064</th>\n",
              "      <td>2021-03-01</td>\n",
              "      <td>2021-03-01 01:13:00 UTC</td>\n",
              "      <td>GARBAGE COLLECTIONS</td>\n",
              "      <td>28200.0</td>\n",
              "      <td>TDS LANDFILL</td>\n",
              "    </tr>\n",
              "    <tr>\n",
              "      <th>26089</th>\n",
              "      <td>2021-03-01</td>\n",
              "      <td>2021-03-01 01:43:00 UTC</td>\n",
              "      <td>GARBAGE COLLECTIONS</td>\n",
              "      <td>29980.0</td>\n",
              "      <td>TDS LANDFILL</td>\n",
              "    </tr>\n",
              "  </tbody>\n",
              "</table>\n",
              "<p>534 rows × 5 columns</p>\n",
              "</div>\n",
              "      <button class=\"colab-df-convert\" onclick=\"convertToInteractive('df-e9d613be-823f-456b-9d88-41777ab43d8d')\"\n",
              "              title=\"Convert this dataframe to an interactive table.\"\n",
              "              style=\"display:none;\">\n",
              "        \n",
              "  <svg xmlns=\"http://www.w3.org/2000/svg\" height=\"24px\"viewBox=\"0 0 24 24\"\n",
              "       width=\"24px\">\n",
              "    <path d=\"M0 0h24v24H0V0z\" fill=\"none\"/>\n",
              "    <path d=\"M18.56 5.44l.94 2.06.94-2.06 2.06-.94-2.06-.94-.94-2.06-.94 2.06-2.06.94zm-11 1L8.5 8.5l.94-2.06 2.06-.94-2.06-.94L8.5 2.5l-.94 2.06-2.06.94zm10 10l.94 2.06.94-2.06 2.06-.94-2.06-.94-.94-2.06-.94 2.06-2.06.94z\"/><path d=\"M17.41 7.96l-1.37-1.37c-.4-.4-.92-.59-1.43-.59-.52 0-1.04.2-1.43.59L10.3 9.45l-7.72 7.72c-.78.78-.78 2.05 0 2.83L4 21.41c.39.39.9.59 1.41.59.51 0 1.02-.2 1.41-.59l7.78-7.78 2.81-2.81c.8-.78.8-2.07 0-2.86zM5.41 20L4 18.59l7.72-7.72 1.47 1.35L5.41 20z\"/>\n",
              "  </svg>\n",
              "      </button>\n",
              "      \n",
              "  <style>\n",
              "    .colab-df-container {\n",
              "      display:flex;\n",
              "      flex-wrap:wrap;\n",
              "      gap: 12px;\n",
              "    }\n",
              "\n",
              "    .colab-df-convert {\n",
              "      background-color: #E8F0FE;\n",
              "      border: none;\n",
              "      border-radius: 50%;\n",
              "      cursor: pointer;\n",
              "      display: none;\n",
              "      fill: #1967D2;\n",
              "      height: 32px;\n",
              "      padding: 0 0 0 0;\n",
              "      width: 32px;\n",
              "    }\n",
              "\n",
              "    .colab-df-convert:hover {\n",
              "      background-color: #E2EBFA;\n",
              "      box-shadow: 0px 1px 2px rgba(60, 64, 67, 0.3), 0px 1px 3px 1px rgba(60, 64, 67, 0.15);\n",
              "      fill: #174EA6;\n",
              "    }\n",
              "\n",
              "    [theme=dark] .colab-df-convert {\n",
              "      background-color: #3B4455;\n",
              "      fill: #D2E3FC;\n",
              "    }\n",
              "\n",
              "    [theme=dark] .colab-df-convert:hover {\n",
              "      background-color: #434B5C;\n",
              "      box-shadow: 0px 1px 3px 1px rgba(0, 0, 0, 0.15);\n",
              "      filter: drop-shadow(0px 1px 2px rgba(0, 0, 0, 0.3));\n",
              "      fill: #FFFFFF;\n",
              "    }\n",
              "  </style>\n",
              "\n",
              "      <script>\n",
              "        const buttonEl =\n",
              "          document.querySelector('#df-e9d613be-823f-456b-9d88-41777ab43d8d button.colab-df-convert');\n",
              "        buttonEl.style.display =\n",
              "          google.colab.kernel.accessAllowed ? 'block' : 'none';\n",
              "\n",
              "        async function convertToInteractive(key) {\n",
              "          const element = document.querySelector('#df-e9d613be-823f-456b-9d88-41777ab43d8d');\n",
              "          const dataTable =\n",
              "            await google.colab.kernel.invokeFunction('convertToInteractive',\n",
              "                                                     [key], {});\n",
              "          if (!dataTable) return;\n",
              "\n",
              "          const docLinkHtml = 'Like what you see? Visit the ' +\n",
              "            '<a target=\"_blank\" href=https://colab.research.google.com/notebooks/data_table.ipynb>data table notebook</a>'\n",
              "            + ' to learn more about interactive tables.';\n",
              "          element.innerHTML = '';\n",
              "          dataTable['output_type'] = 'display_data';\n",
              "          await google.colab.output.renderOutput(dataTable, element);\n",
              "          const docLink = document.createElement('div');\n",
              "          docLink.innerHTML = docLinkHtml;\n",
              "          element.appendChild(docLink);\n",
              "        }\n",
              "      </script>\n",
              "    </div>\n",
              "  </div>\n",
              "  "
            ],
            "text/plain": [
              "      report_date                load_time            load_type  load_weight  \\\n",
              "421    2021-07-08  2021-07-08 03:37:00 UTC                 BULK      28000.0   \n",
              "619    2021-02-21  2021-02-21 11:19:00 UTC  GARBAGE COLLECTIONS      30220.0   \n",
              "620    2021-02-21  2021-02-21 09:47:00 UTC  GARBAGE COLLECTIONS      29140.0   \n",
              "626    2021-02-21  2021-02-21 12:58:00 UTC  GARBAGE COLLECTIONS      30960.0   \n",
              "627    2021-02-21  2021-02-21 12:47:00 UTC  GARBAGE COLLECTIONS      31380.0   \n",
              "...           ...                      ...                  ...          ...   \n",
              "25784  2021-02-26  2021-02-26 01:23:00 UTC  GARBAGE COLLECTIONS      30620.0   \n",
              "25786  2021-02-26  2021-03-02 12:00:00 UTC  GARBAGE COLLECTIONS      30400.0   \n",
              "26037  2021-03-01  2021-03-01 01:30:00 UTC  GARBAGE COLLECTIONS      28900.0   \n",
              "26064  2021-03-01  2021-03-01 01:13:00 UTC  GARBAGE COLLECTIONS      28200.0   \n",
              "26089  2021-03-01  2021-03-01 01:43:00 UTC  GARBAGE COLLECTIONS      29980.0   \n",
              "\n",
              "       dropoff_site  \n",
              "421    TDS LANDFILL  \n",
              "619    TDS LANDFILL  \n",
              "620    TDS LANDFILL  \n",
              "626    TDS LANDFILL  \n",
              "627    TDS LANDFILL  \n",
              "...             ...  \n",
              "25784  TDS LANDFILL  \n",
              "25786  TDS LANDFILL  \n",
              "26037  TDS LANDFILL  \n",
              "26064  TDS LANDFILL  \n",
              "26089  TDS LANDFILL  \n",
              "\n",
              "[534 rows x 5 columns]"
            ]
          },
          "execution_count": 272,
          "metadata": {},
          "output_type": "execute_result"
        }
      ],
      "source": [
        "#menampilkan data diatas upper limit\n",
        "TDS_LANDFILL[TDS_LANDFILL['load_weight']>uper_limit]"
      ]
    },
    {
      "cell_type": "code",
      "execution_count": 273,
      "metadata": {
        "colab": {
          "base_uri": "https://localhost:8080/",
          "height": 423
        },
        "id": "UsqaK4k4Gchu",
        "outputId": "9711a141-c782-4d08-82b0-edf5dc88bbda"
      },
      "outputs": [
        {
          "data": {
            "text/html": [
              "\n",
              "  <div id=\"df-07332bbc-efab-4882-9687-edfd37559a96\">\n",
              "    <div class=\"colab-df-container\">\n",
              "      <div>\n",
              "<style scoped>\n",
              "    .dataframe tbody tr th:only-of-type {\n",
              "        vertical-align: middle;\n",
              "    }\n",
              "\n",
              "    .dataframe tbody tr th {\n",
              "        vertical-align: top;\n",
              "    }\n",
              "\n",
              "    .dataframe thead th {\n",
              "        text-align: right;\n",
              "    }\n",
              "</style>\n",
              "<table border=\"1\" class=\"dataframe\">\n",
              "  <thead>\n",
              "    <tr style=\"text-align: right;\">\n",
              "      <th></th>\n",
              "      <th>report_date</th>\n",
              "      <th>load_time</th>\n",
              "      <th>load_type</th>\n",
              "      <th>load_weight</th>\n",
              "      <th>dropoff_site</th>\n",
              "    </tr>\n",
              "  </thead>\n",
              "  <tbody>\n",
              "    <tr>\n",
              "      <th>383</th>\n",
              "      <td>2021-01-23</td>\n",
              "      <td>2021-01-23 11:12:00 UTC</td>\n",
              "      <td>BULK</td>\n",
              "      <td>9940.0</td>\n",
              "      <td>TDS LANDFILL</td>\n",
              "    </tr>\n",
              "    <tr>\n",
              "      <th>385</th>\n",
              "      <td>2021-01-23</td>\n",
              "      <td>2021-01-23 12:31:00 UTC</td>\n",
              "      <td>BULK</td>\n",
              "      <td>10760.0</td>\n",
              "      <td>TDS LANDFILL</td>\n",
              "    </tr>\n",
              "    <tr>\n",
              "      <th>386</th>\n",
              "      <td>2021-01-23</td>\n",
              "      <td>2021-01-23 12:58:00 UTC</td>\n",
              "      <td>BULK</td>\n",
              "      <td>3920.0</td>\n",
              "      <td>TDS LANDFILL</td>\n",
              "    </tr>\n",
              "    <tr>\n",
              "      <th>387</th>\n",
              "      <td>2021-01-23</td>\n",
              "      <td>2021-01-23 12:25:00 UTC</td>\n",
              "      <td>BULK</td>\n",
              "      <td>13580.0</td>\n",
              "      <td>TDS LANDFILL</td>\n",
              "    </tr>\n",
              "    <tr>\n",
              "      <th>388</th>\n",
              "      <td>2021-01-23</td>\n",
              "      <td>2021-01-23 07:39:00 UTC</td>\n",
              "      <td>BULK</td>\n",
              "      <td>5620.0</td>\n",
              "      <td>TDS LANDFILL</td>\n",
              "    </tr>\n",
              "    <tr>\n",
              "      <th>...</th>\n",
              "      <td>...</td>\n",
              "      <td>...</td>\n",
              "      <td>...</td>\n",
              "      <td>...</td>\n",
              "      <td>...</td>\n",
              "    </tr>\n",
              "    <tr>\n",
              "      <th>26110</th>\n",
              "      <td>2021-03-01</td>\n",
              "      <td>2021-03-01 01:04:00 UTC</td>\n",
              "      <td>SWEEPING</td>\n",
              "      <td>7280.0</td>\n",
              "      <td>TDS LANDFILL</td>\n",
              "    </tr>\n",
              "    <tr>\n",
              "      <th>26111</th>\n",
              "      <td>2021-03-01</td>\n",
              "      <td>2021-03-01 12:57:00 UTC</td>\n",
              "      <td>SWEEPING</td>\n",
              "      <td>4320.0</td>\n",
              "      <td>TDS LANDFILL</td>\n",
              "    </tr>\n",
              "    <tr>\n",
              "      <th>26112</th>\n",
              "      <td>2021-03-01</td>\n",
              "      <td>2021-03-01 01:40:00 UTC</td>\n",
              "      <td>RECYCLING - SINGLE STREAM</td>\n",
              "      <td>5320.0</td>\n",
              "      <td>TDS LANDFILL</td>\n",
              "    </tr>\n",
              "    <tr>\n",
              "      <th>26113</th>\n",
              "      <td>2021-03-01</td>\n",
              "      <td>2021-03-01 03:44:00 UTC</td>\n",
              "      <td>BULK</td>\n",
              "      <td>3660.0</td>\n",
              "      <td>TDS LANDFILL</td>\n",
              "    </tr>\n",
              "    <tr>\n",
              "      <th>26114</th>\n",
              "      <td>2021-03-01</td>\n",
              "      <td>2021-03-01 11:07:00 UTC</td>\n",
              "      <td>BULK</td>\n",
              "      <td>4440.0</td>\n",
              "      <td>TDS LANDFILL</td>\n",
              "    </tr>\n",
              "  </tbody>\n",
              "</table>\n",
              "<p>9613 rows × 5 columns</p>\n",
              "</div>\n",
              "      <button class=\"colab-df-convert\" onclick=\"convertToInteractive('df-07332bbc-efab-4882-9687-edfd37559a96')\"\n",
              "              title=\"Convert this dataframe to an interactive table.\"\n",
              "              style=\"display:none;\">\n",
              "        \n",
              "  <svg xmlns=\"http://www.w3.org/2000/svg\" height=\"24px\"viewBox=\"0 0 24 24\"\n",
              "       width=\"24px\">\n",
              "    <path d=\"M0 0h24v24H0V0z\" fill=\"none\"/>\n",
              "    <path d=\"M18.56 5.44l.94 2.06.94-2.06 2.06-.94-2.06-.94-.94-2.06-.94 2.06-2.06.94zm-11 1L8.5 8.5l.94-2.06 2.06-.94-2.06-.94L8.5 2.5l-.94 2.06-2.06.94zm10 10l.94 2.06.94-2.06 2.06-.94-2.06-.94-.94-2.06-.94 2.06-2.06.94z\"/><path d=\"M17.41 7.96l-1.37-1.37c-.4-.4-.92-.59-1.43-.59-.52 0-1.04.2-1.43.59L10.3 9.45l-7.72 7.72c-.78.78-.78 2.05 0 2.83L4 21.41c.39.39.9.59 1.41.59.51 0 1.02-.2 1.41-.59l7.78-7.78 2.81-2.81c.8-.78.8-2.07 0-2.86zM5.41 20L4 18.59l7.72-7.72 1.47 1.35L5.41 20z\"/>\n",
              "  </svg>\n",
              "      </button>\n",
              "      \n",
              "  <style>\n",
              "    .colab-df-container {\n",
              "      display:flex;\n",
              "      flex-wrap:wrap;\n",
              "      gap: 12px;\n",
              "    }\n",
              "\n",
              "    .colab-df-convert {\n",
              "      background-color: #E8F0FE;\n",
              "      border: none;\n",
              "      border-radius: 50%;\n",
              "      cursor: pointer;\n",
              "      display: none;\n",
              "      fill: #1967D2;\n",
              "      height: 32px;\n",
              "      padding: 0 0 0 0;\n",
              "      width: 32px;\n",
              "    }\n",
              "\n",
              "    .colab-df-convert:hover {\n",
              "      background-color: #E2EBFA;\n",
              "      box-shadow: 0px 1px 2px rgba(60, 64, 67, 0.3), 0px 1px 3px 1px rgba(60, 64, 67, 0.15);\n",
              "      fill: #174EA6;\n",
              "    }\n",
              "\n",
              "    [theme=dark] .colab-df-convert {\n",
              "      background-color: #3B4455;\n",
              "      fill: #D2E3FC;\n",
              "    }\n",
              "\n",
              "    [theme=dark] .colab-df-convert:hover {\n",
              "      background-color: #434B5C;\n",
              "      box-shadow: 0px 1px 3px 1px rgba(0, 0, 0, 0.15);\n",
              "      filter: drop-shadow(0px 1px 2px rgba(0, 0, 0, 0.3));\n",
              "      fill: #FFFFFF;\n",
              "    }\n",
              "  </style>\n",
              "\n",
              "      <script>\n",
              "        const buttonEl =\n",
              "          document.querySelector('#df-07332bbc-efab-4882-9687-edfd37559a96 button.colab-df-convert');\n",
              "        buttonEl.style.display =\n",
              "          google.colab.kernel.accessAllowed ? 'block' : 'none';\n",
              "\n",
              "        async function convertToInteractive(key) {\n",
              "          const element = document.querySelector('#df-07332bbc-efab-4882-9687-edfd37559a96');\n",
              "          const dataTable =\n",
              "            await google.colab.kernel.invokeFunction('convertToInteractive',\n",
              "                                                     [key], {});\n",
              "          if (!dataTable) return;\n",
              "\n",
              "          const docLinkHtml = 'Like what you see? Visit the ' +\n",
              "            '<a target=\"_blank\" href=https://colab.research.google.com/notebooks/data_table.ipynb>data table notebook</a>'\n",
              "            + ' to learn more about interactive tables.';\n",
              "          element.innerHTML = '';\n",
              "          dataTable['output_type'] = 'display_data';\n",
              "          await google.colab.output.renderOutput(dataTable, element);\n",
              "          const docLink = document.createElement('div');\n",
              "          docLink.innerHTML = docLinkHtml;\n",
              "          element.appendChild(docLink);\n",
              "        }\n",
              "      </script>\n",
              "    </div>\n",
              "  </div>\n",
              "  "
            ],
            "text/plain": [
              "      report_date                load_time                  load_type  \\\n",
              "383    2021-01-23  2021-01-23 11:12:00 UTC                       BULK   \n",
              "385    2021-01-23  2021-01-23 12:31:00 UTC                       BULK   \n",
              "386    2021-01-23  2021-01-23 12:58:00 UTC                       BULK   \n",
              "387    2021-01-23  2021-01-23 12:25:00 UTC                       BULK   \n",
              "388    2021-01-23  2021-01-23 07:39:00 UTC                       BULK   \n",
              "...           ...                      ...                        ...   \n",
              "26110  2021-03-01  2021-03-01 01:04:00 UTC                   SWEEPING   \n",
              "26111  2021-03-01  2021-03-01 12:57:00 UTC                   SWEEPING   \n",
              "26112  2021-03-01  2021-03-01 01:40:00 UTC  RECYCLING - SINGLE STREAM   \n",
              "26113  2021-03-01  2021-03-01 03:44:00 UTC                       BULK   \n",
              "26114  2021-03-01  2021-03-01 11:07:00 UTC                       BULK   \n",
              "\n",
              "       load_weight  dropoff_site  \n",
              "383         9940.0  TDS LANDFILL  \n",
              "385        10760.0  TDS LANDFILL  \n",
              "386         3920.0  TDS LANDFILL  \n",
              "387        13580.0  TDS LANDFILL  \n",
              "388         5620.0  TDS LANDFILL  \n",
              "...            ...           ...  \n",
              "26110       7280.0  TDS LANDFILL  \n",
              "26111       4320.0  TDS LANDFILL  \n",
              "26112       5320.0  TDS LANDFILL  \n",
              "26113       3660.0  TDS LANDFILL  \n",
              "26114       4440.0  TDS LANDFILL  \n",
              "\n",
              "[9613 rows x 5 columns]"
            ]
          },
          "execution_count": 273,
          "metadata": {},
          "output_type": "execute_result"
        }
      ],
      "source": [
        "#Remove Outlier\n",
        "TDS_LANDFILL_NO_OUTLIER=TDS_LANDFILL[(TDS_LANDFILL['load_weight']>lower_limit)&(TDS_LANDFILL['load_weight']<uper_limit)]\n",
        "TDS_LANDFILL_NO_OUTLIER"
      ]
    },
    {
      "cell_type": "code",
      "execution_count": 274,
      "metadata": {
        "colab": {
          "base_uri": "https://localhost:8080/",
          "height": 592
        },
        "id": "9GfirB25IR9_",
        "outputId": "b832ecd9-9f0a-42ea-8238-32789658d985"
      },
      "outputs": [
        {
          "data": {
            "image/png": "[encoded data removed]",
            "text/plain": [
              "<Figure size 720x720 with 1 Axes>"
            ]
          },
          "metadata": {
            "needs_background": "light"
          },
          "output_type": "display_data"
        }
      ],
      "source": [
        "#cari outlier\n",
        "plt.figure(figsize=(10,10)) \n",
        "TDS_LANDFILL_NO_OUTLIER.boxplot()\n",
        "plt.show()"
      ]
    },
    {
      "cell_type": "code",
      "execution_count": 275,
      "metadata": {
        "colab": {
          "base_uri": "https://localhost:8080/"
        },
        "id": "HDU_B8eTIiYr",
        "outputId": "0003c436-2ae8-4bfa-e68e-fca3a8a1b111"
      },
      "outputs": [
        {
          "data": {
            "text/plain": [
              "1081"
            ]
          },
          "execution_count": 275,
          "metadata": {},
          "output_type": "execute_result"
        }
      ],
      "source": [
        "#CEK JUMLAH OUTLIER YANG TERHAPUS\n",
        "ot=TDS_LANDFILL.shape[0]-TDS_LANDFILL_NO_OUTLIER.shape[0]\n",
        "ot"
      ]
    },
    {
      "cell_type": "code",
      "execution_count": 276,
      "metadata": {
        "colab": {
          "base_uri": "https://localhost:8080/"
        },
        "id": "softSZpqJtpt",
        "outputId": "dfc676c8-24fe-45b0-dd86-4da0cca8ede7"
      },
      "outputs": [
        {
          "data": {
            "text/plain": [
              "10694"
            ]
          },
          "execution_count": 276,
          "metadata": {},
          "output_type": "execute_result"
        }
      ],
      "source": [
        "#hitung load_weight\n",
        "jm=TDS_LANDFILL['load_weight'].count()\n",
        "jm"
      ]
    },
    {
      "cell_type": "code",
      "execution_count": 277,
      "metadata": {
        "colab": {
          "base_uri": "https://localhost:8080/"
        },
        "id": "AH4unFLXKAL7",
        "outputId": "f6f308da-467e-43c6-df92-8729f8e20cdc"
      },
      "outputs": [
        {
          "name": "stdout",
          "output_type": "stream",
          "text": [
            "0.9892691951896393\n"
          ]
        }
      ],
      "source": [
        "#persentasi Otlier\n",
        "print(jm/ot*0.100)"
      ]
    },
    {
      "cell_type": "markdown",
      "metadata": {
        "id": "YtOlDRqYLthO"
      },
      "source": [
        "6.**range, variance, dan standar deviasi untuk data load_weight**"
      ]
    },
    {
      "cell_type": "code",
      "execution_count": 301,
      "metadata": {
        "colab": {
          "base_uri": "https://localhost:8080/"
        },
        "id": "DGO2_c6sMCHn",
        "outputId": "e7cf1339-0a42-4a62-db27-3e3f628b5c66"
      },
      "outputs": [
        {
          "name": "stdout",
          "output_type": "stream",
          "text": [
            "load_weight range: 24680.0\n",
            "46402468.08257337\n",
            "6811.935707460352\n"
          ]
        }
      ],
      "source": [
        "print(TDS_LANDFILL_NO_OUTLIER['load_weight'].name + ' range: ' + str(TDS_LANDFILL_NO_OUTLIER['load_weight'].max() - TDS_LANDFILL_NO_OUTLIER['load_weight'].min()))\n",
        "print(TDS_LANDFILL_NO_OUTLIER['load_weight'].var())\n",
        "print(TDS_LANDFILL_NO_OUTLIER['load_weight'].std())"
      ]
    },
    {
      "cell_type": "markdown",
      "metadata": {
        "id": "0agRhfbKPArJ"
      },
      "source": [
        "7.**Pemerintah kota berencana menambah site baru**"
      ]
    },
    {
      "cell_type": "code",
      "execution_count": 287,
      "metadata": {
        "colab": {
          "base_uri": "https://localhost:8080/"
        },
        "id": "4XSszUe8Uirk",
        "outputId": "859d99a1-abcc-40f0-facb-51e3236c6101"
      },
      "outputs": [
        {
          "name": "stdout",
          "output_type": "stream",
          "text": [
            "P-value: 0.0\n",
            "t-statistics: -175.0457590515273\n"
          ]
        }
      ],
      "source": [
        "t_stat,p_val = stats.ttest_1samp(TDS_LANDFILL_NO_OUTLIER.load_weight, 27240)\n",
        "print('P-value:',p_val/2) #The p-value divided by 2 since the output is two-sided p-value\n",
        "print('t-statistics:',t_stat)"
      ]
    },
    {
      "cell_type": "markdown",
      "metadata": {
        "id": "3xjFm_EDVV5I"
      },
      "source": [
        "p-value:0 untuk confidence tes max load, jadi tidak usa ada site baru untuk di TDS LANDFILL, data yang dibutuhkan hanya 1 site dikarenakan hanya site ini yang peneliti hapus outliernya"
      ]
    },
    {
      "cell_type": "markdown",
      "metadata": {
        "id": "db4kjnz7V-Kw"
      },
      "source": [
        "hypothesis on this case:\n",
        "\n",
        "H0: mean=15078\n",
        "\n",
        "H1: mean!=15078"
      ]
    },
    {
      "cell_type": "code",
      "execution_count": 289,
      "metadata": {
        "colab": {
          "base_uri": "https://localhost:8080/"
        },
        "id": "6mlQ8aiGVviz",
        "outputId": "573e8b33-4ad0-4c28-9fc3-7b703524c7eb"
      },
      "outputs": [
        {
          "name": "stdout",
          "output_type": "stream",
          "text": [
            "P-value: 0.0\n",
            "t-statistics: -175.0457590515273\n"
          ]
        }
      ],
      "source": [
        "t_stat,p_val = stats.ttest_1samp(TDS_LANDFILL_NO_OUTLIER.load_weight, 27240)\n",
        "print('P-value:',p_val/2) #The p-value divided by 2 since the output is two-sided p-value\n",
        "print('t-statistics:',t_stat)"
      ]
    },
    {
      "cell_type": "code",
      "execution_count": 293,
      "metadata": {
        "colab": {
          "base_uri": "https://localhost:8080/",
          "height": 419
        },
        "id": "JwVNazf6XTbP",
        "outputId": "21bdefe5-4706-4c4e-fb92-2c6a00ed8c6a"
      },
      "outputs": [
        {
          "name": "stderr",
          "output_type": "stream",
          "text": [
            "/usr/local/lib/python3.7/dist-packages/seaborn/distributions.py:2619: FutureWarning: `distplot` is a deprecated function and will be removed in a future version. Please adapt your code to use either `displot` (a figure-level function with similar flexibility) or `histplot` (an axes-level function for histograms).\n",
            "  warnings.warn(msg, FutureWarning)\n"
          ]
        },
        {
          "data": {
            "text/plain": [
              "<matplotlib.legend.Legend at 0x7f7fd2d5f850>"
            ]
          },
          "execution_count": 293,
          "metadata": {},
          "output_type": "execute_result"
        },
        {
          "data": {
            "image/png": "[encoded data removed]",
            "text/plain": [
              "<Figure size 1152x360 with 1 Axes>"
            ]
          },
          "metadata": {
            "needs_background": "light"
          },
          "output_type": "display_data"
        }
      ],
      "source": [
        "TDS_LANDFILL_NO_OUTLIER_pop = np.random.normal(TDS_LANDFILL_NO_OUTLIER.load_weight.mean(), TDS_LANDFILL_NO_OUTLIER.load_weight.std(), 10000)\n",
        "\n",
        "ci = stats.norm.interval(0.95, TDS_LANDFILL_NO_OUTLIER.load_weight.mean(), TDS_LANDFILL_NO_OUTLIER.load_weight.std())\n",
        "\n",
        "plt.figure(figsize=(16,5))\n",
        "sns.distplot(TDS_LANDFILL_NO_OUTLIER_pop, label='site pembuangan sampah', color='blue')\n",
        "plt.axvline(TDS_LANDFILL_NO_OUTLIER.load_weight.mean(), color='red', linewidth=2, label='distribusi sampah (Mean)')\n",
        "\n",
        "plt.axvline(ci[1], color='green', linestyle='dashed', linewidth=2, label='confidence threshold of 95%')\n",
        "plt.axvline(ci[0], color='green', linestyle='dashed', linewidth=2, label='confidence threshold of 95%')\n",
        "\n",
        "plt.axvline(TDS_LANDFILL_NO_OUTLIER_pop.mean() + t_stat*TDS_LANDFILL_NO_OUTLIER_pop.std(), color='black', linestyle='dashed', linewidth=2, label = 'Alternative Hypothesis')\n",
        "plt.axvline(TDS_LANDFILL_NO_OUTLIER_pop.mean() - t_stat*TDS_LANDFILL_NO_OUTLIER_pop.std(), color='black', linestyle='dashed', linewidth=2)\n",
        "plt.legend()"
      ]
    },
    {
      "cell_type": "markdown",
      "metadata": {
        "id": "nIoEoTFxZ76l"
      },
      "source": [
        "untuk analisa perhari ternyata tidak sama dengan rata-rata\n",
        "hipotesannya adalah untuk peneliti tolak h-0.\n",
        "untuk pemerintah:di site tds landfil harap segerang dihilangkan outliernya yang artinya hilangkan tumpukan sampah berlebih dengan menambahkan loading sampahnya."
      ]
    },
    {
      "cell_type": "markdown",
      "metadata": {
        "id": "ysWE3wj6a7Cx"
      },
      "source": [
        "Jawab pertanyaan berikut untuk mengasah pemahaman konsepmu!\n",
        "\n",
        "Teknik apa yang kamu pilih untuk handling outlier? jelaskan alasannya!\n",
        "\n",
        "---\n",
        "**IQR, dikarenakan distribusi tidak normal**\n",
        "\n",
        "---\n",
        "\n",
        "\n",
        "\n",
        "Apa konsep dibalik confidence interval sehingga kita dapat menggunakannya untuk menyelesaikan langkah pada nomor 7?\n",
        "\n",
        "**Nilai p dibagi 2 karena outputnya adalah nilai p dua sisi**\n",
        "\n",
        "---\n",
        "\n",
        "\n",
        "Jelaskan jenis uji hipotesis apa yang kamu terapkan dan mengapa?\n",
        "\n",
        "---\n",
        "**hipotesisnya adalah apakah nilai rata2 menjadi nilai harian setelah di hapus outliernya**\n",
        "mengapa?\n",
        "\n",
        "---\n",
        "\n",
        "karena pemerintah butuh masukan apakah site butuh tambahan loading.\n",
        "\n"
      ]
    },
    {
      "cell_type": "markdown",
      "metadata": {
        "id": "ZWGnYNdpb6m2"
      },
      "source": [
        "**Problem 2 (Math/Calculus)**"
      ]
    },
    {
      "cell_type": "code",
      "execution_count": 300,
      "metadata": {
        "colab": {
          "base_uri": "https://localhost:8080/",
          "height": 423
        },
        "id": "cHsmHy3AcBvG",
        "outputId": "13c11ef1-802b-422b-ebe2-1042f4c66c3c"
      },
      "outputs": [
        {
          "data": {
            "text/html": [
              "\n",
              "  <div id=\"df-2865f6b6-6ee0-4516-a06a-37cdb732d7ff\">\n",
              "    <div class=\"colab-df-container\">\n",
              "      <div>\n",
              "<style scoped>\n",
              "    .dataframe tbody tr th:only-of-type {\n",
              "        vertical-align: middle;\n",
              "    }\n",
              "\n",
              "    .dataframe tbody tr th {\n",
              "        vertical-align: top;\n",
              "    }\n",
              "\n",
              "    .dataframe thead th {\n",
              "        text-align: right;\n",
              "    }\n",
              "</style>\n",
              "<table border=\"1\" class=\"dataframe\">\n",
              "  <thead>\n",
              "    <tr style=\"text-align: right;\">\n",
              "      <th></th>\n",
              "      <th>report_date</th>\n",
              "      <th>load_time</th>\n",
              "      <th>load_type</th>\n",
              "      <th>load_weight</th>\n",
              "      <th>dropoff_site</th>\n",
              "    </tr>\n",
              "  </thead>\n",
              "  <tbody>\n",
              "    <tr>\n",
              "      <th>0</th>\n",
              "      <td>2021-07-08</td>\n",
              "      <td>2021-07-08 12:00:00 UTC</td>\n",
              "      <td>TIRES</td>\n",
              "      <td>2260.0</td>\n",
              "      <td>MRF</td>\n",
              "    </tr>\n",
              "    <tr>\n",
              "      <th>1</th>\n",
              "      <td>2021-07-08</td>\n",
              "      <td>2021-07-08 11:00:00 UTC</td>\n",
              "      <td>TIRES</td>\n",
              "      <td>1260.0</td>\n",
              "      <td>MRF</td>\n",
              "    </tr>\n",
              "    <tr>\n",
              "      <th>2</th>\n",
              "      <td>2021-07-08</td>\n",
              "      <td>2021-07-08 03:00:00 UTC</td>\n",
              "      <td>TIRES</td>\n",
              "      <td>800.0</td>\n",
              "      <td>MRF</td>\n",
              "    </tr>\n",
              "    <tr>\n",
              "      <th>3</th>\n",
              "      <td>2021-05-01</td>\n",
              "      <td>2021-05-01 12:29:00 UTC</td>\n",
              "      <td>TIRES</td>\n",
              "      <td>760.0</td>\n",
              "      <td>MRF</td>\n",
              "    </tr>\n",
              "    <tr>\n",
              "      <th>4</th>\n",
              "      <td>2021-07-03</td>\n",
              "      <td>2021-07-03 12:09:00 UTC</td>\n",
              "      <td>TIRES</td>\n",
              "      <td>1400.0</td>\n",
              "      <td>MRF</td>\n",
              "    </tr>\n",
              "    <tr>\n",
              "      <th>...</th>\n",
              "      <td>...</td>\n",
              "      <td>...</td>\n",
              "      <td>...</td>\n",
              "      <td>...</td>\n",
              "      <td>...</td>\n",
              "    </tr>\n",
              "    <tr>\n",
              "      <th>26152</th>\n",
              "      <td>2021-03-01</td>\n",
              "      <td>2021-03-01 11:26:00 UTC</td>\n",
              "      <td>ORGANICS</td>\n",
              "      <td>12100.0</td>\n",
              "      <td>ORGANICS BY GOSH</td>\n",
              "    </tr>\n",
              "    <tr>\n",
              "      <th>26153</th>\n",
              "      <td>2021-03-01</td>\n",
              "      <td>2021-03-01 04:27:00 UTC</td>\n",
              "      <td>ORGANICS</td>\n",
              "      <td>10900.0</td>\n",
              "      <td>ORGANICS BY GOSH</td>\n",
              "    </tr>\n",
              "    <tr>\n",
              "      <th>26154</th>\n",
              "      <td>2021-03-01</td>\n",
              "      <td>2021-03-01 05:55:00 UTC</td>\n",
              "      <td>ORGANICS</td>\n",
              "      <td>21800.0</td>\n",
              "      <td>ORGANICS BY GOSH</td>\n",
              "    </tr>\n",
              "    <tr>\n",
              "      <th>26155</th>\n",
              "      <td>2021-03-01</td>\n",
              "      <td>2021-03-02 01:10:00 UTC</td>\n",
              "      <td>ORGANICS</td>\n",
              "      <td>5640.0</td>\n",
              "      <td>ORGANICS BY GOSH</td>\n",
              "    </tr>\n",
              "    <tr>\n",
              "      <th>26156</th>\n",
              "      <td>2021-03-01</td>\n",
              "      <td>2021-03-01 10:22:00 UTC</td>\n",
              "      <td>RECYCLED METAL</td>\n",
              "      <td>360.0</td>\n",
              "      <td>AUSTIN IRON AND METAL</td>\n",
              "    </tr>\n",
              "  </tbody>\n",
              "</table>\n",
              "<p>26157 rows × 5 columns</p>\n",
              "</div>\n",
              "      <button class=\"colab-df-convert\" onclick=\"convertToInteractive('df-2865f6b6-6ee0-4516-a06a-37cdb732d7ff')\"\n",
              "              title=\"Convert this dataframe to an interactive table.\"\n",
              "              style=\"display:none;\">\n",
              "        \n",
              "  <svg xmlns=\"http://www.w3.org/2000/svg\" height=\"24px\"viewBox=\"0 0 24 24\"\n",
              "       width=\"24px\">\n",
              "    <path d=\"M0 0h24v24H0V0z\" fill=\"none\"/>\n",
              "    <path d=\"M18.56 5.44l.94 2.06.94-2.06 2.06-.94-2.06-.94-.94-2.06-.94 2.06-2.06.94zm-11 1L8.5 8.5l.94-2.06 2.06-.94-2.06-.94L8.5 2.5l-.94 2.06-2.06.94zm10 10l.94 2.06.94-2.06 2.06-.94-2.06-.94-.94-2.06-.94 2.06-2.06.94z\"/><path d=\"M17.41 7.96l-1.37-1.37c-.4-.4-.92-.59-1.43-.59-.52 0-1.04.2-1.43.59L10.3 9.45l-7.72 7.72c-.78.78-.78 2.05 0 2.83L4 21.41c.39.39.9.59 1.41.59.51 0 1.02-.2 1.41-.59l7.78-7.78 2.81-2.81c.8-.78.8-2.07 0-2.86zM5.41 20L4 18.59l7.72-7.72 1.47 1.35L5.41 20z\"/>\n",
              "  </svg>\n",
              "      </button>\n",
              "      \n",
              "  <style>\n",
              "    .colab-df-container {\n",
              "      display:flex;\n",
              "      flex-wrap:wrap;\n",
              "      gap: 12px;\n",
              "    }\n",
              "\n",
              "    .colab-df-convert {\n",
              "      background-color: #E8F0FE;\n",
              "      border: none;\n",
              "      border-radius: 50%;\n",
              "      cursor: pointer;\n",
              "      display: none;\n",
              "      fill: #1967D2;\n",
              "      height: 32px;\n",
              "      padding: 0 0 0 0;\n",
              "      width: 32px;\n",
              "    }\n",
              "\n",
              "    .colab-df-convert:hover {\n",
              "      background-color: #E2EBFA;\n",
              "      box-shadow: 0px 1px 2px rgba(60, 64, 67, 0.3), 0px 1px 3px 1px rgba(60, 64, 67, 0.15);\n",
              "      fill: #174EA6;\n",
              "    }\n",
              "\n",
              "    [theme=dark] .colab-df-convert {\n",
              "      background-color: #3B4455;\n",
              "      fill: #D2E3FC;\n",
              "    }\n",
              "\n",
              "    [theme=dark] .colab-df-convert:hover {\n",
              "      background-color: #434B5C;\n",
              "      box-shadow: 0px 1px 3px 1px rgba(0, 0, 0, 0.15);\n",
              "      filter: drop-shadow(0px 1px 2px rgba(0, 0, 0, 0.3));\n",
              "      fill: #FFFFFF;\n",
              "    }\n",
              "  </style>\n",
              "\n",
              "      <script>\n",
              "        const buttonEl =\n",
              "          document.querySelector('#df-2865f6b6-6ee0-4516-a06a-37cdb732d7ff button.colab-df-convert');\n",
              "        buttonEl.style.display =\n",
              "          google.colab.kernel.accessAllowed ? 'block' : 'none';\n",
              "\n",
              "        async function convertToInteractive(key) {\n",
              "          const element = document.querySelector('#df-2865f6b6-6ee0-4516-a06a-37cdb732d7ff');\n",
              "          const dataTable =\n",
              "            await google.colab.kernel.invokeFunction('convertToInteractive',\n",
              "                                                     [key], {});\n",
              "          if (!dataTable) return;\n",
              "\n",
              "          const docLinkHtml = 'Like what you see? Visit the ' +\n",
              "            '<a target=\"_blank\" href=https://colab.research.google.com/notebooks/data_table.ipynb>data table notebook</a>'\n",
              "            + ' to learn more about interactive tables.';\n",
              "          element.innerHTML = '';\n",
              "          dataTable['output_type'] = 'display_data';\n",
              "          await google.colab.output.renderOutput(dataTable, element);\n",
              "          const docLink = document.createElement('div');\n",
              "          docLink.innerHTML = docLinkHtml;\n",
              "          element.appendChild(docLink);\n",
              "        }\n",
              "      </script>\n",
              "    </div>\n",
              "  </div>\n",
              "  "
            ],
            "text/plain": [
              "      report_date                load_time       load_type  load_weight  \\\n",
              "0      2021-07-08  2021-07-08 12:00:00 UTC           TIRES       2260.0   \n",
              "1      2021-07-08  2021-07-08 11:00:00 UTC           TIRES       1260.0   \n",
              "2      2021-07-08  2021-07-08 03:00:00 UTC           TIRES        800.0   \n",
              "3      2021-05-01  2021-05-01 12:29:00 UTC           TIRES        760.0   \n",
              "4      2021-07-03  2021-07-03 12:09:00 UTC           TIRES       1400.0   \n",
              "...           ...                      ...             ...          ...   \n",
              "26152  2021-03-01  2021-03-01 11:26:00 UTC        ORGANICS      12100.0   \n",
              "26153  2021-03-01  2021-03-01 04:27:00 UTC        ORGANICS      10900.0   \n",
              "26154  2021-03-01  2021-03-01 05:55:00 UTC        ORGANICS      21800.0   \n",
              "26155  2021-03-01  2021-03-02 01:10:00 UTC        ORGANICS       5640.0   \n",
              "26156  2021-03-01  2021-03-01 10:22:00 UTC  RECYCLED METAL        360.0   \n",
              "\n",
              "                dropoff_site  \n",
              "0                        MRF  \n",
              "1                        MRF  \n",
              "2                        MRF  \n",
              "3                        MRF  \n",
              "4                        MRF  \n",
              "...                      ...  \n",
              "26152       ORGANICS BY GOSH  \n",
              "26153       ORGANICS BY GOSH  \n",
              "26154       ORGANICS BY GOSH  \n",
              "26155       ORGANICS BY GOSH  \n",
              "26156  AUSTIN IRON AND METAL  \n",
              "\n",
              "[26157 rows x 5 columns]"
            ]
          },
          "execution_count": 300,
          "metadata": {},
          "output_type": "execute_result"
        }
      ],
      "source": [
        "df"
      ]
    },
    {
      "cell_type": "code",
      "execution_count": 305,
      "metadata": {
        "id": "7ln0LFK9fnBz"
      },
      "outputs": [],
      "source": [
        "#Pembuatan Function\n",
        "def lajuPenambahan(a):\n",
        "  v=df['load_time'].count()/df['load_weight']\n",
        "  return(v)\n",
        "\n",
        "def besok(a):\n",
        "  b=df['load_time'].count()+lajuPenambahan(a)*df['load_weight']\n",
        "  return(b)"
      ]
    },
    {
      "cell_type": "code",
      "execution_count": 306,
      "metadata": {
        "colab": {
          "base_uri": "https://localhost:8080/"
        },
        "id": "3NP-qQv5jnbY",
        "outputId": "5766ebf3-6263-4b00-b1b7-57711799f0bf"
      },
      "outputs": [
        {
          "data": {
            "text/plain": [
              "13818   -225240.0\n",
              "16965   -204580.0\n",
              "2382    -125180.0\n",
              "24240   -100500.0\n",
              "13633    -58537.0\n",
              "           ...   \n",
              "24917         NaN\n",
              "25157         NaN\n",
              "25414         NaN\n",
              "25691         NaN\n",
              "25916         NaN\n",
              "Name: load_weight, Length: 26157, dtype: float64"
            ]
          },
          "execution_count": 306,
          "metadata": {},
          "output_type": "execute_result"
        }
      ],
      "source": [
        "#pembuatan groupby dan turunan 1\n",
        "penambahan=df.groupby('report_date')['load_weight'].diff().sort_values()\n",
        "penambahan"
      ]
    },
    {
      "cell_type": "code",
      "execution_count": 307,
      "metadata": {
        "colab": {
          "base_uri": "https://localhost:8080/"
        },
        "id": "9WjqykH-lvPk",
        "outputId": "5ec632a0-73b1-4c66-eac3-59e2696de9ad"
      },
      "outputs": [
        {
          "data": {
            "text/plain": [
              "0        11.573894\n",
              "1        20.759524\n",
              "2        32.696250\n",
              "3        34.417105\n",
              "4        18.683571\n",
              "           ...    \n",
              "26152     2.161736\n",
              "26153     2.399725\n",
              "26154     1.199862\n",
              "26155     4.637766\n",
              "26156    72.658333\n",
              "Name: load_weight, Length: 26157, dtype: float64"
            ]
          },
          "execution_count": 307,
          "metadata": {},
          "output_type": "execute_result"
        }
      ],
      "source": [
        "#penambahan sampah tiap harinya\n",
        "lajuPenambahan(penambahan)"
      ]
    },
    {
      "cell_type": "code",
      "execution_count": 308,
      "metadata": {
        "colab": {
          "base_uri": "https://localhost:8080/"
        },
        "id": "vlrLZ1XEl2G6",
        "outputId": "105f3c21-0252-4f8e-9e98-8221d5f81c1c"
      },
      "outputs": [
        {
          "data": {
            "text/plain": [
              "0        52314.0\n",
              "1        52314.0\n",
              "2        52314.0\n",
              "3        52314.0\n",
              "4        52314.0\n",
              "          ...   \n",
              "26152    52314.0\n",
              "26153    52314.0\n",
              "26154    52314.0\n",
              "26155    52314.0\n",
              "26156    52314.0\n",
              "Name: load_weight, Length: 26157, dtype: float64"
            ]
          },
          "execution_count": 308,
          "metadata": {},
          "output_type": "execute_result"
        }
      ],
      "source": [
        "#memprediksi jumlah load sampah hari esok\n",
        "besok(penambahan)"
      ]
    },
    {
      "cell_type": "markdown",
      "metadata": {
        "id": "DUZ6iacRhMWl"
      },
      "source": [
        "Untuk menghitung turunan pertama dapat digunakan metode simbolik dan numerik, untuk kasus ini, teknik apa yang kamu gunakan?\n",
        "**pakai method diff()**\n",
        "\n",
        "---\n",
        "\n",
        "\n",
        "Apakah kamu membutuhkan fungsi matematis untuk menghitung turunannya? (ya/tidak) berikan alasanmu!**tidak karena pakai fungsi diff()**\n",
        "Berapa load weight yang kamu perkirakan "
      ]
    }
  ],
  "metadata": {
    "colab": {
      "collapsed_sections": [],
      "name": "h8dsft_P0GC2_Suma-Bimantoro-Andru.ipynb",
      "provenance": []
    },
    "kernelspec": {
      "display_name": "Python 3",
      "name": "python3"
    },
    "language_info": {
      "name": "python"
    }
  },
  "nbformat": 4,
  "nbformat_minor": 0
}
